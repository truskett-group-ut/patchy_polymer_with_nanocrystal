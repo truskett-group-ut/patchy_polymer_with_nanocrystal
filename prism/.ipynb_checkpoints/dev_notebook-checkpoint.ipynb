{
 "cells": [
  {
   "cell_type": "markdown",
   "metadata": {},
   "source": [
    "# Polymer + particle mixture using pyPRISM"
   ]
  },
  {
   "cell_type": "code",
   "execution_count": 1,
   "metadata": {
    "collapsed": true
   },
   "outputs": [],
   "source": [
    "import pyPRISM\n",
    "import matplotlib.pyplot as plt\n",
    "from custom_prism_tools.DiscreteKoyamaPartitioned import DiscreteKoyamaPartitioned\n",
    "from custom_prism_tools.KovalenkoHirata import KovalenkoHirata\n",
    "import numpy as np"
   ]
  },
  {
   "cell_type": "markdown",
   "metadata": {},
   "source": [
    "## Tunable parameters"
   ]
  },
  {
   "cell_type": "code",
   "execution_count": 2,
   "metadata": {
    "collapsed": true
   },
   "outputs": [],
   "source": [
    "#parameters to set\n",
    "length = 20\n",
    "particle_eta = 0.01\n",
    "N_polymer__N_particle = 0.2\n",
    "particle_diameter = 1.0\n",
    "polymer_site_diameter = 0.20\n",
    "persistence_length = 8.\n",
    "\n",
    "#dependent parameters\n",
    "particle_density = 6.0*particle_eta/(np.pi*particle_diameter**3)\n",
    "polymer_site_density = length*N_polymer__N_particle*particle_density"
   ]
  },
  {
   "cell_type": "code",
   "execution_count": 3,
   "metadata": {
    "scrolled": true
   },
   "outputs": [
    {
     "name": "stdout",
     "output_type": "stream",
     "text": [
      "0:  |F(x)| = 13.6676; step 1; tol 0.454622\n",
      "1:  |F(x)| = 3.85401; step 1; tol 0.186013\n",
      "2:  |F(x)| = 1.12944; step 1; tol 0.0772936\n",
      "3:  |F(x)| = 0.280282; step 1; tol 0.0554252\n",
      "4:  |F(x)| = 0.0724044; step 1; tol 0.0600594\n",
      "5:  |F(x)| = 0.00400888; step 1; tol 0.00275904\n",
      "6:  |F(x)| = 2.13781e-06; step 1; tol 2.55939e-07\n"
     ]
    }
   ],
   "source": [
    "# The system holds all information needed to set up a PRISM problem. We\n",
    "# instantiate the system by specifying the site types and thermal energy\n",
    "# level (kT, coarse-grained temperature) of the system.\n",
    "sys = pyPRISM.System(['particle','polymer_middle','polymer_end'], kT=1.0)\n",
    "\n",
    "# We must discretize Real and Fourier space\n",
    "sys.domain = pyPRISM.Domain(dr=0.01,length=4096)\n",
    "\n",
    "# The composition of the system is desribed via number densities\n",
    "sys.density['particle'] = particle_density\n",
    "sys.density['polymer_end']  = polymer_site_density*(2.0/float(length))\n",
    "sys.density['polymer_middle']  = polymer_site_density*(float(length-2)/float(length))\n",
    "\n",
    "# The diameter of each site is specified (in reduced units)\n",
    "sys.diameter['particle'] = particle_diameter\n",
    "sys.diameter['polymer_end'] = polymer_site_diameter\n",
    "sys.diameter['polymer_middle'] = polymer_site_diameter\n",
    "\n",
    "# The molecular structure is described via intra-molecular correlation\n",
    "# functions (i.e. omegas)\n",
    "sys.omega['particle','particle'] = pyPRISM.omega.SingleSite()\n",
    "sys.omega['particle','polymer_end'] = pyPRISM.omega.InterMolecular()\n",
    "sys.omega['particle','polymer_middle'] = pyPRISM.omega.InterMolecular()\n",
    "sys.omega['polymer_end','polymer_end'] = DiscreteKoyamaPartitioned(sigma=polymer_site_diameter, \n",
    "                                                                   l=polymer_site_diameter, \n",
    "                                                                   length=length, \n",
    "                                                                   lp=persistence_length, \n",
    "                                                                   types=('end','end'))\n",
    "sys.omega['polymer_middle','polymer_middle'] = DiscreteKoyamaPartitioned(sigma=polymer_site_diameter, \n",
    "                                                                         l=polymer_site_diameter, \n",
    "                                                                         length=length, \n",
    "                                                                         lp=persistence_length, \n",
    "                                                                         types=('middle','middle'))\n",
    "sys.omega['polymer_end','polymer_middle'] = DiscreteKoyamaPartitioned(sigma=polymer_site_diameter, \n",
    "                                                                      l=polymer_site_diameter, \n",
    "                                                                      length=length, \n",
    "                                                                      lp=persistence_length, \n",
    "                                                                      types=('end','middle'))\n",
    "\n",
    "# The site-site interactions are specified via classes which are lazily\n",
    "# evaluated during the PRISM-object creation\n",
    "sys.potential['particle','particle'] = pyPRISM.potential.HardSphere(sigma=particle_diameter)\n",
    "sys.potential['particle','polymer_end'] = pyPRISM.potential.HardSphere(sigma=(particle_diameter + polymer_site_diameter)/2.0)\n",
    "sys.potential['particle','polymer_middle'] = pyPRISM.potential.HardSphere(sigma=(particle_diameter + polymer_site_diameter)/2.0)\n",
    "sys.potential['polymer_end','polymer_end'] = pyPRISM.potential.HardSphere(sigma=polymer_site_diameter)\n",
    "sys.potential['polymer_middle','polymer_middle'] = pyPRISM.potential.HardSphere(sigma=0.0)\n",
    "sys.potential['polymer_end','polymer_middle'] = pyPRISM.potential.HardSphere(sigma=0.0)\n",
    "\n",
    "# Closure approximations are also specified via classes\n",
    "sys.closure['particle','particle'] = KovalenkoHirata()\n",
    "sys.closure['particle','polymer_end'] = KovalenkoHirata()\n",
    "sys.closure['particle','polymer_middle'] = KovalenkoHirata()\n",
    "sys.closure['polymer_end','polymer_end'] = KovalenkoHirata()\n",
    "sys.closure['polymer_middle','polymer_middle'] = KovalenkoHirata()\n",
    "sys.closure['polymer_end','polymer_middle'] = KovalenkoHirata()\n",
    "\n",
    "# Calling the .solve() method of the system object attempts to numerically\n",
    "# solv the PRISM equation and, if successful, it returns a PRISM object\n",
    "# containing all of the solved correlation functions.\n",
    "PRISM = sys.solve()\n",
    "\n",
    "# Calculate the pair-correlation functions.\n",
    "rdf = pyPRISM.calculate.pair_correlation(PRISM)\n"
   ]
  },
  {
   "cell_type": "code",
   "execution_count": 207,
   "metadata": {
    "collapsed": true
   },
   "outputs": [],
   "source": [
    "guess = np.copy(PRISM.x)"
   ]
  },
  {
   "cell_type": "code",
   "execution_count": 4,
   "metadata": {},
   "outputs": [
    {
     "data": {
      "image/png": "[encoded data removed]",
      "text/plain": [
       "<matplotlib.figure.Figure at 0x7f58440dc050>"
      ]
     },
     "metadata": {},
     "output_type": "display_data"
    }
   ],
   "source": [
    "# Plot the results using matplotlib\n",
    "plt.plot(sys.domain.r,rdf['particle','particle'],color='gold',lw=1.25,ls='-')\n",
    "plt.plot(sys.domain.r,rdf['particle','polymer_end'],color='red',lw=3,ls='-')\n",
    "plt.plot(sys.domain.r,rdf['particle','polymer_middle'],color='blue',lw=3,ls='-')\n",
    "plt.plot(sys.domain.r,rdf['polymer_end','polymer_end'],color='green',lw=1.25,ls='-')\n",
    "plt.plot(sys.domain.r,rdf['polymer_middle','polymer_middle'],color='purple',lw=1.25,ls='-')\n",
    "plt.plot(sys.domain.r,rdf['polymer_end','polymer_middle'],color='orange',lw=1.25,ls='-')\n",
    "plt.ylabel('pair correlation')\n",
    "plt.xlabel('separation distance')\n",
    "plt.xlim(0,3)\n",
    "#plt.ylim(0,2)\n",
    "plt.show()"
   ]
  },
  {
   "cell_type": "code",
   "execution_count": null,
   "metadata": {
    "collapsed": true
   },
   "outputs": [],
   "source": []
  },
  {
   "cell_type": "code",
   "execution_count": null,
   "metadata": {
    "collapsed": true
   },
   "outputs": [],
   "source": []
  },
  {
   "cell_type": "code",
   "execution_count": null,
   "metadata": {
    "collapsed": true
   },
   "outputs": [],
   "source": []
  },
  {
   "cell_type": "code",
   "execution_count": null,
   "metadata": {
    "collapsed": true
   },
   "outputs": [],
   "source": []
  }
 ],
 "metadata": {
  "kernelspec": {
   "display_name": "Python 2",
   "language": "python",
   "name": "python2"
  },
  "language_info": {
   "codemirror_mode": {
    "name": "ipython",
    "version": 2
   },
   "file_extension": ".py",
   "mimetype": "text/x-python",
   "name": "python",
   "nbconvert_exporter": "python",
   "pygments_lexer": "ipython2",
   "version": "2.7.13"
  }
 },
 "nbformat": 4,
 "nbformat_minor": 2
}
