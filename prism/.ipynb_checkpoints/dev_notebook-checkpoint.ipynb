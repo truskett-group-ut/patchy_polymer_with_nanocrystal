{
 "cells": [
  {
   "cell_type": "markdown",
   "metadata": {},
   "source": [
    "# Polymer + particle mixture using pyPRISM"
   ]
  },
  {
   "cell_type": "code",
   "execution_count": 1,
   "metadata": {},
   "outputs": [],
   "source": [
    "import pyPRISM\n",
    "import matplotlib.pyplot as plt\n",
    "from custom_prism_tools.DiscreteKoyamaPartitioned import DiscreteKoyamaPartitioned\n",
    "from custom_prism_tools.KovalenkoHirata import KovalenkoHirata\n",
    "import numpy as np"
   ]
  },
  {
   "cell_type": "markdown",
   "metadata": {},
   "source": [
    "## Tunable parameters"
   ]
  },
  {
   "cell_type": "code",
   "execution_count": 99,
   "metadata": {},
   "outputs": [],
   "source": [
    "#parameters to set\n",
    "length = 10\n",
    "particle_eta = 0.40\n",
    "N_polymer__N_particle = 7.7\n",
    "particle_diameter = 1.0\n",
    "polymer_site_diameter = 0.20\n",
    "persistence_length = 0.3\n",
    "\n",
    "#dependent parameters\n",
    "particle_density = 6.0*particle_eta/(np.pi*particle_diameter**3)\n",
    "polymer_site_density = length*N_polymer__N_particle*particle_density"
   ]
  },
  {
   "cell_type": "code",
   "execution_count": 100,
   "metadata": {
    "scrolled": true
   },
   "outputs": [
    {
     "name": "stdout",
     "output_type": "stream",
     "text": [
      "0:  |F(x)| = 0.401813; step 1; tol 0.653903\n",
      "1:  |F(x)| = 0.0859464; step 1; tol 0.38483\n",
      "2:  |F(x)| = 0.0348537; step 1; tol 0.148008\n",
      "3:  |F(x)| = 0.0174048; step 1; tol 0.224431\n",
      "4:  |F(x)| = 6.57815e-05; step 1; tol 1.28562e-05\n",
      "5:  |F(x)| = 1.22217e-06; step 1; tol 0.000310667\n"
     ]
    }
   ],
   "source": [
    "# The system holds all information needed to set up a PRISM problem. We\n",
    "# instantiate the system by specifying the site types and thermal energy\n",
    "# level (kT, coarse-grained temperature) of the system.\n",
    "sys = pyPRISM.System(['particle','polymer_middle','polymer_end'], kT=1.0)\n",
    "\n",
    "# We must discretize Real and Fourier space\n",
    "sys.domain = pyPRISM.Domain(dr=0.01,length=4096)\n",
    "\n",
    "# The composition of the system is desribed via number densities\n",
    "sys.density['particle'] = particle_density\n",
    "sys.density['polymer_end']  = polymer_site_density*(2.0/float(length))\n",
    "sys.density['polymer_middle']  = polymer_site_density*(float(length-2)/float(length))\n",
    "\n",
    "# The diameter of each site is specified (in reduced units)\n",
    "sys.diameter['particle'] = particle_diameter\n",
    "sys.diameter['polymer_end'] = polymer_site_diameter\n",
    "sys.diameter['polymer_middle'] = polymer_site_diameter\n",
    "\n",
    "# The molecular structure is described via intra-molecular correlation\n",
    "# functions (i.e. omegas)\n",
    "sys.omega['particle','particle'] = pyPRISM.omega.SingleSite()\n",
    "sys.omega['particle','polymer_end'] = pyPRISM.omega.InterMolecular()\n",
    "sys.omega['particle','polymer_middle'] = pyPRISM.omega.InterMolecular()\n",
    "sys.omega['polymer_end','polymer_end'] = DiscreteKoyamaPartitioned(sigma=polymer_site_diameter, \n",
    "                                                                   l=polymer_site_diameter, \n",
    "                                                                   length=length, \n",
    "                                                                   lp=persistence_length, \n",
    "                                                                   types=('end','end'))\n",
    "sys.omega['polymer_middle','polymer_middle'] = DiscreteKoyamaPartitioned(sigma=polymer_site_diameter, \n",
    "                                                                         l=polymer_site_diameter, \n",
    "                                                                         length=length, \n",
    "                                                                         lp=persistence_length, \n",
    "                                                                         types=('middle','middle'))\n",
    "sys.omega['polymer_end','polymer_middle'] = DiscreteKoyamaPartitioned(sigma=polymer_site_diameter, \n",
    "                                                                      l=polymer_site_diameter, \n",
    "                                                                      length=length, \n",
    "                                                                      lp=persistence_length, \n",
    "                                                                      types=('end','middle'))\n",
    "\n",
    "# The site-site interactions are specified via classes which are lazily\n",
    "# evaluated during the PRISM-object creation\n",
    "sys.potential['particle','particle'] = pyPRISM.potential.HardSphere(sigma=particle_diameter)\n",
    "sys.potential['particle','polymer_end'] = pyPRISM.potential.HardSphere(sigma=(particle_diameter + polymer_site_diameter)/2.0)\n",
    "sys.potential['particle','polymer_middle'] = pyPRISM.potential.HardSphere(sigma=(particle_diameter + polymer_site_diameter)/2.0)\n",
    "sys.potential['polymer_end','polymer_end'] = pyPRISM.potential.HardSphere(sigma=polymer_site_diameter)\n",
    "sys.potential['polymer_middle','polymer_middle'] = pyPRISM.potential.HardSphere(sigma=polymer_site_diameter)\n",
    "sys.potential['polymer_end','polymer_middle'] = pyPRISM.potential.HardSphere(sigma=polymer_site_diameter)\n",
    "\n",
    "# Closure approximations are also specified via classes\n",
    "sys.closure['particle','particle'] = KovalenkoHirata()\n",
    "sys.closure['particle','polymer_end'] = KovalenkoHirata()\n",
    "sys.closure['particle','polymer_middle'] = KovalenkoHirata()\n",
    "sys.closure['polymer_end','polymer_end'] = KovalenkoHirata()\n",
    "sys.closure['polymer_middle','polymer_middle'] = KovalenkoHirata()\n",
    "sys.closure['polymer_end','polymer_middle'] = KovalenkoHirata()\n",
    "\n",
    "# Calling the .solve() method of the system object attempts to numerically\n",
    "# solv the PRISM equation and, if successful, it returns a PRISM object\n",
    "# containing all of the solved correlation functions.\n",
    "PRISM = sys.solve(guess=guess,method='krylov')\n",
    "\n",
    "# Calculate the pair-correlation functions.\n",
    "rdf = pyPRISM.calculate.pair_correlation(PRISM)\n"
   ]
  },
  {
   "cell_type": "code",
   "execution_count": 98,
   "metadata": {},
   "outputs": [],
   "source": [
    "guess = np.copy(PRISM.x)"
   ]
  },
  {
   "cell_type": "code",
   "execution_count": 102,
   "metadata": {},
   "outputs": [
    {
     "data": {
      "image/png": "[encoded data removed]",
      "text/plain": [
       "<matplotlib.figure.Figure at 0xb047be0>"
      ]
     },
     "metadata": {},
     "output_type": "display_data"
    }
   ],
   "source": [
    "# Plot the results using matplotlib\n",
    "plt.plot(sys.domain.r,rdf['particle','particle'],color='gold',lw=1.25,ls='-')\n",
    "plt.plot(sys.domain.r,rdf['particle','polymer_end'],color='red',lw=3,ls='-')\n",
    "plt.plot(sys.domain.r,rdf['particle','polymer_middle'],color='blue',lw=3,ls='-')\n",
    "plt.plot(sys.domain.r,rdf['polymer_end','polymer_end'],color='green',lw=1.25,ls='-')\n",
    "plt.plot(sys.domain.r,rdf['polymer_middle','polymer_middle'],color='purple',lw=1.25,ls='-')\n",
    "plt.plot(sys.domain.r,rdf['polymer_end','polymer_middle'],color='orange',lw=1.25,ls='-')\n",
    "plt.ylabel('pair correlation')\n",
    "plt.xlabel('separation distance')\n",
    "plt.xlim(0,3)\n",
    "plt.ylim(0,2.5)\n",
    "plt.show()"
   ]
  },
  {
   "cell_type": "markdown",
   "metadata": {},
   "source": [
    "#### Ck matrix"
   ]
  },
  {
   "cell_type": "code",
   "execution_count": 65,
   "metadata": {
    "collapsed": true
   },
   "outputs": [],
   "source": [
    "Ck = np.ones((len(sys.domain.r), 1+length,1+length), dtype=None, order='C')"
   ]
  },
  {
   "cell_type": "code",
   "execution_count": 93,
   "metadata": {},
   "outputs": [
    {
     "data": {
      "text/plain": [
       "(4096, 21, 21)"
      ]
     },
     "execution_count": 93,
     "metadata": {},
     "output_type": "execute_result"
    }
   ],
   "source": [
    "Ck.shape"
   ]
  },
  {
   "cell_type": "markdown",
   "metadata": {},
   "source": [
    "#### particle-particle"
   ]
  },
  {
   "cell_type": "code",
   "execution_count": 81,
   "metadata": {},
   "outputs": [
    {
     "data": {
      "text/plain": [
       "(4096, 1, 1)"
      ]
     },
     "execution_count": 81,
     "metadata": {},
     "output_type": "execute_result"
    }
   ],
   "source": [
    "Ck[:,0:1,0:1].shape"
   ]
  },
  {
   "cell_type": "code",
   "execution_count": 99,
   "metadata": {},
   "outputs": [],
   "source": [
    "C_particle__particle = np.expand_dims(np.expand_dims(PRISM.directCorr['particle','particle'], axis=1), axis=1)"
   ]
  },
  {
   "cell_type": "code",
   "execution_count": 100,
   "metadata": {
    "collapsed": true
   },
   "outputs": [],
   "source": [
    "Ck[:,0:1,0:1] = C_particle__particle"
   ]
  },
  {
   "cell_type": "markdown",
   "metadata": {
    "collapsed": true
   },
   "source": [
    "#### particle-polymer"
   ]
  },
  {
   "cell_type": "code",
   "execution_count": 101,
   "metadata": {},
   "outputs": [
    {
     "data": {
      "text/plain": [
       "(4096, 21, 1)"
      ]
     },
     "execution_count": 101,
     "metadata": {},
     "output_type": "execute_result"
    }
   ],
   "source": [
    "Ck[:,0:1+length,0:1].shape"
   ]
  },
  {
   "cell_type": "code",
   "execution_count": 103,
   "metadata": {},
   "outputs": [],
   "source": [
    "C_particle__polymer_end = np.expand_dims(np.expand_dims(PRISM.directCorr['particle','polymer_end'], axis=1), axis=1)"
   ]
  },
  {
   "cell_type": "code",
   "execution_count": 132,
   "metadata": {},
   "outputs": [
    {
     "data": {
      "text/plain": [
       "<Omega: SingleSite>"
      ]
     },
     "execution_count": 132,
     "metadata": {},
     "output_type": "execute_result"
    }
   ],
   "source": [
    "sys.omega['particle','particle']"
   ]
  },
  {
   "cell_type": "code",
   "execution_count": 161,
   "metadata": {},
   "outputs": [],
   "source": [
    "Ck = np.ones((len(sys.domain.k), 1+length,1+length), dtype=None, order='C')\n",
    "Wk = np.ones((len(sys.domain.k), 1+length,1+length), dtype=None, order='C')\n",
    "k = sys.domain.k\n",
    "\n",
    "types = ['particle', 'polymer_end', 'polymer_middle']\n",
    "type_indices = {'particle': [1], 'polymer_end': [1,length], 'polymer_middle': range(2, length)}\n",
    "\n",
    "#loops over the rows\n",
    "row = 0\n",
    "for type_1 in types:\n",
    "    for index_1 in type_indices[type_1]:\n",
    "        \n",
    "        #loops over the columns\n",
    "        column = 0\n",
    "        for type_2 in types:\n",
    "            for index_2 in type_indices[type_2]:\n",
    "                \n",
    "                #build a 3d entry into our tensor\n",
    "                c = PRISM.directCorr[type_1,type_2]\n",
    "                Ck[:,row:row+1,column:column+1] = np.expand_dims(np.expand_dims(c, axis=1), axis=1)\n",
    "                \n",
    "                #polymer-polymer w(k)\n",
    "                if type_1 in ['polymer_end', 'polymer_middle'] and type_2 in ['polymer_end', 'polymer_middle']:\n",
    "                    n = abs(index_1-index_2)\n",
    "                    if n:\n",
    "                        w = sys.omega[type_1,type_2].koyama_kernel_fourier(k,n)\n",
    "                    else:\n",
    "                        w = np.ones((len(sys.domain.k)), dtype=None, order='C')\n",
    "                else:\n",
    "                    w = sys.omega[type_1,type_2].calculate(k)\n",
    "                    \n",
    "                Wk[:,row:row+1,column:column+1] = np.expand_dims(np.expand_dims(w, axis=1), axis=1)\n",
    "            \n",
    "                column += 1\n",
    "            \n",
    "        row+=1"
   ]
  },
  {
   "cell_type": "code",
   "execution_count": 148,
   "metadata": {},
   "outputs": [
    {
     "data": {
      "text/plain": [
       "array([1., 1., 1., ..., 1., 1., 1.])"
      ]
     },
     "execution_count": 148,
     "metadata": {},
     "output_type": "execute_result"
    }
   ],
   "source": [
    "w"
   ]
  },
  {
   "cell_type": "code",
   "execution_count": 165,
   "metadata": {},
   "outputs": [
    {
     "name": "stdout",
     "output_type": "stream",
     "text": [
      "[[ 1.00000000e+000  0.00000000e+000  0.00000000e+000  0.00000000e+000\n",
      "   0.00000000e+000  0.00000000e+000  0.00000000e+000  0.00000000e+000\n",
      "   0.00000000e+000  0.00000000e+000  0.00000000e+000]\n",
      " [ 0.00000000e+000  1.00000000e+000 -0.00000000e+000  1.92511586e-002\n",
      "   2.60584530e-036  4.93979960e-105 -3.00096023e-208  0.00000000e+000\n",
      "  -0.00000000e+000 -0.00000000e+000 -0.00000000e+000]\n",
      " [ 0.00000000e+000 -0.00000000e+000  1.00000000e+000 -0.00000000e+000\n",
      "  -0.00000000e+000 -0.00000000e+000  0.00000000e+000 -3.00096023e-208\n",
      "   4.93979960e-105  2.60584530e-036  1.92511586e-002]\n",
      " [ 0.00000000e+000  1.92511586e-002 -0.00000000e+000  1.00000000e+000\n",
      "   1.92511586e-002  2.60584530e-036  4.93979960e-105 -3.00096023e-208\n",
      "   0.00000000e+000 -0.00000000e+000 -0.00000000e+000]\n",
      " [ 0.00000000e+000  2.60584530e-036 -0.00000000e+000  1.92511586e-002\n",
      "   1.00000000e+000  1.92511586e-002  2.60584530e-036  4.93979960e-105\n",
      "  -3.00096023e-208  0.00000000e+000 -0.00000000e+000]\n",
      " [ 0.00000000e+000  4.93979960e-105 -0.00000000e+000  2.60584530e-036\n",
      "   1.92511586e-002  1.00000000e+000  1.92511586e-002  2.60584530e-036\n",
      "   4.93979960e-105 -3.00096023e-208  0.00000000e+000]\n",
      " [ 0.00000000e+000 -3.00096023e-208  0.00000000e+000  4.93979960e-105\n",
      "   2.60584530e-036  1.92511586e-002  1.00000000e+000  1.92511586e-002\n",
      "   2.60584530e-036  4.93979960e-105 -3.00096023e-208]\n",
      " [ 0.00000000e+000  0.00000000e+000 -3.00096023e-208 -3.00096023e-208\n",
      "   4.93979960e-105  2.60584530e-036  1.92511586e-002  1.00000000e+000\n",
      "   1.92511586e-002  2.60584530e-036  4.93979960e-105]\n",
      " [ 0.00000000e+000 -0.00000000e+000  4.93979960e-105  0.00000000e+000\n",
      "  -3.00096023e-208  4.93979960e-105  2.60584530e-036  1.92511586e-002\n",
      "   1.00000000e+000  1.92511586e-002  2.60584530e-036]\n",
      " [ 0.00000000e+000 -0.00000000e+000  2.60584530e-036 -0.00000000e+000\n",
      "   0.00000000e+000 -3.00096023e-208  4.93979960e-105  2.60584530e-036\n",
      "   1.92511586e-002  1.00000000e+000  1.92511586e-002]\n",
      " [ 0.00000000e+000 -0.00000000e+000  1.92511586e-002 -0.00000000e+000\n",
      "  -0.00000000e+000  0.00000000e+000 -3.00096023e-208  4.93979960e-105\n",
      "   2.60584530e-036  1.92511586e-002  1.00000000e+000]]\n"
     ]
    }
   ],
   "source": [
    "print Wk[3000]"
   ]
  },
  {
   "cell_type": "code",
   "execution_count": 133,
   "metadata": {},
   "outputs": [
    {
     "ename": "AttributeError",
     "evalue": "System instance has no attribute 'k'",
     "output_type": "error",
     "traceback": [
      "\u001b[1;31m\u001b[0m",
      "\u001b[1;31mAttributeError\u001b[0mTraceback (most recent call last)",
      "\u001b[1;32m<ipython-input-133-e371a0fd5031>\u001b[0m in \u001b[0;36m<module>\u001b[1;34m()\u001b[0m\n\u001b[1;32m----> 1\u001b[1;33m \u001b[0msys\u001b[0m\u001b[1;33m.\u001b[0m\u001b[0mk\u001b[0m\u001b[1;33m\u001b[0m\u001b[0m\n\u001b[0m",
      "\u001b[1;31mAttributeError\u001b[0m: System instance has no attribute 'k'"
     ]
    }
   ],
   "source": [
    "sys.k"
   ]
  },
  {
   "cell_type": "code",
   "execution_count": 159,
   "metadata": {},
   "outputs": [
    {
     "name": "stderr",
     "output_type": "stream",
     "text": [
      "C:\\ProgramData\\Anaconda2\\lib\\site-packages\\ipykernel_launcher.py:1: DeprecationWarning: Both axis > a.ndim and axis < -a.ndim - 1 are deprecated and will raise an AxisError in the future.\n",
      "  \"\"\"Entry point for launching an IPython kernel.\n"
     ]
    },
    {
     "data": {
      "text/plain": [
       "array([[1]])"
      ]
     },
     "execution_count": 159,
     "metadata": {},
     "output_type": "execute_result"
    }
   ],
   "source": [
    "np.expand_dims(np.expand_dims(1, axis=1), axis=1)"
   ]
  },
  {
   "cell_type": "code",
   "execution_count": 104,
   "metadata": {},
   "outputs": [],
   "source": [
    "type_indices = {'particle': [1], 'polymer_end': [1,length], 'polymer_middle': range(2, length)}"
   ]
  },
  {
   "cell_type": "code",
   "execution_count": 105,
   "metadata": {},
   "outputs": [
    {
     "data": {
      "text/plain": [
       "{'particle': [1],\n",
       " 'polymer_end': [1, 10],\n",
       " 'polymer_middle': [2, 3, 4, 5, 6, 7, 8, 9]}"
      ]
     },
     "execution_count": 105,
     "metadata": {},
     "output_type": "execute_result"
    }
   ],
   "source": [
    "type_indices"
   ]
  },
  {
   "cell_type": "code",
   "execution_count": null,
   "metadata": {},
   "outputs": [],
   "source": []
  },
  {
   "cell_type": "code",
   "execution_count": null,
   "metadata": {
    "collapsed": true
   },
   "outputs": [],
   "source": []
  },
  {
   "cell_type": "code",
   "execution_count": 125,
   "metadata": {},
   "outputs": [
    {
     "data": {
      "text/plain": [
       "array([[[-3.79731080e+01],\n",
       "        [-3.79535035e+01],\n",
       "        [-3.79208446e+01],\n",
       "        ...,\n",
       "        [ 1.07070947e-03],\n",
       "        [ 1.07388864e-03],\n",
       "        [ 1.07477387e-03]]])"
      ]
     },
     "execution_count": 125,
     "metadata": {},
     "output_type": "execute_result"
    }
   ],
   "source": [
    "np.expand_dims(np.expand_dims(PRISM.directCorr['particle','polymer_end'], axis=1), axis=0)"
   ]
  },
  {
   "cell_type": "code",
   "execution_count": null,
   "metadata": {
    "collapsed": true
   },
   "outputs": [],
   "source": []
  },
  {
   "cell_type": "code",
   "execution_count": 122,
   "metadata": {},
   "outputs": [
    {
     "data": {
      "image/png": "[encoded data removed]",
      "text/plain": [
       "<matplotlib.figure.Figure at 0x1f898cc0>"
      ]
     },
     "metadata": {},
     "output_type": "display_data"
    }
   ],
   "source": [
    "plt.plot(PRISM.directCorr['particle','polymer_middle'])\n",
    "plt.plot(PRISM.directCorr['polymer_middle','particle'])\n",
    "plt.show()"
   ]
  },
  {
   "cell_type": "code",
   "execution_count": 55,
   "metadata": {},
   "outputs": [
    {
     "data": {
      "text/plain": [
       "array([[[4, 1],\n",
       "        [2, 2]],\n",
       "\n",
       "       [[4, 1],\n",
       "        [2, 2]]])"
      ]
     },
     "execution_count": 55,
     "metadata": {},
     "output_type": "execute_result"
    }
   ],
   "source": [
    "a = [[[1, 0], [0, 1]], [[1, 0], [0, 1]]]\n",
    "b = [[[4, 1], [2, 2]], [[4, 1], [2, 2]]]\n",
    "np.matmul(a, b)"
   ]
  },
  {
   "cell_type": "code",
   "execution_count": null,
   "metadata": {
    "collapsed": true
   },
   "outputs": [],
   "source": []
  },
  {
   "cell_type": "code",
   "execution_count": null,
   "metadata": {
    "collapsed": true
   },
   "outputs": [],
   "source": []
  },
  {
   "cell_type": "code",
   "execution_count": null,
   "metadata": {
    "collapsed": true
   },
   "outputs": [],
   "source": []
  },
  {
   "cell_type": "code",
   "execution_count": 17,
   "metadata": {},
   "outputs": [],
   "source": [
    "dkp = DiscreteKoyamaPartitioned(sigma=0.01, \n",
    "                                l=polymer_site_diameter, \n",
    "                                length=length, \n",
    "                                lp=0.20013,\n",
    "                                types=('end','middle'))"
   ]
  },
  {
   "cell_type": "code",
   "execution_count": 14,
   "metadata": {},
   "outputs": [
    {
     "name": "stdout",
     "output_type": "stream",
     "text": [
      "0.0\n",
      "-0.000625\n",
      "0.3329171875\n"
     ]
    }
   ],
   "source": [
    "print dkp.epsilon\n",
    "print dkp.cos1\n",
    "print dkp.cos2"
   ]
  },
  {
   "cell_type": "code",
   "execution_count": 18,
   "metadata": {},
   "outputs": [
    {
     "name": "stdout",
     "output_type": "stream",
     "text": [
      "7.400109543755484e-05\n",
      "-0.000649577774447\n",
      "0.33299469981537655\n"
     ]
    }
   ],
   "source": [
    "print dkp.epsilon\n",
    "print dkp.cos1\n",
    "print dkp.cos2"
   ]
  },
  {
   "cell_type": "code",
   "execution_count": 25,
   "metadata": {},
   "outputs": [
    {
     "data": {
      "text/plain": [
       "0.20012507817385866"
      ]
     },
     "execution_count": 25,
     "metadata": {},
     "output_type": "execute_result"
    }
   ],
   "source": [
    "4*(0.2)**3/(4*0.2**2-0.01**2)"
   ]
  },
  {
   "cell_type": "code",
   "execution_count": 33,
   "metadata": {},
   "outputs": [
    {
     "data": {
      "text/plain": [
       "0.20003333333333337"
      ]
     },
     "execution_count": 33,
     "metadata": {},
     "output_type": "execute_result"
    }
   ],
   "source": [
    "polymer_site_diameter*3.0005/3.0"
   ]
  },
  {
   "cell_type": "code",
   "execution_count": 40,
   "metadata": {},
   "outputs": [
    {
     "data": {
      "text/plain": [
       "0.5"
      ]
     },
     "execution_count": 40,
     "metadata": {},
     "output_type": "execute_result"
    }
   ],
   "source": [
    "sigma = 0.2\n",
    "l=0.2\n",
    "\n",
    "1 - sigma*sigma/(2.0 * l * l)"
   ]
  },
  {
   "cell_type": "code",
   "execution_count": 41,
   "metadata": {},
   "outputs": [
    {
     "data": {
      "text/plain": [
       "0.16666666666666666"
      ]
     },
     "execution_count": 41,
     "metadata": {},
     "output_type": "execute_result"
    }
   ],
   "source": [
    "1/6."
   ]
  },
  {
   "cell_type": "code",
   "execution_count": null,
   "metadata": {
    "collapsed": true
   },
   "outputs": [],
   "source": []
  },
  {
   "cell_type": "code",
   "execution_count": 63,
   "metadata": {
    "collapsed": true
   },
   "outputs": [],
   "source": [
    "def Cos1(epsilon, cos0):\n",
    "    e = epsilon\n",
    "    return (1/e  - ( np.exp(e) + cos0*np.exp(-e*cos0) )/( np.exp(e) - np.exp(-e*cos0) ))"
   ]
  },
  {
   "cell_type": "code",
   "execution_count": 146,
   "metadata": {
    "collapsed": true
   },
   "outputs": [],
   "source": [
    "l = 0.5\n",
    "lp = (2.9/3.0)*l\n",
    "sigma = 0.001\n",
    "cos0 = 1.0 - sigma*sigma/(2.0*l*l)\n",
    "cos1 = l/lp - 1.0"
   ]
  },
  {
   "cell_type": "code",
   "execution_count": 147,
   "metadata": {
    "collapsed": true
   },
   "outputs": [],
   "source": [
    "from scipy.optimize import root"
   ]
  },
  {
   "cell_type": "code",
   "execution_count": 148,
   "metadata": {
    "collapsed": true
   },
   "outputs": [],
   "source": [
    "func = lambda e: Cos1(e, cos0) - cos1"
   ]
  },
  {
   "cell_type": "code",
   "execution_count": 149,
   "metadata": {},
   "outputs": [
    {
     "data": {
      "text/plain": [
       "array([-0.10352538])"
      ]
     },
     "execution_count": 149,
     "metadata": {},
     "output_type": "execute_result"
    }
   ],
   "source": [
    "sol = root(func, [0.1], jac=False, method='hybr')\n",
    "sol.x"
   ]
  },
  {
   "cell_type": "code",
   "execution_count": null,
   "metadata": {
    "collapsed": true
   },
   "outputs": [],
   "source": []
  },
  {
   "cell_type": "code",
   "execution_count": null,
   "metadata": {
    "collapsed": true
   },
   "outputs": [],
   "source": []
  }
 ],
 "metadata": {
  "kernelspec": {
   "display_name": "Python 2",
   "language": "python",
   "name": "python2"
  },
  "language_info": {
   "codemirror_mode": {
    "name": "ipython",
    "version": 2
   },
   "file_extension": ".py",
   "mimetype": "text/x-python",
   "name": "python",
   "nbconvert_exporter": "python",
   "pygments_lexer": "ipython2",
   "version": "2.7.14"
  }
 },
 "nbformat": 4,
 "nbformat_minor": 2
}
