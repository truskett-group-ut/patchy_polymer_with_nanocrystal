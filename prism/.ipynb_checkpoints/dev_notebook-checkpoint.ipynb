{
 "cells": [
  {
   "cell_type": "markdown",
   "metadata": {},
   "source": [
    "# Polymer + particle mixture using pyPRISM"
   ]
  },
  {
   "cell_type": "code",
   "execution_count": 64,
   "metadata": {},
   "outputs": [],
   "source": [
    "import pyPRISM\n",
    "import matplotlib.pyplot as plt\n",
    "from custom_prism_tools.DiscreteKoyamaPartitioned import DiscreteKoyamaPartitioned\n",
    "from custom_prism_tools.DiscreteKoyama import DiscreteKoyama\n",
    "from custom_prism_tools.KovalenkoHirata import KovalenkoHirata\n",
    "from custom_prism_tools.ShiftedWeeksChandlerAnderson import ShiftedWeeksChandlerAnderson\n",
    "import numpy as np"
   ]
  },
  {
   "cell_type": "markdown",
   "metadata": {},
   "source": [
    "## Tunable parameters"
   ]
  },
  {
   "cell_type": "code",
   "execution_count": 231,
   "metadata": {},
   "outputs": [],
   "source": [
    "#parameters to set\n",
    "length = 10\n",
    "particle_eta = 0.01\n",
    "N_polymer__N_particle = 1.0\n",
    "particle_diameter = 5.0\n",
    "polymer_site_diameter = 1.0\n",
    "bond_length = 0.97\n",
    "persistence_length = 4./3.\n",
    "epsilon = 1.0\n",
    "length_scale = polymer_site_diameter"
   ]
  },
  {
   "cell_type": "code",
   "execution_count": 232,
   "metadata": {},
   "outputs": [],
   "source": [
    "#dependent parameters\n",
    "particle_density = 6.0*particle_eta/(np.pi*particle_diameter**3.0)\n",
    "polymer_density = N_polymer__N_particle*particle_density\n",
    "polymer_site_density = length*polymer_density"
   ]
  },
  {
   "cell_type": "code",
   "execution_count": 234,
   "metadata": {
    "scrolled": true
   },
   "outputs": [
    {
     "name": "stdout",
     "output_type": "stream",
     "text": [
      "0:  |F(x)| = 247.277; step 0.194332; tol 0.566267\n",
      "1:  |F(x)| = 245.035; step 1; tol 0.883756\n",
      "2:  |F(x)| = 162.773; step 1; tol 0.702923\n",
      "3:  |F(x)| = 24.8076; step 1; tol 0.444691\n",
      "4:  |F(x)| = 21.0913; step 1; tol 0.650548\n",
      "5:  |F(x)| = 16.8191; step 1; tol 0.572324\n",
      "6:  |F(x)| = 16.8175; step 1; tol 0.899831\n",
      "7:  |F(x)| = 16.8175; step 1; tol 0.9\n",
      "8:  |F(x)| = 16.8175; step 1; tol 0.9\n",
      "9:  |F(x)| = 16.8178; step 1; tol 0.900037\n",
      "10:  |F(x)| = 16.8177; step 1; tol 0.89999\n",
      "11:  |F(x)| = 16.8176; step 1; tol 0.899979\n",
      "12:  |F(x)| = 16.8175; step 1; tol 0.899993\n",
      "13:  |F(x)| = 16.7602; step 1; tol 0.89388\n",
      "14:  |F(x)| = 16.7502; step 1; tol 0.89892\n",
      "15:  |F(x)| = 16.7499; step 1; tol 0.899975\n",
      "16:  |F(x)| = 16.7505; step 1; tol 0.900065\n",
      "17:  |F(x)| = 16.7501; step 0.500038; tol 0.899949\n",
      "18:  |F(x)| = 9.20597; step 1; tol 0.728917\n",
      "19:  |F(x)| = 6.64539; step 1; tol 0.478188\n",
      "20:  |F(x)| = 2.60499; step 1; tol 0.205798\n",
      "21:  |F(x)| = 0.16536; step 1; tol 0.00362654\n",
      "22:  |F(x)| = 0.00130296; step 1; tol 5.58787e-05\n",
      "23:  |F(x)| = 4.67444e-06; step 1; tol 1.15834e-05\n"
     ]
    }
   ],
   "source": [
    "# The system holds all information needed to set up a PRISM problem. We\n",
    "# instantiate the system by specifying the site types and thermal energy\n",
    "# level (kT, coarse-grained temperature) of the system.\n",
    "sys = pyPRISM.System(['particle','polymer_middle','polymer_end'], kT=1.0)\n",
    "\n",
    "# We must discretize Real and Fourier space\n",
    "sys.domain = pyPRISM.Domain(dr=0.01,length=4096)\n",
    "\n",
    "# The composition of the system is desribed via number densities\n",
    "sys.density['particle'] = particle_density\n",
    "sys.density['polymer_end']  = polymer_site_density*(2.0/float(length))\n",
    "sys.density['polymer_middle']  = polymer_site_density*(float(length-2)/float(length))\n",
    "\n",
    "# The diameter of each site is specified (in reduced units)\n",
    "sys.diameter['particle'] = particle_diameter\n",
    "sys.diameter['polymer_end'] = polymer_site_diameter\n",
    "sys.diameter['polymer_middle'] = polymer_site_diameter\n",
    "\n",
    "# The molecular structure is described via intra-molecular correlation\n",
    "# functions (i.e. omegas)\n",
    "sys.omega['particle','particle'] = pyPRISM.omega.SingleSite()\n",
    "sys.omega['particle','polymer_end'] = pyPRISM.omega.InterMolecular()\n",
    "sys.omega['particle','polymer_middle'] = pyPRISM.omega.InterMolecular()\n",
    "sys.omega['polymer_end','polymer_end'] = DiscreteKoyamaPartitioned(sigma=polymer_site_diameter, \n",
    "                                                                   l=bond_length, \n",
    "                                                                   length=length, \n",
    "                                                                   lp=persistence_length, \n",
    "                                                                   types=('end','end'))\n",
    "sys.omega['polymer_middle','polymer_middle'] = DiscreteKoyamaPartitioned(sigma=polymer_site_diameter, \n",
    "                                                                         l=bond_length, \n",
    "                                                                         length=length, \n",
    "                                                                         lp=persistence_length, \n",
    "                                                                         types=('middle','middle'))\n",
    "sys.omega['polymer_end','polymer_middle'] = DiscreteKoyamaPartitioned(sigma=polymer_site_diameter, \n",
    "                                                                      l=bond_length, \n",
    "                                                                      length=length, \n",
    "                                                                      lp=persistence_length, \n",
    "                                                                      types=('end','middle'))\n",
    "\n",
    "# The site-site interactions are specified via classes which are lazily\n",
    "# evaluated during the PRISM-object creation\n",
    "particle_polymer_cross_diameter = (particle_diameter + polymer_site_diameter)/2.0\n",
    "\n",
    "sys.potential['particle','particle'] = ShiftedWeeksChandlerAnderson(epsilon=epsilon, \n",
    "                                                                    length_scale=length_scale,\n",
    "                                                                    sigma=particle_diameter)\n",
    "sys.potential['particle','polymer_end'] = ShiftedWeeksChandlerAnderson(epsilon=epsilon, \n",
    "                                                                       length_scale=length_scale,\n",
    "                                                                       sigma=particle_polymer_cross_diameter)\n",
    "sys.potential['particle','polymer_middle'] = ShiftedWeeksChandlerAnderson(epsilon=epsilon, \n",
    "                                                                          length_scale=length_scale,\n",
    "                                                                          sigma=particle_polymer_cross_diameter)\n",
    "sys.potential['polymer_end','polymer_end'] = ShiftedWeeksChandlerAnderson(epsilon=epsilon, \n",
    "                                                                          length_scale=length_scale,\n",
    "                                                                          sigma=polymer_site_diameter)\n",
    "sys.potential['polymer_middle','polymer_middle'] = ShiftedWeeksChandlerAnderson(epsilon=epsilon, \n",
    "                                                                                length_scale=length_scale,\n",
    "                                                                                sigma=polymer_site_diameter)\n",
    "sys.potential['polymer_end','polymer_middle'] = ShiftedWeeksChandlerAnderson(epsilon=epsilon, \n",
    "                                                                             length_scale=length_scale,\n",
    "                                                                             sigma=polymer_site_diameter)\n",
    "\n",
    "\n",
    "sys.potential['particle','particle'] = pyPRISM.potential.HardSphere(sigma=particle_diameter)\n",
    "sys.potential['particle','polymer_end'] = pyPRISM.potential.HardSphere(sigma=(particle_diameter + polymer_site_diameter)/2.0)\n",
    "sys.potential['particle','polymer_middle'] = pyPRISM.potential.HardSphere(sigma=(particle_diameter + polymer_site_diameter)/2.0)\n",
    "sys.potential['polymer_end','polymer_end'] = pyPRISM.potential.HardSphere(sigma=polymer_site_diameter)\n",
    "sys.potential['polymer_middle','polymer_middle'] = pyPRISM.potential.HardSphere(sigma=polymer_site_diameter)\n",
    "sys.potential['polymer_end','polymer_middle'] = pyPRISM.potential.HardSphere(sigma=polymer_site_diameter)\n",
    "\n",
    "\n",
    "\n",
    "# Closure approximations are also specified via classes\n",
    "sys.closure['particle','particle'] = KovalenkoHirata()\n",
    "sys.closure['particle','polymer_end'] = KovalenkoHirata()\n",
    "sys.closure['particle','polymer_middle'] = KovalenkoHirata()\n",
    "sys.closure['polymer_end','polymer_end'] = KovalenkoHirata()\n",
    "sys.closure['polymer_middle','polymer_middle'] = KovalenkoHirata()\n",
    "sys.closure['polymer_end','polymer_middle'] = KovalenkoHirata()\n",
    "\n",
    "# Calling the .solve() method of the system object attempts to numerically\n",
    "# solv the PRISM equation and, if successful, it returns a PRISM object\n",
    "# containing all of the solved correlation functions.\n",
    "PRISM = sys.solve(guess=guess, method='krylov')\n",
    "\n",
    "# Calculate the pair-correlation functions.\n",
    "rdf = pyPRISM.calculate.pair_correlation(PRISM)\n"
   ]
  },
  {
   "cell_type": "code",
   "execution_count": 235,
   "metadata": {},
   "outputs": [],
   "source": [
    "guess = np.copy(PRISM.x)"
   ]
  },
  {
   "cell_type": "code",
   "execution_count": 267,
   "metadata": {},
   "outputs": [],
   "source": [
    "rdf = pyPRISM.calculate.pair_correlation(PRISM)"
   ]
  },
  {
   "cell_type": "code",
   "execution_count": 219,
   "metadata": {},
   "outputs": [
    {
     "data": {
      "image/png": "[encoded data removed]",
      "text/plain": [
       "<matplotlib.figure.Figure at 0x13314400>"
      ]
     },
     "metadata": {},
     "output_type": "display_data"
    }
   ],
   "source": [
    "# Plot the results using matplotlib\n",
    "plt.plot(sys.domain.r,rdf['particle','particle'],color='gold',lw=1.25,ls='-')\n",
    "plt.plot(sys.domain.r,rdf['particle','polymer_end'],color='red',lw=3,ls='-')\n",
    "plt.plot(sys.domain.r,rdf['particle','polymer_middle'],color='blue',lw=3,ls='-')\n",
    "plt.plot(sys.domain.r,rdf['polymer_end','polymer_end'],color='green',lw=1.25,ls='-')\n",
    "plt.plot(sys.domain.r,rdf['polymer_middle','polymer_middle'],color='purple',lw=1.25,ls='-')\n",
    "plt.plot(sys.domain.r,rdf['polymer_end','polymer_middle'],color='orange',lw=1.25,ls='-')\n",
    "plt.ylabel('pair correlation')\n",
    "plt.xlabel('separation distance')\n",
    "plt.xlim(0,15)\n",
    "plt.ylim(0,3)\n",
    "plt.show()"
   ]
  },
  {
   "cell_type": "code",
   "execution_count": null,
   "metadata": {},
   "outputs": [],
   "source": []
  },
  {
   "cell_type": "markdown",
   "metadata": {},
   "source": [
    "## Testing free energy for HS"
   ]
  },
  {
   "cell_type": "code",
   "execution_count": 93,
   "metadata": {
    "scrolled": true
   },
   "outputs": [
    {
     "name": "stdout",
     "output_type": "stream",
     "text": [
      "0.01\n",
      "0:  |F(x)| = 5.07276e-13; step 1; tol 7.74786e-12\n",
      "(9.432884094158487e-06, -3.204771179667925e-06)\n",
      "0.02\n",
      "0:  |F(x)| = 0.0247624; step 1; tol 4.26903e-05\n",
      "1:  |F(x)| = 3.30123e-06; step 1; tol 1.5996e-08\n",
      "(3.874738716587589e-05, -1.3487027247290204e-05)\n",
      "0.03\n",
      "0:  |F(x)| = 0.0266646; step 1; tol 5.29248e-05\n",
      "1:  |F(x)| = 3.35503e-06; step 1; tol 1.42484e-08\n",
      "(8.9618148988119e-05, -3.193863995422402e-05)\n",
      "0.04\n",
      "0:  |F(x)| = 0.028589; step 1; tol 6.49717e-05\n",
      "1:  |F(x)| = 3.5635e-06; step 1; tol 1.39829e-08\n",
      "(0.0001639355350803187, -5.978250151614502e-05)\n",
      "0.05\n",
      "0:  |F(x)| = 0.0304492; step 1; tol 7.86164e-05\n",
      "1:  |F(x)| = 3.91351e-06; step 1; tol 1.4867e-08\n",
      "(0.00026382578195680923, -9.83877536492165e-05)\n",
      "0.060000000000000005\n",
      "0:  |F(x)| = 0.0322132; step 1; tol 9.37474e-05\n",
      "1:  |F(x)| = 4.43339e-06; step 1; tol 1.7047e-08\n",
      "(0.0003916736737344092, -0.00014928685019767804)\n",
      "0.06999999999999999\n",
      "0:  |F(x)| = 0.0338577; step 1; tol 0.000110212\n",
      "1:  |F(x)| = 5.09092e-06; step 1; tol 2.0348e-08\n",
      "(0.0005501480446585512, -0.0002141947076219748)\n",
      "0.08\n",
      "0:  |F(x)| = 0.0354046; step 1; tol 0.000128101\n",
      "1:  |F(x)| = 5.91564e-06; step 1; tol 2.51262e-08\n",
      "(0.0007422304513294775, -0.0002950302113252727)\n",
      "0.09\n",
      "0:  |F(x)| = 0.0368678; step 1; tol 0.000147483\n",
      "1:  |F(x)| = 6.87214e-06; step 1; tol 3.12703e-08\n",
      "(0.0009712474147057997, -0.00039394039883949703)\n",
      "0.09999999999999999\n",
      "0:  |F(x)| = 0.0382693; step 1; tol 0.000168521\n",
      "1:  |F(x)| = 8.00109e-06; step 1; tol 3.93404e-08\n",
      "(0.0012409066942015452, -0.0005133276773606143)\n",
      "0.11\n",
      "0:  |F(x)| = 0.0396178; step 1; tol 0.000191307\n",
      "1:  |F(x)| = 9.35338e-06; step 1; tol 5.01647e-08\n",
      "(0.0015553381204371083, -0.0006558804979285515)\n",
      "0.12\n",
      "0:  |F(x)| = 0.0409334; step 1; tol 0.000216068\n",
      "1:  |F(x)| = 1.08217e-05; step 1; tol 6.29035e-08\n",
      "(0.0019191396062438082, -0.0008246079464188474)\n",
      "0.13\n",
      "0:  |F(x)| = 0.0415729; step 1; tol 0.000235514\n",
      "1:  |F(x)| = 1.2092e-05; step 1; tol 7.61412e-08\n",
      "(0.0023374290403599903, -0.0010228788170857871)\n",
      "0.14\n",
      "0:  |F(x)| = 0.0426919; step 1; tol 0.000262129\n",
      "1:  |F(x)| = 1.39441e-05; step 1; tol 9.60142e-08\n",
      "(0.0028159027913421705, -0.0012544657223630701)\n",
      "0.15000000000000002\n",
      "0:  |F(x)| = 0.0438272; step 1; tol 0.0002912\n",
      "1:  |F(x)| = 1.60988e-05; step 1; tol 1.21435e-07\n",
      "(0.0033609019202690154, -0.0015235950769824573)\n",
      "0.16\n",
      "0:  |F(x)| = 0.045017; step 1; tol 0.000323422\n",
      "1:  |F(x)| = 1.85212e-05; step 1; tol 1.52345e-07\n",
      "(0.003979486953470516, -0.0018350036373009884)\n",
      "0.17\n",
      "0:  |F(x)| = 0.0462933; step 1; tol 0.000359559\n",
      "1:  |F(x)| = 2.13255e-05; step 1; tol 1.90988e-07\n",
      "(0.004679522507730291, -0.002194002583951194)\n",
      "0.18000000000000002\n",
      "0:  |F(x)| = 0.0476622; step 1; tol 0.000400103\n",
      "1:  |F(x)| = 2.45427e-05; step 1; tol 2.38638e-07\n",
      "(0.005469773176852383, -0.0026065502503306395)\n",
      "0.19\n",
      "0:  |F(x)| = 0.049116; step 1; tol 0.000445349\n",
      "1:  |F(x)| = 2.81552e-05; step 1; tol 2.95744e-07\n",
      "(0.006360012234143775, -0.003079334714473151)\n",
      "0.2\n",
      "0:  |F(x)| = 0.0507077; step 1; tol 0.000496753\n",
      "1:  |F(x)| = 3.23242e-05; step 1; tol 3.65723e-07\n",
      "(0.007361144916354867, -0.003619867651380537)\n",
      "0.21000000000000002\n",
      "0:  |F(x)| = 0.0524672; step 1; tol 0.000555608\n",
      "1:  |F(x)| = 3.70725e-05; step 1; tol 4.49334e-07\n",
      "(0.008485348569759908, -0.004236591240329316)\n",
      "0.22\n",
      "0:  |F(x)| = 0.0543842; step 1; tol 0.000622507\n",
      "1:  |F(x)| = 4.26505e-05; step 1; tol 5.53533e-07\n",
      "(0.009746231783731678, -0.004938999845167388)\n",
      "0.23\n",
      "0:  |F(x)| = 0.0565641; step 1; tol 0.000700849\n",
      "1:  |F(x)| = 4.91351e-05; step 1; tol 6.79116e-07\n",
      "(0.011159015789225506, -0.0057377790808172)\n",
      "0.24000000000000002\n",
      "0:  |F(x)| = 0.0589234; step 1; tol 0.000789809\n",
      "1:  |F(x)| = 5.6559e-05; step 1; tol 8.29222e-07\n",
      "(0.012740740812873415, -0.006644964471130435)\n",
      "0.25\n",
      "0:  |F(x)| = 0.0614781; step 1; tol 0.000890754\n",
      "1:  |F(x)| = 6.53097e-05; step 1; tol 1.01568e-06\n",
      "(0.014510501577000911, -0.007674123114225986)\n",
      "0.26\n",
      "0:  |F(x)| = 0.0644695; step 1; tol 0.00101216\n",
      "1:  |F(x)| = 7.57947e-05; step 1; tol 1.24397e-06\n",
      "(0.01648971643566057, -0.008840562040230671)\n",
      "0.27\n",
      "0:  |F(x)| = 0.0678639; step 1; tol 0.00115546\n",
      "1:  |F(x)| = 8.83797e-05; step 1; tol 1.52641e-06\n",
      "(0.01870243461385362, -0.01016156706462579)\n",
      "0.28\n",
      "0:  |F(x)| = 0.0718855; step 1; tol 0.00133127\n",
      "1:  |F(x)| = 0.000102555; step 1; tol 1.83178e-06\n",
      "(0.021175689430854586, -0.011656678680120476)\n",
      "0.29000000000000004\n",
      "0:  |F(x)| = 0.07601; step 1; tol 0.00152274\n",
      "1:  |F(x)| = 0.000118801; step 1; tol 2.19858e-06\n",
      "2:  |F(x)| = 9.76504e-10; step 1; tol 6.08064e-11\n",
      "(0.023939955022766104, -0.013348055838503008)\n",
      "0.3\n",
      "0:  |F(x)| = 0.0806895; step 1; tol 0.00174839\n",
      "1:  |F(x)| = 0.000137715; step 1; tol 2.62162e-06\n",
      "2:  |F(x)| = 1.28609e-09; step 1; tol 7.84919e-11\n",
      "(0.027029408641939694, -0.015260663718118421)\n",
      "0.31\n",
      "0:  |F(x)| = 0.0860543; step 1; tol 0.00201673\n",
      "1:  |F(x)| = 0.000162611; step 1; tol 3.21365e-06\n",
      "2:  |F(x)| = 1.15226e-09; step 1; tol 4.51897e-11\n",
      "(0.0304827495674294, -0.017422948515849693)\n",
      "0.32\n",
      "0:  |F(x)| = 0.0920438; step 1; tol 0.00232778\n",
      "1:  |F(x)| = 0.000190839; step 1; tol 3.86891e-06\n",
      "2:  |F(x)| = 1.29289e-09; step 1; tol 4.13079e-11\n",
      "(0.034343636589769536, -0.019867170011264125)\n",
      "0.33\n",
      "0:  |F(x)| = 0.0988093; step 1; tol 0.00269087\n",
      "1:  |F(x)| = 0.000224383; step 1; tol 4.64117e-06\n",
      "2:  |F(x)| = 1.70121e-09; step 1; tol 5.1734e-11\n",
      "(0.03866144458307064, -0.022630009793594395)\n",
      "0.34\n",
      "0:  |F(x)| = 0.106337; step 1; tol 0.00310613\n",
      "1:  |F(x)| = 0.000265181; step 1; tol 5.59708e-06\n",
      "2:  |F(x)| = 2.94043e-09; step 1; tol 1.10657e-10\n",
      "(0.04349209159408404, -0.02575323630010957)\n",
      "0.35000000000000003\n",
      "0:  |F(x)| = 0.114931; step 1; tol 0.00359095\n",
      "1:  |F(x)| = 0.000313429; step 1; tol 6.69335e-06\n",
      "2:  |F(x)| = 2.99294e-09; step 1; tol 8.20656e-11\n",
      "(0.0488989999965523, -0.029284481789435678)\n",
      "0.36000000000000004\n",
      "0:  |F(x)| = 0.124365; step 1; tol 0.00412882\n",
      "1:  |F(x)| = 0.000372242; step 1; tol 8.06297e-06\n",
      "2:  |F(x)| = 3.40696e-09; step 1; tol 7.53922e-11\n",
      "(0.05495421622580678, -0.03327815232042649)\n",
      "0.37\n",
      "0:  |F(x)| = 0.135439; step 1; tol 0.00476793\n",
      "1:  |F(x)| = 0.00044424; step 1; tol 9.6825e-06\n",
      "2:  |F(x)| = 4.35543e-09; step 1; tol 8.65105e-11\n",
      "(0.061739719285909905, -0.0377964968578097)\n",
      "0.38\n",
      "0:  |F(x)| = 0.148337; step 1; tol 0.00551787\n",
      "1:  |F(x)| = 0.000532654; step 1; tol 1.16047e-05\n",
      "2:  |F(x)| = 5.87149e-09; step 1; tol 1.09357e-10\n",
      "(0.06934895320215169, -0.042910867245427184)\n",
      "0.39\n",
      "0:  |F(x)| = 0.164257; step 1; tol 0.00646397\n",
      "1:  |F(x)| = 0.00064131; step 1; tol 1.37193e-05\n",
      "2:  |F(x)| = 6.94185e-09; step 1; tol 1.05453e-10\n",
      "(0.07788862851105213, -0.04870320981516923)\n",
      "0.4\n",
      "0:  |F(x)| = 0.180585; step 1; tol 0.007388\n",
      "1:  |F(x)| = 0.000775056; step 1; tol 1.65784e-05\n",
      "2:  |F(x)| = 9.88538e-09; step 1; tol 1.46407e-10\n",
      "(0.08748084612864968, -0.05526783923099171)\n",
      "0.41000000000000003\n",
      "0:  |F(x)| = 0.197985; step 1; tol 0.00830823\n",
      "1:  |F(x)| = 0.000941056; step 1; tol 2.03334e-05\n",
      "2:  |F(x)| = 1.38624e-08; step 1; tol 1.95293e-10\n",
      "(0.09826561058596858, -0.06271355601019911)\n",
      "0.42000000000000004\n",
      "0:  |F(x)| = 0.217816; step 1; tol 0.0093074\n",
      "1:  |F(x)| = 0.00114738; step 1; tol 2.49736e-05\n",
      "2:  |F(x)| = 2.00821e-08; step 1; tol 2.75703e-10\n",
      "(0.11040381461726997, -0.07116617546058268)\n",
      "0.43\n",
      "0:  |F(x)| = 0.240343; step 1; tol 0.0103768\n",
      "1:  |F(x)| = 0.00140495; step 1; tol 3.07539e-05\n",
      "2:  |F(x)| = 2.91316e-08; step 1; tol 3.86948e-10\n",
      "(0.12408079258649626, -0.08077153259390396)\n",
      "0.44\n",
      "0:  |F(x)| = 0.265628; step 1; tol 0.0114843\n",
      "1:  |F(x)| = 0.00173805; step 1; tol 3.85321e-05\n",
      "2:  |F(x)| = 4.49895e-08; step 1; tol 6.0303e-10\n",
      "(0.13951056172121237, -0.09169902569881896)\n",
      "0.45\n",
      "0:  |F(x)| = 0.294069; step 1; tol 0.0126174\n",
      "1:  |F(x)| = 0.00218973; step 1; tol 4.99028e-05\n",
      "2:  |F(x)| = 7.20087e-08; step 1; tol 9.73268e-10\n",
      "(0.15694089999809696, -0.10414580547836685)\n",
      "0.46\n",
      "0:  |F(x)| = 0.326431; step 1; tol 0.0137812\n",
      "1:  |F(x)| = 0.00279774; step 1; tol 6.61112e-05\n",
      "2:  |F(x)| = 1.18183e-07; step 1; tol 1.60596e-09\n",
      "(0.17665943052003927, -0.11834185667135848)\n",
      "0.47000000000000003\n",
      "0:  |F(x)| = 0.362855; step 1; tol 0.0149107\n",
      "1:  |F(x)| = 0.00357356; step 1; tol 8.72928e-05\n",
      "2:  |F(x)| = 1.92617e-07; step 1; tol 2.61474e-09\n",
      "(0.19900113476476272, -0.1345565002313043)\n",
      "0.48000000000000004\n",
      "0:  |F(x)| = 0.409679; step 1; tol 0.0164306\n",
      "1:  |F(x)| = 0.00452314; step 1; tol 0.000109707\n",
      "2:  |F(x)| = 3.0607e-07; step 1; tol 4.12101e-09\n",
      "(0.2243576621615779, -0.1531070670854147)\n",
      "0.49\n",
      "0:  |F(x)| = 0.469594; step 1; tol 0.0184395\n"
     ]
    },
    {
     "name": "stdout",
     "output_type": "stream",
     "text": [
      "1:  |F(x)| = 0.00581751; step 1; tol 0.000138125\n",
      "2:  |F(x)| = 5.22459e-07; step 1; tol 7.25892e-09\n",
      "(0.25318882351935434, -0.1743703253572498)\n",
      "0.5\n",
      "0:  |F(x)| = 0.539406; step 1; tol 0.0206107\n",
      "1:  |F(x)| = 0.00768307; step 1; tol 0.000182591\n",
      "2:  |F(x)| = 1.05842e-06; step 1; tol 1.70799e-08\n",
      "(0.2860363608063247, -0.1987961963508289)\n",
      "0.51\n",
      "0:  |F(x)| = 0.614557; step 1; tol 0.0226203\n",
      "1:  |F(x)| = 0.0100935; step 1; tol 0.000242774\n",
      "2:  |F(x)| = 2.22139e-06; step 1; tol 4.35922e-08\n",
      "(0.3235396010720448, -0.2269215723588339)\n",
      "0.52\n",
      "0:  |F(x)| = 0.690895; step 1; tol 0.0242801\n",
      "1:  |F(x)| = 0.0135658; step 1; tol 0.000346986\n",
      "2:  |F(x)| = 4.96028e-06; step 1; tol 1.20326e-07\n",
      "(0.3664522617910058, -0.25938057097033895)\n",
      "0.53\n",
      "0:  |F(x)| = 0.772941; step 1; tol 0.0259709\n",
      "1:  |F(x)| = 0.0187121; step 1; tol 0.000527464\n",
      "2:  |F(x)| = 1.10811e-05; step 1; tol 3.15622e-07\n",
      "(0.41566095648027573, -0.2969096752747026)\n",
      "0.54\n",
      "0:  |F(x)| = 0.88565; step 1; tol 0.029072\n",
      "1:  |F(x)| = 0.0265316; step 1; tol 0.000807694\n",
      "2:  |F(x)| = 2.83118e-05; step 1; tol 1.02482e-06\n",
      "(0.4722131498256409, -0.34035907644693403)\n",
      "0.55\n",
      "0:  |F(x)| = 1.08262; step 1; tol 0.0361776\n",
      "1:  |F(x)| = 0.0381433; step 1; tol 0.00111719\n",
      "2:  |F(x)| = 9.95883e-05; step 1; tol 6.13512e-06\n",
      "(0.5373774646400281, -0.3907448641688421)\n",
      "0.56\n",
      "0:  |F(x)| = 1.37656; step 1; tol 0.0465197\n",
      "1:  |F(x)| = 0.0551608; step 1; tol 0.00144514\n",
      "2:  |F(x)| = 0.000473997; step 1; tol 6.64559e-05\n",
      "3:  |F(x)| = 5.7984e-09; step 1; tol 1.34681e-10\n",
      "(0.6127174764086643, -0.44935505205369286)\n",
      "0.5700000000000001\n",
      "0:  |F(x)| = 1.70111; step 1; tol 0.0539316\n",
      "1:  |F(x)| = 0.0816965; step 1; tol 0.0020758\n",
      "2:  |F(x)| = 0.00312236; step 1; tol 0.00131462\n",
      "3:  |F(x)| = 1.83463e-07; step 1; tol 3.10724e-09\n",
      "(0.7001723012466667, -0.5178802494996845)\n",
      "0.5800000000000001\n",
      "0:  |F(x)| = 1.97889; step 1; tol 0.0544616\n",
      "1:  |F(x)| = 0.0794091; step 1; tol 0.00144925\n",
      "2:  |F(x)| = 0.00205251; step 1; tol 0.000601273\n",
      "3:  |F(x)| = 7.60989e-08; step 1; tol 1.23717e-09\n",
      "(0.8021523308975717, -0.5985479512942827)\n",
      "0.59\n",
      "0:  |F(x)| = 2.16118; step 1; tol 0.0497398\n",
      "1:  |F(x)| = 0.0864791; step 1; tol 0.00144107\n",
      "2:  |F(x)| = 0.00277557; step 1; tol 0.000927092\n",
      "3:  |F(x)| = 2.6678e-07; step 1; tol 8.31468e-09\n",
      "(0.9216369628834062, -0.6942038163970983)\n"
     ]
    }
   ],
   "source": [
    "F_P = []\n",
    "etas = np.arange(0.01, 0.6, 0.01)\n",
    "for eta in etas:\n",
    "    print eta\n",
    "    sys.density['particle'] = 6.0*eta/(np.pi*particle_diameter**3.0)\n",
    "    PRISM = sys.solve(guess=guess, method='krylov')\n",
    "    guess = np.copy(PRISM.x)\n",
    "    F_P.append(ExcessFreeEnergy(PRISM, default_method='HNC'))\n",
    "F_P = np.array(F_P)"
   ]
  },
  {
   "cell_type": "code",
   "execution_count": 41,
   "metadata": {},
   "outputs": [],
   "source": [
    "particle_diameter=10.0"
   ]
  },
  {
   "cell_type": "code",
   "execution_count": 49,
   "metadata": {},
   "outputs": [],
   "source": [
    "etas = np.arange(0.00001,0.6,0.00001)"
   ]
  },
  {
   "cell_type": "code",
   "execution_count": 74,
   "metadata": {},
   "outputs": [],
   "source": [
    "#CS HS free energy per V\n",
    "def F_CS(n, d):\n",
    "    rho = (6.0*n/(np.pi*d**3))\n",
    "    return ((4.0*n-3.0*n*n)/(1.0-n)**2.0)*rho"
   ]
  },
  {
   "cell_type": "code",
   "execution_count": 75,
   "metadata": {},
   "outputs": [],
   "source": [
    "#CS pressure per rho and kBT\n",
    "def P_CS(n):\n",
    "    return ((1.0+n+n**2.0-n**3.)/(1.0-n)**3.0)-1"
   ]
  },
  {
   "cell_type": "code",
   "execution_count": 76,
   "metadata": {},
   "outputs": [],
   "source": [
    "def P_num(f, d, n):\n",
    "    rho = 6.0*n/(np.pi*d**3.0)\n",
    "    fr = f[:-1]\n",
    "    ff = f[1:]\n",
    "    favg = (fr+ff)/2.0\n",
    "    rhor = rho[:-1]\n",
    "    rhof = rho[1:]\n",
    "    rhoavg = (rhor+rhof)/2.0\n",
    "    P_num = -favg/rhoavg + ((ff-fr)/(rhof-rhor))\n",
    "    return P_num"
   ]
  },
  {
   "cell_type": "code",
   "execution_count": 77,
   "metadata": {},
   "outputs": [],
   "source": [
    "etas_avg = (etas[1:]+etas[:-1])/2.0"
   ]
  },
  {
   "cell_type": "code",
   "execution_count": 78,
   "metadata": {},
   "outputs": [],
   "source": [
    "f_CS = F_CS(etas, d=particle_diameter)\n",
    "p_CS = P_CS(etas)\n",
    "p_CS_num = P_num(f_CS, d=particle_diameter, n=etas)"
   ]
  },
  {
   "cell_type": "code",
   "execution_count": 94,
   "metadata": {},
   "outputs": [],
   "source": [
    "rho = 6.0*etas/(np.pi*particle_diameter**3.0)\n",
    "f = F_P[:,0]\n",
    "p = F_P[:,1]/rho\n",
    "p_num = P_num(f, d=particle_diameter, n=etas)"
   ]
  },
  {
   "cell_type": "code",
   "execution_count": 95,
   "metadata": {},
   "outputs": [
    {
     "data": {
      "text/plain": [
       "[<matplotlib.lines.Line2D at 0xde79f60>]"
      ]
     },
     "execution_count": 95,
     "metadata": {},
     "output_type": "execute_result"
    },
    {
     "data": {
      "image/png": "[encoded data removed]",
      "text/plain": [
       "<matplotlib.figure.Figure at 0xde79d68>"
      ]
     },
     "metadata": {},
     "output_type": "display_data"
    }
   ],
   "source": [
    "plt.plot(etas, p)\n",
    "plt.plot(etas_avg, p_num)"
   ]
  },
  {
   "cell_type": "code",
   "execution_count": 85,
   "metadata": {},
   "outputs": [
    {
     "data": {
      "text/plain": [
       "[<matplotlib.lines.Line2D at 0xf719978>]"
      ]
     },
     "execution_count": 85,
     "metadata": {},
     "output_type": "execute_result"
    },
    {
     "data": {
      "image/png": "[encoded data removed]",
      "text/plain": [
       "<matplotlib.figure.Figure at 0xf719d68>"
      ]
     },
     "metadata": {},
     "output_type": "display_data"
    }
   ],
   "source": [
    "plt.plot(etas, p)\n",
    "plt.plot(etas_avg, p_num)\n",
    "#plt.ylim(0,5.0)"
   ]
  },
  {
   "cell_type": "code",
   "execution_count": 81,
   "metadata": {},
   "outputs": [
    {
     "data": {
      "text/plain": [
       "[<matplotlib.lines.Line2D at 0xc771400>]"
      ]
     },
     "execution_count": 81,
     "metadata": {},
     "output_type": "execute_result"
    },
    {
     "data": {
      "image/png": "[encoded data removed]",
      "text/plain": [
       "<matplotlib.figure.Figure at 0xc771080>"
      ]
     },
     "metadata": {},
     "output_type": "display_data"
    }
   ],
   "source": [
    "plt.plot(etas, p_CS)\n",
    "plt.plot(etas_avg, p_CS_num)\n",
    "#plt.ylim(0,5.0)"
   ]
  },
  {
   "cell_type": "code",
   "execution_count": null,
   "metadata": {},
   "outputs": [],
   "source": []
  },
  {
   "cell_type": "code",
   "execution_count": null,
   "metadata": {},
   "outputs": [],
   "source": []
  },
  {
   "cell_type": "code",
   "execution_count": 384,
   "metadata": {},
   "outputs": [
    {
     "data": {
      "text/plain": [
       "array([0.01, 0.02, 0.03, 0.04, 0.05, 0.06, 0.07, 0.08, 0.09, 0.1 , 0.11,\n",
       "       0.12, 0.13, 0.14, 0.15, 0.16, 0.17, 0.18, 0.19, 0.2 , 0.21, 0.22,\n",
       "       0.23, 0.24, 0.25, 0.26, 0.27, 0.28, 0.29, 0.3 , 0.31, 0.32, 0.33,\n",
       "       0.34, 0.35, 0.36, 0.37, 0.38, 0.39, 0.4 , 0.41, 0.42, 0.43, 0.44,\n",
       "       0.45, 0.46, 0.47, 0.48, 0.49, 0.5 , 0.51, 0.52, 0.53, 0.54, 0.55,\n",
       "       0.56, 0.57, 0.58, 0.59])"
      ]
     },
     "execution_count": 384,
     "metadata": {},
     "output_type": "execute_result"
    }
   ],
   "source": [
    "etas"
   ]
  },
  {
   "cell_type": "code",
   "execution_count": 351,
   "metadata": {},
   "outputs": [
    {
     "data": {
      "text/plain": [
       "(0, 10)"
      ]
     },
     "execution_count": 351,
     "metadata": {},
     "output_type": "execute_result"
    },
    {
     "data": {
      "image/png": "[encoded data removed]",
      "text/plain": [
       "<matplotlib.figure.Figure at 0x11f72978>"
      ]
     },
     "metadata": {},
     "output_type": "display_data"
    }
   ],
   "source": [
    "F_P = np.array(F_P)\n",
    "rhos = 6.0*etas/(np.pi*particle_diameter**3.0)\n",
    "plt.plot(etas, F_P[:,0]/rhos)\n",
    "plt.plot(etas, CS(etas))\n",
    "plt.xlim(0,0.4)\n",
    "plt.ylim(0,10)"
   ]
  },
  {
   "cell_type": "code",
   "execution_count": 362,
   "metadata": {},
   "outputs": [],
   "source": [
    "f = CS(etas)\n",
    "#f = F_P[:,0]/rhos\n",
    "fr = f[:-1]\n",
    "ff = f[1:]\n",
    "favg = (fr+ff)/2.0\n",
    "rhor = rhos[:-1]\n",
    "rhof = rhos[1:]\n",
    "rhoavg = (rhor+rhof)/2.0\n",
    "\n",
    "#P_num = rhoavg*rhoavg*((ff-fr)/(rhof-rhor))\n",
    "P_num = -(favg/2.0)/rhoavg + ((ff-fr)/(rhof-rhor))"
   ]
  },
  {
   "cell_type": "code",
   "execution_count": 365,
   "metadata": {},
   "outputs": [
    {
     "data": {
      "text/plain": [
       "(0, 0.5)"
      ]
     },
     "execution_count": 365,
     "metadata": {},
     "output_type": "execute_result"
    },
    {
     "data": {
      "image/png": "[encoded data removed]",
      "text/plain": [
       "<matplotlib.figure.Figure at 0xbceb400>"
      ]
     },
     "metadata": {},
     "output_type": "display_data"
    }
   ],
   "source": [
    "plt.plot(etas, P(etas))\n",
    "plt.plot(etas[:-1], P_num*rhoavg)\n",
    "plt.xlim(0,0.5)"
   ]
  },
  {
   "cell_type": "code",
   "execution_count": 357,
   "metadata": {},
   "outputs": [
    {
     "data": {
      "text/plain": [
       "(0, 0.5)"
      ]
     },
     "execution_count": 357,
     "metadata": {},
     "output_type": "execute_result"
    },
    {
     "data": {
      "image/png": "[encoded data removed]",
      "text/plain": [
       "<matplotlib.figure.Figure at 0xbcead68>"
      ]
     },
     "metadata": {},
     "output_type": "display_data"
    }
   ],
   "source": [
    "plt.plot(etas, F_P[:,1]/rhos)\n",
    "plt.plot(etas[:-1], P_num)\n",
    "plt.xlim(0,0.5)"
   ]
  },
  {
   "cell_type": "code",
   "execution_count": 340,
   "metadata": {},
   "outputs": [
    {
     "data": {
      "text/plain": [
       "array([0.04190143, 0.04317283, 0.04458283, 0.04613787, 0.04784514,\n",
       "       0.04971263, 0.05174921, 0.05396467, 0.05636984, 0.05897668,\n",
       "       0.06179838, 0.06484952, 0.06814619, 0.07170622, 0.07554931,\n",
       "       0.07969728, 0.0841743 , 0.08900719, 0.09422569, 0.09986282,\n",
       "       0.10595522, 0.11254364, 0.11967332, 0.12739458, 0.13576332,\n",
       "       0.1448417 , 0.15469884, 0.16541292, 0.17706536, 0.18975486,\n",
       "       0.20358617, 0.21867758, 0.23516119, 0.25318467, 0.2729133 ,\n",
       "       0.29453238, 0.31824978, 0.34429869, 0.37294045, 0.40446768,\n",
       "       0.43920919, 0.47753903, 0.51989252, 0.56678588, 0.6188219 ,\n",
       "       0.67668003, 0.74105563, 0.81258198, 0.89183604, 0.97957386,\n",
       "       1.07730336, 1.18804063, 1.31653599, 1.46807439, 1.64369965,\n",
       "       1.83861723, 2.04409145, 2.25395374])"
      ]
     },
     "execution_count": 340,
     "metadata": {},
     "output_type": "execute_result"
    }
   ],
   "source": [
    "ff-fr"
   ]
  },
  {
   "cell_type": "code",
   "execution_count": null,
   "metadata": {},
   "outputs": [],
   "source": []
  },
  {
   "cell_type": "code",
   "execution_count": null,
   "metadata": {},
   "outputs": [],
   "source": []
  },
  {
   "cell_type": "code",
   "execution_count": 136,
   "metadata": {},
   "outputs": [
    {
     "name": "stdout",
     "output_type": "stream",
     "text": [
      "0.8342097162126321 -0.6942038163970944\n",
      "0.14000589981553768\n",
      "0.8342097162126321 -0.12466208035540356\n",
      "0.7095476358572285\n"
     ]
    }
   ],
   "source": [
    "r = PRISM.sys.domain.r\n",
    "k = PRISM.sys.domain.k\n",
    "\n",
    "CR = deepcopy(PRISM.directCorr)\n",
    "ck = deepcopy(CR['particle','particle'])\n",
    "PRISM.sys.domain.MatrixArray_to_real(CR)\n",
    "cr = CR['particle','particle']\n",
    "hr = deepcopy(PRISM.totalCorr['particle','particle'])\n",
    "rho = PRISM.sys.density['particle']\n",
    "Fr = -2.0*np.pi*rho*rho*np.trapz(r*r*(cr-(np.heaviside(-hr, 0)*hr**2.0)/2.0), r)\n",
    "Fk = (1.0/(4.0*np.pi**2.0))*np.trapz(k*k*(rho*ck+np.log(1.0-rho*ck)), k)\n",
    "\n",
    "Pr = Fr\n",
    "Pk = -(1.0/(4.0*np.pi**2.0))*np.trapz(k*k*(rho*ck/(1.0-rho*ck)+np.log(1.0-rho*ck)), k)\n",
    "\n",
    "print Fr, Fk\n",
    "print Fr+Fk\n",
    "print Pr, Pk\n",
    "print Pr+Pk"
   ]
  },
  {
   "cell_type": "code",
   "execution_count": 107,
   "metadata": {},
   "outputs": [
    {
     "data": {
      "text/plain": [
       "array([0.1400059 , 0.70954764])"
      ]
     },
     "execution_count": 107,
     "metadata": {},
     "output_type": "execute_result"
    }
   ],
   "source": [
    "np.array(ExcessFreeEnergy(PRISM))"
   ]
  },
  {
   "cell_type": "code",
   "execution_count": 141,
   "metadata": {},
   "outputs": [
    {
     "name": "stdout",
     "output_type": "stream",
     "text": [
      "set(['custom_prism_tools.KovalenkoHirata'])\n"
     ]
    },
    {
     "data": {
      "text/plain": [
       "(0.14000589981553968, 0.7095476358572341)"
      ]
     },
     "execution_count": 141,
     "metadata": {},
     "output_type": "execute_result"
    }
   ],
   "source": [
    "ThermodynamicsClosedForm(PRISM)"
   ]
  },
  {
   "cell_type": "markdown",
   "metadata": {},
   "source": [
    "## k-space contribution to free energy"
   ]
  },
  {
   "cell_type": "code",
   "execution_count": 689,
   "metadata": {},
   "outputs": [],
   "source": [
    "Ck = np.ones((len(sys.domain.k), 1+length,1+length), dtype=None, order='C')\n",
    "Wk = np.ones((len(sys.domain.k), 1+length,1+length), dtype=None, order='C')\n",
    "p = np.zeros((1+length,1+length), dtype=None, order='C')\n",
    "k = sys.domain.k\n",
    "\n",
    "types = ['particle', 'polymer_end', 'polymer_middle']\n",
    "type_indices = {'particle': [1], 'polymer_end': [1,length], 'polymer_middle': range(2, length)}\n",
    "single_site_density = {'particle': particle_density, \n",
    "                       'polymer_end': polymer_density, \n",
    "                       'polymer_middle': polymer_density}\n",
    "\n",
    "#loops over the rows\n",
    "row = 0\n",
    "for type_1 in types:\n",
    "    for index_1 in type_indices[type_1]:\n",
    "        \n",
    "        #loops over the columns\n",
    "        column = 0\n",
    "        for type_2 in types:\n",
    "            for index_2 in type_indices[type_2]:\n",
    "                \n",
    "                #build a 3d entry into our tensor\n",
    "                c = PRISM.directCorr[type_1,type_2]\n",
    "                Ck[:,row:row+1,column:column+1] = np.expand_dims(np.expand_dims(c, axis=1), axis=1)\n",
    "                \n",
    "                #polymer-polymer w(k)\n",
    "                if type_1 in ['polymer_end', 'polymer_middle'] and type_2 in ['polymer_end', 'polymer_middle']:\n",
    "                    n = abs(index_1-index_2)\n",
    "                    if n:\n",
    "                        w = sys.omega[type_1,type_2].koyama_kernel_fourier(k,n)\n",
    "                    else:\n",
    "                        w = np.ones((len(sys.domain.k)), dtype=None, order='C')\n",
    "                else:\n",
    "                    w = sys.omega[type_1,type_2].calculate(k)\n",
    "                    \n",
    "                Wk[:,row:row+1,column:column+1] = np.expand_dims(np.expand_dims(w, axis=1), axis=1)\n",
    "                \n",
    "                p[row:row+1,column:column+1] = (row == column)*single_site_density[type_1]\n",
    "            \n",
    "                column += 1\n",
    "            \n",
    "        row+=1"
   ]
  },
  {
   "cell_type": "code",
   "execution_count": 690,
   "metadata": {},
   "outputs": [],
   "source": [
    "trace_1 = np.trace(np.matmul(np.matmul(Wk, Ck), p), axis1=1, axis2=2)\n",
    "trace_2 = np.trace(np.matmul(np.matmul(p, Wk), Ck), axis1=1, axis2=2)"
   ]
  },
  {
   "cell_type": "code",
   "execution_count": 691,
   "metadata": {},
   "outputs": [],
   "source": [
    "I=np.repeat(np.expand_dims(np.identity(1+length), axis=0), repeats=len(sys.domain.k), axis=0)\n",
    "lndet_1 = np.log(np.linalg.det(I-np.matmul(np.matmul(Wk, Ck), p)))\n",
    "lndet_2 = np.log(np.linalg.det(I-np.matmul(np.matmul(p, Wk), Ck)))"
   ]
  },
  {
   "cell_type": "code",
   "execution_count": 692,
   "metadata": {},
   "outputs": [
    {
     "name": "stdout",
     "output_type": "stream",
     "text": [
      "-0.06552257255768262\n"
     ]
    }
   ],
   "source": [
    "F = 4.0*np.pi/(2.0*(2.0*np.pi)**3)*np.trapz(k*k*(trace_1+lndet_1), k)\n",
    "print F"
   ]
  },
  {
   "cell_type": "code",
   "execution_count": 134,
   "metadata": {},
   "outputs": [
    {
     "name": "stdout",
     "output_type": "stream",
     "text": [
      "set(['custom_prism_tools.KovalenkoHirata'])\n"
     ]
    },
    {
     "name": "stderr",
     "output_type": "stream",
     "text": [
      "C:\\ProgramData\\Anaconda2\\lib\\site-packages\\ipykernel_launcher.py:21: UserWarning: This calculation is only theoretically valid if either \\                      the KovalenkoHirata (KH) or HyperNettedChain (HNC) \\                      closures are used for all pairs. Defaulting to HNC \\                      functional form for use with mixed closures.\n"
     ]
    },
    {
     "data": {
      "text/plain": [
       "array([0.22743315, 0.79697488])"
      ]
     },
     "execution_count": 134,
     "metadata": {},
     "output_type": "execute_result"
    }
   ],
   "source": [
    "np.array(ThermodynamicsClosedForm(PRISM))"
   ]
  },
  {
   "cell_type": "markdown",
   "metadata": {},
   "source": [
    "#### Testing the PRISM version"
   ]
  },
  {
   "cell_type": "code",
   "execution_count": 323,
   "metadata": {},
   "outputs": [
    {
     "data": {
      "text/plain": [
       "['particle', 'polymer_middle', 'polymer_end']"
      ]
     },
     "execution_count": 323,
     "metadata": {},
     "output_type": "execute_result"
    }
   ],
   "source": [
    "sys.density.types"
   ]
  },
  {
   "cell_type": "code",
   "execution_count": 433,
   "metadata": {},
   "outputs": [],
   "source": [
    "num_types = len(sys.density.types)\n",
    "\n",
    "Ck = np.ones((len(sys.domain.k), num_types, num_types), dtype=None, order='C')\n",
    "Wk = np.ones((len(sys.domain.k), num_types, num_types), dtype=None, order='C')\n",
    "p = np.zeros((num_types,num_types), dtype=None, order='C')\n",
    "k = sys.domain.k\n",
    "\n",
    "#loops over the rows\n",
    "row = 0\n",
    "for type_1 in sys.density.types:\n",
    "        \n",
    "    #loops over the columns\n",
    "    column = 0\n",
    "    for type_2 in sys.density.types:\n",
    "                \n",
    "        #build a 3d entry into our tensor\n",
    "        c = PRISM.directCorr[type_1,type_2]\n",
    "        Ck[:,row:row+1,column:column+1] = np.expand_dims(np.expand_dims(c, axis=1), axis=1)\n",
    "        \n",
    "        w = PRISM.omega[type_1,type_2]\n",
    "        Wk[:,row:row+1,column:column+1] = np.expand_dims(np.expand_dims(w, axis=1), axis=1)\n",
    "                \n",
    "        p[row:row+1,column:column+1] = ((row == column)*sys.density[type_1] + \n",
    "                                        (row != column)*(sys.density[type_1] + sys.density[type_2]))\n",
    "            \n",
    "        column += 1\n",
    "            \n",
    "    row+=1"
   ]
  },
  {
   "cell_type": "code",
   "execution_count": 434,
   "metadata": {},
   "outputs": [],
   "source": [
    "trace = np.trace(np.matmul(Wk, Ck), axis1=1, axis2=2)"
   ]
  },
  {
   "cell_type": "code",
   "execution_count": 435,
   "metadata": {},
   "outputs": [],
   "source": [
    "I=np.repeat(np.expand_dims(np.identity(num_types), axis=0), repeats=len(sys.domain.k), axis=0)\n",
    "lndet = np.log(np.linalg.det(I-np.matmul(Wk, Ck)))"
   ]
  },
  {
   "cell_type": "markdown",
   "metadata": {},
   "source": [
    "## Free energy and pressure"
   ]
  },
  {
   "cell_type": "code",
   "execution_count": 236,
   "metadata": {},
   "outputs": [],
   "source": [
    "import pyPRISM\n",
    "import numpy as np\n",
    "from itertools import combinations_with_replacement\n",
    "from copy import deepcopy\n",
    "import inspect\n",
    "import warnings\n",
    "\n",
    "def ThermodynamicsClosedForm(PRISM, default_method='HNC'): \n",
    "    \n",
    "    r'''Calculate the Real-space *inter*-molecular pair correlation function \n",
    "    Parameters\n",
    "    ----------\n",
    "    PRISM: pyPRISM.core.PRISM\n",
    "        A **solved** PRISM object.\n",
    "    \n",
    "    Returns\n",
    "    -------\n",
    "    pairCorr: pyPRISM.core.MatrixArray\n",
    "        The full MatrixArray of pair correlation functions.\n",
    "    \n",
    "    **Mathematical Definition**\n",
    "    .. math::\n",
    "         \n",
    "        g_{\\alpha,\\beta}(r) = h_{\\alpha,\\beta}(r) + 1.0\n",
    "    \n",
    "    **Variable Definitions**\n",
    "        - :math:`g_{\\alpha,\\beta}(r)`\n",
    "            Pair correlation function between site types :math:`\\alpha` and\n",
    "            :math:`\\beta` at a distance :math:`r`\n",
    "        - :math:`h_{\\alpha,\\beta}(r)`\n",
    "            Total correlation function between site types :math:`\\alpha` and\n",
    "            :math:`\\beta` at a distance :math:`r`\n",
    "    **Description**\n",
    "        The pair correlation function describes the spatial correlations\n",
    "        between pairs of sites in Real-space. Also known as the *radial\n",
    "        distribution function* (rdf), the :math:`g(r)` function is\n",
    "        related to the underlying spatial probability distributions of a given\n",
    "        system. In a PRISM calculation, :math:`g(r)` is strictly an\n",
    "        *inter*-molecular quantity.\n",
    "        After convergence of a PRISM object, the stored total correlation\n",
    "        attribute function can simply be shifted to obtain the :math:`g(r)` \n",
    "    .. warning::\n",
    "        Passing an unsolved PRISM object to this function will still produce\n",
    "        output based on the default values of the attributes of the PRISM\n",
    "        object.\n",
    "    \n",
    "    Example\n",
    "    -------\n",
    "    .. code-block:: python\n",
    "        import pyPRISM\n",
    "        sys = pyPRISM.System(['A','B'])\n",
    "        \n",
    "        # ** populate system variables **\n",
    "        \n",
    "        PRISM = sys.createPRISM()\n",
    "        PRISM.solve()\n",
    "        rdf = pyPRISM.calculate.pair_correlation(PRISM)\n",
    "        rdf_AA = rdf['A','A']\n",
    "        rdf_AB = rdf['A','B']\n",
    "        rdf_BB = rdf['B','B']\n",
    "    \n",
    "    '''\n",
    "    \n",
    "    #Check on the closures and raise a warning of incompatible.\n",
    "    #These formulas can be used anyways but they are not theoretically \n",
    "    #consistent with the input structure anymore.\n",
    "    closures = set()\n",
    "    for type_1, type_2 in combinations_with_replacement(PRISM.sys.types, 2):\n",
    "        closures.add(dict(inspect.getmembers(PRISM.sys.closure[type_1, type_2]))['__module__'])\n",
    "    \n",
    "    if not (closures - set(['custom_prism_tools.KovalenkoHirata'])):\n",
    "        method = 'KH'\n",
    "    elif not (closures - set(['pyPRISM.closure.HyperNettedChain'])):\n",
    "        method = 'HNC'\n",
    "    else:\n",
    "        warnings.warn('This calculation is only theoretically valid if either \\\\\n",
    "                      the KovalenkoHirata (KH) or HyperNettedChain (HNC) \\\\\n",
    "                      closures are used for all pairs. Defaulting to {} \\\\\n",
    "                      functional form for use with mixed closures.'.format(default_method), UserWarning)\n",
    "        method = default_method\n",
    "    \n",
    "    #extra quantities for k-space calculation\n",
    "    k = PRISM.sys.domain.k\n",
    "    I = pyPRISM.IdentityMatrixArray(length=len(PRISM.sys.domain.k), rank=3, \n",
    "                                    types=PRISM.sys.types, space=pyPRISM.Space.Fourier)\n",
    "    \n",
    "    #extra quantities for r-space calculation\n",
    "    r = PRISM.sys.domain.r\n",
    "    Rho = np.diag(np.diag(PRISM.sys.density.site.data[0]))  #this is a diagonal density matrix\n",
    "    \n",
    "    #direct correlation function in r- and k-space\n",
    "    if PRISM.directCorr.space == pyPRISM.Space.Real:\n",
    "        Cr = deepcopy(PRISM.directCorr)\n",
    "        Ck = deepcopy(Cr)\n",
    "        PRISM.sys.domain.MatrixArray_to_fourier(Ck)\n",
    "    elif PRISM.directCorr.space == pyPRISM.Space.Fourier:\n",
    "        Ck = deepcopy(PRISM.directCorr)\n",
    "        Cr = deepcopy(Ck)\n",
    "        PRISM.sys.domain.MatrixArray_to_real(Cr)\n",
    "    \n",
    "    #intramolecular structure in k-space\n",
    "    Wk = deepcopy(PRISM.omega)\n",
    "    if Wk.space == pyPRISM.Space.Real:\n",
    "        PRISM.sys.domain.MatrixArray_to_fourier(Wk)\n",
    "    \n",
    "    #total correlation function in r-space\n",
    "    Hr = deepcopy(PRISM.totalCorr)\n",
    "    if Hr.space == pyPRISM.Space.Fourier:\n",
    "        PRISM.sys.domain.MatrixArray_to_real(Hr)\n",
    "    \n",
    "    #calculate the k-space contribution\n",
    "    #two quantites of relevance to the thermodynamics in k-space\n",
    "    K1 = Wk.dot(Ck)\n",
    "    K2 = (I-K1)\n",
    "    #work with numpy arrays from here on out\n",
    "    K1 = K1.data                 #WkCk\n",
    "    K2 = K2.data                 #I-WkCk\n",
    "    K2inv = np.linalg.inv(K2)    #(I-WkCk)^-1\n",
    "    \n",
    "    #specific quantities used in the k-space integrals\n",
    "    tr_K1 = np.trace(K1, axis1=1, axis2=2)\n",
    "    tr_K2invK1 = np.trace(np.matmul(K2inv, K1), axis1=1, axis2=2)\n",
    "    lndet_K2 = np.log(np.linalg.det(K2))\n",
    "    \n",
    "    #free energy and pressure k-space contributions\n",
    "    prefactor_k = 4.0*np.pi/(2.0*(2.0*np.pi)**3)\n",
    "    F_ex_k = prefactor_k*np.trapz(k*k*(tr_K1 + lndet_K2), k)\n",
    "    P_ex_k = -prefactor_k*np.trapz(k*k*(tr_K2invK1 + lndet_K2), k)\n",
    "    \n",
    "    #calculate the r-space contribution\n",
    "    if method == 'HNC':\n",
    "        Structure = ((1.0/2.0)*(Hr*Hr).data*np.heaviside(-Hr.data, 0) - Cr.data)\n",
    "    elif method == 'KH':\n",
    "        Structure = ((1.0/2.0)*(Hr*Hr).data - Cr.data)\n",
    "    kernel_r = np.sum(np.matmul(np.matmul(Rho, Structure), Rho), axis=(1,2))\n",
    "    F_and_P_ex_r = (4.0*np.pi/2.0)*np.trapz(r*r*kernel_r, r)\n",
    "    \n",
    "    #total free energy per volume and kBT\n",
    "    F_ex = F_and_P_ex_r + F_ex_k\n",
    "    \n",
    "    #pressure per kBT (NOT divided by density)\n",
    "    P_ex = F_and_P_ex_r + P_ex_k\n",
    "    \n",
    "    return (F_ex, P_ex)"
   ]
  },
  {
   "cell_type": "markdown",
   "metadata": {},
   "source": [
    "#### Testing for free energy and pressure consistency"
   ]
  },
  {
   "cell_type": "code",
   "execution_count": 237,
   "metadata": {
    "scrolled": true
   },
   "outputs": [
    {
     "name": "stdout",
     "output_type": "stream",
     "text": [
      "0:  |F(x)| = 1.91885e-11; step 1; tol 1.51658e-11\n",
      "KH\n",
      "0:  |F(x)| = 0.0274828; step 1; tol 4.16969e-05\n",
      "1:  |F(x)| = 3.45229e-06; step 1; tol 1.42015e-08\n",
      "KH\n",
      "0:  |F(x)| = 0.0319233; step 1; tol 6.01737e-05\n",
      "1:  |F(x)| = 3.99304e-06; step 1; tol 1.40811e-08\n",
      "KH\n",
      "0:  |F(x)| = 0.0362233; step 1; tol 8.2813e-05\n",
      "1:  |F(x)| = 4.8752e-06; step 1; tol 1.63024e-08\n",
      "KH\n",
      "0:  |F(x)| = 0.040272; step 1; tol 0.000109331\n",
      "1:  |F(x)| = 6.20797e-06; step 1; tol 2.13863e-08\n",
      "KH\n",
      "0:  |F(x)| = 0.0440428; step 1; tol 0.00013956\n",
      "1:  |F(x)| = 7.99628e-06; step 1; tol 2.96668e-08\n",
      "KH\n",
      "0:  |F(x)| = 0.0475387; step 1; tol 0.000173385\n",
      "1:  |F(x)| = 1.02654e-05; step 1; tol 4.19663e-08\n",
      "KH\n",
      "0:  |F(x)| = 0.0507777; step 1; tol 0.000210757\n",
      "1:  |F(x)| = 1.30363e-05; step 1; tol 5.932e-08\n",
      "KH\n",
      "0:  |F(x)| = 0.0531745; step 1; tol 0.000246011\n",
      "1:  |F(x)| = 1.57873e-05; step 1; tol 7.93322e-08\n",
      "KH\n",
      "0:  |F(x)| = 0.055907; step 1; tol 0.000289179\n",
      "1:  |F(x)| = 1.94892e-05; step 1; tol 1.0937e-07\n",
      "KH\n",
      "0:  |F(x)| = 0.0585314; step 1; tol 0.000336711\n",
      "1:  |F(x)| = 2.38685e-05; step 1; tol 1.49663e-07\n",
      "KH\n",
      "0:  |F(x)| = 0.061094; step 1; tol 0.000389275\n",
      "1:  |F(x)| = 2.88293e-05; step 1; tol 2.00407e-07\n",
      "KH\n",
      "0:  |F(x)| = 0.0636461; step 1; tol 0.000447817\n",
      "1:  |F(x)| = 3.45786e-05; step 1; tol 2.65653e-07\n",
      "KH\n",
      "0:  |F(x)| = 0.0662489; step 1; tol 0.000513692\n",
      "1:  |F(x)| = 4.12242e-05; step 1; tol 3.48489e-07\n",
      "KH\n",
      "0:  |F(x)| = 0.068964; step 1; tol 0.000588632\n",
      "1:  |F(x)| = 4.89716e-05; step 1; tol 4.53822e-07\n",
      "KH\n",
      "0:  |F(x)| = 0.0718432; step 1; tol 0.000674608\n",
      "1:  |F(x)| = 5.80205e-05; step 1; tol 5.86994e-07\n",
      "KH\n",
      "0:  |F(x)| = 0.0748867; step 1; tol 0.000772971\n",
      "1:  |F(x)| = 6.82348e-05; step 1; tol 7.47213e-07\n",
      "KH\n",
      "0:  |F(x)| = 0.078104; step 1; tol 0.000885361\n",
      "1:  |F(x)| = 7.9895e-05; step 1; tol 9.4175e-07\n",
      "KH\n",
      "0:  |F(x)| = 0.0815627; step 1; tol 0.00101504\n",
      "1:  |F(x)| = 9.32361e-05; step 1; tol 1.17605e-06\n",
      "KH\n",
      "0:  |F(x)| = 0.0853309; step 1; tol 0.00116598\n",
      "1:  |F(x)| = 0.000108677; step 1; tol 1.45984e-06\n",
      "2:  |F(x)| = 1.49894e-09; step 1; tol 1.71213e-10\n",
      "KH\n",
      "0:  |F(x)| = 0.089433; step 1; tol 0.00134172\n",
      "1:  |F(x)| = 0.000126459; step 1; tol 1.79948e-06\n",
      "2:  |F(x)| = 2.03611e-09; step 1; tol 2.33316e-10\n",
      "KH\n",
      "0:  |F(x)| = 0.0939652; step 1; tol 0.0015484\n",
      "1:  |F(x)| = 0.000147489; step 1; tol 2.21731e-06\n",
      "2:  |F(x)| = 1.49027e-09; step 1; tol 9.18866e-11\n",
      "KH\n",
      "0:  |F(x)| = 0.0995135; step 1; tol 0.00181141\n",
      "1:  |F(x)| = 0.00017336; step 1; tol 2.73135e-06\n",
      "2:  |F(x)| = 1.45231e-09; step 1; tol 6.31631e-11\n",
      "KH\n",
      "0:  |F(x)| = 0.1054; step 1; tol 0.00211424\n",
      "1:  |F(x)| = 0.000202184; step 1; tol 3.3117e-06\n",
      "2:  |F(x)| = 1.81339e-09; step 1; tol 7.23991e-11\n",
      "KH\n",
      "0:  |F(x)| = 0.111594; step 1; tol 0.00245895\n",
      "1:  |F(x)| = 0.000240649; step 1; tol 4.18535e-06\n",
      "2:  |F(x)| = 3.19232e-09; step 1; tol 1.58375e-10\n",
      "KH\n",
      "0:  |F(x)| = 0.118504; step 1; tol 0.00286804\n",
      "1:  |F(x)| = 0.000277398; step 1; tol 4.93152e-06\n",
      "2:  |F(x)| = 2.73023e-09; step 1; tol 8.71832e-11\n",
      "KH\n",
      "0:  |F(x)| = 0.126273; step 1; tol 0.00335648\n",
      "1:  |F(x)| = 0.000328399; step 1; tol 6.08728e-06\n",
      "2:  |F(x)| = 2.97673e-09; step 1; tol 7.39463e-11\n",
      "KH\n",
      "0:  |F(x)| = 0.135079; step 1; tol 0.00394369\n",
      "1:  |F(x)| = 0.000388378; step 1; tol 7.44005e-06\n",
      "2:  |F(x)| = 4.00445e-09; step 1; tol 9.56796e-11\n",
      "KH\n",
      "0:  |F(x)| = 0.144931; step 1; tol 0.00464142\n",
      "1:  |F(x)| = 0.00044412; step 1; tol 8.45125e-06\n",
      "2:  |F(x)| = 4.40756e-09; step 1; tol 8.86418e-11\n",
      "KH\n",
      "0:  |F(x)| = 0.156012; step 1; tol 0.00547233\n",
      "1:  |F(x)| = 0.000523164; step 1; tol 1.01205e-05\n",
      "2:  |F(x)| = 6.53399e-09; step 1; tol 1.40386e-10\n",
      "KH\n",
      "0:  |F(x)| = 0.168068; step 1; tol 0.00642779\n",
      "1:  |F(x)| = 0.0006374; step 1; tol 1.29448e-05\n",
      "2:  |F(x)| = 8.31734e-09; step 1; tol 1.53245e-10\n",
      "KH\n",
      "0:  |F(x)| = 0.181659; step 1; tol 0.00755623\n",
      "1:  |F(x)| = 0.000754263; step 1; tol 1.55157e-05\n",
      "2:  |F(x)| = 1.15093e-08; step 1; tol 2.09555e-10\n",
      "KH\n",
      "0:  |F(x)| = 0.197129; step 1; tol 0.00889642\n",
      "1:  |F(x)| = 0.00090234; step 1; tol 1.88574e-05\n",
      "2:  |F(x)| = 1.49697e-08; step 1; tol 2.47703e-10\n",
      "KH\n",
      "0:  |F(x)| = 0.21666; step 1; tol 0.0106704\n",
      "1:  |F(x)| = 0.00110741; step 1; tol 2.35125e-05\n",
      "2:  |F(x)| = 2.34403e-08; step 1; tol 4.03233e-10\n",
      "KH\n",
      "0:  |F(x)| = 0.239573; step 1; tol 0.0128573\n",
      "1:  |F(x)| = 0.0013581; step 1; tol 2.89222e-05\n",
      "2:  |F(x)| = 3.57898e-08; step 1; tol 6.25021e-10\n",
      "KH\n",
      "0:  |F(x)| = 0.261413; step 1; tol 0.0149663\n",
      "1:  |F(x)| = 0.00163238; step 1; tol 3.50937e-05\n",
      "2:  |F(x)| = 5.20696e-08; step 1; tol 9.15734e-10\n",
      "KH\n",
      "0:  |F(x)| = 0.286115; step 1; tol 0.0173821\n",
      "1:  |F(x)| = 0.00196151; step 1; tol 4.23003e-05\n",
      "2:  |F(x)| = 7.82018e-08; step 1; tol 1.43052e-09\n",
      "KH\n",
      "0:  |F(x)| = 0.314006; step 1; tol 0.0201237\n",
      "1:  |F(x)| = 0.00277552; step 1; tol 7.03161e-05\n",
      "2:  |F(x)| = 1.99516e-07; step 1; tol 4.65061e-09\n",
      "KH\n",
      "0:  |F(x)| = 0.345555; step 1; tol 0.0232198\n",
      "1:  |F(x)| = 0.00327884; step 1; tol 8.10306e-05\n",
      "2:  |F(x)| = 2.70522e-07; step 1; tol 6.12642e-09\n",
      "KH\n",
      "0:  |F(x)| = 0.381035; step 1; tol 0.0266629\n",
      "1:  |F(x)| = 0.00390921; step 1; tol 9.47306e-05\n",
      "2:  |F(x)| = 3.70019e-07; step 1; tol 8.06328e-09\n",
      "KH\n",
      "0:  |F(x)| = 0.420629; step 1; tol 0.0304165\n",
      "1:  |F(x)| = 0.00469735; step 1; tol 0.000112241\n",
      "2:  |F(x)| = 5.02556e-07; step 1; tol 1.03016e-08\n",
      "KH\n",
      "0:  |F(x)| = 0.454167; step 1; tol 0.0329096\n",
      "1:  |F(x)| = 0.00567612; step 1; tol 0.000140577\n",
      "2:  |F(x)| = 6.84522e-07; step 1; tol 1.30892e-08\n",
      "KH\n",
      "0:  |F(x)| = 0.501752; step 1; tol 0.036967\n",
      "1:  |F(x)| = 0.00705823; step 1; tol 0.000178097\n",
      "2:  |F(x)| = 9.53724e-07; step 1; tol 1.64322e-08\n",
      "KH\n",
      "0:  |F(x)| = 0.56136; step 1; tol 0.0422489\n",
      "1:  |F(x)| = 0.00906978; step 1; tol 0.000234938\n",
      "2:  |F(x)| = 1.36443e-06; step 1; tol 2.03681e-08\n",
      "KH\n",
      "0:  |F(x)| = 0.630034; step 1; tol 0.0482397\n",
      "1:  |F(x)| = 0.0121133; step 1; tol 0.000332691\n",
      "2:  |F(x)| = 2.07165e-06; step 1; tol 2.63238e-08\n",
      "KH\n",
      "0:  |F(x)| = 0.709462; step 1; tol 0.0550945\n",
      "1:  |F(x)| = 0.0168944; step 1; tol 0.000510351\n",
      "2:  |F(x)| = 3.62759e-06; step 1; tol 4.14948e-08\n",
      "KH\n",
      "0:  |F(x)| = 0.801349; step 1; tol 0.062966\n",
      "1:  |F(x)| = 0.0242671; step 1; tol 0.000825343\n",
      "2:  |F(x)| = 8.58385e-06; step 1; tol 1.12608e-07\n",
      "KH\n",
      "0:  |F(x)| = 0.909036; step 1; tol 0.0722395\n",
      "1:  |F(x)| = 0.0353116; step 1; tol 0.00135804\n",
      "2:  |F(x)| = 2.93825e-05; step 1; tol 6.23142e-07\n",
      "KH\n",
      "0:  |F(x)| = 1.03493; step 1; tol 0.0830912\n",
      "1:  |F(x)| = 0.0510593; step 1; tol 0.00219064\n",
      "2:  |F(x)| = 0.000116519; step 1; tol 4.68691e-06\n",
      "KH\n",
      "0:  |F(x)| = 1.15385; step 1; tol 0.0911679\n",
      "1:  |F(x)| = 0.0723439; step 1; tol 0.00353794\n",
      "2:  |F(x)| = 0.000475635; step 1; tol 3.89034e-05\n",
      "3:  |F(x)| = 3.57633e-09; step 1; tol 5.08827e-11\n",
      "KH\n",
      "0:  |F(x)| = 1.30135; step 1; tol 0.101734\n",
      "1:  |F(x)| = 0.10108; step 1; tol 0.00542983\n",
      "2:  |F(x)| = 0.00213844; step 1; tol 0.000402817\n",
      "3:  |F(x)| = 6.32779e-08; step 1; tol 7.88049e-10\n",
      "KH\n",
      "0:  |F(x)| = 1.50116; step 1; tol 0.118007\n",
      "1:  |F(x)| = 0.135494; step 1; tol 0.00733204\n",
      "2:  |F(x)| = 0.00845939; step 1; tol 0.00350819\n",
      "3:  |F(x)| = 1.02819e-06; step 1; tol 1.32956e-08\n",
      "KH\n",
      "0:  |F(x)| = 1.73497; step 1; tol 0.136762\n",
      "1:  |F(x)| = 0.221104; step 1; tol 0.0146168\n",
      "2:  |F(x)| = 0.0719779; step 1; tol 0.0953782\n",
      "3:  |F(x)| = 0.00039012; step 1; tol 2.64387e-05\n",
      "4:  |F(x)| = 2.19635e-07; step 1; tol 2.85266e-07\n",
      "KH\n",
      "0:  |F(x)| = 2.01454; step 1; tol 0.159814\n",
      "1:  |F(x)| = 0.289154; step 1; tol 0.0185418\n",
      "2:  |F(x)| = 0.163371; step 1; tol 0.287298\n",
      "3:  |F(x)| = 0.00614241; step 1; tol 0.00127225\n",
      "4:  |F(x)| = 3.73262e-06; step 1; tol 3.32348e-07\n",
      "KH\n",
      "0:  |F(x)| = 2.35985; step 1; tol 0.190759\n",
      "1:  |F(x)| = 0.402712; step 1; tol 0.0262098\n",
      "2:  |F(x)| = 0.257057; step 1; tol 0.366703\n",
      "3:  |F(x)| = 0.0202428; step 1; tol 0.121024\n",
      "4:  |F(x)| = 6.2551e-05; step 1; tol 8.59349e-06\n",
      "KH\n",
      "0:  |F(x)| = 2.79105; step 1; tol 0.233739\n",
      "1:  |F(x)| = 0.698379; step 1; tol 0.0563494\n",
      "2:  |F(x)| = 0.451704; step 1; tol 0.376503\n",
      "3:  |F(x)| = 0.0499352; step 1; tol 0.127579\n",
      "4:  |F(x)| = 0.00319515; step 1; tol 0.00368478\n",
      "5:  |F(x)| = 0.000163934; step 1; tol 0.00236919\n",
      "6:  |F(x)| = 3.43181e-06; step 1; tol 0.000394412\n",
      "KH\n",
      "0:  |F(x)| = 3.31978; step 1; tol 0.291546\n",
      "1:  |F(x)| = 0.917877; step 1; tol 0.0688006\n",
      "2:  |F(x)| = 0.575984; step 1; tol 0.354401\n",
      "3:  |F(x)| = 0.115889; step 1; tol 0.11304\n",
      "4:  |F(x)| = 0.0919023; step 0.341624; tol 0.565991\n",
      "5:  |F(x)| = 0.0446684; step 1; tol 0.288311\n",
      "6:  |F(x)| = 0.00137486; step 1; tol 0.000852626\n"
     ]
    },
    {
     "name": "stdout",
     "output_type": "stream",
     "text": [
      "7:  |F(x)| = 3.61608e-05; step 1; tol 0.000622589\n",
      "KH\n",
      "0:  |F(x)| = 3.95865; step 1; tol 0.365561\n",
      "1:  |F(x)| = 1.16074; step 1; tol 0.120272\n",
      "2:  |F(x)| = 0.512332; step 1; tol 0.175339\n",
      "3:  |F(x)| = 0.0450569; step 1; tol 0.00696083\n",
      "4:  |F(x)| = 0.00810526; step 1; tol 0.0291242\n",
      "5:  |F(x)| = 2.14718e-06; step 1; tol 6.31603e-08\n",
      "KH\n",
      "0:  |F(x)| = 4.69146; step 1; tol 0.447972\n",
      "1:  |F(x)| = 1.31753; step 1; tol 0.180611\n",
      "2:  |F(x)| = 0.513728; step 1; tol 0.136833\n",
      "3:  |F(x)| = 0.0870129; step 1; tol 0.0258192\n",
      "4:  |F(x)| = 0.000719243; step 1; tol 6.14932e-05\n",
      "5:  |F(x)| = 2.64594e-07; step 1; tol 1.21801e-07\n",
      "KH\n"
     ]
    }
   ],
   "source": [
    "F_P = []\n",
    "density = []\n",
    "eta = np.arange(0.01, 0.6, 0.01)\n",
    "for particle_eta in eta:\n",
    "    \n",
    "    #establish particle densities\n",
    "    particle_density = 6.0*particle_eta/(np.pi*particle_diameter**3.0)\n",
    "    polymer_density = N_polymer__N_particle*particle_density\n",
    "    density.append(particle_density+polymer_density)\n",
    "    polymer_site_density = length*polymer_density\n",
    "    sys.density['particle'] = particle_density\n",
    "    sys.density['polymer_end'] = polymer_site_density*(2.0/float(length))\n",
    "    sys.density['polymer_middle'] = polymer_site_density*(float(length-2)/float(length))\n",
    "    \n",
    "    #solve for the structure\n",
    "    PRISM = sys.solve(guess=guess, method='krylov')\n",
    "    guess = np.copy(PRISM.x)\n",
    "    F_P.append(ThermodynamicsClosedForm(PRISM, default_method='HNC'))\n",
    "    \n",
    "F_P = np.array(F_P)\n",
    "density = np.array(density)"
   ]
  },
  {
   "cell_type": "code",
   "execution_count": 238,
   "metadata": {},
   "outputs": [],
   "source": [
    "def P_num(f, d, rho):\n",
    "    fr = f[:-1]\n",
    "    ff = f[1:]\n",
    "    favg = (fr+ff)/2.0\n",
    "    rhor = rho[:-1]\n",
    "    rhof = rho[1:]\n",
    "    rhoavg = (rhor+rhof)/2.0\n",
    "    P_num = -favg/rhoavg + ((ff-fr)/(rhof-rhor))\n",
    "    return P_num"
   ]
  },
  {
   "cell_type": "code",
   "execution_count": 239,
   "metadata": {},
   "outputs": [],
   "source": [
    "eta_avg = (eta[1:]+eta[:-1])/2.0"
   ]
  },
  {
   "cell_type": "code",
   "execution_count": 240,
   "metadata": {},
   "outputs": [],
   "source": [
    "f = F_P[:,0]\n",
    "p = F_P[:,1]/density\n",
    "p_num = P_num(f, d=particle_diameter, rho=density)"
   ]
  },
  {
   "cell_type": "code",
   "execution_count": 228,
   "metadata": {},
   "outputs": [
    {
     "data": {
      "text/plain": [
       "[<matplotlib.lines.Line2D at 0xe498278>]"
      ]
     },
     "execution_count": 228,
     "metadata": {},
     "output_type": "execute_result"
    },
    {
     "data": {
      "image/png": "[encoded data removed]",
      "text/plain": [
       "<matplotlib.figure.Figure at 0xe4981d0>"
      ]
     },
     "metadata": {},
     "output_type": "display_data"
    }
   ],
   "source": [
    "plt.plot(eta, p)\n",
    "plt.plot(eta_avg, p_num)"
   ]
  },
  {
   "cell_type": "code",
   "execution_count": 241,
   "metadata": {},
   "outputs": [
    {
     "data": {
      "text/plain": [
       "[<matplotlib.lines.Line2D at 0xf5e3eb8>]"
      ]
     },
     "execution_count": 241,
     "metadata": {},
     "output_type": "execute_result"
    },
    {
     "data": {
      "image/png": "[encoded data removed]",
      "text/plain": [
       "<matplotlib.figure.Figure at 0xf5e3b00>"
      ]
     },
     "metadata": {},
     "output_type": "display_data"
    }
   ],
   "source": [
    "plt.plot(eta, p)\n",
    "plt.plot(eta_avg, p_num)"
   ]
  },
  {
   "cell_type": "code",
   "execution_count": 247,
   "metadata": {},
   "outputs": [
    {
     "data": {
      "text/plain": [
       "[<matplotlib.lines.Line2D at 0xe5079b0>]"
      ]
     },
     "execution_count": 247,
     "metadata": {},
     "output_type": "execute_result"
    },
    {
     "data": {
      "image/png": "[encoded data removed]",
      "text/plain": [
       "<matplotlib.figure.Figure at 0x15d223c8>"
      ]
     },
     "metadata": {},
     "output_type": "display_data"
    }
   ],
   "source": [
    "plt.plot(eta, F_P[:,0]/F_P[:,1])\n",
    "#plt.plot(eta, F_P[:,1])\n",
    "#plt.ylim(0,0.2)"
   ]
  },
  {
   "cell_type": "markdown",
   "metadata": {},
   "source": [
    "___\n",
    "___\n",
    "\n",
    "\n"
   ]
  },
  {
   "cell_type": "code",
   "execution_count": null,
   "metadata": {},
   "outputs": [],
   "source": []
  },
  {
   "cell_type": "code",
   "execution_count": null,
   "metadata": {},
   "outputs": [],
   "source": []
  },
  {
   "cell_type": "code",
   "execution_count": null,
   "metadata": {},
   "outputs": [],
   "source": []
  },
  {
   "cell_type": "code",
   "execution_count": 23,
   "metadata": {},
   "outputs": [
    {
     "data": {
      "text/plain": [
       "array(1.)"
      ]
     },
     "execution_count": 23,
     "metadata": {},
     "output_type": "execute_result"
    }
   ],
   "source": [
    "sys.omega['particle','particle'].calculate(0.0001)"
   ]
  },
  {
   "cell_type": "code",
   "execution_count": 24,
   "metadata": {},
   "outputs": [
    {
     "data": {
      "text/plain": [
       "array(1.99999998)"
      ]
     },
     "execution_count": 24,
     "metadata": {},
     "output_type": "execute_result"
    }
   ],
   "source": [
    "sys.omega['polymer_end','polymer_end'].calculate(0.0001)"
   ]
  },
  {
   "cell_type": "code",
   "execution_count": 25,
   "metadata": {},
   "outputs": [
    {
     "data": {
      "text/plain": [
       "array(7.99999995)"
      ]
     },
     "execution_count": 25,
     "metadata": {},
     "output_type": "execute_result"
    }
   ],
   "source": [
    "sys.omega['polymer_middle','polymer_middle'].calculate(0.0001)"
   ]
  },
  {
   "cell_type": "code",
   "execution_count": 63,
   "metadata": {},
   "outputs": [
    {
     "data": {
      "text/plain": [
       "array([[[6.11154981e-03, 6.11154987e-03, 6.11154983e-03],\n",
       "        [6.11154987e-03, 5.37816384e-11, 6.72270480e-11],\n",
       "        [6.11154983e-03, 6.72270480e-11, 1.34454096e-11]]])"
      ]
     },
     "execution_count": 63,
     "metadata": {},
     "output_type": "execute_result"
    }
   ],
   "source": [
    "PRISM.sys.density.site.data"
   ]
  },
  {
   "cell_type": "code",
   "execution_count": 108,
   "metadata": {},
   "outputs": [
    {
     "data": {
      "text/plain": [
       "array([1.12781495, 1.6012601 ])"
      ]
     },
     "execution_count": 108,
     "metadata": {},
     "output_type": "execute_result"
    }
   ],
   "source": [
    "np.array(ExcessFreeEnergy(PRISM))/PRISM.sys.density.total"
   ]
  },
  {
   "cell_type": "code",
   "execution_count": 287,
   "metadata": {},
   "outputs": [],
   "source": [
    "def CS(n):\n",
    "    return ((4.0*n-3.0*n*n)/(1.0-n)**2)"
   ]
  },
  {
   "cell_type": "code",
   "execution_count": 288,
   "metadata": {},
   "outputs": [
    {
     "data": {
      "text/plain": [
       "4.000050000600007e-05"
      ]
     },
     "execution_count": 288,
     "metadata": {},
     "output_type": "execute_result"
    }
   ],
   "source": [
    "CS(0.00001)"
   ]
  },
  {
   "cell_type": "code",
   "execution_count": 93,
   "metadata": {},
   "outputs": [],
   "source": [
    "def P(n):\n",
    "    return (1.0+n+n**2.-n**3.)/(1.0-n)**3.0 - 1.0"
   ]
  },
  {
   "cell_type": "code",
   "execution_count": 112,
   "metadata": {},
   "outputs": [
    {
     "data": {
      "text/plain": [
       "1.4062499999999996"
      ]
     },
     "execution_count": 112,
     "metadata": {},
     "output_type": "execute_result"
    }
   ],
   "source": [
    "P(0.2)"
   ]
  },
  {
   "cell_type": "code",
   "execution_count": null,
   "metadata": {},
   "outputs": [],
   "source": [
    "PRISM.sys"
   ]
  },
  {
   "cell_type": "code",
   "execution_count": null,
   "metadata": {},
   "outputs": [],
   "source": []
  },
  {
   "cell_type": "code",
   "execution_count": null,
   "metadata": {},
   "outputs": [],
   "source": []
  },
  {
   "cell_type": "code",
   "execution_count": null,
   "metadata": {},
   "outputs": [],
   "source": []
  },
  {
   "cell_type": "code",
   "execution_count": 816,
   "metadata": {},
   "outputs": [
    {
     "data": {
      "text/plain": [
       "True"
      ]
     },
     "execution_count": 816,
     "metadata": {},
     "output_type": "execute_result"
    }
   ],
   "source": [
    "type(PRISM.sys.closure['particle','polymer_middle']) == type(KovalenkoHirata())"
   ]
  },
  {
   "cell_type": "code",
   "execution_count": 58,
   "metadata": {},
   "outputs": [],
   "source": [
    "def P(n):\n",
    "    return (1.0+n+n**2-n**3)/(1.0-n)**3.0"
   ]
  },
  {
   "cell_type": "code",
   "execution_count": 76,
   "metadata": {},
   "outputs": [
    {
     "data": {
      "text/plain": [
       "1.5212620027434842"
      ]
     },
     "execution_count": 76,
     "metadata": {},
     "output_type": "execute_result"
    }
   ],
   "source": [
    "P(0.1)"
   ]
  },
  {
   "cell_type": "code",
   "execution_count": 48,
   "metadata": {},
   "outputs": [],
   "source": [
    "k = sys.domain.k\n",
    "I = pyPRISM.IdentityMatrixArray(length=len(sys.domain.k), rank=3, types=sys.types, space=pyPRISM.Space.Fourier)\n",
    "Ck = PRISM.directCorr\n",
    "Wk = PRISM.omega\n",
    "tr_WkCk = np.trace(Wk.dot(Ck).data, axis1=1, axis2=2)\n",
    "lndet_WkCk = np.log( np.linalg.det( (I-Wk.dot(Ck)).data ) )\n",
    "F_ex_k = -4.0*np.pi/(2.0*(2.0*np.pi)**3)*np.trapz(k*k*(tr_WkCk + lndet_WkCk), k)"
   ]
  },
  {
   "cell_type": "code",
   "execution_count": 49,
   "metadata": {},
   "outputs": [],
   "source": [
    "from copy import deepcopy"
   ]
  },
  {
   "cell_type": "code",
   "execution_count": 50,
   "metadata": {},
   "outputs": [],
   "source": [
    "r = sys.domain.r\n",
    "Cr = deepcopy(Ck)\n",
    "sys.domain.MatrixArray_to_real(Cr)\n",
    "p = np.diag(np.diag(sys.density.site.data[0]))\n",
    "Hr = PRISM.totalCorr\n",
    "structure = ((1.0/2.0)*(Hr*Hr).data*np.heaviside(-Hr.data, 0) - Cr.data)\n",
    "kernel_r = np.sum(np.matmul(np.matmul(p, structure), p), axis=(1,2))\n",
    "F_ex_r = (4.0*np.pi/2.0)*np.trapz(r*r*kernel_r, r)"
   ]
  },
  {
   "cell_type": "code",
   "execution_count": 51,
   "metadata": {},
   "outputs": [
    {
     "name": "stdout",
     "output_type": "stream",
     "text": [
      "0.07593789425862679\n",
      "0.05186935437474227\n",
      "0.02406853988388452\n"
     ]
    }
   ],
   "source": [
    "print F_ex_r \n",
    "print F_ex_k\n",
    "print F_ex_r - F_ex_k"
   ]
  },
  {
   "cell_type": "code",
   "execution_count": 54,
   "metadata": {},
   "outputs": [
    {
     "name": "stdout",
     "output_type": "stream",
     "text": [
      "[-9.57867439e-01 -9.56554119e-01 -9.54215971e-01 ...  4.21616959e-08\n",
      "  5.58464540e-08  6.06266928e-08]\n"
     ]
    },
    {
     "data": {
      "text/plain": [
       "(0.02406853988388452, 0.09374076122401831)"
      ]
     },
     "execution_count": 54,
     "metadata": {},
     "output_type": "execute_result"
    }
   ],
   "source": [
    "ExcessFreeEnergy(PRISM)"
   ]
  },
  {
   "cell_type": "code",
   "execution_count": null,
   "metadata": {},
   "outputs": [],
   "source": []
  },
  {
   "cell_type": "code",
   "execution_count": null,
   "metadata": {},
   "outputs": [],
   "source": []
  },
  {
   "cell_type": "code",
   "execution_count": null,
   "metadata": {},
   "outputs": [],
   "source": []
  },
  {
   "cell_type": "code",
   "execution_count": 38,
   "metadata": {},
   "outputs": [],
   "source": [
    "def CS(n):\n",
    "    return ((4.0*n-3.0*n*n)/(1.0-n)**2)"
   ]
  },
  {
   "cell_type": "code",
   "execution_count": 77,
   "metadata": {},
   "outputs": [
    {
     "data": {
      "text/plain": [
       "1.0624999999999998"
      ]
     },
     "execution_count": 77,
     "metadata": {},
     "output_type": "execute_result"
    }
   ],
   "source": [
    "CS(0.2)"
   ]
  },
  {
   "cell_type": "code",
   "execution_count": null,
   "metadata": {},
   "outputs": [],
   "source": []
  }
 ],
 "metadata": {
  "kernelspec": {
   "display_name": "Python 2",
   "language": "python",
   "name": "python2"
  },
  "language_info": {
   "codemirror_mode": {
    "name": "ipython",
    "version": 2
   },
   "file_extension": ".py",
   "mimetype": "text/x-python",
   "name": "python",
   "nbconvert_exporter": "python",
   "pygments_lexer": "ipython2",
   "version": "2.7.14"
  }
 },
 "nbformat": 4,
 "nbformat_minor": 2
}
