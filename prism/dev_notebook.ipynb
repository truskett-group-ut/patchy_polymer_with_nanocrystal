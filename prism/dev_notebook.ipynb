{
 "cells": [
  {
   "cell_type": "markdown",
   "metadata": {},
   "source": [
    "# Polymer + particle mixture using pyPRISM"
   ]
  },
  {
   "cell_type": "code",
   "execution_count": 1,
   "metadata": {},
   "outputs": [],
   "source": [
    "import pyPRISM\n",
    "import matplotlib.pyplot as plt\n",
    "from custom_prism_tools.DiscreteKoyamaPartitioned import DiscreteKoyamaPartitioned\n",
    "from custom_prism_tools.DiscreteKoyama import DiscreteKoyama\n",
    "from custom_prism_tools.KovalenkoHirata import KovalenkoHirata\n",
    "from custom_prism_tools.ShiftedWeeksChandlerAnderson import ShiftedWeeksChandlerAnderson\n",
    "from custom_prism_tools.ThermodynamicsClosedForm import ThermodynamicsClosedForm\n",
    "import numpy as np"
   ]
  },
  {
   "cell_type": "markdown",
   "metadata": {},
   "source": [
    "## Tunable parameters"
   ]
  },
  {
   "cell_type": "code",
   "execution_count": 12,
   "metadata": {},
   "outputs": [],
   "source": [
    "#parameters to set\n",
    "length = 10\n",
    "particle_eta = 0.01\n",
    "N_polymer__N_particle = 1.0\n",
    "particle_diameter = 5.0\n",
    "polymer_site_diameter = 1.0\n",
    "bond_length = 0.97\n",
    "persistence_length = 4./3.\n",
    "epsilon = 1.0\n",
    "length_scale = polymer_site_diameter"
   ]
  },
  {
   "cell_type": "code",
   "execution_count": 13,
   "metadata": {},
   "outputs": [],
   "source": [
    "#dependent parameters\n",
    "particle_density = 6.0*particle_eta/(np.pi*particle_diameter**3.0)\n",
    "polymer_density = N_polymer__N_particle*particle_density\n",
    "polymer_site_density = length*polymer_density"
   ]
  },
  {
   "cell_type": "code",
   "execution_count": 14,
   "metadata": {
    "scrolled": true
   },
   "outputs": [
    {
     "name": "stdout",
     "output_type": "stream",
     "text": [
      "0:  |F(x)| = 0.0192138; step 1; tol 2.28645e-05\n",
      "1:  |F(x)| = 2.15168e-06; step 1; tol 1.12868e-08\n"
     ]
    }
   ],
   "source": [
    "# The system holds all information needed to set up a PRISM problem. We\n",
    "# instantiate the system by specifying the site types and thermal energy\n",
    "# level (kT, coarse-grained temperature) of the system.\n",
    "sys = pyPRISM.System(['particle','polymer_middle','polymer_end'], kT=1.0)\n",
    "\n",
    "# We must discretize Real and Fourier space\n",
    "sys.domain = pyPRISM.Domain(dr=0.01,length=4096)\n",
    "\n",
    "# The composition of the system is desribed via number densities\n",
    "sys.density['particle'] = particle_density\n",
    "sys.density['polymer_end']  = polymer_site_density*(2.0/float(length))\n",
    "sys.density['polymer_middle']  = polymer_site_density*(float(length-2)/float(length))\n",
    "\n",
    "# The diameter of each site is specified (in reduced units)\n",
    "sys.diameter['particle'] = particle_diameter\n",
    "sys.diameter['polymer_end'] = polymer_site_diameter\n",
    "sys.diameter['polymer_middle'] = polymer_site_diameter\n",
    "\n",
    "# The molecular structure is described via intra-molecular correlation\n",
    "# functions (i.e. omegas)\n",
    "sys.omega['particle','particle'] = pyPRISM.omega.SingleSite()\n",
    "sys.omega['particle','polymer_end'] = pyPRISM.omega.InterMolecular()\n",
    "sys.omega['particle','polymer_middle'] = pyPRISM.omega.InterMolecular()\n",
    "sys.omega['polymer_end','polymer_end'] = DiscreteKoyamaPartitioned(sigma=polymer_site_diameter, \n",
    "                                                                   l=bond_length, \n",
    "                                                                   length=length, \n",
    "                                                                   lp=persistence_length, \n",
    "                                                                   types=('end','end'))\n",
    "sys.omega['polymer_middle','polymer_middle'] = DiscreteKoyamaPartitioned(sigma=polymer_site_diameter, \n",
    "                                                                         l=bond_length, \n",
    "                                                                         length=length, \n",
    "                                                                         lp=persistence_length, \n",
    "                                                                         types=('middle','middle'))\n",
    "sys.omega['polymer_end','polymer_middle'] = DiscreteKoyamaPartitioned(sigma=polymer_site_diameter, \n",
    "                                                                      l=bond_length, \n",
    "                                                                      length=length, \n",
    "                                                                      lp=persistence_length, \n",
    "                                                                      types=('end','middle'))\n",
    "\n",
    "# The site-site interactions are specified via classes which are lazily\n",
    "# evaluated during the PRISM-object creation\n",
    "particle_polymer_cross_diameter = (particle_diameter + polymer_site_diameter)/2.0\n",
    "\n",
    "sys.potential['particle','particle'] = ShiftedWeeksChandlerAnderson(epsilon=epsilon, \n",
    "                                                                    length_scale=length_scale,\n",
    "                                                                    sigma=particle_diameter)\n",
    "sys.potential['particle','polymer_end'] = ShiftedWeeksChandlerAnderson(epsilon=epsilon, \n",
    "                                                                       length_scale=length_scale,\n",
    "                                                                       sigma=particle_polymer_cross_diameter)\n",
    "sys.potential['particle','polymer_middle'] = ShiftedWeeksChandlerAnderson(epsilon=epsilon, \n",
    "                                                                          length_scale=length_scale,\n",
    "                                                                          sigma=particle_polymer_cross_diameter)\n",
    "sys.potential['polymer_end','polymer_end'] = ShiftedWeeksChandlerAnderson(epsilon=epsilon, \n",
    "                                                                          length_scale=length_scale,\n",
    "                                                                          sigma=polymer_site_diameter)\n",
    "sys.potential['polymer_middle','polymer_middle'] = ShiftedWeeksChandlerAnderson(epsilon=epsilon, \n",
    "                                                                                length_scale=length_scale,\n",
    "                                                                                sigma=polymer_site_diameter)\n",
    "sys.potential['polymer_end','polymer_middle'] = ShiftedWeeksChandlerAnderson(epsilon=epsilon, \n",
    "                                                                             length_scale=length_scale,\n",
    "                                                                             sigma=polymer_site_diameter)\n",
    "\n",
    "\n",
    "#sys.potential['particle','particle'] = pyPRISM.potential.HardSphere(sigma=particle_diameter)\n",
    "#sys.potential['particle','polymer_end'] = pyPRISM.potential.HardSphere(sigma=(particle_diameter + polymer_site_diameter)/2.0)\n",
    "#sys.potential['particle','polymer_middle'] = pyPRISM.potential.HardSphere(sigma=(particle_diameter + polymer_site_diameter)/2.0)\n",
    "#sys.potential['polymer_end','polymer_end'] = pyPRISM.potential.HardSphere(sigma=polymer_site_diameter)\n",
    "#sys.potential['polymer_middle','polymer_middle'] = pyPRISM.potential.HardSphere(sigma=polymer_site_diameter)\n",
    "#sys.potential['polymer_end','polymer_middle'] = pyPRISM.potential.HardSphere(sigma=polymer_site_diameter)\n",
    "\n",
    "\n",
    "# Closure approximations are also specified via classes\n",
    "sys.closure['particle','particle'] = KovalenkoHirata()\n",
    "sys.closure['particle','polymer_end'] = KovalenkoHirata()\n",
    "sys.closure['particle','polymer_middle'] = KovalenkoHirata()\n",
    "sys.closure['polymer_end','polymer_end'] = KovalenkoHirata()\n",
    "sys.closure['polymer_middle','polymer_middle'] = KovalenkoHirata()\n",
    "sys.closure['polymer_end','polymer_middle'] = KovalenkoHirata()\n",
    "\n",
    "# Calling the .solve() method of the system object attempts to numerically\n",
    "# solv the PRISM equation and, if successful, it returns a PRISM object\n",
    "# containing all of the solved correlation functions.\n",
    "PRISM = sys.solve(guess=guess, method='krylov')\n",
    "\n",
    "# Calculate the pair-correlation functions.\n",
    "rdf = pyPRISM.calculate.pair_correlation(PRISM)\n"
   ]
  },
  {
   "cell_type": "code",
   "execution_count": 11,
   "metadata": {},
   "outputs": [],
   "source": [
    "guess = np.copy(PRISM.x)"
   ]
  },
  {
   "cell_type": "code",
   "execution_count": 267,
   "metadata": {},
   "outputs": [],
   "source": [
    "rdf = pyPRISM.calculate.pair_correlation(PRISM)"
   ]
  },
  {
   "cell_type": "code",
   "execution_count": 15,
   "metadata": {},
   "outputs": [
    {
     "data": {
      "image/png": "[encoded data removed]",
      "text/plain": [
       "<matplotlib.figure.Figure at 0xac54550>"
      ]
     },
     "metadata": {},
     "output_type": "display_data"
    }
   ],
   "source": [
    "# Plot the results using matplotlib\n",
    "plt.plot(sys.domain.r,rdf['particle','particle'],color='gold',lw=1.25,ls='-')\n",
    "plt.plot(sys.domain.r,rdf['particle','polymer_end'],color='red',lw=3,ls='-')\n",
    "plt.plot(sys.domain.r,rdf['particle','polymer_middle'],color='blue',lw=3,ls='-')\n",
    "plt.plot(sys.domain.r,rdf['polymer_end','polymer_end'],color='green',lw=1.25,ls='-')\n",
    "plt.plot(sys.domain.r,rdf['polymer_middle','polymer_middle'],color='purple',lw=1.25,ls='-')\n",
    "plt.plot(sys.domain.r,rdf['polymer_end','polymer_middle'],color='orange',lw=1.25,ls='-')\n",
    "plt.ylabel('pair correlation')\n",
    "plt.xlabel('separation distance')\n",
    "plt.xlim(0,15)\n",
    "plt.ylim(0,3)\n",
    "plt.show()"
   ]
  },
  {
   "cell_type": "code",
   "execution_count": null,
   "metadata": {},
   "outputs": [],
   "source": []
  },
  {
   "cell_type": "code",
   "execution_count": null,
   "metadata": {},
   "outputs": [],
   "source": []
  },
  {
   "cell_type": "code",
   "execution_count": null,
   "metadata": {},
   "outputs": [],
   "source": []
  },
  {
   "cell_type": "code",
   "execution_count": null,
   "metadata": {},
   "outputs": [],
   "source": []
  },
  {
   "cell_type": "code",
   "execution_count": null,
   "metadata": {},
   "outputs": [],
   "source": []
  },
  {
   "cell_type": "markdown",
   "metadata": {},
   "source": [
    "# Some tests..."
   ]
  },
  {
   "cell_type": "markdown",
   "metadata": {},
   "source": [
    "## Testing free energy for HS"
   ]
  },
  {
   "cell_type": "code",
   "execution_count": 93,
   "metadata": {
    "scrolled": true
   },
   "outputs": [
    {
     "name": "stdout",
     "output_type": "stream",
     "text": [
      "0.01\n",
      "0:  |F(x)| = 5.07276e-13; step 1; tol 7.74786e-12\n",
      "(9.432884094158487e-06, -3.204771179667925e-06)\n",
      "0.02\n",
      "0:  |F(x)| = 0.0247624; step 1; tol 4.26903e-05\n",
      "1:  |F(x)| = 3.30123e-06; step 1; tol 1.5996e-08\n",
      "(3.874738716587589e-05, -1.3487027247290204e-05)\n",
      "0.03\n",
      "0:  |F(x)| = 0.0266646; step 1; tol 5.29248e-05\n",
      "1:  |F(x)| = 3.35503e-06; step 1; tol 1.42484e-08\n",
      "(8.9618148988119e-05, -3.193863995422402e-05)\n",
      "0.04\n",
      "0:  |F(x)| = 0.028589; step 1; tol 6.49717e-05\n",
      "1:  |F(x)| = 3.5635e-06; step 1; tol 1.39829e-08\n",
      "(0.0001639355350803187, -5.978250151614502e-05)\n",
      "0.05\n",
      "0:  |F(x)| = 0.0304492; step 1; tol 7.86164e-05\n",
      "1:  |F(x)| = 3.91351e-06; step 1; tol 1.4867e-08\n",
      "(0.00026382578195680923, -9.83877536492165e-05)\n",
      "0.060000000000000005\n",
      "0:  |F(x)| = 0.0322132; step 1; tol 9.37474e-05\n",
      "1:  |F(x)| = 4.43339e-06; step 1; tol 1.7047e-08\n",
      "(0.0003916736737344092, -0.00014928685019767804)\n",
      "0.06999999999999999\n",
      "0:  |F(x)| = 0.0338577; step 1; tol 0.000110212\n",
      "1:  |F(x)| = 5.09092e-06; step 1; tol 2.0348e-08\n",
      "(0.0005501480446585512, -0.0002141947076219748)\n",
      "0.08\n",
      "0:  |F(x)| = 0.0354046; step 1; tol 0.000128101\n",
      "1:  |F(x)| = 5.91564e-06; step 1; tol 2.51262e-08\n",
      "(0.0007422304513294775, -0.0002950302113252727)\n",
      "0.09\n",
      "0:  |F(x)| = 0.0368678; step 1; tol 0.000147483\n",
      "1:  |F(x)| = 6.87214e-06; step 1; tol 3.12703e-08\n",
      "(0.0009712474147057997, -0.00039394039883949703)\n",
      "0.09999999999999999\n",
      "0:  |F(x)| = 0.0382693; step 1; tol 0.000168521\n",
      "1:  |F(x)| = 8.00109e-06; step 1; tol 3.93404e-08\n",
      "(0.0012409066942015452, -0.0005133276773606143)\n",
      "0.11\n",
      "0:  |F(x)| = 0.0396178; step 1; tol 0.000191307\n",
      "1:  |F(x)| = 9.35338e-06; step 1; tol 5.01647e-08\n",
      "(0.0015553381204371083, -0.0006558804979285515)\n",
      "0.12\n",
      "0:  |F(x)| = 0.0409334; step 1; tol 0.000216068\n",
      "1:  |F(x)| = 1.08217e-05; step 1; tol 6.29035e-08\n",
      "(0.0019191396062438082, -0.0008246079464188474)\n",
      "0.13\n",
      "0:  |F(x)| = 0.0415729; step 1; tol 0.000235514\n",
      "1:  |F(x)| = 1.2092e-05; step 1; tol 7.61412e-08\n",
      "(0.0023374290403599903, -0.0010228788170857871)\n",
      "0.14\n",
      "0:  |F(x)| = 0.0426919; step 1; tol 0.000262129\n",
      "1:  |F(x)| = 1.39441e-05; step 1; tol 9.60142e-08\n",
      "(0.0028159027913421705, -0.0012544657223630701)\n",
      "0.15000000000000002\n",
      "0:  |F(x)| = 0.0438272; step 1; tol 0.0002912\n",
      "1:  |F(x)| = 1.60988e-05; step 1; tol 1.21435e-07\n",
      "(0.0033609019202690154, -0.0015235950769824573)\n",
      "0.16\n",
      "0:  |F(x)| = 0.045017; step 1; tol 0.000323422\n",
      "1:  |F(x)| = 1.85212e-05; step 1; tol 1.52345e-07\n",
      "(0.003979486953470516, -0.0018350036373009884)\n",
      "0.17\n",
      "0:  |F(x)| = 0.0462933; step 1; tol 0.000359559\n",
      "1:  |F(x)| = 2.13255e-05; step 1; tol 1.90988e-07\n",
      "(0.004679522507730291, -0.002194002583951194)\n",
      "0.18000000000000002\n",
      "0:  |F(x)| = 0.0476622; step 1; tol 0.000400103\n",
      "1:  |F(x)| = 2.45427e-05; step 1; tol 2.38638e-07\n",
      "(0.005469773176852383, -0.0026065502503306395)\n",
      "0.19\n",
      "0:  |F(x)| = 0.049116; step 1; tol 0.000445349\n",
      "1:  |F(x)| = 2.81552e-05; step 1; tol 2.95744e-07\n",
      "(0.006360012234143775, -0.003079334714473151)\n",
      "0.2\n",
      "0:  |F(x)| = 0.0507077; step 1; tol 0.000496753\n",
      "1:  |F(x)| = 3.23242e-05; step 1; tol 3.65723e-07\n",
      "(0.007361144916354867, -0.003619867651380537)\n",
      "0.21000000000000002\n",
      "0:  |F(x)| = 0.0524672; step 1; tol 0.000555608\n",
      "1:  |F(x)| = 3.70725e-05; step 1; tol 4.49334e-07\n",
      "(0.008485348569759908, -0.004236591240329316)\n",
      "0.22\n",
      "0:  |F(x)| = 0.0543842; step 1; tol 0.000622507\n",
      "1:  |F(x)| = 4.26505e-05; step 1; tol 5.53533e-07\n",
      "(0.009746231783731678, -0.004938999845167388)\n",
      "0.23\n",
      "0:  |F(x)| = 0.0565641; step 1; tol 0.000700849\n",
      "1:  |F(x)| = 4.91351e-05; step 1; tol 6.79116e-07\n",
      "(0.011159015789225506, -0.0057377790808172)\n",
      "0.24000000000000002\n",
      "0:  |F(x)| = 0.0589234; step 1; tol 0.000789809\n",
      "1:  |F(x)| = 5.6559e-05; step 1; tol 8.29222e-07\n",
      "(0.012740740812873415, -0.006644964471130435)\n",
      "0.25\n",
      "0:  |F(x)| = 0.0614781; step 1; tol 0.000890754\n",
      "1:  |F(x)| = 6.53097e-05; step 1; tol 1.01568e-06\n",
      "(0.014510501577000911, -0.007674123114225986)\n",
      "0.26\n",
      "0:  |F(x)| = 0.0644695; step 1; tol 0.00101216\n",
      "1:  |F(x)| = 7.57947e-05; step 1; tol 1.24397e-06\n",
      "(0.01648971643566057, -0.008840562040230671)\n",
      "0.27\n",
      "0:  |F(x)| = 0.0678639; step 1; tol 0.00115546\n",
      "1:  |F(x)| = 8.83797e-05; step 1; tol 1.52641e-06\n",
      "(0.01870243461385362, -0.01016156706462579)\n",
      "0.28\n",
      "0:  |F(x)| = 0.0718855; step 1; tol 0.00133127\n",
      "1:  |F(x)| = 0.000102555; step 1; tol 1.83178e-06\n",
      "(0.021175689430854586, -0.011656678680120476)\n",
      "0.29000000000000004\n",
      "0:  |F(x)| = 0.07601; step 1; tol 0.00152274\n",
      "1:  |F(x)| = 0.000118801; step 1; tol 2.19858e-06\n",
      "2:  |F(x)| = 9.76504e-10; step 1; tol 6.08064e-11\n",
      "(0.023939955022766104, -0.013348055838503008)\n",
      "0.3\n",
      "0:  |F(x)| = 0.0806895; step 1; tol 0.00174839\n",
      "1:  |F(x)| = 0.000137715; step 1; tol 2.62162e-06\n",
      "2:  |F(x)| = 1.28609e-09; step 1; tol 7.84919e-11\n",
      "(0.027029408641939694, -0.015260663718118421)\n",
      "0.31\n",
      "0:  |F(x)| = 0.0860543; step 1; tol 0.00201673\n",
      "1:  |F(x)| = 0.000162611; step 1; tol 3.21365e-06\n",
      "2:  |F(x)| = 1.15226e-09; step 1; tol 4.51897e-11\n",
      "(0.0304827495674294, -0.017422948515849693)\n",
      "0.32\n",
      "0:  |F(x)| = 0.0920438; step 1; tol 0.00232778\n",
      "1:  |F(x)| = 0.000190839; step 1; tol 3.86891e-06\n",
      "2:  |F(x)| = 1.29289e-09; step 1; tol 4.13079e-11\n",
      "(0.034343636589769536, -0.019867170011264125)\n",
      "0.33\n",
      "0:  |F(x)| = 0.0988093; step 1; tol 0.00269087\n",
      "1:  |F(x)| = 0.000224383; step 1; tol 4.64117e-06\n",
      "2:  |F(x)| = 1.70121e-09; step 1; tol 5.1734e-11\n",
      "(0.03866144458307064, -0.022630009793594395)\n",
      "0.34\n",
      "0:  |F(x)| = 0.106337; step 1; tol 0.00310613\n",
      "1:  |F(x)| = 0.000265181; step 1; tol 5.59708e-06\n",
      "2:  |F(x)| = 2.94043e-09; step 1; tol 1.10657e-10\n",
      "(0.04349209159408404, -0.02575323630010957)\n",
      "0.35000000000000003\n",
      "0:  |F(x)| = 0.114931; step 1; tol 0.00359095\n",
      "1:  |F(x)| = 0.000313429; step 1; tol 6.69335e-06\n",
      "2:  |F(x)| = 2.99294e-09; step 1; tol 8.20656e-11\n",
      "(0.0488989999965523, -0.029284481789435678)\n",
      "0.36000000000000004\n",
      "0:  |F(x)| = 0.124365; step 1; tol 0.00412882\n",
      "1:  |F(x)| = 0.000372242; step 1; tol 8.06297e-06\n",
      "2:  |F(x)| = 3.40696e-09; step 1; tol 7.53922e-11\n",
      "(0.05495421622580678, -0.03327815232042649)\n",
      "0.37\n",
      "0:  |F(x)| = 0.135439; step 1; tol 0.00476793\n",
      "1:  |F(x)| = 0.00044424; step 1; tol 9.6825e-06\n",
      "2:  |F(x)| = 4.35543e-09; step 1; tol 8.65105e-11\n",
      "(0.061739719285909905, -0.0377964968578097)\n",
      "0.38\n",
      "0:  |F(x)| = 0.148337; step 1; tol 0.00551787\n",
      "1:  |F(x)| = 0.000532654; step 1; tol 1.16047e-05\n",
      "2:  |F(x)| = 5.87149e-09; step 1; tol 1.09357e-10\n",
      "(0.06934895320215169, -0.042910867245427184)\n",
      "0.39\n",
      "0:  |F(x)| = 0.164257; step 1; tol 0.00646397\n",
      "1:  |F(x)| = 0.00064131; step 1; tol 1.37193e-05\n",
      "2:  |F(x)| = 6.94185e-09; step 1; tol 1.05453e-10\n",
      "(0.07788862851105213, -0.04870320981516923)\n",
      "0.4\n",
      "0:  |F(x)| = 0.180585; step 1; tol 0.007388\n",
      "1:  |F(x)| = 0.000775056; step 1; tol 1.65784e-05\n",
      "2:  |F(x)| = 9.88538e-09; step 1; tol 1.46407e-10\n",
      "(0.08748084612864968, -0.05526783923099171)\n",
      "0.41000000000000003\n",
      "0:  |F(x)| = 0.197985; step 1; tol 0.00830823\n",
      "1:  |F(x)| = 0.000941056; step 1; tol 2.03334e-05\n",
      "2:  |F(x)| = 1.38624e-08; step 1; tol 1.95293e-10\n",
      "(0.09826561058596858, -0.06271355601019911)\n",
      "0.42000000000000004\n",
      "0:  |F(x)| = 0.217816; step 1; tol 0.0093074\n",
      "1:  |F(x)| = 0.00114738; step 1; tol 2.49736e-05\n",
      "2:  |F(x)| = 2.00821e-08; step 1; tol 2.75703e-10\n",
      "(0.11040381461726997, -0.07116617546058268)\n",
      "0.43\n",
      "0:  |F(x)| = 0.240343; step 1; tol 0.0103768\n",
      "1:  |F(x)| = 0.00140495; step 1; tol 3.07539e-05\n",
      "2:  |F(x)| = 2.91316e-08; step 1; tol 3.86948e-10\n",
      "(0.12408079258649626, -0.08077153259390396)\n",
      "0.44\n",
      "0:  |F(x)| = 0.265628; step 1; tol 0.0114843\n",
      "1:  |F(x)| = 0.00173805; step 1; tol 3.85321e-05\n",
      "2:  |F(x)| = 4.49895e-08; step 1; tol 6.0303e-10\n",
      "(0.13951056172121237, -0.09169902569881896)\n",
      "0.45\n",
      "0:  |F(x)| = 0.294069; step 1; tol 0.0126174\n",
      "1:  |F(x)| = 0.00218973; step 1; tol 4.99028e-05\n",
      "2:  |F(x)| = 7.20087e-08; step 1; tol 9.73268e-10\n",
      "(0.15694089999809696, -0.10414580547836685)\n",
      "0.46\n",
      "0:  |F(x)| = 0.326431; step 1; tol 0.0137812\n",
      "1:  |F(x)| = 0.00279774; step 1; tol 6.61112e-05\n",
      "2:  |F(x)| = 1.18183e-07; step 1; tol 1.60596e-09\n",
      "(0.17665943052003927, -0.11834185667135848)\n",
      "0.47000000000000003\n",
      "0:  |F(x)| = 0.362855; step 1; tol 0.0149107\n",
      "1:  |F(x)| = 0.00357356; step 1; tol 8.72928e-05\n",
      "2:  |F(x)| = 1.92617e-07; step 1; tol 2.61474e-09\n",
      "(0.19900113476476272, -0.1345565002313043)\n",
      "0.48000000000000004\n",
      "0:  |F(x)| = 0.409679; step 1; tol 0.0164306\n",
      "1:  |F(x)| = 0.00452314; step 1; tol 0.000109707\n",
      "2:  |F(x)| = 3.0607e-07; step 1; tol 4.12101e-09\n",
      "(0.2243576621615779, -0.1531070670854147)\n",
      "0.49\n",
      "0:  |F(x)| = 0.469594; step 1; tol 0.0184395\n"
     ]
    },
    {
     "name": "stdout",
     "output_type": "stream",
     "text": [
      "1:  |F(x)| = 0.00581751; step 1; tol 0.000138125\n",
      "2:  |F(x)| = 5.22459e-07; step 1; tol 7.25892e-09\n",
      "(0.25318882351935434, -0.1743703253572498)\n",
      "0.5\n",
      "0:  |F(x)| = 0.539406; step 1; tol 0.0206107\n",
      "1:  |F(x)| = 0.00768307; step 1; tol 0.000182591\n",
      "2:  |F(x)| = 1.05842e-06; step 1; tol 1.70799e-08\n",
      "(0.2860363608063247, -0.1987961963508289)\n",
      "0.51\n",
      "0:  |F(x)| = 0.614557; step 1; tol 0.0226203\n",
      "1:  |F(x)| = 0.0100935; step 1; tol 0.000242774\n",
      "2:  |F(x)| = 2.22139e-06; step 1; tol 4.35922e-08\n",
      "(0.3235396010720448, -0.2269215723588339)\n",
      "0.52\n",
      "0:  |F(x)| = 0.690895; step 1; tol 0.0242801\n",
      "1:  |F(x)| = 0.0135658; step 1; tol 0.000346986\n",
      "2:  |F(x)| = 4.96028e-06; step 1; tol 1.20326e-07\n",
      "(0.3664522617910058, -0.25938057097033895)\n",
      "0.53\n",
      "0:  |F(x)| = 0.772941; step 1; tol 0.0259709\n",
      "1:  |F(x)| = 0.0187121; step 1; tol 0.000527464\n",
      "2:  |F(x)| = 1.10811e-05; step 1; tol 3.15622e-07\n",
      "(0.41566095648027573, -0.2969096752747026)\n",
      "0.54\n",
      "0:  |F(x)| = 0.88565; step 1; tol 0.029072\n",
      "1:  |F(x)| = 0.0265316; step 1; tol 0.000807694\n",
      "2:  |F(x)| = 2.83118e-05; step 1; tol 1.02482e-06\n",
      "(0.4722131498256409, -0.34035907644693403)\n",
      "0.55\n",
      "0:  |F(x)| = 1.08262; step 1; tol 0.0361776\n",
      "1:  |F(x)| = 0.0381433; step 1; tol 0.00111719\n",
      "2:  |F(x)| = 9.95883e-05; step 1; tol 6.13512e-06\n",
      "(0.5373774646400281, -0.3907448641688421)\n",
      "0.56\n",
      "0:  |F(x)| = 1.37656; step 1; tol 0.0465197\n",
      "1:  |F(x)| = 0.0551608; step 1; tol 0.00144514\n",
      "2:  |F(x)| = 0.000473997; step 1; tol 6.64559e-05\n",
      "3:  |F(x)| = 5.7984e-09; step 1; tol 1.34681e-10\n",
      "(0.6127174764086643, -0.44935505205369286)\n",
      "0.5700000000000001\n",
      "0:  |F(x)| = 1.70111; step 1; tol 0.0539316\n",
      "1:  |F(x)| = 0.0816965; step 1; tol 0.0020758\n",
      "2:  |F(x)| = 0.00312236; step 1; tol 0.00131462\n",
      "3:  |F(x)| = 1.83463e-07; step 1; tol 3.10724e-09\n",
      "(0.7001723012466667, -0.5178802494996845)\n",
      "0.5800000000000001\n",
      "0:  |F(x)| = 1.97889; step 1; tol 0.0544616\n",
      "1:  |F(x)| = 0.0794091; step 1; tol 0.00144925\n",
      "2:  |F(x)| = 0.00205251; step 1; tol 0.000601273\n",
      "3:  |F(x)| = 7.60989e-08; step 1; tol 1.23717e-09\n",
      "(0.8021523308975717, -0.5985479512942827)\n",
      "0.59\n",
      "0:  |F(x)| = 2.16118; step 1; tol 0.0497398\n",
      "1:  |F(x)| = 0.0864791; step 1; tol 0.00144107\n",
      "2:  |F(x)| = 0.00277557; step 1; tol 0.000927092\n",
      "3:  |F(x)| = 2.6678e-07; step 1; tol 8.31468e-09\n",
      "(0.9216369628834062, -0.6942038163970983)\n"
     ]
    }
   ],
   "source": [
    "F_P = []\n",
    "etas = np.arange(0.01, 0.6, 0.01)\n",
    "for eta in etas:\n",
    "    print eta\n",
    "    sys.density['particle'] = 6.0*eta/(np.pi*particle_diameter**3.0)\n",
    "    PRISM = sys.solve(guess=guess, method='krylov')\n",
    "    guess = np.copy(PRISM.x)\n",
    "    F_P.append(ExcessFreeEnergy(PRISM, default_method='HNC'))\n",
    "F_P = np.array(F_P)"
   ]
  },
  {
   "cell_type": "code",
   "execution_count": 41,
   "metadata": {},
   "outputs": [],
   "source": [
    "particle_diameter=10.0"
   ]
  },
  {
   "cell_type": "code",
   "execution_count": 49,
   "metadata": {},
   "outputs": [],
   "source": [
    "etas = np.arange(0.00001,0.6,0.00001)"
   ]
  },
  {
   "cell_type": "code",
   "execution_count": 74,
   "metadata": {},
   "outputs": [],
   "source": [
    "#CS HS free energy per V\n",
    "def F_CS(n, d):\n",
    "    rho = (6.0*n/(np.pi*d**3))\n",
    "    return ((4.0*n-3.0*n*n)/(1.0-n)**2.0)*rho"
   ]
  },
  {
   "cell_type": "code",
   "execution_count": 75,
   "metadata": {},
   "outputs": [],
   "source": [
    "#CS pressure per rho and kBT\n",
    "def P_CS(n):\n",
    "    return ((1.0+n+n**2.0-n**3.)/(1.0-n)**3.0)-1"
   ]
  },
  {
   "cell_type": "code",
   "execution_count": 76,
   "metadata": {},
   "outputs": [],
   "source": [
    "def P_num(f, d, n):\n",
    "    rho = 6.0*n/(np.pi*d**3.0)\n",
    "    fr = f[:-1]\n",
    "    ff = f[1:]\n",
    "    favg = (fr+ff)/2.0\n",
    "    rhor = rho[:-1]\n",
    "    rhof = rho[1:]\n",
    "    rhoavg = (rhor+rhof)/2.0\n",
    "    P_num = -favg/rhoavg + ((ff-fr)/(rhof-rhor))\n",
    "    return P_num"
   ]
  },
  {
   "cell_type": "code",
   "execution_count": 77,
   "metadata": {},
   "outputs": [],
   "source": [
    "etas_avg = (etas[1:]+etas[:-1])/2.0"
   ]
  },
  {
   "cell_type": "code",
   "execution_count": 78,
   "metadata": {},
   "outputs": [],
   "source": [
    "f_CS = F_CS(etas, d=particle_diameter)\n",
    "p_CS = P_CS(etas)\n",
    "p_CS_num = P_num(f_CS, d=particle_diameter, n=etas)"
   ]
  },
  {
   "cell_type": "code",
   "execution_count": 94,
   "metadata": {},
   "outputs": [],
   "source": [
    "rho = 6.0*etas/(np.pi*particle_diameter**3.0)\n",
    "f = F_P[:,0]\n",
    "p = F_P[:,1]/rho\n",
    "p_num = P_num(f, d=particle_diameter, n=etas)"
   ]
  },
  {
   "cell_type": "code",
   "execution_count": 95,
   "metadata": {},
   "outputs": [
    {
     "data": {
      "text/plain": [
       "[<matplotlib.lines.Line2D at 0xde79f60>]"
      ]
     },
     "execution_count": 95,
     "metadata": {},
     "output_type": "execute_result"
    },
    {
     "data": {
      "image/png": "[encoded data removed]",
      "text/plain": [
       "<matplotlib.figure.Figure at 0xde79d68>"
      ]
     },
     "metadata": {},
     "output_type": "display_data"
    }
   ],
   "source": [
    "plt.plot(etas, p)\n",
    "plt.plot(etas_avg, p_num)"
   ]
  },
  {
   "cell_type": "code",
   "execution_count": 85,
   "metadata": {},
   "outputs": [
    {
     "data": {
      "text/plain": [
       "[<matplotlib.lines.Line2D at 0xf719978>]"
      ]
     },
     "execution_count": 85,
     "metadata": {},
     "output_type": "execute_result"
    },
    {
     "data": {
      "image/png": "[encoded data removed]",
      "text/plain": [
       "<matplotlib.figure.Figure at 0xf719d68>"
      ]
     },
     "metadata": {},
     "output_type": "display_data"
    }
   ],
   "source": [
    "plt.plot(etas, p)\n",
    "plt.plot(etas_avg, p_num)\n",
    "#plt.ylim(0,5.0)"
   ]
  },
  {
   "cell_type": "code",
   "execution_count": 81,
   "metadata": {},
   "outputs": [
    {
     "data": {
      "text/plain": [
       "[<matplotlib.lines.Line2D at 0xc771400>]"
      ]
     },
     "execution_count": 81,
     "metadata": {},
     "output_type": "execute_result"
    },
    {
     "data": {
      "image/png": "[encoded data removed]",
      "text/plain": [
       "<matplotlib.figure.Figure at 0xc771080>"
      ]
     },
     "metadata": {},
     "output_type": "display_data"
    }
   ],
   "source": [
    "plt.plot(etas, p_CS)\n",
    "plt.plot(etas_avg, p_CS_num)\n",
    "#plt.ylim(0,5.0)"
   ]
  },
  {
   "cell_type": "code",
   "execution_count": null,
   "metadata": {},
   "outputs": [],
   "source": []
  },
  {
   "cell_type": "code",
   "execution_count": null,
   "metadata": {},
   "outputs": [],
   "source": []
  },
  {
   "cell_type": "code",
   "execution_count": 384,
   "metadata": {},
   "outputs": [
    {
     "data": {
      "text/plain": [
       "array([0.01, 0.02, 0.03, 0.04, 0.05, 0.06, 0.07, 0.08, 0.09, 0.1 , 0.11,\n",
       "       0.12, 0.13, 0.14, 0.15, 0.16, 0.17, 0.18, 0.19, 0.2 , 0.21, 0.22,\n",
       "       0.23, 0.24, 0.25, 0.26, 0.27, 0.28, 0.29, 0.3 , 0.31, 0.32, 0.33,\n",
       "       0.34, 0.35, 0.36, 0.37, 0.38, 0.39, 0.4 , 0.41, 0.42, 0.43, 0.44,\n",
       "       0.45, 0.46, 0.47, 0.48, 0.49, 0.5 , 0.51, 0.52, 0.53, 0.54, 0.55,\n",
       "       0.56, 0.57, 0.58, 0.59])"
      ]
     },
     "execution_count": 384,
     "metadata": {},
     "output_type": "execute_result"
    }
   ],
   "source": [
    "etas"
   ]
  },
  {
   "cell_type": "code",
   "execution_count": 351,
   "metadata": {},
   "outputs": [
    {
     "data": {
      "text/plain": [
       "(0, 10)"
      ]
     },
     "execution_count": 351,
     "metadata": {},
     "output_type": "execute_result"
    },
    {
     "data": {
      "image/png": "[encoded data removed]",
      "text/plain": [
       "<matplotlib.figure.Figure at 0x11f72978>"
      ]
     },
     "metadata": {},
     "output_type": "display_data"
    }
   ],
   "source": [
    "F_P = np.array(F_P)\n",
    "rhos = 6.0*etas/(np.pi*particle_diameter**3.0)\n",
    "plt.plot(etas, F_P[:,0]/rhos)\n",
    "plt.plot(etas, CS(etas))\n",
    "plt.xlim(0,0.4)\n",
    "plt.ylim(0,10)"
   ]
  },
  {
   "cell_type": "code",
   "execution_count": 362,
   "metadata": {},
   "outputs": [],
   "source": [
    "f = CS(etas)\n",
    "#f = F_P[:,0]/rhos\n",
    "fr = f[:-1]\n",
    "ff = f[1:]\n",
    "favg = (fr+ff)/2.0\n",
    "rhor = rhos[:-1]\n",
    "rhof = rhos[1:]\n",
    "rhoavg = (rhor+rhof)/2.0\n",
    "\n",
    "#P_num = rhoavg*rhoavg*((ff-fr)/(rhof-rhor))\n",
    "P_num = -(favg/2.0)/rhoavg + ((ff-fr)/(rhof-rhor))"
   ]
  },
  {
   "cell_type": "code",
   "execution_count": 365,
   "metadata": {},
   "outputs": [
    {
     "data": {
      "text/plain": [
       "(0, 0.5)"
      ]
     },
     "execution_count": 365,
     "metadata": {},
     "output_type": "execute_result"
    },
    {
     "data": {
      "image/png": "[encoded data removed]",
      "text/plain": [
       "<matplotlib.figure.Figure at 0xbceb400>"
      ]
     },
     "metadata": {},
     "output_type": "display_data"
    }
   ],
   "source": [
    "plt.plot(etas, P(etas))\n",
    "plt.plot(etas[:-1], P_num*rhoavg)\n",
    "plt.xlim(0,0.5)"
   ]
  },
  {
   "cell_type": "code",
   "execution_count": 357,
   "metadata": {},
   "outputs": [
    {
     "data": {
      "text/plain": [
       "(0, 0.5)"
      ]
     },
     "execution_count": 357,
     "metadata": {},
     "output_type": "execute_result"
    },
    {
     "data": {
      "image/png": "[encoded data removed]",
      "text/plain": [
       "<matplotlib.figure.Figure at 0xbcead68>"
      ]
     },
     "metadata": {},
     "output_type": "display_data"
    }
   ],
   "source": [
    "plt.plot(etas, F_P[:,1]/rhos)\n",
    "plt.plot(etas[:-1], P_num)\n",
    "plt.xlim(0,0.5)"
   ]
  },
  {
   "cell_type": "code",
   "execution_count": null,
   "metadata": {},
   "outputs": [],
   "source": []
  },
  {
   "cell_type": "code",
   "execution_count": null,
   "metadata": {},
   "outputs": [],
   "source": []
  },
  {
   "cell_type": "markdown",
   "metadata": {},
   "source": [
    "## Test for consistency of the pressure and free energy"
   ]
  },
  {
   "cell_type": "code",
   "execution_count": 16,
   "metadata": {
    "scrolled": true
   },
   "outputs": [
    {
     "name": "stdout",
     "output_type": "stream",
     "text": [
      "0:  |F(x)| = 0.0192138; step 1; tol 2.28645e-05\n",
      "1:  |F(x)| = 2.15168e-06; step 1; tol 1.12868e-08\n",
      "0:  |F(x)| = 0.0280806; step 1; tol 4.25724e-05\n"
     ]
    },
    {
     "name": "stderr",
     "output_type": "stream",
     "text": [
      "custom_prism_tools\\ThermodynamicsClosedForm.py:25: UserWarning: This calculation is only theoretically valid if either                       the KovalenkoHirata (KH) or HyperNettedChain (HNC)                       closures are used for all pairs. Defaulting to KH                       functional form for use with mixed closures.\n",
      "  functional form for use with mixed closures.'.format(default_method), UserWarning)\n"
     ]
    },
    {
     "name": "stdout",
     "output_type": "stream",
     "text": [
      "1:  |F(x)| = 3.56987e-06; step 1; tol 1.45457e-08\n",
      "0:  |F(x)| = 0.03264; step 1; tol 6.15487e-05\n",
      "1:  |F(x)| = 4.15734e-06; step 1; tol 1.46007e-08\n",
      "0:  |F(x)| = 0.0370447; step 1; tol 8.47798e-05\n",
      "1:  |F(x)| = 5.07869e-06; step 1; tol 1.69158e-08\n",
      "0:  |F(x)| = 0.0411915; step 1; tol 0.00011201\n",
      "1:  |F(x)| = 6.48092e-06; step 1; tol 2.22792e-08\n",
      "0:  |F(x)| = 0.0450471; step 1; tol 0.000143032\n",
      "1:  |F(x)| = 8.36979e-06; step 1; tol 3.10697e-08\n",
      "0:  |F(x)| = 0.0486214; step 1; tol 0.000177762\n",
      "1:  |F(x)| = 1.07608e-05; step 1; tol 4.40839e-08\n",
      "0:  |F(x)| = 0.0519301; step 1; tol 0.000216131\n",
      "1:  |F(x)| = 1.3639e-05; step 1; tol 6.20823e-08\n",
      "0:  |F(x)| = 0.0543354; step 1; tol 0.000251958\n",
      "1:  |F(x)| = 1.65267e-05; step 1; tol 8.3262e-08\n",
      "0:  |F(x)| = 0.0571109; step 1; tol 0.000296111\n",
      "1:  |F(x)| = 2.04102e-05; step 1; tol 1.14947e-07\n",
      "0:  |F(x)| = 0.0597754; step 1; tol 0.000344722\n",
      "1:  |F(x)| = 2.49317e-05; step 1; tol 1.56567e-07\n",
      "0:  |F(x)| = 0.062375; step 1; tol 0.000398459\n",
      "1:  |F(x)| = 3.01432e-05; step 1; tol 2.10184e-07\n",
      "0:  |F(x)| = 0.0649726; step 1; tol 0.000458428\n",
      "1:  |F(x)| = 3.61598e-05; step 1; tol 2.78762e-07\n",
      "0:  |F(x)| = 0.0676303; step 1; tol 0.00052605\n",
      "1:  |F(x)| = 4.31319e-05; step 1; tol 3.66065e-07\n",
      "0:  |F(x)| = 0.0704091; step 1; tol 0.000603102\n",
      "1:  |F(x)| = 5.11839e-05; step 1; tol 4.75611e-07\n",
      "0:  |F(x)| = 0.0733586; step 1; tol 0.000691584\n",
      "1:  |F(x)| = 6.0581e-05; step 1; tol 6.13781e-07\n",
      "0:  |F(x)| = 0.0764764; step 1; tol 0.00079284\n",
      "1:  |F(x)| = 7.12081e-05; step 1; tol 7.80272e-07\n",
      "0:  |F(x)| = 0.0798166; step 1; tol 0.000909582\n",
      "1:  |F(x)| = 8.34565e-05; step 1; tol 9.83958e-07\n",
      "0:  |F(x)| = 0.0834241; step 1; tol 0.00104484\n",
      "1:  |F(x)| = 9.73754e-05; step 1; tol 1.22619e-06\n",
      "2:  |F(x)| = 6.10682e-09; step 1; tol 3.53977e-09\n",
      "0:  |F(x)| = 0.0873467; step 1; tol 0.00120234\n",
      "1:  |F(x)| = 0.000113473; step 1; tol 1.51892e-06\n",
      "2:  |F(x)| = 2.43555e-09; step 1; tol 4.14624e-10\n",
      "0:  |F(x)| = 0.0916806; step 1; tol 0.00138771\n",
      "1:  |F(x)| = 0.000132201; step 1; tol 1.87135e-06\n",
      "2:  |F(x)| = 2.44498e-09; step 1; tol 3.07839e-10\n",
      "0:  |F(x)| = 0.096501; step 1; tol 0.00160732\n",
      "1:  |F(x)| = 0.000154386; step 1; tol 2.30352e-06\n",
      "2:  |F(x)| = 1.27898e-09; step 1; tol 6.17666e-11\n",
      "0:  |F(x)| = 0.102267; step 1; tol 0.00188273\n",
      "1:  |F(x)| = 0.000180824; step 1; tol 2.81374e-06\n",
      "2:  |F(x)| = 2.9821e-09; step 1; tol 2.44778e-10\n",
      "0:  |F(x)| = 0.108228; step 1; tol 0.00219353\n",
      "1:  |F(x)| = 0.000212311; step 1; tol 3.46342e-06\n",
      "2:  |F(x)| = 1.3819e-09; step 1; tol 3.81285e-11\n",
      "0:  |F(x)| = 0.114832; step 1; tol 0.00256133\n",
      "1:  |F(x)| = 0.000249976; step 1; tol 4.26496e-06\n",
      "2:  |F(x)| = 2.04681e-09; step 1; tol 6.03396e-11\n",
      "0:  |F(x)| = 0.12216; step 1; tol 0.00299685\n",
      "1:  |F(x)| = 0.000289902; step 1; tol 5.06855e-06\n",
      "2:  |F(x)| = 2.27075e-09; step 1; tol 5.5218e-11\n",
      "0:  |F(x)| = 0.130526; step 1; tol 0.00352443\n",
      "1:  |F(x)| = 0.000341387; step 1; tol 6.15659e-06\n",
      "2:  |F(x)| = 3.5266e-09; step 1; tol 9.60416e-11\n",
      "0:  |F(x)| = 0.139813; step 1; tol 0.00414869\n",
      "1:  |F(x)| = 0.000403387; step 1; tol 7.49186e-06\n",
      "2:  |F(x)| = 5.88105e-09; step 1; tol 1.91298e-10\n",
      "0:  |F(x)| = 0.150257; step 1; tol 0.00489366\n",
      "1:  |F(x)| = 0.000477953; step 1; tol 9.10638e-06\n",
      "2:  |F(x)| = 6.17055e-09; step 1; tol 1.5001e-10\n",
      "0:  |F(x)| = 0.161949; step 1; tol 0.00577663\n",
      "1:  |F(x)| = 0.000562654; step 1; tol 1.08636e-05\n",
      "2:  |F(x)| = 6.83488e-09; step 1; tol 1.32807e-10\n",
      "0:  |F(x)| = 0.174954; step 1; tol 0.00681209\n",
      "1:  |F(x)| = 0.000661889; step 1; tol 1.28815e-05\n",
      "2:  |F(x)| = 8.81281e-09; step 1; tol 1.59552e-10\n",
      "0:  |F(x)| = 0.189317; step 1; tol 0.00800992\n",
      "1:  |F(x)| = 0.000784209; step 1; tol 1.54429e-05\n",
      "2:  |F(x)| = 1.188e-08; step 1; tol 2.06545e-10\n",
      "0:  |F(x)| = 0.205915; step 1; tol 0.00945118\n",
      "1:  |F(x)| = 0.000939591; step 1; tol 1.87389e-05\n",
      "2:  |F(x)| = 1.5626e-08; step 1; tol 2.48922e-10\n",
      "0:  |F(x)| = 0.226438; step 1; tol 0.0113149\n",
      "1:  |F(x)| = 0.00114706; step 1; tol 2.30949e-05\n",
      "2:  |F(x)| = 2.22808e-08; step 1; tol 3.39574e-10\n",
      "0:  |F(x)| = 0.247494; step 1; tol 0.0132758\n",
      "1:  |F(x)| = 0.00138191; step 1; tol 2.80591e-05\n",
      "2:  |F(x)| = 3.40464e-08; step 1; tol 5.46295e-10\n",
      "0:  |F(x)| = 0.270721; step 1; tol 0.0154695\n",
      "1:  |F(x)| = 0.00166621; step 1; tol 3.40924e-05\n",
      "2:  |F(x)| = 5.15275e-08; step 1; tol 8.60719e-10\n",
      "0:  |F(x)| = 0.296666; step 1; tol 0.0179318\n",
      "1:  |F(x)| = 0.00201184; step 1; tol 4.139e-05\n",
      "2:  |F(x)| = 7.94936e-08; step 1; tol 1.40514e-09\n",
      "0:  |F(x)| = 0.326019; step 1; tol 0.0207142\n",
      "1:  |F(x)| = 0.00287085; step 1; tol 6.97873e-05\n",
      "2:  |F(x)| = 2.03031e-07; step 1; tol 4.5014e-09\n",
      "0:  |F(x)| = 0.358935; step 1; tol 0.0237944\n",
      "1:  |F(x)| = 0.00341191; step 1; tol 8.13216e-05\n",
      "2:  |F(x)| = 2.88489e-07; step 1; tol 6.43438e-09\n",
      "0:  |F(x)| = 0.395978; step 1; tol 0.0271889\n",
      "1:  |F(x)| = 0.00408765; step 1; tol 9.59068e-05\n",
      "2:  |F(x)| = 3.87223e-07; step 1; tol 8.0764e-09\n",
      "0:  |F(x)| = 0.437662; step 1; tol 0.0308959\n",
      "1:  |F(x)| = 0.00489637; step 1; tol 0.000112646\n",
      "2:  |F(x)| = 5.27965e-07; step 1; tol 1.04641e-08\n",
      "0:  |F(x)| = 0.479965; step 1; tol 0.034249\n",
      "1:  |F(x)| = 0.00597582; step 1; tol 0.000139514\n",
      "2:  |F(x)| = 7.21298e-07; step 1; tol 1.31122e-08\n",
      "0:  |F(x)| = 0.529102; step 1; tol 0.0380265\n",
      "1:  |F(x)| = 0.00744895; step 1; tol 0.000178383\n",
      "2:  |F(x)| = 1.03167e-06; step 1; tol 1.72635e-08\n",
      "0:  |F(x)| = 0.591168; step 1; tol 0.0430176\n",
      "1:  |F(x)| = 0.00958083; step 1; tol 0.000236389\n",
      "2:  |F(x)| = 1.52425e-06; step 1; tol 2.27798e-08\n",
      "0:  |F(x)| = 0.662324; step 1; tol 0.0485765\n",
      "1:  |F(x)| = 0.0128706; step 1; tol 0.000339862\n",
      "2:  |F(x)| = 2.42198e-06; step 1; tol 3.18701e-08\n",
      "0:  |F(x)| = 0.743873; step 1; tol 0.0547881\n",
      "1:  |F(x)| = 0.0178463; step 1; tol 0.000518016\n",
      "2:  |F(x)| = 4.28114e-06; step 1; tol 5.17921e-08\n",
      "0:  |F(x)| = 0.838395; step 1; tol 0.0619041\n",
      "1:  |F(x)| = 0.0254844; step 1; tol 0.000831565\n",
      "2:  |F(x)| = 9.99594e-06; step 1; tol 1.38465e-07\n",
      "0:  |F(x)| = 0.947899; step 1; tol 0.0700211\n",
      "1:  |F(x)| = 0.0369024; step 1; tol 0.00136404\n",
      "2:  |F(x)| = 3.13144e-05; step 1; tol 6.48067e-07\n",
      "0:  |F(x)| = 1.07734; step 1; tol 0.0795293\n",
      "1:  |F(x)| = 0.0536593; step 1; tol 0.00223268\n",
      "2:  |F(x)| = 0.00011962; step 1; tol 4.47261e-06\n",
      "0:  |F(x)| = 1.2209; step 1; tol 0.0890598\n",
      "1:  |F(x)| = 0.0784957; step 1; tol 0.00372025\n",
      "2:  |F(x)| = 0.000552473; step 1; tol 4.45833e-05\n",
      "3:  |F(x)| = 3.79135e-09; step 1; tol 4.23846e-11\n",
      "0:  |F(x)| = 1.36751; step 1; tol 0.0965233\n",
      "1:  |F(x)| = 0.113235; step 1; tol 0.00617079\n",
      "2:  |F(x)| = 0.00266745; step 1; tol 0.000499434\n",
      "3:  |F(x)| = 8.74621e-08; step 1; tol 9.67583e-10\n",
      "0:  |F(x)| = 1.55023; step 1; tol 0.106367\n",
      "1:  |F(x)| = 0.157748; step 1; tol 0.0093192\n",
      "2:  |F(x)| = 0.0116818; step 1; tol 0.00493557\n",
      "3:  |F(x)| = 1.65091e-06; step 1; tol 1.79751e-08\n",
      "0:  |F(x)| = 1.77893; step 1; tol 0.11994\n",
      "1:  |F(x)| = 0.199857; step 1; tol 0.0113596\n",
      "2:  |F(x)| = 0.0347038; step 1; tol 0.0271368\n",
      "3:  |F(x)| = 2.57958e-05; step 1; tol 4.97263e-07\n",
      "0:  |F(x)| = 2.03938; step 1; tol 0.135905\n",
      "1:  |F(x)| = 0.229316; step 1; tol 0.0113792\n",
      "2:  |F(x)| = 0.0697701; step 1; tol 0.0833129\n",
      "3:  |F(x)| = 0.000331309; step 1; tol 2.02941e-05\n",
      "4:  |F(x)| = 3.52769e-07; step 1; tol 1.02037e-06\n",
      "0:  |F(x)| = 2.37276; step 1; tol 0.160709\n",
      "1:  |F(x)| = 0.454292; step 1; tol 0.0329916\n",
      "2:  |F(x)| = 0.333964; step 1; tol 0.486378\n",
      "3:  |F(x)| = 0.0431832; step 1; tol 0.212907\n",
      "4:  |F(x)| = 0.000396161; step 1; tol 7.57452e-05\n",
      "5:  |F(x)| = 1.68031e-07; step 1; tol 1.61911e-07\n",
      "0:  |F(x)| = 2.79345; step 1; tol 0.197016\n",
      "1:  |F(x)| = 0.535252; step 1; tol 0.0330429\n",
      "2:  |F(x)| = 0.390615; step 1; tol 0.479319\n",
      "3:  |F(x)| = 0.0733267; step 1; tol 0.206772\n",
      "4:  |F(x)| = 0.00397172; step 1; tol 0.00264043\n",
      "5:  |F(x)| = 0.0021417; step 1; tol 0.261699\n",
      "6:  |F(x)| = 3.2033e-06; step 1; tol 2.01335e-06\n",
      "0:  |F(x)| = 3.27536; step 1; tol 0.239764\n",
      "1:  |F(x)| = 0.784727; step 1; tol 0.051661\n",
      "2:  |F(x)| = 0.574657; step 1; tol 0.482639\n",
      "3:  |F(x)| = 0.0911048; step 1; tol 0.209647\n",
      "4:  |F(x)| = 0.00715496; step 1; tol 0.00555104\n",
      "5:  |F(x)| = 0.000223923; step 1; tol 0.000881505\n",
      "6:  |F(x)| = 1.75949e-05; step 1; tol 0.00555673\n"
     ]
    },
    {
     "name": "stderr",
     "output_type": "stream",
     "text": [
      "C:\\ProgramData\\Anaconda2\\lib\\site-packages\\pyPRISM\\core\\PRISM.py:225: UserWarning: Pair correlations are negative (value = -1.00e+00) for particle-particle pair!\n",
      "  warnings.warn(warnstr.format(val,t1,t2))\n"
     ]
    },
    {
     "name": "stdout",
     "output_type": "stream",
     "text": [
      "0:  |F(x)| = 3.83773; step 1; tol 0.285685\n",
      "1:  |F(x)| = 1.14912; step 1; tol 0.0806906\n",
      "2:  |F(x)| = 0.414569; step 1; tol 0.11714\n",
      "3:  |F(x)| = 0.014794; step 1; tol 0.00114609\n",
      "4:  |F(x)| = 0.000389398; step 1; tol 0.000623531\n",
      "5:  |F(x)| = 6.96541e-08; step 1; tol 2.8797e-08\n",
      "0:  |F(x)| = 4.41329; step 1; tol 0.315479\n",
      "1:  |F(x)| = 1.2974; step 1; tol 0.0777795\n",
      "2:  |F(x)| = 0.626251; step 1; tol 0.209697\n",
      "3:  |F(x)| = 0.0803761; step 1; tol 0.0148252\n",
      "4:  |F(x)| = 0.00402844; step 1; tol 0.0022608\n",
      "5:  |F(x)| = 3.0456e-07; step 1; tol 5.14416e-09\n"
     ]
    }
   ],
   "source": [
    "F_P = []\n",
    "density = []\n",
    "eta = np.arange(0.01, 0.6, 0.01)\n",
    "for particle_eta in eta:\n",
    "    \n",
    "    #establish particle densities\n",
    "    particle_density = 6.0*particle_eta/(np.pi*particle_diameter**3.0)\n",
    "    polymer_density = N_polymer__N_particle*particle_density\n",
    "    density.append(particle_density+polymer_density)\n",
    "    polymer_site_density = length*polymer_density\n",
    "    sys.density['particle'] = particle_density\n",
    "    sys.density['polymer_end'] = polymer_site_density*(2.0/float(length))\n",
    "    sys.density['polymer_middle'] = polymer_site_density*(float(length-2)/float(length))\n",
    "    \n",
    "    #solve for the structure\n",
    "    PRISM = sys.solve(guess=guess, method='krylov')\n",
    "    guess = np.copy(PRISM.x)\n",
    "    F_P.append(ThermodynamicsClosedForm(PRISM, default_method='KH'))\n",
    "    \n",
    "F_P = np.array(F_P)\n",
    "density = np.array(density)"
   ]
  },
  {
   "cell_type": "code",
   "execution_count": 17,
   "metadata": {},
   "outputs": [],
   "source": [
    "def P_num(f, d, rho):\n",
    "    fr = f[:-1]\n",
    "    ff = f[1:]\n",
    "    favg = (fr+ff)/2.0\n",
    "    rhor = rho[:-1]\n",
    "    rhof = rho[1:]\n",
    "    rhoavg = (rhor+rhof)/2.0\n",
    "    P_num = -favg/rhoavg + ((ff-fr)/(rhof-rhor))\n",
    "    return P_num"
   ]
  },
  {
   "cell_type": "code",
   "execution_count": 18,
   "metadata": {},
   "outputs": [],
   "source": [
    "eta_avg = (eta[1:]+eta[:-1])/2.0"
   ]
  },
  {
   "cell_type": "code",
   "execution_count": 19,
   "metadata": {},
   "outputs": [],
   "source": [
    "f = F_P[:,0]\n",
    "p = F_P[:,1]/density\n",
    "p_num = P_num(f, d=particle_diameter, rho=density)"
   ]
  },
  {
   "cell_type": "markdown",
   "metadata": {},
   "source": [
    "#### Using all KH closures"
   ]
  },
  {
   "cell_type": "code",
   "execution_count": 13,
   "metadata": {},
   "outputs": [
    {
     "data": {
      "text/plain": [
       "[<matplotlib.lines.Line2D at 0xbcc0710>]"
      ]
     },
     "execution_count": 13,
     "metadata": {},
     "output_type": "execute_result"
    },
    {
     "data": {
      "image/png": "[encoded data removed]",
      "text/plain": [
       "<matplotlib.figure.Figure at 0xbcc0f98>"
      ]
     },
     "metadata": {},
     "output_type": "display_data"
    }
   ],
   "source": [
    "plt.plot(eta, p)\n",
    "plt.plot(eta_avg, p_num)"
   ]
  },
  {
   "cell_type": "markdown",
   "metadata": {},
   "source": [
    "#### Using all KH except one PY"
   ]
  },
  {
   "cell_type": "code",
   "execution_count": 20,
   "metadata": {},
   "outputs": [
    {
     "data": {
      "text/plain": [
       "[<matplotlib.lines.Line2D at 0xacd4470>]"
      ]
     },
     "execution_count": 20,
     "metadata": {},
     "output_type": "execute_result"
    },
    {
     "data": {
      "image/png": "[encoded data removed]",
      "text/plain": [
       "<matplotlib.figure.Figure at 0xacd4a58>"
      ]
     },
     "metadata": {},
     "output_type": "display_data"
    }
   ],
   "source": [
    "plt.plot(eta, p)\n",
    "plt.plot(eta_avg, p_num)"
   ]
  },
  {
   "cell_type": "code",
   "execution_count": null,
   "metadata": {},
   "outputs": [],
   "source": []
  },
  {
   "cell_type": "code",
   "execution_count": null,
   "metadata": {},
   "outputs": [],
   "source": []
  },
  {
   "cell_type": "markdown",
   "metadata": {},
   "source": [
    "## Test one component OZ free energy against full PRISM free energy "
   ]
  },
  {
   "cell_type": "code",
   "execution_count": null,
   "metadata": {},
   "outputs": [],
   "source": [
    "r = PRISM.sys.domain.r\n",
    "k = PRISM.sys.domain.k\n",
    "\n",
    "CR = deepcopy(PRISM.directCorr)\n",
    "ck = deepcopy(CR['particle','particle'])\n",
    "PRISM.sys.domain.MatrixArray_to_real(CR)\n",
    "cr = CR['particle','particle']\n",
    "hr = deepcopy(PRISM.totalCorr['particle','particle'])\n",
    "rho = PRISM.sys.density['particle']\n",
    "Fr = -2.0*np.pi*rho*rho*np.trapz(r*r*(cr-(np.heaviside(-hr, 0)*hr**2.0)/2.0), r)\n",
    "Fk = (1.0/(4.0*np.pi**2.0))*np.trapz(k*k*(rho*ck+np.log(1.0-rho*ck)), k)\n",
    "\n",
    "Pr = Fr\n",
    "Pk = -(1.0/(4.0*np.pi**2.0))*np.trapz(k*k*(rho*ck/(1.0-rho*ck)+np.log(1.0-rho*ck)), k)\n",
    "\n",
    "print Fr, Fk\n",
    "print Fr+Fk\n",
    "print Pr, Pk\n",
    "print Pr+Pk"
   ]
  },
  {
   "cell_type": "code",
   "execution_count": null,
   "metadata": {},
   "outputs": [],
   "source": [
    "ThermodynamicsClosedForm(PRISM)"
   ]
  }
 ],
 "metadata": {
  "kernelspec": {
   "display_name": "Python 2",
   "language": "python",
   "name": "python2"
  },
  "language_info": {
   "codemirror_mode": {
    "name": "ipython",
    "version": 2
   },
   "file_extension": ".py",
   "mimetype": "text/x-python",
   "name": "python",
   "nbconvert_exporter": "python",
   "pygments_lexer": "ipython2",
   "version": "2.7.14"
  }
 },
 "nbformat": 4,
 "nbformat_minor": 2
}
