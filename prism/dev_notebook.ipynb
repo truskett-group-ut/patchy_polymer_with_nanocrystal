{
 "cells": [
  {
   "cell_type": "markdown",
   "metadata": {},
   "source": [
    "# Polymer + particle mixture using pyPRISM"
   ]
  },
  {
   "cell_type": "code",
   "execution_count": 1,
   "metadata": {},
   "outputs": [],
   "source": [
    "import pyPRISM\n",
    "import matplotlib.pyplot as plt\n",
    "from custom_prism_tools.DiscreteKoyamaPartitioned import DiscreteKoyamaPartitioned\n",
    "from custom_prism_tools.DiscreteKoyama import DiscreteKoyama\n",
    "from custom_prism_tools.KovalenkoHirata import KovalenkoHirata\n",
    "from custom_prism_tools.ShiftedWeeksChandlerAnderson import ShiftedWeeksChandlerAnderson\n",
    "import numpy as np"
   ]
  },
  {
   "cell_type": "markdown",
   "metadata": {},
   "source": [
    "## Tunable parameters"
   ]
  },
  {
   "cell_type": "code",
   "execution_count": 49,
   "metadata": {},
   "outputs": [],
   "source": [
    "#parameters to set\n",
    "length = 10\n",
    "particle_eta = 0.5\n",
    "N_polymer__N_particle = 2.0\n",
    "particle_diameter = 5.0\n",
    "polymer_site_diameter = 1.0\n",
    "bond_length = 0.97\n",
    "persistence_length = 4./3.\n",
    "epsilon = 1.0\n",
    "length_scale = polymer_site_diameter\n",
    "\n",
    "#dependent parameters\n",
    "particle_density = 6.0*particle_eta/(np.pi*particle_diameter**3.0)\n",
    "polymer_density = N_polymer__N_particle*particle_density\n",
    "polymer_site_density = length*polymer_density"
   ]
  },
  {
   "cell_type": "code",
   "execution_count": 50,
   "metadata": {
    "scrolled": true
   },
   "outputs": [
    {
     "name": "stdout",
     "output_type": "stream",
     "text": [
      "0:  |F(x)| = 0.253022; step 1; tol 0.00811634\n",
      "1:  |F(x)| = 0.00181444; step 1; tol 4.62815e-05\n",
      "2:  |F(x)| = 7.82564e-08; step 1; tol 1.67417e-09\n"
     ]
    }
   ],
   "source": [
    "# The system holds all information needed to set up a PRISM problem. We\n",
    "# instantiate the system by specifying the site types and thermal energy\n",
    "# level (kT, coarse-grained temperature) of the system.\n",
    "sys = pyPRISM.System(['particle','polymer_middle','polymer_end'], kT=1.0)\n",
    "\n",
    "# We must discretize Real and Fourier space\n",
    "sys.domain = pyPRISM.Domain(dr=0.01,length=4096)\n",
    "\n",
    "# The composition of the system is desribed via number densities\n",
    "sys.density['particle'] = particle_density\n",
    "sys.density['polymer_end']  = polymer_site_density*(2.0/float(length))\n",
    "sys.density['polymer_middle']  = polymer_site_density*(float(length-2)/float(length))\n",
    "\n",
    "# The diameter of each site is specified (in reduced units)\n",
    "sys.diameter['particle'] = particle_diameter\n",
    "sys.diameter['polymer_end'] = polymer_site_diameter\n",
    "sys.diameter['polymer_middle'] = polymer_site_diameter\n",
    "\n",
    "# The molecular structure is described via intra-molecular correlation\n",
    "# functions (i.e. omegas)\n",
    "sys.omega['particle','particle'] = pyPRISM.omega.SingleSite()\n",
    "sys.omega['particle','polymer_end'] = pyPRISM.omega.InterMolecular()\n",
    "sys.omega['particle','polymer_middle'] = pyPRISM.omega.InterMolecular()\n",
    "sys.omega['polymer_end','polymer_end'] = DiscreteKoyamaPartitioned(sigma=polymer_site_diameter, \n",
    "                                                                   l=bond_length, \n",
    "                                                                   length=length, \n",
    "                                                                   lp=persistence_length, \n",
    "                                                                   types=('end','end'))\n",
    "sys.omega['polymer_middle','polymer_middle'] = DiscreteKoyamaPartitioned(sigma=polymer_site_diameter, \n",
    "                                                                         l=bond_length, \n",
    "                                                                         length=length, \n",
    "                                                                         lp=persistence_length, \n",
    "                                                                         types=('middle','middle'))\n",
    "sys.omega['polymer_end','polymer_middle'] = DiscreteKoyamaPartitioned(sigma=polymer_site_diameter, \n",
    "                                                                      l=bond_length, \n",
    "                                                                      length=length, \n",
    "                                                                      lp=persistence_length, \n",
    "                                                                      types=('end','middle'))\n",
    "\n",
    "# The site-site interactions are specified via classes which are lazily\n",
    "# evaluated during the PRISM-object creation\n",
    "particle_polymer_cross_diameter = (particle_diameter + polymer_site_diameter)/2.0\n",
    "\n",
    "sys.potential['particle','particle'] = ShiftedWeeksChandlerAnderson(epsilon=epsilon, \n",
    "                                                                    length_scale=length_scale,\n",
    "                                                                    sigma=particle_diameter)\n",
    "sys.potential['particle','polymer_end'] = ShiftedWeeksChandlerAnderson(epsilon=epsilon, \n",
    "                                                                       length_scale=length_scale,\n",
    "                                                                       sigma=particle_polymer_cross_diameter)\n",
    "sys.potential['particle','polymer_middle'] = ShiftedWeeksChandlerAnderson(epsilon=epsilon, \n",
    "                                                                          length_scale=length_scale,\n",
    "                                                                          sigma=particle_polymer_cross_diameter)\n",
    "sys.potential['polymer_end','polymer_end'] = ShiftedWeeksChandlerAnderson(epsilon=epsilon, \n",
    "                                                                          length_scale=length_scale,\n",
    "                                                                          sigma=polymer_site_diameter)\n",
    "sys.potential['polymer_middle','polymer_middle'] = ShiftedWeeksChandlerAnderson(epsilon=epsilon, \n",
    "                                                                                length_scale=length_scale,\n",
    "                                                                                sigma=polymer_site_diameter)\n",
    "sys.potential['polymer_end','polymer_middle'] = ShiftedWeeksChandlerAnderson(epsilon=epsilon, \n",
    "                                                                             length_scale=length_scale,\n",
    "                                                                             sigma=polymer_site_diameter)\n",
    "\n",
    "# Closure approximations are also specified via classes\n",
    "sys.closure['particle','particle'] = KovalenkoHirata()\n",
    "sys.closure['particle','polymer_end'] = KovalenkoHirata()\n",
    "sys.closure['particle','polymer_middle'] = KovalenkoHirata()\n",
    "sys.closure['polymer_end','polymer_end'] = KovalenkoHirata()\n",
    "sys.closure['polymer_middle','polymer_middle'] = KovalenkoHirata()\n",
    "sys.closure['polymer_end','polymer_middle'] = KovalenkoHirata()\n",
    "\n",
    "# Calling the .solve() method of the system object attempts to numerically\n",
    "# solv the PRISM equation and, if successful, it returns a PRISM object\n",
    "# containing all of the solved correlation functions.\n",
    "PRISM = sys.solve(guess=guess, method='krylov')\n",
    "\n",
    "# Calculate the pair-correlation functions.\n",
    "rdf = pyPRISM.calculate.pair_correlation(PRISM)\n"
   ]
  },
  {
   "cell_type": "code",
   "execution_count": 24,
   "metadata": {},
   "outputs": [],
   "source": [
    "guess = np.copy(PRISM.x)"
   ]
  },
  {
   "cell_type": "code",
   "execution_count": 30,
   "metadata": {},
   "outputs": [
    {
     "data": {
      "image/png": "[encoded data removed]",
      "text/plain": [
       "<matplotlib.figure.Figure at 0xbc2e400>"
      ]
     },
     "metadata": {},
     "output_type": "display_data"
    }
   ],
   "source": [
    "# Plot the results using matplotlib\n",
    "plt.plot(sys.domain.r,rdf['particle','particle'],color='gold',lw=1.25,ls='-')\n",
    "plt.plot(sys.domain.r,rdf['particle','polymer_end'],color='red',lw=3,ls='-')\n",
    "plt.plot(sys.domain.r,rdf['particle','polymer_middle'],color='blue',lw=3,ls='-')\n",
    "plt.plot(sys.domain.r,rdf['polymer_end','polymer_end'],color='green',lw=1.25,ls='-')\n",
    "plt.plot(sys.domain.r,rdf['polymer_middle','polymer_middle'],color='purple',lw=1.25,ls='-')\n",
    "plt.plot(sys.domain.r,rdf['polymer_end','polymer_middle'],color='orange',lw=1.25,ls='-')\n",
    "plt.ylabel('pair correlation')\n",
    "plt.xlabel('separation distance')\n",
    "plt.xlim(0,15)\n",
    "plt.ylim(0,3)\n",
    "plt.show()"
   ]
  },
  {
   "cell_type": "code",
   "execution_count": null,
   "metadata": {},
   "outputs": [],
   "source": []
  },
  {
   "cell_type": "code",
   "execution_count": null,
   "metadata": {},
   "outputs": [],
   "source": []
  },
  {
   "cell_type": "markdown",
   "metadata": {},
   "source": [
    "## k-space contribution to free energy"
   ]
  },
  {
   "cell_type": "code",
   "execution_count": 689,
   "metadata": {},
   "outputs": [],
   "source": [
    "Ck = np.ones((len(sys.domain.k), 1+length,1+length), dtype=None, order='C')\n",
    "Wk = np.ones((len(sys.domain.k), 1+length,1+length), dtype=None, order='C')\n",
    "p = np.zeros((1+length,1+length), dtype=None, order='C')\n",
    "k = sys.domain.k\n",
    "\n",
    "types = ['particle', 'polymer_end', 'polymer_middle']\n",
    "type_indices = {'particle': [1], 'polymer_end': [1,length], 'polymer_middle': range(2, length)}\n",
    "single_site_density = {'particle': particle_density, \n",
    "                       'polymer_end': polymer_density, \n",
    "                       'polymer_middle': polymer_density}\n",
    "\n",
    "#loops over the rows\n",
    "row = 0\n",
    "for type_1 in types:\n",
    "    for index_1 in type_indices[type_1]:\n",
    "        \n",
    "        #loops over the columns\n",
    "        column = 0\n",
    "        for type_2 in types:\n",
    "            for index_2 in type_indices[type_2]:\n",
    "                \n",
    "                #build a 3d entry into our tensor\n",
    "                c = PRISM.directCorr[type_1,type_2]\n",
    "                Ck[:,row:row+1,column:column+1] = np.expand_dims(np.expand_dims(c, axis=1), axis=1)\n",
    "                \n",
    "                #polymer-polymer w(k)\n",
    "                if type_1 in ['polymer_end', 'polymer_middle'] and type_2 in ['polymer_end', 'polymer_middle']:\n",
    "                    n = abs(index_1-index_2)\n",
    "                    if n:\n",
    "                        w = sys.omega[type_1,type_2].koyama_kernel_fourier(k,n)\n",
    "                    else:\n",
    "                        w = np.ones((len(sys.domain.k)), dtype=None, order='C')\n",
    "                else:\n",
    "                    w = sys.omega[type_1,type_2].calculate(k)\n",
    "                    \n",
    "                Wk[:,row:row+1,column:column+1] = np.expand_dims(np.expand_dims(w, axis=1), axis=1)\n",
    "                \n",
    "                p[row:row+1,column:column+1] = (row == column)*single_site_density[type_1]\n",
    "            \n",
    "                column += 1\n",
    "            \n",
    "        row+=1"
   ]
  },
  {
   "cell_type": "code",
   "execution_count": 690,
   "metadata": {},
   "outputs": [],
   "source": [
    "trace_1 = np.trace(np.matmul(np.matmul(Wk, Ck), p), axis1=1, axis2=2)\n",
    "trace_2 = np.trace(np.matmul(np.matmul(p, Wk), Ck), axis1=1, axis2=2)"
   ]
  },
  {
   "cell_type": "code",
   "execution_count": 691,
   "metadata": {},
   "outputs": [],
   "source": [
    "I=np.repeat(np.expand_dims(np.identity(1+length), axis=0), repeats=len(sys.domain.k), axis=0)\n",
    "lndet_1 = np.log(np.linalg.det(I-np.matmul(np.matmul(Wk, Ck), p)))\n",
    "lndet_2 = np.log(np.linalg.det(I-np.matmul(np.matmul(p, Wk), Ck)))"
   ]
  },
  {
   "cell_type": "code",
   "execution_count": 692,
   "metadata": {},
   "outputs": [
    {
     "name": "stdout",
     "output_type": "stream",
     "text": [
      "-0.06552257255768262\n"
     ]
    }
   ],
   "source": [
    "F = 4.0*np.pi/(2.0*(2.0*np.pi)**3)*np.trapz(k*k*(trace_1+lndet_1), k)\n",
    "print F"
   ]
  },
  {
   "cell_type": "code",
   "execution_count": null,
   "metadata": {},
   "outputs": [],
   "source": []
  },
  {
   "cell_type": "markdown",
   "metadata": {},
   "source": [
    "#### Testing the PRISM version"
   ]
  },
  {
   "cell_type": "code",
   "execution_count": 323,
   "metadata": {},
   "outputs": [
    {
     "data": {
      "text/plain": [
       "['particle', 'polymer_middle', 'polymer_end']"
      ]
     },
     "execution_count": 323,
     "metadata": {},
     "output_type": "execute_result"
    }
   ],
   "source": [
    "sys.density.types"
   ]
  },
  {
   "cell_type": "code",
   "execution_count": 433,
   "metadata": {},
   "outputs": [],
   "source": [
    "num_types = len(sys.density.types)\n",
    "\n",
    "Ck = np.ones((len(sys.domain.k), num_types, num_types), dtype=None, order='C')\n",
    "Wk = np.ones((len(sys.domain.k), num_types, num_types), dtype=None, order='C')\n",
    "p = np.zeros((num_types,num_types), dtype=None, order='C')\n",
    "k = sys.domain.k\n",
    "\n",
    "#loops over the rows\n",
    "row = 0\n",
    "for type_1 in sys.density.types:\n",
    "        \n",
    "    #loops over the columns\n",
    "    column = 0\n",
    "    for type_2 in sys.density.types:\n",
    "                \n",
    "        #build a 3d entry into our tensor\n",
    "        c = PRISM.directCorr[type_1,type_2]\n",
    "        Ck[:,row:row+1,column:column+1] = np.expand_dims(np.expand_dims(c, axis=1), axis=1)\n",
    "        \n",
    "        w = PRISM.omega[type_1,type_2]\n",
    "        Wk[:,row:row+1,column:column+1] = np.expand_dims(np.expand_dims(w, axis=1), axis=1)\n",
    "                \n",
    "        p[row:row+1,column:column+1] = ((row == column)*sys.density[type_1] + \n",
    "                                        (row != column)*(sys.density[type_1] + sys.density[type_2]))\n",
    "            \n",
    "        column += 1\n",
    "            \n",
    "    row+=1"
   ]
  },
  {
   "cell_type": "code",
   "execution_count": 434,
   "metadata": {},
   "outputs": [],
   "source": [
    "trace = np.trace(np.matmul(Wk, Ck), axis1=1, axis2=2)"
   ]
  },
  {
   "cell_type": "code",
   "execution_count": 435,
   "metadata": {},
   "outputs": [],
   "source": [
    "I=np.repeat(np.expand_dims(np.identity(num_types), axis=0), repeats=len(sys.domain.k), axis=0)\n",
    "lndet = np.log(np.linalg.det(I-np.matmul(Wk, Ck)))"
   ]
  },
  {
   "cell_type": "markdown",
   "metadata": {},
   "source": [
    "## k-space free energy"
   ]
  },
  {
   "cell_type": "code",
   "execution_count": 822,
   "metadata": {},
   "outputs": [],
   "source": [
    "import pyPRISM\n",
    "import numpy as np\n",
    "from itertools import combinations_with_replacement\n",
    "from copy import deepcopy\n",
    "import warnings\n",
    "\n",
    "def ExcessFreeEnergy(PRISM, default_method='HNC'): \n",
    "    \n",
    "    #check on the closures and raise a warning of incompatible\n",
    "    closures = set()\n",
    "    for type_1, type_2 in combinations_with_replacement(PRISM.sys.types, 2):\n",
    "        closures.add(type(PRISM.sys.closure[type_1, type_2]))\n",
    "    \n",
    "    if not (closures - set([type(KovalenkoHirata())])):\n",
    "        method = 'KH'\n",
    "    elif not (closures - set([type(pyPRISM.closure.HyperNettedChain())])):\n",
    "        method = 'HNC'\n",
    "    else:\n",
    "        warnings.warn('This calculation is only theoretically valid if either \\\\\n",
    "                      the KovalenkoHirata (KH) or HyperNettedChain (HNC) \\\\\n",
    "                      closures are used for all pairs. Defaulting to {} \\\\\n",
    "                      functional form for use with mixed closures.'.format(default_method), UserWarning)\n",
    "        method = default_method\n",
    "    \n",
    "    #extra quantities for k-space calculation\n",
    "    k = PRISM.sys.domain.k\n",
    "    I = pyPRISM.IdentityMatrixArray(length=len(PRISM.sys.domain.k), rank=3, \n",
    "                                    types=PRISM.sys.types, space=pyPRISM.Space.Fourier)\n",
    "    \n",
    "    #extra quantities for r-space calculation\n",
    "    r = PRISM.sys.domain.r\n",
    "    p = np.diag(np.diag(PRISM.sys.density.site.data[0]))  #this is a diagonal density matrix\n",
    "    \n",
    "    #direct correlation function in r- and k-space\n",
    "    if PRISM.directCorr.space == pyPRISM.Space.Real:\n",
    "        Cr = deepcopy(PRISM.directCorr)\n",
    "        Ck = deepcopy(Cr)\n",
    "        PRISM.sys.domain.MatrixArray_to_fourier(Ck)\n",
    "    elif PRISM.directCorr.space == pyPRISM.Space.Fourier:\n",
    "        Ck = deepcopy(PRISM.directCorr)\n",
    "        Cr = deepcopy(Ck)\n",
    "        PRISM.sys.domain.MatrixArray_to_real(Cr)\n",
    "    \n",
    "    #intramolecular structure in k-space\n",
    "    Wk = deepcopy(PRISM.omega)\n",
    "    if Wk.space == pyPRISM.Space.Real:\n",
    "        PRISM.sys.domain.MatrixArray_to_fourier(Wk)\n",
    "    \n",
    "    #total correlation function in r-space\n",
    "    Hr = deepcopy(PRISM.totalCorr)\n",
    "    if Hr.space == pyPRISM.Space.Fourier:\n",
    "        PRISM.sys.domain.MatrixArray_to_real(Hr)\n",
    "    \n",
    "    #calculate the k-space contribution\n",
    "    tr_WkCk = np.trace(Wk.dot(Ck).data, axis1=1, axis2=2)\n",
    "    lndet_WkCk = np.log( np.linalg.det( (I-Wk.dot(Ck)).data ) )\n",
    "    F_ex_k = 4.0*np.pi/(2.0*(2.0*np.pi)**3)*np.trapz(k*k*(tr_WkCk + lndet_WkCk), k)\n",
    "    \n",
    "    #calculate the r-space contribution\n",
    "    if method == 'KH':\n",
    "        structure = ((1.0/2.0)*(Hr*Hr).data*np.heaviside(-Hr.data, 0) - Cr.data)\n",
    "    elif method == 'HNC':\n",
    "        structure = ((1.0/2.0)*(Hr*Hr).data - Cr.data)\n",
    "    kernel_r = np.sum(np.matmul(np.matmul(p, structure), p), axis=(1,2))\n",
    "    F_ex_r = (4.0*np.pi/2.0)*np.trapz(r*r*kernel_r, r)\n",
    "    \n",
    "    #total free energy per unit volume and kBT\n",
    "    F_ex = F_ex_r + F_ex_k\n",
    "    \n",
    "    return F_ex"
   ]
  },
  {
   "cell_type": "code",
   "execution_count": 865,
   "metadata": {},
   "outputs": [
    {
     "data": {
      "text/plain": [
       "3.9318717282044804"
      ]
     },
     "execution_count": 865,
     "metadata": {},
     "output_type": "execute_result"
    }
   ],
   "source": [
    "ExcessFreeEnergy(PRISM)/PRISM.sys.density.total"
   ]
  },
  {
   "cell_type": "code",
   "execution_count": 851,
   "metadata": {},
   "outputs": [
    {
     "data": {
      "text/plain": [
       "3.948154547238304"
      ]
     },
     "execution_count": 851,
     "metadata": {},
     "output_type": "execute_result"
    }
   ],
   "source": [
    "ExcessFreeEnergy(PRISM)/PRISM.sys.density.total"
   ]
  },
  {
   "cell_type": "code",
   "execution_count": 816,
   "metadata": {},
   "outputs": [
    {
     "data": {
      "text/plain": [
       "True"
      ]
     },
     "execution_count": 816,
     "metadata": {},
     "output_type": "execute_result"
    }
   ],
   "source": [
    "type(PRISM.sys.closure['particle','polymer_middle']) == type(KovalenkoHirata())"
   ]
  },
  {
   "cell_type": "code",
   "execution_count": 742,
   "metadata": {},
   "outputs": [
    {
     "data": {
      "text/plain": [
       "['particle', 'polymer_middle', 'polymer_end']"
      ]
     },
     "execution_count": 742,
     "metadata": {},
     "output_type": "execute_result"
    }
   ],
   "source": [
    "PRISM.sys.types"
   ]
  },
  {
   "cell_type": "code",
   "execution_count": 752,
   "metadata": {},
   "outputs": [],
   "source": [
    "a = set()"
   ]
  },
  {
   "cell_type": "code",
   "execution_count": 753,
   "metadata": {},
   "outputs": [],
   "source": [
    "a.add(3)"
   ]
  },
  {
   "cell_type": "code",
   "execution_count": 758,
   "metadata": {},
   "outputs": [
    {
     "data": {
      "text/plain": [
       "True"
      ]
     },
     "execution_count": 758,
     "metadata": {},
     "output_type": "execute_result"
    }
   ],
   "source": [
    "not (a - set([3,4]))"
   ]
  },
  {
   "cell_type": "code",
   "execution_count": 694,
   "metadata": {},
   "outputs": [],
   "source": [
    "k = sys.domain.k\n",
    "I = pyPRISM.IdentityMatrixArray(length=len(sys.domain.k), rank=3, types=sys.types, space=pyPRISM.Space.Fourier)\n",
    "Ck = PRISM.directCorr\n",
    "Wk = PRISM.omega\n",
    "tr_WkCk = np.trace(Wk.dot(Ck).data, axis1=1, axis2=2)\n",
    "lndet_WkCk = np.log( np.linalg.det( (I-Wk.dot(Ck)).data ) )\n",
    "F_ex_k = -4.0*np.pi/(2.0*(2.0*np.pi)**3)*np.trapz(k*k*(tr_WkCk + lndet_WkCk), k)"
   ]
  },
  {
   "cell_type": "code",
   "execution_count": 695,
   "metadata": {},
   "outputs": [],
   "source": [
    "from copy import deepcopy"
   ]
  },
  {
   "cell_type": "code",
   "execution_count": 696,
   "metadata": {},
   "outputs": [],
   "source": [
    "r = sys.domain.r\n",
    "Cr = deepcopy(Ck)\n",
    "sys.domain.MatrixArray_to_real(Cr)\n",
    "p = np.diag(np.diag(sys.density.site.data[0]))\n",
    "Hr = PRISM.totalCorr\n",
    "structure = ((1.0/2.0)*(Hr*Hr).data*np.heaviside(-Hr.data, 0) - Cr.data)\n",
    "kernel_r = np.sum(np.matmul(np.matmul(p, structure), p), axis=(1,2))\n",
    "F_ex_r = (4.0*np.pi/2.0)*np.trapz(r*r*kernel_r, r)"
   ]
  },
  {
   "cell_type": "code",
   "execution_count": 697,
   "metadata": {},
   "outputs": [
    {
     "name": "stdout",
     "output_type": "stream",
     "text": [
      "0.15510765965024062\n",
      "0.06552257255892327\n",
      "0.08958508709131735\n"
     ]
    }
   ],
   "source": [
    "print F_ex_r \n",
    "print F_ex_k\n",
    "print F_ex_r - F_ex_k"
   ]
  },
  {
   "cell_type": "code",
   "execution_count": null,
   "metadata": {},
   "outputs": [],
   "source": []
  },
  {
   "cell_type": "code",
   "execution_count": null,
   "metadata": {},
   "outputs": [],
   "source": []
  },
  {
   "cell_type": "code",
   "execution_count": null,
   "metadata": {},
   "outputs": [],
   "source": []
  },
  {
   "cell_type": "code",
   "execution_count": null,
   "metadata": {},
   "outputs": [],
   "source": []
  },
  {
   "cell_type": "code",
   "execution_count": 869,
   "metadata": {},
   "outputs": [],
   "source": [
    "def CS(n):\n",
    "    return ((4.0*n-3.0*n*n)/(1.0-n)**2)"
   ]
  },
  {
   "cell_type": "code",
   "execution_count": 870,
   "metadata": {},
   "outputs": [
    {
     "data": {
      "text/plain": [
       "3.1111111111111116"
      ]
     },
     "execution_count": 870,
     "metadata": {},
     "output_type": "execute_result"
    }
   ],
   "source": [
    "CS(0.4)"
   ]
  },
  {
   "cell_type": "code",
   "execution_count": null,
   "metadata": {},
   "outputs": [],
   "source": []
  },
  {
   "cell_type": "code",
   "execution_count": 383,
   "metadata": {},
   "outputs": [],
   "source": [
    "#trace_1 = np.trace(np.matmul(np.matmul(Wk, Ck), p), axis1=1, axis2=2)\n",
    "trace = np.trace(np.matmul(Wk, Ck), axis1=1, axis2=2)"
   ]
  },
  {
   "cell_type": "code",
   "execution_count": 387,
   "metadata": {},
   "outputs": [],
   "source": [
    "I=np.repeat(np.expand_dims(np.identity(num_types), axis=0), repeats=len(sys.domain.k), axis=0)\n",
    "lndet = np.log(np.linalg.det(I-np.matmul(Wk, Ck)))"
   ]
  },
  {
   "cell_type": "code",
   "execution_count": 388,
   "metadata": {},
   "outputs": [
    {
     "data": {
      "text/plain": [
       "(-10, 10)"
      ]
     },
     "execution_count": 388,
     "metadata": {},
     "output_type": "execute_result"
    },
    {
     "data": {
      "image/png": "[encoded data removed]",
      "text/plain": [
       "<matplotlib.figure.Figure at 0x133fba90>"
      ]
     },
     "metadata": {},
     "output_type": "display_data"
    }
   ],
   "source": [
    "plt.plot(trace)\n",
    "plt.plot(lndet)\n",
    "plt.ylim(-10,10)"
   ]
  },
  {
   "cell_type": "code",
   "execution_count": 399,
   "metadata": {},
   "outputs": [
    {
     "name": "stdout",
     "output_type": "stream",
     "text": [
      "-65.084378545127\n"
     ]
    }
   ],
   "source": [
    "F = 4.0*np.pi/(2.0*(2.0*np.pi)**3)*np.trapz(k*k*(trace+lndet), k)\n",
    "print F"
   ]
  },
  {
   "cell_type": "code",
   "execution_count": 386,
   "metadata": {},
   "outputs": [
    {
     "data": {
      "image/png": "[encoded data removed]",
      "text/plain": [
       "<matplotlib.figure.Figure at 0xb225588>"
      ]
     },
     "metadata": {},
     "output_type": "display_data"
    }
   ],
   "source": [
    "plt.plot(abs(trace_1))\n",
    "plt.plot(abs(trace))\n",
    "plt.yscale('log')"
   ]
  },
  {
   "cell_type": "code",
   "execution_count": 405,
   "metadata": {},
   "outputs": [
    {
     "data": {
      "text/plain": [
       "[<matplotlib.lines.Line2D at 0xb2259b0>]"
      ]
     },
     "execution_count": 405,
     "metadata": {},
     "output_type": "execute_result"
    },
    {
     "data": {
      "image/png": "[encoded data removed]",
      "text/plain": [
       "<matplotlib.figure.Figure at 0x31f91630>"
      ]
     },
     "metadata": {},
     "output_type": "display_data"
    }
   ],
   "source": [
    "plt.plot(PRISM.omega['polymer_end','polymer_end'])"
   ]
  },
  {
   "cell_type": "code",
   "execution_count": 409,
   "metadata": {},
   "outputs": [
    {
     "data": {
      "text/plain": [
       "array([0.5729578, 0.5729578, 0.5729578, ..., 0.5729578, 0.5729578,\n",
       "       0.5729578])"
      ]
     },
     "execution_count": 409,
     "metadata": {},
     "output_type": "execute_result"
    }
   ],
   "source": [
    "PRISM.omega['particle','particle']"
   ]
  },
  {
   "cell_type": "markdown",
   "metadata": {},
   "source": [
    "## r-space contribution to free energy"
   ]
  },
  {
   "cell_type": "code",
   "execution_count": 296,
   "metadata": {},
   "outputs": [],
   "source": [
    "from copy import deepcopy"
   ]
  },
  {
   "cell_type": "code",
   "execution_count": 319,
   "metadata": {},
   "outputs": [],
   "source": [
    "directCorr = deepcopy(PRISM.directCorr)\n",
    "totalCorr = deepcopy(PRISM.totalCorr)\n",
    "sys.domain.MatrixArray_to_real(directCorr)"
   ]
  },
  {
   "cell_type": "code",
   "execution_count": null,
   "metadata": {},
   "outputs": [],
   "source": [
    "types = ['particle', 'polymer_end', 'polymer_middle']\n",
    "num_types = len(types)\n",
    "\n",
    "Cr = np.ones((len(sys.domain.k), num_types, num_types), dtype=None, order='C')\n",
    "Hr = np.ones((len(sys.domain.k), num_types, num_types), dtype=None, order='C')\n",
    "r = sys.domain.r\n",
    "\n",
    "for type_1 in types:\n",
    "    for type_2 in types:\n",
    "        "
   ]
  },
  {
   "cell_type": "code",
   "execution_count": null,
   "metadata": {},
   "outputs": [],
   "source": []
  },
  {
   "cell_type": "code",
   "execution_count": null,
   "metadata": {},
   "outputs": [],
   "source": []
  },
  {
   "cell_type": "code",
   "execution_count": null,
   "metadata": {},
   "outputs": [],
   "source": []
  },
  {
   "cell_type": "code",
   "execution_count": null,
   "metadata": {},
   "outputs": [],
   "source": []
  },
  {
   "cell_type": "code",
   "execution_count": null,
   "metadata": {},
   "outputs": [],
   "source": []
  },
  {
   "cell_type": "code",
   "execution_count": 285,
   "metadata": {},
   "outputs": [
    {
     "data": {
      "text/plain": [
       "[<matplotlib.lines.Line2D at 0x432154a8>]"
      ]
     },
     "execution_count": 285,
     "metadata": {},
     "output_type": "execute_result"
    },
    {
     "data": {
      "image/png": "[encoded data removed]",
      "text/plain": [
       "<matplotlib.figure.Figure at 0x3c2f6978>"
      ]
     },
     "metadata": {},
     "output_type": "display_data"
    }
   ],
   "source": [
    "plt.plot(PRISM.totalCorr['particle','polymer_end'])"
   ]
  },
  {
   "cell_type": "code",
   "execution_count": 316,
   "metadata": {},
   "outputs": [
    {
     "data": {
      "text/plain": [
       "(0, 4)"
      ]
     },
     "execution_count": 316,
     "metadata": {},
     "output_type": "execute_result"
    },
    {
     "data": {
      "image/png": "[encoded data removed]",
      "text/plain": [
       "<matplotlib.figure.Figure at 0x3c306b00>"
      ]
     },
     "metadata": {},
     "output_type": "display_data"
    }
   ],
   "source": [
    "plt.scatter(sys.domain.r, C['particle','particle'])\n",
    "plt.xlim(0,4)"
   ]
  },
  {
   "cell_type": "code",
   "execution_count": null,
   "metadata": {},
   "outputs": [],
   "source": []
  },
  {
   "cell_type": "code",
   "execution_count": null,
   "metadata": {},
   "outputs": [],
   "source": []
  },
  {
   "cell_type": "code",
   "execution_count": null,
   "metadata": {},
   "outputs": [],
   "source": []
  },
  {
   "cell_type": "code",
   "execution_count": null,
   "metadata": {},
   "outputs": [],
   "source": []
  },
  {
   "cell_type": "code",
   "execution_count": 214,
   "metadata": {},
   "outputs": [
    {
     "data": {
      "text/plain": [
       "array([ 6.86583086,  6.86602513,  6.86633422, ..., -0.01498586,\n",
       "       -0.01502369, -0.01503714])"
      ]
     },
     "execution_count": 214,
     "metadata": {},
     "output_type": "execute_result"
    }
   ],
   "source": [
    "lndet_1"
   ]
  },
  {
   "cell_type": "code",
   "execution_count": 249,
   "metadata": {},
   "outputs": [
    {
     "data": {
      "text/plain": [
       "[<matplotlib.lines.Line2D at 0x3b619f98>]"
      ]
     },
     "execution_count": 249,
     "metadata": {},
     "output_type": "execute_result"
    },
    {
     "data": {
      "image/png": "[encoded data removed]",
      "text/plain": [
       "<matplotlib.figure.Figure at 0x30a32358>"
      ]
     },
     "metadata": {},
     "output_type": "display_data"
    }
   ],
   "source": [
    "plt.plot(lndet_1)\n",
    "plt.plot(trace_1)\n",
    "plt.plot(lndet_1+trace_1)\n",
    "#plt.yscale('log')\n",
    "#plt.ylim(-1,1)"
   ]
  },
  {
   "cell_type": "code",
   "execution_count": 209,
   "metadata": {},
   "outputs": [
    {
     "name": "stdout",
     "output_type": "stream",
     "text": [
      "[[0.76394373 0.         0.         0.         0.         0.\n",
      "  0.         0.         0.         0.         0.        ]\n",
      " [0.         5.8823667  5.8823667  0.         0.         0.\n",
      "  0.         0.         0.         0.         0.        ]\n",
      " [0.         5.8823667  5.8823667  0.         0.         0.\n",
      "  0.         0.         0.         0.         0.        ]\n",
      " [0.         0.         0.         5.8823667  5.8823667  5.8823667\n",
      "  5.8823667  5.8823667  5.8823667  5.8823667  5.8823667 ]\n",
      " [0.         0.         0.         5.8823667  5.8823667  5.8823667\n",
      "  5.8823667  5.8823667  5.8823667  5.8823667  5.8823667 ]\n",
      " [0.         0.         0.         5.8823667  5.8823667  5.8823667\n",
      "  5.8823667  5.8823667  5.8823667  5.8823667  5.8823667 ]\n",
      " [0.         0.         0.         5.8823667  5.8823667  5.8823667\n",
      "  5.8823667  5.8823667  5.8823667  5.8823667  5.8823667 ]\n",
      " [0.         0.         0.         5.8823667  5.8823667  5.8823667\n",
      "  5.8823667  5.8823667  5.8823667  5.8823667  5.8823667 ]\n",
      " [0.         0.         0.         5.8823667  5.8823667  5.8823667\n",
      "  5.8823667  5.8823667  5.8823667  5.8823667  5.8823667 ]\n",
      " [0.         0.         0.         5.8823667  5.8823667  5.8823667\n",
      "  5.8823667  5.8823667  5.8823667  5.8823667  5.8823667 ]\n",
      " [0.         0.         0.         5.8823667  5.8823667  5.8823667\n",
      "  5.8823667  5.8823667  5.8823667  5.8823667  5.8823667 ]]\n"
     ]
    }
   ],
   "source": [
    "print p"
   ]
  },
  {
   "cell_type": "code",
   "execution_count": null,
   "metadata": {},
   "outputs": [],
   "source": []
  },
  {
   "cell_type": "code",
   "execution_count": null,
   "metadata": {},
   "outputs": [],
   "source": []
  },
  {
   "cell_type": "code",
   "execution_count": null,
   "metadata": {},
   "outputs": [],
   "source": []
  },
  {
   "cell_type": "code",
   "execution_count": 190,
   "metadata": {},
   "outputs": [
    {
     "data": {
      "text/plain": [
       "[<matplotlib.lines.Line2D at 0x286d6f28>]"
      ]
     },
     "execution_count": 190,
     "metadata": {},
     "output_type": "execute_result"
    },
    {
     "data": {
      "image/png": "[encoded data removed]",
      "text/plain": [
       "<matplotlib.figure.Figure at 0x182f14e0>"
      ]
     },
     "metadata": {},
     "output_type": "display_data"
    }
   ],
   "source": [
    "plt.plot(trace)\n",
    "#plt.plot(lndet)"
   ]
  },
  {
   "cell_type": "code",
   "execution_count": null,
   "metadata": {},
   "outputs": [],
   "source": []
  },
  {
   "cell_type": "code",
   "execution_count": 182,
   "metadata": {},
   "outputs": [
    {
     "data": {
      "text/plain": [
       "(4096L, 11L, 11L)"
      ]
     },
     "execution_count": 182,
     "metadata": {},
     "output_type": "execute_result"
    }
   ],
   "source": [
    "I.shape"
   ]
  },
  {
   "cell_type": "code",
   "execution_count": 179,
   "metadata": {},
   "outputs": [],
   "source": [
    "I=np.repeat(np.expand_dims(np.identity(1+length), axis=0), repeats=len(sys.domain.k), axis=0)"
   ]
  },
  {
   "cell_type": "code",
   "execution_count": null,
   "metadata": {},
   "outputs": [],
   "source": []
  },
  {
   "cell_type": "code",
   "execution_count": null,
   "metadata": {},
   "outputs": [],
   "source": []
  },
  {
   "cell_type": "code",
   "execution_count": null,
   "metadata": {},
   "outputs": [],
   "source": []
  },
  {
   "cell_type": "code",
   "execution_count": 17,
   "metadata": {},
   "outputs": [],
   "source": [
    "dkp = DiscreteKoyamaPartitioned(sigma=0.01, \n",
    "                                l=polymer_site_diameter, \n",
    "                                length=length, \n",
    "                                lp=0.20013,\n",
    "                                types=('end','middle'))"
   ]
  },
  {
   "cell_type": "code",
   "execution_count": 14,
   "metadata": {},
   "outputs": [
    {
     "name": "stdout",
     "output_type": "stream",
     "text": [
      "0.0\n",
      "-0.000625\n",
      "0.3329171875\n"
     ]
    }
   ],
   "source": [
    "print dkp.epsilon\n",
    "print dkp.cos1\n",
    "print dkp.cos2"
   ]
  },
  {
   "cell_type": "code",
   "execution_count": 18,
   "metadata": {},
   "outputs": [
    {
     "name": "stdout",
     "output_type": "stream",
     "text": [
      "7.400109543755484e-05\n",
      "-0.000649577774447\n",
      "0.33299469981537655\n"
     ]
    }
   ],
   "source": [
    "print dkp.epsilon\n",
    "print dkp.cos1\n",
    "print dkp.cos2"
   ]
  },
  {
   "cell_type": "code",
   "execution_count": 25,
   "metadata": {},
   "outputs": [
    {
     "data": {
      "text/plain": [
       "0.20012507817385866"
      ]
     },
     "execution_count": 25,
     "metadata": {},
     "output_type": "execute_result"
    }
   ],
   "source": [
    "4*(0.2)**3/(4*0.2**2-0.01**2)"
   ]
  },
  {
   "cell_type": "code",
   "execution_count": 33,
   "metadata": {},
   "outputs": [
    {
     "data": {
      "text/plain": [
       "0.20003333333333337"
      ]
     },
     "execution_count": 33,
     "metadata": {},
     "output_type": "execute_result"
    }
   ],
   "source": [
    "polymer_site_diameter*3.0005/3.0"
   ]
  },
  {
   "cell_type": "code",
   "execution_count": 40,
   "metadata": {},
   "outputs": [
    {
     "data": {
      "text/plain": [
       "0.5"
      ]
     },
     "execution_count": 40,
     "metadata": {},
     "output_type": "execute_result"
    }
   ],
   "source": [
    "sigma = 0.2\n",
    "l=0.2\n",
    "\n",
    "1 - sigma*sigma/(2.0 * l * l)"
   ]
  },
  {
   "cell_type": "code",
   "execution_count": 41,
   "metadata": {},
   "outputs": [
    {
     "data": {
      "text/plain": [
       "0.16666666666666666"
      ]
     },
     "execution_count": 41,
     "metadata": {},
     "output_type": "execute_result"
    }
   ],
   "source": [
    "1/6."
   ]
  },
  {
   "cell_type": "code",
   "execution_count": null,
   "metadata": {
    "collapsed": true
   },
   "outputs": [],
   "source": []
  },
  {
   "cell_type": "code",
   "execution_count": 63,
   "metadata": {
    "collapsed": true
   },
   "outputs": [],
   "source": [
    "def Cos1(epsilon, cos0):\n",
    "    e = epsilon\n",
    "    return (1/e  - ( np.exp(e) + cos0*np.exp(-e*cos0) )/( np.exp(e) - np.exp(-e*cos0) ))"
   ]
  },
  {
   "cell_type": "code",
   "execution_count": 146,
   "metadata": {
    "collapsed": true
   },
   "outputs": [],
   "source": [
    "l = 0.5\n",
    "lp = (2.9/3.0)*l\n",
    "sigma = 0.001\n",
    "cos0 = 1.0 - sigma*sigma/(2.0*l*l)\n",
    "cos1 = l/lp - 1.0"
   ]
  },
  {
   "cell_type": "code",
   "execution_count": 147,
   "metadata": {
    "collapsed": true
   },
   "outputs": [],
   "source": [
    "from scipy.optimize import root"
   ]
  },
  {
   "cell_type": "code",
   "execution_count": 148,
   "metadata": {
    "collapsed": true
   },
   "outputs": [],
   "source": [
    "func = lambda e: Cos1(e, cos0) - cos1"
   ]
  },
  {
   "cell_type": "code",
   "execution_count": 149,
   "metadata": {},
   "outputs": [
    {
     "data": {
      "text/plain": [
       "array([-0.10352538])"
      ]
     },
     "execution_count": 149,
     "metadata": {},
     "output_type": "execute_result"
    }
   ],
   "source": [
    "sol = root(func, [0.1], jac=False, method='hybr')\n",
    "sol.x"
   ]
  },
  {
   "cell_type": "code",
   "execution_count": 245,
   "metadata": {},
   "outputs": [
    {
     "ename": "ValueError",
     "evalue": "For l=0.5001 and sigma=1.0 the minimum valid lp=1250.6250875, otherwise overlaps between sites separated by two bonds will occur.",
     "output_type": "error",
     "traceback": [
      "\u001b[1;31m\u001b[0m",
      "\u001b[1;31mValueError\u001b[0mTraceback (most recent call last)",
      "\u001b[1;32m<ipython-input-245-69aa291ef07f>\u001b[0m in \u001b[0;36m<module>\u001b[1;34m()\u001b[0m\n\u001b[0;32m      6\u001b[0m                         \u001b[0ml\u001b[0m\u001b[1;33m=\u001b[0m\u001b[1;36m0.5001\u001b[0m\u001b[1;33m,\u001b[0m\u001b[1;33m\u001b[0m\u001b[0m\n\u001b[0;32m      7\u001b[0m                         \u001b[0mlength\u001b[0m\u001b[1;33m=\u001b[0m\u001b[1;36m50\u001b[0m\u001b[1;33m,\u001b[0m\u001b[1;33m\u001b[0m\u001b[0m\n\u001b[1;32m----> 8\u001b[1;33m                         lp=50)\n\u001b[0m\u001b[0;32m      9\u001b[0m \u001b[1;33m\u001b[0m\u001b[0m\n\u001b[0;32m     10\u001b[0m \u001b[1;32mprint\u001b[0m \u001b[1;33m(\u001b[0m\u001b[0mw_good\u001b[0m\u001b[1;33m.\u001b[0m\u001b[0mcos1\u001b[0m\u001b[1;33m,\u001b[0m\u001b[0mw_good\u001b[0m\u001b[1;33m.\u001b[0m\u001b[0mcos2\u001b[0m\u001b[1;33m,\u001b[0m\u001b[0mw_good\u001b[0m\u001b[1;33m.\u001b[0m\u001b[0mepsilon\u001b[0m\u001b[1;33m)\u001b[0m\u001b[1;33m\u001b[0m\u001b[0m\n",
      "\u001b[1;32m<ipython-input-240-a4ebdec00e0a>\u001b[0m in \u001b[0;36m__init__\u001b[1;34m(self, sigma, l, length, lp)\u001b[0m\n\u001b[0;32m    117\u001b[0m \u001b[1;33m\u001b[0m\u001b[0m\n\u001b[0;32m    118\u001b[0m         \u001b[1;32mif\u001b[0m \u001b[0mself\u001b[0m\u001b[1;33m.\u001b[0m\u001b[0mlp\u001b[0m\u001b[1;33m<\u001b[0m\u001b[0mself\u001b[0m\u001b[1;33m.\u001b[0m\u001b[0mlp_min\u001b[0m\u001b[1;33m:\u001b[0m\u001b[1;33m\u001b[0m\u001b[0m\n\u001b[1;32m--> 119\u001b[1;33m             \u001b[1;32mraise\u001b[0m \u001b[0mValueError\u001b[0m\u001b[1;33m(\u001b[0m\u001b[1;34m\"For l={} and sigma={} the minimum valid lp={}, otherwise overlaps \"\u001b[0m                              \u001b[1;34m\"between sites separated by two bonds will occur.\"\u001b[0m\u001b[1;33m.\u001b[0m\u001b[0mformat\u001b[0m\u001b[1;33m(\u001b[0m\u001b[0mself\u001b[0m\u001b[1;33m.\u001b[0m\u001b[0ml\u001b[0m\u001b[1;33m,\u001b[0m \u001b[0mself\u001b[0m\u001b[1;33m.\u001b[0m\u001b[0msigma\u001b[0m\u001b[1;33m,\u001b[0m \u001b[0mself\u001b[0m\u001b[1;33m.\u001b[0m\u001b[0mlp_min\u001b[0m\u001b[1;33m)\u001b[0m\u001b[1;33m)\u001b[0m\u001b[1;33m\u001b[0m\u001b[0m\n\u001b[0m\u001b[0;32m    120\u001b[0m         \u001b[1;31m#If lp is close to the minimum (freely jointed limit) the solver has\u001b[0m\u001b[1;33m\u001b[0m\u001b[1;33m\u001b[0m\u001b[0m\n\u001b[0;32m    121\u001b[0m         \u001b[1;31m#issues finding the bending energy due to the divergence in Eqn. 23 of\u001b[0m\u001b[1;33m\u001b[0m\u001b[1;33m\u001b[0m\u001b[0m\n",
      "\u001b[1;31mValueError\u001b[0m: For l=0.5001 and sigma=1.0 the minimum valid lp=1250.6250875, otherwise overlaps between sites separated by two bonds will occur."
     ]
    }
   ],
   "source": [
    "w_bad = pyPRISM.omega.DiscreteKoyama(sigma=1.0, \n",
    "                                        l=1.0, \n",
    "                                        length=50, \n",
    "                                        lp=4./3.0 )\n",
    "w_good = DiscreteKoyama(sigma=1.0, \n",
    "                        l=0.5001, \n",
    "                        length=50, \n",
    "                        lp=50)\n",
    "\n",
    "print (w_good.cos1,w_good.cos2,w_good.epsilon)"
   ]
  },
  {
   "cell_type": "code",
   "execution_count": 277,
   "metadata": {},
   "outputs": [
    {
     "name": "stdout",
     "output_type": "stream",
     "text": [
      "app\n",
      "-0.672189291875 0.487729764869 0.00910772618741\n"
     ]
    }
   ],
   "source": [
    "w_good = DiscreteKoyama(sigma=1.0, \n",
    "                        l=0.61, \n",
    "                        length=50, \n",
    "                        lp=1.86083)\n",
    "\n",
    "print (w_good.cos1,w_good.cos2,w_good.epsilon)"
   ]
  },
  {
   "cell_type": "code",
   "execution_count": 292,
   "metadata": {},
   "outputs": [
    {
     "name": "stdout",
     "output_type": "stream",
     "text": [
      "-0.67219022554 [0.48773106] [0.00913375]\n"
     ]
    }
   ],
   "source": [
    "w_good = DiscreteKoyama(sigma=1.0, \n",
    "                        l=0.61, \n",
    "                        length=50, \n",
    "                        lp=1.8608353)\n",
    "\n",
    "print (w_good.cos1,w_good.cos2,w_good.epsilon)"
   ]
  },
  {
   "cell_type": "code",
   "execution_count": 44,
   "metadata": {},
   "outputs": [
    {
     "data": {
      "text/plain": [
       "(0, 10)"
      ]
     },
     "execution_count": 44,
     "metadata": {},
     "output_type": "execute_result"
    },
    {
     "data": {
      "image/png": "[encoded data removed]",
      "text/plain": [
       "<matplotlib.figure.Figure at 0x115d60b8>"
      ]
     },
     "metadata": {},
     "output_type": "display_data"
    }
   ],
   "source": [
    "k = PRISM.sys.domain.k\n",
    "plt.plot(k, k*k*w_bad.calculate(k))\n",
    "plt.plot(k, k*k*w_good.calculate(k), color='red')\n",
    "plt.xlim(0,4)\n",
    "plt.ylim(0,10)"
   ]
  },
  {
   "cell_type": "code",
   "execution_count": 1,
   "metadata": {},
   "outputs": [
    {
     "ename": "NameError",
     "evalue": "name 'f' is not defined",
     "output_type": "error",
     "traceback": [
      "\u001b[1;31m\u001b[0m",
      "\u001b[1;31mNameError\u001b[0mTraceback (most recent call last)",
      "\u001b[1;32m<ipython-input-1-9a8ad92c50ca>\u001b[0m in \u001b[0;36m<module>\u001b[1;34m()\u001b[0m\n\u001b[1;32m----> 1\u001b[1;33m \u001b[0mf\u001b[0m\u001b[1;33m\u001b[0m\u001b[0m\n\u001b[0m",
      "\u001b[1;31mNameError\u001b[0m: name 'f' is not defined"
     ]
    }
   ],
   "source": [
    "f"
   ]
  },
  {
   "cell_type": "code",
   "execution_count": null,
   "metadata": {},
   "outputs": [],
   "source": []
  }
 ],
 "metadata": {
  "kernelspec": {
   "display_name": "Python 2",
   "language": "python",
   "name": "python2"
  },
  "language_info": {
   "codemirror_mode": {
    "name": "ipython",
    "version": 2
   },
   "file_extension": ".py",
   "mimetype": "text/x-python",
   "name": "python",
   "nbconvert_exporter": "python",
   "pygments_lexer": "ipython2",
   "version": "2.7.14"
  }
 },
 "nbformat": 4,
 "nbformat_minor": 2
}
