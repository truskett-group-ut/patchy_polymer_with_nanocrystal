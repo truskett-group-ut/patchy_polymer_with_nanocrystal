{
 "cells": [
  {
   "cell_type": "markdown",
   "metadata": {},
   "source": [
    "# Polymer + particle mixture using pyPRISM"
   ]
  },
  {
   "cell_type": "code",
   "execution_count": 1,
   "metadata": {
    "collapsed": false
   },
   "outputs": [],
   "source": [
    "import sys as s\n",
    "s.path.append('/home/beth/Desktop/Programs/patchy_polymer_with_nanocrystal/prism')\n",
    "import pyPRISM\n",
    "import matplotlib.pyplot as plt\n",
    "from custom_prism_tools.DiscreteKoyamaPartitioned import DiscreteKoyamaPartitioned\n",
    "from custom_prism_tools.DiscreteKoyama import DiscreteKoyama\n",
    "from custom_prism_tools.KovalenkoHirata import KovalenkoHirata\n",
    "from custom_prism_tools.ShiftedWeeksChandlerAnderson import ShiftedWeeksChandlerAnderson\n",
    "from custom_prism_tools.ThermodynamicsClosedForm import ThermodynamicsClosedForm\n",
    "import numpy as np\n",
    "%matplotlib inline"
   ]
  },
  {
   "cell_type": "markdown",
   "metadata": {},
   "source": [
    "## Tunable parameters"
   ]
  },
  {
   "cell_type": "code",
   "execution_count": 2,
   "metadata": {
    "collapsed": false
   },
   "outputs": [],
   "source": [
    "class Params:\n",
    "    def __init__(self):\n",
    "        #parameters\n",
    "        self.length = None\n",
    "        self.particle_eta = None\n",
    "        self.N_polymer__N_particle = None\n",
    "        self.particle_diameter = None\n",
    "        self.polymer_site_diameter = None \n",
    "        self.persistence_length_scale = None\n",
    "        self.epsilon = None\n",
    "        \n",
    "    def calcDependentParams(self):\n",
    "        self.length_scale = self.polymer_site_diameter\n",
    "        self.particle_density = 6.0*self.particle_eta/(np.pi*self.particle_diameter**3.0)\n",
    "        self.polymer_density = self.N_polymer__N_particle*self.particle_density\n",
    "        self.polymer_site_density = self.length*self.polymer_density\n",
    "        self.persistence_length = self.persistence_length_scale*self.polymer_site_diameter\n",
    "        self.particle_polymer_cross_diameter = (self.particle_diameter + self.polymer_site_diameter)/2.0\n",
    "        self.bond_length = 0.97 * self.polymer_site_diameter #kremer-grest\n",
    "\n",
    "params=Params()\n",
    "params.length = 10\n",
    "params.particle_eta = 0.04\n",
    "params.N_polymer__N_particle = 7.0\n",
    "params.particle_diameter = 5.0\n",
    "params.polymer_site_diameter = 1.0\n",
    "params.persistence_length_scale = 4.0/3.0\n",
    "params.epsilon = 1.0\n",
    "\n",
    "params.calcDependentParams()"
   ]
  },
  {
   "cell_type": "code",
   "execution_count": 3,
   "metadata": {
    "collapsed": true
   },
   "outputs": [],
   "source": [
    "def setSystem(sys):\n",
    "    # The composition of the system is desribed via number densities\n",
    "    sys.density['particle'] = params.particle_density\n",
    "    sys.density['polymer_end']  = params.polymer_site_density*(2.0/float(params.length))\n",
    "    sys.density['polymer_middle']  = params.polymer_site_density*(float(params.length-2)/float(params.length))\n",
    "\n",
    "    # The diameter of each site is specified (in reduced units)\n",
    "    sys.diameter['particle'] = params.particle_diameter\n",
    "    sys.diameter['polymer_end'] = params.polymer_site_diameter\n",
    "    sys.diameter['polymer_middle'] = params.polymer_site_diameter\n",
    "    \n",
    "    sys.omega['polymer_end','polymer_end'] = DiscreteKoyamaPartitioned(sigma=params.polymer_site_diameter, \n",
    "                                                                   l=params.bond_length, \n",
    "                                                                   length=params.length, \n",
    "                                                                   lp=params.persistence_length, \n",
    "                                                                   types=('end','end'))\n",
    "    sys.omega['polymer_middle','polymer_middle'] = DiscreteKoyamaPartitioned(sigma=params.polymer_site_diameter, \n",
    "                                                                         l=params.bond_length, \n",
    "                                                                         length=params.length, \n",
    "                                                                         lp=params.persistence_length, \n",
    "                                                                         types=('middle','middle'))\n",
    "    sys.omega['polymer_end','polymer_middle'] = DiscreteKoyamaPartitioned(sigma=params.polymer_site_diameter, \n",
    "                                                                      l=params.bond_length, \n",
    "                                                                      length=params.length, \n",
    "                                                                      lp=params.persistence_length, \n",
    "                                                                      types=('end','middle'))\n",
    "    \n",
    "    # The site-site interactions are specified via classes which are lazily\n",
    "    # evaluated during the PRISM-object creation\n",
    "\n",
    "    sys.potential['particle','particle'] = ShiftedWeeksChandlerAnderson(epsilon=params.epsilon, \n",
    "                                                                    length_scale=params.length_scale,\n",
    "                                                                    sigma=params.particle_diameter)\n",
    "    sys.potential['particle','polymer_end'] = ShiftedWeeksChandlerAnderson(epsilon=params.epsilon, \n",
    "                                                                       length_scale=params.length_scale,\n",
    "                                                                       sigma=params.particle_polymer_cross_diameter)\n",
    "    sys.potential['particle','polymer_middle'] = ShiftedWeeksChandlerAnderson(epsilon=params.epsilon, \n",
    "                                                                          length_scale=params.length_scale,\n",
    "                                                                          sigma=params.particle_polymer_cross_diameter)\n",
    "    sys.potential['polymer_end','polymer_end'] = ShiftedWeeksChandlerAnderson(epsilon=params.epsilon, \n",
    "                                                                          length_scale=params.length_scale,\n",
    "                                                                          sigma=params.polymer_site_diameter)\n",
    "    sys.potential['polymer_middle','polymer_middle'] = ShiftedWeeksChandlerAnderson(epsilon=params.epsilon, \n",
    "                                                                                length_scale=params.length_scale,\n",
    "                                                                                sigma=params.polymer_site_diameter)\n",
    "    sys.potential['polymer_end','polymer_middle'] = ShiftedWeeksChandlerAnderson(epsilon=params.epsilon, \n",
    "                                                                             length_scale=params.length_scale,\n",
    "                                                                             sigma=params.polymer_site_diameter)\n",
    "    return sys"
   ]
  },
  {
   "cell_type": "code",
   "execution_count": null,
   "metadata": {
    "collapsed": false,
    "scrolled": true
   },
   "outputs": [
    {
     "name": "stdout",
     "output_type": "stream",
     "text": [
      "('==> Solving for variable=', 8, 2.5, 7.0, 0.01, 0.066666666666666666)\n",
      "0:  |F(x)| = 224.434; step 1; tol 0.269278\n",
      "1:  |F(x)| = 43.278; step 1; tol 0.0334657\n",
      "2:  |F(x)| = 9.12181; step 1; tol 0.0399824\n",
      "3:  |F(x)| = 1.16459; step 1; tol 0.0146699\n",
      "4:  |F(x)| = 0.0343535; step 1; tol 0.000783138\n",
      "5:  |F(x)| = 3.29296e-05; step 1; tol 8.2694e-07\n",
      "6:  |F(x)| = 5.72039e-11; step 1; tol 2.71594e-12\n",
      "7:  |F(x)| = 4.66772e-14; step 1; tol 5.9924e-07\n",
      "('==> Solving for variable=', 8, 2.5, 7.0, 0.01, 0.083333333333333329)\n",
      "0:  |F(x)| = 1.64055e-07; step 1; tol 1.49626e-10\n",
      "1:  |F(x)| = 2.70429e-13; step 1; tol 2.44552e-12\n",
      "('==> Solving for variable=', 8, 2.5, 7.0, 0.01, 0.1111111111111111)\n",
      "0:  |F(x)| = 3.04137e-07; step 1; tol 1.85132e-10\n",
      "1:  |F(x)| = 6.5228e-13; step 1; tol 4.13974e-12\n",
      "('==> Solving for variable=', 8, 2.5, 7.0, 0.01, 0.16666666666666666)\n",
      "0:  |F(x)| = 8.31144e-07; step 1; tol 3.45674e-10\n",
      "1:  |F(x)| = 1.42433e-12; step 1; tol 2.64309e-12\n",
      "('==> Solving for variable=', 8, 2.5, 7.0, 0.01, 0.20000000000000001)\n",
      "0:  |F(x)| = 3.86183e-07; step 1; tol 2.0729e-10\n",
      "1:  |F(x)| = 9.88261e-13; step 1; tol 5.89385e-12\n",
      "('==> Solving for variable=', 8, 2.5, 7.0, 0.01, 0.25)\n",
      "0:  |F(x)| = 7.05792e-07; step 1; tol 3.07738e-10\n",
      "1:  |F(x)| = 2.46897e-12; step 1; tol 1.10134e-11\n",
      "('==> Solving for variable=', 8, 2.5, 7.0, 0.01, 0.33333333333333331)\n",
      "0:  |F(x)| = 3.70236e-06; step 1; tol 3.04878e-09\n",
      "1:  |F(x)| = 1.31182e-11; step 1; tol 1.12989e-11\n",
      "('==> Solving for variable=', 8, 2.5, 7.0, 0.01, 0.5)\n",
      "0:  |F(x)| = 9.12703e-06; step 1; tol 4.63297e-09\n",
      "1:  |F(x)| = 2.13245e-11; step 1; tol 4.91294e-12\n",
      "2:  |F(x)| = 6.50035e-14; step 1; tol 8.36293e-06\n",
      "('==> Solving for variable=', 8, 2.5, 7.0, 0.01, 1.0)\n",
      "0:  |F(x)| = 9.21541e-05; step 1; tol 5.25225e-08\n",
      "1:  |F(x)| = 2.89181e-10; step 1; tol 8.86246e-12\n",
      "2:  |F(x)| = 8.83782e-14; step 1; tol 8.40604e-08\n",
      "('==> Solving for variable=', 8, 2.5, 7.0, 0.01, 2.0)\n",
      "0:  |F(x)| = 0.000264792; step 1; tol 1.08547e-07\n",
      "1:  |F(x)| = 9.15978e-10; step 1; tol 1.07697e-11\n",
      "2:  |F(x)| = 1.1566e-13; step 1; tol 1.43496e-08\n",
      "('==> Solving for variable=', 8, 2.5, 7.0, 0.01, 3.0)\n",
      "0:  |F(x)| = 0.00026632; step 1; tol 1.09818e-07\n",
      "1:  |F(x)| = 4.73255e-10; step 1; tol 2.84201e-12\n",
      "2:  |F(x)| = 8.00347e-14; step 1; tol 2.574e-08\n",
      "('==> Solving for variable=', 8, 2.5, 7.0, 0.01, 4.0)\n",
      "0:  |F(x)| = 0.000267515; step 1; tol 1.10821e-07\n",
      "1:  |F(x)| = 5.67213e-10; step 1; tol 4.04612e-12\n",
      "2:  |F(x)| = 8.13087e-14; step 1; tol 1.84937e-08\n",
      "('==> Solving for variable=', 8, 2.5, 7.0, 0.01, 5.0)\n",
      "0:  |F(x)| = 0.000268763; step 1; tol 1.11874e-07\n",
      "1:  |F(x)| = 5.13095e-10; step 1; tol 3.28019e-12\n",
      "2:  |F(x)| = 4.48541e-14; step 1; tol 6.87781e-09\n",
      "('==> Solving for variable=', 8, 2.5, 7.0, 0.01, 6.0)\n",
      "0:  |F(x)| = 0.00026967; step 1; tol 1.12645e-07\n",
      "1:  |F(x)| = 6.19411e-10; step 1; tol 4.74828e-12\n",
      "2:  |F(x)| = 4.69086e-14; step 1; tol 5.16167e-09\n",
      "('==> Solving for variable=', 8, 2.5, 7.0, 0.01, 7.5)\n",
      "0:  |F(x)| = 0.000557247; step 1; tol 2.14066e-07\n",
      "1:  |F(x)| = 1.28785e-09; step 1; tol 4.80704e-12\n",
      "2:  |F(x)| = 5.8125e-14; step 1; tol 1.83331e-09\n",
      "('==> Solving for variable=', 8, 2.5, 7.0, 0.01, 9.0)\n",
      "0:  |F(x)| = 0.000559296; step 1; tol 2.1569e-07\n",
      "1:  |F(x)| = 2.06831e-09; step 1; tol 1.23081e-11\n",
      "2:  |F(x)| = 1.80029e-13; step 1; tol 6.81862e-09\n",
      "('==> Solving for variable=', 8, 2.5, 7.0, 0.01, 12.0)\n",
      "0:  |F(x)| = 0.002133; step 1; tol 7.87278e-07\n",
      "1:  |F(x)| = 1.30098e-08; step 1; tol 3.34815e-11\n",
      "2:  |F(x)| = 2.17413e-13; step 1; tol 2.51346e-10\n",
      "('==> Solving for variable=', 8, 2.5, 7.0, 0.01, 15.0)\n",
      "0:  |F(x)| = 0.00220337; step 1; tol 8.40467e-07\n",
      "1:  |F(x)| = 2.06543e-08; step 1; tol 7.9084e-11\n",
      "2:  |F(x)| = 4.99152e-13; step 1; tol 5.25639e-10\n",
      "('==> Solving for variable=', 8, 2.5, 7.0, 0.3, 0.066666666666666666)\n",
      "0:  |F(x)| = 25.2448; step 1; tol 0.116856\n",
      "1:  |F(x)| = 6.59065; step 1; tol 0.0613416\n",
      "2:  |F(x)| = 0.669077; step 1; tol 0.00927552\n",
      "3:  |F(x)| = 0.00591844; step 1; tol 7.04213e-05\n",
      "4:  |F(x)| = 2.48162e-07; step 1; tol 1.58234e-09\n",
      "5:  |F(x)| = 1.05472e-12; step 1; tol 1.62572e-11\n",
      "('==> Solving for variable=', 8, 2.5, 7.0, 0.3, 0.083333333333333329)\n",
      "0:  |F(x)| = 0.00117363; step 1; tol 1.0479e-05\n",
      "1:  |F(x)| = 1.31029e-08; step 1; tol 1.1218e-10\n",
      "2:  |F(x)| = 3.07987e-13; step 1; tol 4.97247e-10\n",
      "('==> Solving for variable=', 8, 2.5, 7.0, 0.3, 0.1111111111111111)\n",
      "0:  |F(x)| = 0.00325155; step 1; tol 2.89744e-05\n",
      "1:  |F(x)| = 9.74891e-08; step 1; tol 8.09049e-10\n",
      "2:  |F(x)| = 4.64032e-13; step 1; tol 2.03904e-11\n",
      "('==> Solving for variable=', 8, 2.5, 7.0, 0.3, 0.16666666666666666)\n",
      "0:  |F(x)| = 0.0129829; step 1; tol 0.000115545\n",
      "1:  |F(x)| = 1.53762e-06; step 1; tol 1.26239e-08\n",
      "2:  |F(x)| = 4.91572e-12; step 1; tol 9.1986e-12\n",
      "('==> Solving for variable=', 8, 2.5, 7.0, 0.3, 0.20000000000000001)\n",
      "0:  |F(x)| = 0.00466521; step 1; tol 4.16606e-05\n",
      "1:  |F(x)| = 2.00472e-07; step 1; tol 1.6619e-09\n",
      "2:  |F(x)| = 8.52359e-13; step 1; tol 1.62698e-11\n",
      "('==> Solving for variable=', 8, 2.5, 7.0, 0.3, 0.25)\n",
      "0:  |F(x)| = 0.0105149; step 1; tol 9.42052e-05\n",
      "1:  |F(x)| = 1.00551e-06; step 1; tol 8.23e-09\n",
      "2:  |F(x)| = 4.17652e-12; step 1; tol 1.55275e-11\n",
      "('==> Solving for variable=', 8, 2.5, 7.0, 0.3, 0.33333333333333331)\n",
      "0:  |F(x)| = 0.028856; step 1; tol 0.000255877\n",
      "1:  |F(x)| = 7.63985e-06; step 1; tol 6.30869e-08\n",
      "2:  |F(x)| = 3.01032e-11; step 1; tol 1.39732e-11\n",
      "3:  |F(x)| = 3.04201e-13; step 1; tol 9.19052e-05\n",
      "('==> Solving for variable=', 8, 2.5, 7.0, 0.3, 0.5)\n",
      "0:  |F(x)| = 0.112878; step 1; tol 0.00098027\n"
     ]
    }
   ],
   "source": [
    "params.polymer_site_diameter = 1.0\n",
    "gr_results = []\n",
    "F_P = []\n",
    "# The system holds all information needed to set up a PRISM problem. We\n",
    "# instantiate the system by specifying the site types and thermal energy\n",
    "# level (kT, coarse-grained temperature) of the system.\n",
    "sys = pyPRISM.System(['particle','polymer_middle','polymer_end'], kT=1.0)\n",
    "\n",
    "# We must discretize Real and Fourier space\n",
    "sys.domain = pyPRISM.Domain(dr=0.01,length=4096)\n",
    "\n",
    "# The molecular structure is described via intra-molecular correlation\n",
    "# functions (i.e. omegas)\n",
    "sys.omega['particle','particle'] = pyPRISM.omega.SingleSite()\n",
    "sys.omega['particle','polymer_end'] = pyPRISM.omega.InterMolecular()\n",
    "sys.omega['particle','polymer_middle'] = pyPRISM.omega.InterMolecular()\n",
    "\n",
    "# Closure approximations are also specified via classes\n",
    "sys.closure['particle','particle'] = KovalenkoHirata()\n",
    "sys.closure['particle','polymer_end'] = KovalenkoHirata()\n",
    "sys.closure['particle','polymer_middle'] = KovalenkoHirata()\n",
    "sys.closure['polymer_end','polymer_end'] = KovalenkoHirata()\n",
    "sys.closure['polymer_middle','polymer_middle'] = KovalenkoHirata()\n",
    "sys.closure['polymer_end','polymer_middle'] = KovalenkoHirata()\n",
    "\n",
    "gamma_list = []\n",
    "for i in np.arange(15.0, 8.9, -3.0):\n",
    "    gamma_list.append(1.0/i)\n",
    "for i in np.arange(6.0, 1.9, -1.0):\n",
    "    gamma_list.append(1.0/i)\n",
    "for i in np.arange(1.0, 6.1, 1.0):\n",
    "    gamma_list.append(i)\n",
    "gamma_list.append(7.5)\n",
    "for i in np.arange(9.0, 15.1, 3.0):\n",
    "    gamma_list.append(i)\n",
    "\n",
    "guess=np.zeros(len(sys.types)*len(sys.types)*4096)\n",
    "guess_save=guess\n",
    "\n",
    "for params.length in [8]: #range(5,11,1):\n",
    "    guess=np.zeros(len(sys.types)*len(sys.types)*4096)\n",
    "    for params.persistence_length_scale in [2.5]: #[1.334, 1.43, 2, 2.5, 3, 4, 5, 10]:\n",
    "        guess=np.zeros(len(sys.types)*len(sys.types)*4096)\n",
    "        for params.particle_diameter in np.arange(7.0, 2.5, -1.0):\n",
    "            guess=np.zeros(len(sys.types)*len(sys.types)*4096)\n",
    "            filename=\"gr_\"+str(params.length)+\"_\"+str(params.persistence_length_scale)+\"_\"+str(params.particle_diameter)+\".dat\"\n",
    "            for params.particle_eta in [0.01, 0.3, 0.05, 0.075, 0.1]: #np.arange(0.01, 0.11, 0.02): \n",
    "                if (params.particle_eta - 0.05) > 0.001:\n",
    "                    guess=guess_save\n",
    "                for params.N_polymer__N_particle in gamma_list:\n",
    "#            if abs(params.particle_eta - 0.09) < 0.001 or params.N_polymer__N_particle == 0.1: \n",
    "                    eta_total = params.particle_eta*(1.+(params.polymer_site_diameter/params.particle_diameter)**3.*params.N_polymer__N_particle*params.length)\n",
    "                    if eta_total < 0.5:\n",
    "                        filename=\"PRISM_\"+str(params.length)+\"_\"+str(params.persistence_length_scale)+\"_\"+str(params.particle_diameter)+\"_\"+str(params.particle_eta)+\"_\"+str(params.N_polymer__N_particle)+\".dat\"\n",
    "                        print('==> Solving for variable=', params.length, params.persistence_length_scale, params.particle_diameter, params.particle_eta, params.N_polymer__N_particle)\n",
    "                        params.calcDependentParams()\n",
    "                        sys=setSystem(sys)\n",
    "# Calling the .solve() method of the system object attempts to numerically\n",
    "# solv the PRISM equation and, if successful, it returns a PRISM object\n",
    "# containing all of the solved correlation functions.\n",
    "                        PRISM = sys.solve(guess=guess, method='krylov', tol=1e-7, options={'disp':True, 'maxiter':50})\n",
    "                        guess = np.copy(PRISM.x)\n",
    "\n",
    "                        x = sys.domain.r[4:700:5]\n",
    "                        y = pyPRISM.calculate.pair_correlation(PRISM)['particle','polymer_end'][4:700:5]\n",
    "                        np.savetxt(\"/home/beth/Desktop/Programs/patchy_polymer_with_nanocrystal/prism/work/PRISMdata/\"+filename, zip(x,y))\n",
    "                        currentFP=ThermodynamicsClosedForm(PRISM, default_method='KH')\n",
    "                        F_P.append(currentFP)\n",
    "                        with open(\"/home/beth/Desktop/Programs/patchy_polymer_with_nanocrystal/prism/work/PRISMdata/\"+filename, \"a\") as fh:\n",
    "                            fh.write(str(currentFP)+\"\\n\")\n",
    "#                        gr_results.append([params.particle_eta,params.length,params.persistence_length_scale,params.N_polymer__N_particle,params.particle_diameter,x,y,currentFP])\n",
    "                        if (params.N_polymer__N_particle - gamma_list[0]) < 0.001:\n",
    "                            guess_save = np.copy(PRISM.x)\n",
    "    print('')\n",
    "    \n",
    "print('Done!')\n",
    "F_P = np.array(F_P)\n"
   ]
  },
  {
   "cell_type": "code",
   "execution_count": null,
   "metadata": {
    "collapsed": true
   },
   "outputs": [],
   "source": [
    "guess = np.copy(PRISM.x)"
   ]
  },
  {
   "cell_type": "code",
   "execution_count": null,
   "metadata": {
    "collapsed": false
   },
   "outputs": [],
   "source": [
    "rdf = pyPRISM.calculate.pair_correlation(PRISM)\n",
    "# Plot the results using matplotlib\n",
    "plt.plot(sys.domain.r,rdf['particle','particle'],color='gold',lw=1.25,ls='-')\n",
    "plt.plot(sys.domain.r,rdf['particle','polymer_end'],color='red',lw=3,ls='-')\n",
    "plt.plot(sys.domain.r,rdf['particle','polymer_middle'],color='blue',lw=3,ls='-')\n",
    "plt.plot(sys.domain.r,rdf['polymer_end','polymer_end'],color='green',lw=1.25,ls='-')\n",
    "plt.plot(sys.domain.r,rdf['polymer_middle','polymer_middle'],color='purple',lw=1.25,ls='-')\n",
    "plt.plot(sys.domain.r,rdf['polymer_end','polymer_middle'],color='orange',lw=1.25,ls='-')\n",
    "plt.ylabel('pair correlation')\n",
    "plt.xlabel('separation distance')\n",
    "plt.xlim(0,15)\n",
    "plt.ylim(0,3)\n",
    "plt.show()"
   ]
  },
  {
   "cell_type": "code",
   "execution_count": null,
   "metadata": {
    "collapsed": false
   },
   "outputs": [],
   "source": [
    "color_idx = np.linspace(0, 1, len(gr_results))\n",
    "color_idx = np.linspace(0, 1, len(gr_results))\n",
    "#for _,r,gr in gr_results:\n",
    "for i, gr_obj in zip(color_idx, gr_results):\n",
    "    eta_c,l,l_p,gamma,d_c,r,gr,_=gr_obj\n",
    "    if abs(eta_c - 0.09) < 0.001 and abs(d_c - 5.0) < 0.001 and abs(gamma - 4.0) < 100.0:\n",
    "        plt.plot(r,gr,lw=1.25, color=plt.cm.cool(i),ls='-')\n",
    "plt.ylabel('pair correlation')\n",
    "plt.xlabel('separation distance')\n",
    "plt.xlim(2.5,8)\n",
    "#plt.ylim(0,2)\n",
    "plt.show()"
   ]
  },
  {
   "cell_type": "code",
   "execution_count": null,
   "metadata": {
    "collapsed": false
   },
   "outputs": [],
   "source": [
    "print F_P"
   ]
  },
  {
   "cell_type": "code",
   "execution_count": null,
   "metadata": {
    "collapsed": false,
    "scrolled": true
   },
   "outputs": [],
   "source": [
    "print gr_results"
   ]
  },
  {
   "cell_type": "markdown",
   "metadata": {},
   "source": [
    "## k-space contribution to free energy"
   ]
  },
  {
   "cell_type": "code",
   "execution_count": null,
   "metadata": {
    "collapsed": true
   },
   "outputs": [],
   "source": [
    "Ck = np.ones((len(sys.domain.k), 1+length,1+length), dtype=None, order='C')\n",
    "Wk = np.ones((len(sys.domain.k), 1+length,1+length), dtype=None, order='C')\n",
    "p = np.zeros((1+length,1+length), dtype=None, order='C')\n",
    "k = sys.domain.k\n",
    "\n",
    "types = ['particle', 'polymer_end', 'polymer_middle']\n",
    "type_indices = {'particle': [1], 'polymer_end': [1,length], 'polymer_middle': range(2, length)}\n",
    "single_site_density = {'particle': particle_density, \n",
    "                       'polymer_end': polymer_density, \n",
    "                       'polymer_middle': polymer_density}\n",
    "\n",
    "#loops over the rows\n",
    "row = 0\n",
    "for type_1 in types:\n",
    "    for index_1 in type_indices[type_1]:\n",
    "        \n",
    "        #loops over the columns\n",
    "        column = 0\n",
    "        for type_2 in types:\n",
    "            for index_2 in type_indices[type_2]:\n",
    "                \n",
    "                #build a 3d entry into our tensor\n",
    "                c = PRISM.directCorr[type_1,type_2]\n",
    "                Ck[:,row:row+1,column:column+1] = np.expand_dims(np.expand_dims(c, axis=1), axis=1)\n",
    "                \n",
    "                #polymer-polymer w(k)\n",
    "                if type_1 in ['polymer_end', 'polymer_middle'] and type_2 in ['polymer_end', 'polymer_middle']:\n",
    "                    n = abs(index_1-index_2)\n",
    "                    if n:\n",
    "                        w = sys.omega[type_1,type_2].koyama_kernel_fourier(k,n)\n",
    "                    else:\n",
    "                        w = np.ones((len(sys.domain.k)), dtype=None, order='C')\n",
    "                else:\n",
    "                    w = sys.omega[type_1,type_2].calculate(k)\n",
    "                    \n",
    "                Wk[:,row:row+1,column:column+1] = np.expand_dims(np.expand_dims(w, axis=1), axis=1)\n",
    "                \n",
    "                p[row:row+1,column:column+1] = (row == column)*single_site_density[type_1]\n",
    "            \n",
    "                column += 1\n",
    "            \n",
    "        row+=1"
   ]
  },
  {
   "cell_type": "code",
   "execution_count": null,
   "metadata": {
    "collapsed": true
   },
   "outputs": [],
   "source": [
    "trace_1 = np.trace(np.matmul(np.matmul(Wk, Ck), p), axis1=1, axis2=2)\n",
    "trace_2 = np.trace(np.matmul(np.matmul(p, Wk), Ck), axis1=1, axis2=2)"
   ]
  },
  {
   "cell_type": "code",
   "execution_count": null,
   "metadata": {
    "collapsed": true
   },
   "outputs": [],
   "source": [
    "I=np.repeat(np.expand_dims(np.identity(1+length), axis=0), repeats=len(sys.domain.k), axis=0)\n",
    "lndet_1 = np.log(np.linalg.det(I-np.matmul(np.matmul(Wk, Ck), p)))\n",
    "lndet_2 = np.log(np.linalg.det(I-np.matmul(np.matmul(p, Wk), Ck)))"
   ]
  },
  {
   "cell_type": "code",
   "execution_count": null,
   "metadata": {
    "collapsed": false
   },
   "outputs": [],
   "source": [
    "F = 4.0*np.pi/(2.0*(2.0*np.pi)**3)*np.trapz(k*k*(trace_1+lndet_1), k)\n",
    "print F"
   ]
  },
  {
   "cell_type": "code",
   "execution_count": null,
   "metadata": {
    "collapsed": true
   },
   "outputs": [],
   "source": []
  },
  {
   "cell_type": "markdown",
   "metadata": {},
   "source": [
    "#### Testing the PRISM version"
   ]
  },
  {
   "cell_type": "code",
   "execution_count": null,
   "metadata": {
    "collapsed": false
   },
   "outputs": [],
   "source": [
    "sys.density.types"
   ]
  },
  {
   "cell_type": "code",
   "execution_count": null,
   "metadata": {
    "collapsed": true
   },
   "outputs": [],
   "source": [
    "num_types = len(sys.density.types)\n",
    "\n",
    "Ck = np.ones((len(sys.domain.k), num_types, num_types), dtype=None, order='C')\n",
    "Wk = np.ones((len(sys.domain.k), num_types, num_types), dtype=None, order='C')\n",
    "p = np.zeros((num_types,num_types), dtype=None, order='C')\n",
    "k = sys.domain.k\n",
    "\n",
    "#loops over the rows\n",
    "row = 0\n",
    "for type_1 in sys.density.types:\n",
    "        \n",
    "    #loops over the columns\n",
    "    column = 0\n",
    "    for type_2 in sys.density.types:\n",
    "                \n",
    "        #build a 3d entry into our tensor\n",
    "        c = PRISM.directCorr[type_1,type_2]\n",
    "        Ck[:,row:row+1,column:column+1] = np.expand_dims(np.expand_dims(c, axis=1), axis=1)\n",
    "        \n",
    "        w = PRISM.omega[type_1,type_2]\n",
    "        Wk[:,row:row+1,column:column+1] = np.expand_dims(np.expand_dims(w, axis=1), axis=1)\n",
    "                \n",
    "        p[row:row+1,column:column+1] = ((row == column)*sys.density[type_1] + \n",
    "                                        (row != column)*(sys.density[type_1] + sys.density[type_2]))\n",
    "            \n",
    "        column += 1\n",
    "            \n",
    "    row+=1"
   ]
  },
  {
   "cell_type": "code",
   "execution_count": null,
   "metadata": {
    "collapsed": true
   },
   "outputs": [],
   "source": [
    "trace = np.trace(np.matmul(Wk, Ck), axis1=1, axis2=2)"
   ]
  },
  {
   "cell_type": "code",
   "execution_count": null,
   "metadata": {
    "collapsed": true
   },
   "outputs": [],
   "source": [
    "I=np.repeat(np.expand_dims(np.identity(num_types), axis=0), repeats=len(sys.domain.k), axis=0)\n",
    "lndet = np.log(np.linalg.det(I-np.matmul(Wk, Ck)))"
   ]
  },
  {
   "cell_type": "markdown",
   "metadata": {},
   "source": [
    "## k-space free energy"
   ]
  },
  {
   "cell_type": "code",
   "execution_count": null,
   "metadata": {
    "collapsed": true
   },
   "outputs": [],
   "source": [
    "import pyPRISM\n",
    "import numpy as np\n",
    "from itertools import combinations_with_replacement\n",
    "from copy import deepcopy\n",
    "import warnings\n",
    "\n",
    "def ExcessFreeEnergy(PRISM, default_method='HNC'): \n",
    "    \n",
    "    #check on the closures and raise a warning of incompatible\n",
    "    closures = set()\n",
    "    for type_1, type_2 in combinations_with_replacement(PRISM.sys.types, 2):\n",
    "        closures.add(type(PRISM.sys.closure[type_1, type_2]))\n",
    "    \n",
    "    if not (closures - set([type(KovalenkoHirata())])):\n",
    "        method = 'KH'\n",
    "    elif not (closures - set([type(pyPRISM.closure.HyperNettedChain())])):\n",
    "        method = 'HNC'\n",
    "    else:\n",
    "        warnings.warn('This calculation is only theoretically valid if either \\\\\n",
    "                      the KovalenkoHirata (KH) or HyperNettedChain (HNC) \\\\\n",
    "                      closures are used for all pairs. Defaulting to {} \\\\\n",
    "                      functional form for use with mixed closures.'.format(default_method), UserWarning)\n",
    "        method = default_method\n",
    "    \n",
    "    #extra quantities for k-space calculation\n",
    "    k = PRISM.sys.domain.k\n",
    "    I = pyPRISM.IdentityMatrixArray(length=len(PRISM.sys.domain.k), rank=3, \n",
    "                                    types=PRISM.sys.types, space=pyPRISM.Space.Fourier)\n",
    "    \n",
    "    #extra quantities for r-space calculation\n",
    "    r = PRISM.sys.domain.r\n",
    "    p = np.diag(np.diag(PRISM.sys.density.site.data[0]))  #this is a diagonal density matrix\n",
    "    \n",
    "    #direct correlation function in r- and k-space\n",
    "    if PRISM.directCorr.space == pyPRISM.Space.Real:\n",
    "        Cr = deepcopy(PRISM.directCorr)\n",
    "        Ck = deepcopy(Cr)\n",
    "        PRISM.sys.domain.MatrixArray_to_fourier(Ck)\n",
    "    elif PRISM.directCorr.space == pyPRISM.Space.Fourier:\n",
    "        Ck = deepcopy(PRISM.directCorr)\n",
    "        Cr = deepcopy(Ck)\n",
    "        PRISM.sys.domain.MatrixArray_to_real(Cr)\n",
    "    \n",
    "    #intramolecular structure in k-space\n",
    "    Wk = deepcopy(PRISM.omega)\n",
    "    if Wk.space == pyPRISM.Space.Real:\n",
    "        PRISM.sys.domain.MatrixArray_to_fourier(Wk)\n",
    "    \n",
    "    #total correlation function in r-space\n",
    "    Hr = deepcopy(PRISM.totalCorr)\n",
    "    if Hr.space == pyPRISM.Space.Fourier:\n",
    "        PRISM.sys.domain.MatrixArray_to_real(Hr)\n",
    "    \n",
    "    #calculate the k-space contribution\n",
    "    tr_WkCk = np.trace(Wk.dot(Ck).data, axis1=1, axis2=2)\n",
    "    lndet_WkCk = np.log( np.linalg.det( (I-Wk.dot(Ck)).data ) )\n",
    "    F_ex_k = 4.0*np.pi/(2.0*(2.0*np.pi)**3)*np.trapz(k*k*(tr_WkCk + lndet_WkCk), k)\n",
    "    \n",
    "    #calculate the r-space contribution\n",
    "    if method == 'KH':\n",
    "        structure = ((1.0/2.0)*(Hr*Hr).data*np.heaviside(-Hr.data, 0) - Cr.data)\n",
    "    elif method == 'HNC':\n",
    "        structure = ((1.0/2.0)*(Hr*Hr).data - Cr.data)\n",
    "    kernel_r = np.sum(np.matmul(np.matmul(p, structure), p), axis=(1,2))\n",
    "    F_ex_r = (4.0*np.pi/2.0)*np.trapz(r*r*kernel_r, r)\n",
    "    \n",
    "    #total free energy per unit volume and kBT\n",
    "    F_ex = F_ex_r + F_ex_k\n",
    "    \n",
    "    return F_ex"
   ]
  },
  {
   "cell_type": "code",
   "execution_count": null,
   "metadata": {
    "collapsed": false
   },
   "outputs": [],
   "source": [
    "ExcessFreeEnergy(PRISM)/PRISM.sys.density.total"
   ]
  },
  {
   "cell_type": "code",
   "execution_count": null,
   "metadata": {
    "collapsed": false
   },
   "outputs": [],
   "source": [
    "ExcessFreeEnergy(PRISM)/PRISM.sys.density.total"
   ]
  },
  {
   "cell_type": "code",
   "execution_count": null,
   "metadata": {
    "collapsed": false
   },
   "outputs": [],
   "source": [
    "type(PRISM.sys.closure['particle','polymer_middle']) == type(KovalenkoHirata())"
   ]
  },
  {
   "cell_type": "code",
   "execution_count": null,
   "metadata": {
    "collapsed": false
   },
   "outputs": [],
   "source": [
    "PRISM.sys.types"
   ]
  },
  {
   "cell_type": "code",
   "execution_count": null,
   "metadata": {
    "collapsed": true
   },
   "outputs": [],
   "source": [
    "a = set()"
   ]
  },
  {
   "cell_type": "code",
   "execution_count": null,
   "metadata": {
    "collapsed": true
   },
   "outputs": [],
   "source": [
    "a.add(3)"
   ]
  },
  {
   "cell_type": "code",
   "execution_count": null,
   "metadata": {
    "collapsed": false
   },
   "outputs": [],
   "source": [
    "not (a - set([3,4]))"
   ]
  },
  {
   "cell_type": "code",
   "execution_count": null,
   "metadata": {
    "collapsed": true
   },
   "outputs": [],
   "source": [
    "k = sys.domain.k\n",
    "I = pyPRISM.IdentityMatrixArray(length=len(sys.domain.k), rank=3, types=sys.types, space=pyPRISM.Space.Fourier)\n",
    "Ck = PRISM.directCorr\n",
    "Wk = PRISM.omega\n",
    "tr_WkCk = np.trace(Wk.dot(Ck).data, axis1=1, axis2=2)\n",
    "lndet_WkCk = np.log( np.linalg.det( (I-Wk.dot(Ck)).data ) )\n",
    "F_ex_k = -4.0*np.pi/(2.0*(2.0*np.pi)**3)*np.trapz(k*k*(tr_WkCk + lndet_WkCk), k)"
   ]
  },
  {
   "cell_type": "code",
   "execution_count": null,
   "metadata": {
    "collapsed": true
   },
   "outputs": [],
   "source": [
    "from copy import deepcopy"
   ]
  },
  {
   "cell_type": "code",
   "execution_count": null,
   "metadata": {
    "collapsed": true
   },
   "outputs": [],
   "source": [
    "r = sys.domain.r\n",
    "Cr = deepcopy(Ck)\n",
    "sys.domain.MatrixArray_to_real(Cr)\n",
    "p = np.diag(np.diag(sys.density.site.data[0]))\n",
    "Hr = PRISM.totalCorr\n",
    "structure = ((1.0/2.0)*(Hr*Hr).data*np.heaviside(-Hr.data, 0) - Cr.data)\n",
    "kernel_r = np.sum(np.matmul(np.matmul(p, structure), p), axis=(1,2))\n",
    "F_ex_r = (4.0*np.pi/2.0)*np.trapz(r*r*kernel_r, r)"
   ]
  },
  {
   "cell_type": "code",
   "execution_count": null,
   "metadata": {
    "collapsed": false
   },
   "outputs": [],
   "source": [
    "print F_ex_r \n",
    "print F_ex_k\n",
    "print F_ex_r - F_ex_k"
   ]
  },
  {
   "cell_type": "code",
   "execution_count": null,
   "metadata": {
    "collapsed": true
   },
   "outputs": [],
   "source": []
  },
  {
   "cell_type": "code",
   "execution_count": null,
   "metadata": {
    "collapsed": true
   },
   "outputs": [],
   "source": []
  },
  {
   "cell_type": "code",
   "execution_count": null,
   "metadata": {
    "collapsed": true
   },
   "outputs": [],
   "source": []
  },
  {
   "cell_type": "code",
   "execution_count": null,
   "metadata": {
    "collapsed": true
   },
   "outputs": [],
   "source": []
  },
  {
   "cell_type": "code",
   "execution_count": null,
   "metadata": {
    "collapsed": true
   },
   "outputs": [],
   "source": [
    "def CS(n):\n",
    "    return ((4.0*n-3.0*n*n)/(1.0-n)**2)"
   ]
  },
  {
   "cell_type": "code",
   "execution_count": null,
   "metadata": {
    "collapsed": false
   },
   "outputs": [],
   "source": [
    "CS(0.4)"
   ]
  },
  {
   "cell_type": "code",
   "execution_count": null,
   "metadata": {
    "collapsed": true
   },
   "outputs": [],
   "source": []
  },
  {
   "cell_type": "code",
   "execution_count": null,
   "metadata": {
    "collapsed": true
   },
   "outputs": [],
   "source": [
    "#trace_1 = np.trace(np.matmul(np.matmul(Wk, Ck), p), axis1=1, axis2=2)\n",
    "trace = np.trace(np.matmul(Wk, Ck), axis1=1, axis2=2)"
   ]
  },
  {
   "cell_type": "code",
   "execution_count": null,
   "metadata": {
    "collapsed": true
   },
   "outputs": [],
   "source": [
    "I=np.repeat(np.expand_dims(np.identity(num_types), axis=0), repeats=len(sys.domain.k), axis=0)\n",
    "lndet = np.log(np.linalg.det(I-np.matmul(Wk, Ck)))"
   ]
  },
  {
   "cell_type": "code",
   "execution_count": null,
   "metadata": {
    "collapsed": false
   },
   "outputs": [],
   "source": [
    "plt.plot(trace)\n",
    "plt.plot(lndet)\n",
    "plt.ylim(-10,10)"
   ]
  },
  {
   "cell_type": "code",
   "execution_count": null,
   "metadata": {
    "collapsed": false
   },
   "outputs": [],
   "source": [
    "F = 4.0*np.pi/(2.0*(2.0*np.pi)**3)*np.trapz(k*k*(trace+lndet), k)\n",
    "print F"
   ]
  },
  {
   "cell_type": "code",
   "execution_count": null,
   "metadata": {
    "collapsed": false
   },
   "outputs": [],
   "source": [
    "plt.plot(abs(trace_1))\n",
    "plt.plot(abs(trace))\n",
    "plt.yscale('log')"
   ]
  },
  {
   "cell_type": "code",
   "execution_count": null,
   "metadata": {
    "collapsed": false
   },
   "outputs": [],
   "source": [
    "plt.plot(PRISM.omega['polymer_end','polymer_end'])"
   ]
  },
  {
   "cell_type": "code",
   "execution_count": null,
   "metadata": {
    "collapsed": false
   },
   "outputs": [],
   "source": [
    "PRISM.omega['particle','particle']"
   ]
  },
  {
   "cell_type": "markdown",
   "metadata": {},
   "source": [
    "## r-space contribution to free energy"
   ]
  },
  {
   "cell_type": "code",
   "execution_count": null,
   "metadata": {
    "collapsed": true
   },
   "outputs": [],
   "source": [
    "from copy import deepcopy"
   ]
  },
  {
   "cell_type": "code",
   "execution_count": null,
   "metadata": {
    "collapsed": true
   },
   "outputs": [],
   "source": [
    "directCorr = deepcopy(PRISM.directCorr)\n",
    "totalCorr = deepcopy(PRISM.totalCorr)\n",
    "sys.domain.MatrixArray_to_real(directCorr)"
   ]
  },
  {
   "cell_type": "code",
   "execution_count": null,
   "metadata": {
    "collapsed": true
   },
   "outputs": [],
   "source": [
    "types = ['particle', 'polymer_end', 'polymer_middle']\n",
    "num_types = len(types)\n",
    "\n",
    "Cr = np.ones((len(sys.domain.k), num_types, num_types), dtype=None, order='C')\n",
    "Hr = np.ones((len(sys.domain.k), num_types, num_types), dtype=None, order='C')\n",
    "r = sys.domain.r\n",
    "\n",
    "for type_1 in types:\n",
    "    for type_2 in types:\n",
    "        "
   ]
  },
  {
   "cell_type": "code",
   "execution_count": null,
   "metadata": {
    "collapsed": true
   },
   "outputs": [],
   "source": []
  },
  {
   "cell_type": "code",
   "execution_count": null,
   "metadata": {
    "collapsed": true
   },
   "outputs": [],
   "source": []
  },
  {
   "cell_type": "code",
   "execution_count": null,
   "metadata": {
    "collapsed": true
   },
   "outputs": [],
   "source": []
  },
  {
   "cell_type": "code",
   "execution_count": null,
   "metadata": {
    "collapsed": true
   },
   "outputs": [],
   "source": []
  },
  {
   "cell_type": "code",
   "execution_count": null,
   "metadata": {
    "collapsed": true
   },
   "outputs": [],
   "source": []
  },
  {
   "cell_type": "code",
   "execution_count": null,
   "metadata": {
    "collapsed": false
   },
   "outputs": [],
   "source": [
    "plt.plot(PRISM.totalCorr['particle','polymer_end'])"
   ]
  },
  {
   "cell_type": "code",
   "execution_count": null,
   "metadata": {
    "collapsed": false
   },
   "outputs": [],
   "source": [
    "plt.scatter(sys.domain.r, C['particle','particle'])\n",
    "plt.xlim(0,4)"
   ]
  },
  {
   "cell_type": "code",
   "execution_count": null,
   "metadata": {
    "collapsed": true
   },
   "outputs": [],
   "source": []
  },
  {
   "cell_type": "code",
   "execution_count": null,
   "metadata": {
    "collapsed": true
   },
   "outputs": [],
   "source": []
  },
  {
   "cell_type": "code",
   "execution_count": null,
   "metadata": {
    "collapsed": true
   },
   "outputs": [],
   "source": []
  },
  {
   "cell_type": "code",
   "execution_count": null,
   "metadata": {
    "collapsed": true
   },
   "outputs": [],
   "source": []
  },
  {
   "cell_type": "code",
   "execution_count": null,
   "metadata": {
    "collapsed": false
   },
   "outputs": [],
   "source": [
    "lndet_1"
   ]
  },
  {
   "cell_type": "code",
   "execution_count": null,
   "metadata": {
    "collapsed": false
   },
   "outputs": [],
   "source": [
    "plt.plot(lndet_1)\n",
    "plt.plot(trace_1)\n",
    "plt.plot(lndet_1+trace_1)\n",
    "#plt.yscale('log')\n",
    "#plt.ylim(-1,1)"
   ]
  },
  {
   "cell_type": "code",
   "execution_count": null,
   "metadata": {
    "collapsed": false
   },
   "outputs": [],
   "source": [
    "print p"
   ]
  },
  {
   "cell_type": "code",
   "execution_count": null,
   "metadata": {
    "collapsed": true
   },
   "outputs": [],
   "source": []
  },
  {
   "cell_type": "code",
   "execution_count": null,
   "metadata": {
    "collapsed": true
   },
   "outputs": [],
   "source": []
  },
  {
   "cell_type": "code",
   "execution_count": null,
   "metadata": {
    "collapsed": true
   },
   "outputs": [],
   "source": []
  },
  {
   "cell_type": "code",
   "execution_count": null,
   "metadata": {
    "collapsed": false
   },
   "outputs": [],
   "source": [
    "plt.plot(trace)\n",
    "#plt.plot(lndet)"
   ]
  },
  {
   "cell_type": "code",
   "execution_count": null,
   "metadata": {
    "collapsed": true
   },
   "outputs": [],
   "source": []
  },
  {
   "cell_type": "code",
   "execution_count": null,
   "metadata": {
    "collapsed": false
   },
   "outputs": [],
   "source": [
    "I.shape"
   ]
  },
  {
   "cell_type": "code",
   "execution_count": null,
   "metadata": {
    "collapsed": true
   },
   "outputs": [],
   "source": [
    "I=np.repeat(np.expand_dims(np.identity(1+length), axis=0), repeats=len(sys.domain.k), axis=0)"
   ]
  },
  {
   "cell_type": "code",
   "execution_count": null,
   "metadata": {
    "collapsed": true
   },
   "outputs": [],
   "source": []
  },
  {
   "cell_type": "code",
   "execution_count": null,
   "metadata": {
    "collapsed": true
   },
   "outputs": [],
   "source": []
  },
  {
   "cell_type": "code",
   "execution_count": null,
   "metadata": {
    "collapsed": true
   },
   "outputs": [],
   "source": []
  },
  {
   "cell_type": "code",
   "execution_count": null,
   "metadata": {
    "collapsed": true
   },
   "outputs": [],
   "source": [
    "dkp = DiscreteKoyamaPartitioned(sigma=0.01, \n",
    "                                l=polymer_site_diameter, \n",
    "                                length=length, \n",
    "                                lp=0.20013,\n",
    "                                types=('end','middle'))"
   ]
  },
  {
   "cell_type": "code",
   "execution_count": null,
   "metadata": {
    "collapsed": false
   },
   "outputs": [],
   "source": [
    "print dkp.epsilon\n",
    "print dkp.cos1\n",
    "print dkp.cos2"
   ]
  },
  {
   "cell_type": "code",
   "execution_count": null,
   "metadata": {
    "collapsed": false
   },
   "outputs": [],
   "source": [
    "print dkp.epsilon\n",
    "print dkp.cos1\n",
    "print dkp.cos2"
   ]
  },
  {
   "cell_type": "code",
   "execution_count": null,
   "metadata": {
    "collapsed": false
   },
   "outputs": [],
   "source": [
    "4*(0.2)**3/(4*0.2**2-0.01**2)"
   ]
  },
  {
   "cell_type": "code",
   "execution_count": null,
   "metadata": {
    "collapsed": false
   },
   "outputs": [],
   "source": [
    "polymer_site_diameter*3.0005/3.0"
   ]
  },
  {
   "cell_type": "code",
   "execution_count": null,
   "metadata": {
    "collapsed": false
   },
   "outputs": [],
   "source": [
    "sigma = 0.2\n",
    "l=0.2\n",
    "\n",
    "1 - sigma*sigma/(2.0 * l * l)"
   ]
  },
  {
   "cell_type": "code",
   "execution_count": null,
   "metadata": {
    "collapsed": false
   },
   "outputs": [],
   "source": [
    "1/6."
   ]
  },
  {
   "cell_type": "code",
   "execution_count": null,
   "metadata": {
    "collapsed": true
   },
   "outputs": [],
   "source": []
  },
  {
   "cell_type": "code",
   "execution_count": null,
   "metadata": {
    "collapsed": true
   },
   "outputs": [],
   "source": [
    "def Cos1(epsilon, cos0):\n",
    "    e = epsilon\n",
    "    return (1/e  - ( np.exp(e) + cos0*np.exp(-e*cos0) )/( np.exp(e) - np.exp(-e*cos0) ))"
   ]
  },
  {
   "cell_type": "code",
   "execution_count": null,
   "metadata": {
    "collapsed": true
   },
   "outputs": [],
   "source": [
    "l = 0.5\n",
    "lp = (2.9/3.0)*l\n",
    "sigma = 0.001\n",
    "cos0 = 1.0 - sigma*sigma/(2.0*l*l)\n",
    "cos1 = l/lp - 1.0"
   ]
  },
  {
   "cell_type": "code",
   "execution_count": null,
   "metadata": {
    "collapsed": true
   },
   "outputs": [],
   "source": [
    "from scipy.optimize import root"
   ]
  },
  {
   "cell_type": "code",
   "execution_count": null,
   "metadata": {
    "collapsed": true
   },
   "outputs": [],
   "source": [
    "func = lambda e: Cos1(e, cos0) - cos1"
   ]
  },
  {
   "cell_type": "code",
   "execution_count": null,
   "metadata": {
    "collapsed": false
   },
   "outputs": [],
   "source": [
    "sol = root(func, [0.1], jac=False, method='hybr')\n",
    "sol.x"
   ]
  },
  {
   "cell_type": "code",
   "execution_count": null,
   "metadata": {
    "collapsed": false
   },
   "outputs": [],
   "source": [
    "w_bad = pyPRISM.omega.DiscreteKoyama(sigma=1.0, \n",
    "                                        l=1.0, \n",
    "                                        length=50, \n",
    "                                        lp=4./3.0 )\n",
    "w_good = DiscreteKoyama(sigma=1.0, \n",
    "                        l=0.5001, \n",
    "                        length=50, \n",
    "                        lp=50)\n",
    "\n",
    "print (w_good.cos1,w_good.cos2,w_good.epsilon)"
   ]
  },
  {
   "cell_type": "code",
   "execution_count": null,
   "metadata": {
    "collapsed": false
   },
   "outputs": [],
   "source": [
    "w_good = DiscreteKoyama(sigma=1.0, \n",
    "                        l=0.61, \n",
    "                        length=50, \n",
    "                        lp=1.86083)\n",
    "\n",
    "print (w_good.cos1,w_good.cos2,w_good.epsilon)"
   ]
  },
  {
   "cell_type": "code",
   "execution_count": null,
   "metadata": {
    "collapsed": false
   },
   "outputs": [],
   "source": [
    "w_good = DiscreteKoyama(sigma=1.0, \n",
    "                        l=0.61, \n",
    "                        length=50, \n",
    "                        lp=1.8608353)\n",
    "\n",
    "print (w_good.cos1,w_good.cos2,w_good.epsilon)"
   ]
  },
  {
   "cell_type": "code",
   "execution_count": null,
   "metadata": {
    "collapsed": false
   },
   "outputs": [],
   "source": [
    "k = PRISM.sys.domain.k\n",
    "plt.plot(k, k*k*w_bad.calculate(k))\n",
    "plt.plot(k, k*k*w_good.calculate(k), color='red')\n",
    "plt.xlim(0,4)\n",
    "plt.ylim(0,10)"
   ]
  },
  {
   "cell_type": "code",
   "execution_count": null,
   "metadata": {
    "collapsed": true
   },
   "outputs": [],
   "source": []
  }
 ],
 "metadata": {
  "kernelspec": {
   "display_name": "Python 2",
   "language": "python",
   "name": "python2"
  },
  "language_info": {
   "codemirror_mode": {
    "name": "ipython",
    "version": 2
   },
   "file_extension": ".py",
   "mimetype": "text/x-python",
   "name": "python",
   "nbconvert_exporter": "python",
   "pygments_lexer": "ipython2",
   "version": "2.7.13"
  }
 },
 "nbformat": 4,
 "nbformat_minor": 2
}
