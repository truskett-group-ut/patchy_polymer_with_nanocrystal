{
 "cells": [
  {
   "cell_type": "markdown",
   "metadata": {},
   "source": [
    "# Polymer + particle mixture using pyPRISM"
   ]
  },
  {
   "cell_type": "code",
   "execution_count": 5,
   "metadata": {
    "collapsed": false
   },
   "outputs": [],
   "source": [
    "import sys as s\n",
    "s.path.append('/home/beth/Desktop/Programs/patchy_polymer_with_nanocrystal/prism')\n",
    "import pyPRISM\n",
    "import matplotlib.pyplot as plt\n",
    "from custom_prism_tools.DiscreteKoyamaPartitioned import DiscreteKoyamaPartitioned\n",
    "from custom_prism_tools.DiscreteKoyama import DiscreteKoyama\n",
    "from custom_prism_tools.KovalenkoHirata import KovalenkoHirata\n",
    "from custom_prism_tools.ShiftedWeeksChandlerAnderson import ShiftedWeeksChandlerAnderson\n",
    "from custom_prism_tools.ThermodynamicsClosedForm import ThermodynamicsClosedForm\n",
    "import numpy as np\n",
    "%matplotlib inline"
   ]
  },
  {
   "cell_type": "markdown",
   "metadata": {},
   "source": [
    "## Tunable parameters"
   ]
  },
  {
   "cell_type": "code",
   "execution_count": 6,
   "metadata": {
    "collapsed": false
   },
   "outputs": [],
   "source": [
    "class Params:\n",
    "    def __init__(self):\n",
    "        #parameters\n",
    "        self.length = None\n",
    "        self.particle_eta = None\n",
    "        self.N_polymer__N_particle = None\n",
    "        self.particle_diameter = None\n",
    "        self.polymer_site_diameter = None \n",
    "        self.persistence_length_scale = None\n",
    "        self.epsilon = None\n",
    "        \n",
    "    def calcDependentParams(self):\n",
    "        self.length_scale = self.polymer_site_diameter\n",
    "        self.particle_density = 6.0*self.particle_eta/(np.pi*self.particle_diameter**3.0)\n",
    "        self.polymer_density = self.N_polymer__N_particle*self.particle_density\n",
    "        self.polymer_site_density = self.length*self.polymer_density\n",
    "        self.persistence_length = self.persistence_length_scale*self.polymer_site_diameter\n",
    "        self.particle_polymer_cross_diameter = (self.particle_diameter + self.polymer_site_diameter)/2.0\n",
    "        self.bond_length = 0.97 * self.polymer_site_diameter #kremer-grest\n",
    "\n",
    "params=Params()\n",
    "params.length = 10\n",
    "params.particle_eta = 0.04\n",
    "params.N_polymer__N_particle = 7.0\n",
    "params.particle_diameter = 5.0\n",
    "params.polymer_site_diameter = 1.0\n",
    "params.persistence_length_scale = 4.0/3.0\n",
    "params.epsilon = 1.0\n",
    "\n",
    "params.calcDependentParams()"
   ]
  },
  {
   "cell_type": "code",
   "execution_count": 7,
   "metadata": {
    "collapsed": true
   },
   "outputs": [],
   "source": [
    "def setSystem(sys):\n",
    "    # The composition of the system is desribed via number densities\n",
    "    sys.density['particle'] = params.particle_density\n",
    "    sys.density['polymer_end']  = params.polymer_site_density*(2.0/float(params.length))\n",
    "    sys.density['polymer_middle']  = params.polymer_site_density*(float(params.length-2)/float(params.length))\n",
    "\n",
    "    # The diameter of each site is specified (in reduced units)\n",
    "    sys.diameter['particle'] = params.particle_diameter\n",
    "    sys.diameter['polymer_end'] = params.polymer_site_diameter\n",
    "    sys.diameter['polymer_middle'] = params.polymer_site_diameter\n",
    "    \n",
    "    sys.omega['polymer_end','polymer_end'] = DiscreteKoyamaPartitioned(sigma=params.polymer_site_diameter, \n",
    "                                                                   l=params.bond_length, \n",
    "                                                                   length=params.length, \n",
    "                                                                   lp=params.persistence_length, \n",
    "                                                                   types=('end','end'))\n",
    "    sys.omega['polymer_middle','polymer_middle'] = DiscreteKoyamaPartitioned(sigma=params.polymer_site_diameter, \n",
    "                                                                         l=params.bond_length, \n",
    "                                                                         length=params.length, \n",
    "                                                                         lp=params.persistence_length, \n",
    "                                                                         types=('middle','middle'))\n",
    "    sys.omega['polymer_end','polymer_middle'] = DiscreteKoyamaPartitioned(sigma=params.polymer_site_diameter, \n",
    "                                                                      l=params.bond_length, \n",
    "                                                                      length=params.length, \n",
    "                                                                      lp=params.persistence_length, \n",
    "                                                                      types=('end','middle'))\n",
    "    \n",
    "    # The site-site interactions are specified via classes which are lazily\n",
    "    # evaluated during the PRISM-object creation\n",
    "\n",
    "    sys.potential['particle','particle'] = ShiftedWeeksChandlerAnderson(epsilon=params.epsilon, \n",
    "                                                                    length_scale=params.length_scale,\n",
    "                                                                    sigma=params.particle_diameter)\n",
    "    sys.potential['particle','polymer_end'] = ShiftedWeeksChandlerAnderson(epsilon=params.epsilon, \n",
    "                                                                       length_scale=params.length_scale,\n",
    "                                                                       sigma=params.particle_polymer_cross_diameter)\n",
    "    sys.potential['particle','polymer_middle'] = ShiftedWeeksChandlerAnderson(epsilon=params.epsilon, \n",
    "                                                                          length_scale=params.length_scale,\n",
    "                                                                          sigma=params.particle_polymer_cross_diameter)\n",
    "    sys.potential['polymer_end','polymer_end'] = ShiftedWeeksChandlerAnderson(epsilon=params.epsilon, \n",
    "                                                                          length_scale=params.length_scale,\n",
    "                                                                          sigma=params.polymer_site_diameter)\n",
    "    sys.potential['polymer_middle','polymer_middle'] = ShiftedWeeksChandlerAnderson(epsilon=params.epsilon, \n",
    "                                                                                length_scale=params.length_scale,\n",
    "                                                                                sigma=params.polymer_site_diameter)\n",
    "    sys.potential['polymer_end','polymer_middle'] = ShiftedWeeksChandlerAnderson(epsilon=params.epsilon, \n",
    "                                                                             length_scale=params.length_scale,\n",
    "                                                                             sigma=params.polymer_site_diameter)\n",
    "    return sys"
   ]
  },
  {
   "cell_type": "code",
   "execution_count": null,
   "metadata": {
    "collapsed": false,
    "scrolled": true
   },
   "outputs": [
    {
     "name": "stdout",
     "output_type": "stream",
     "text": [
      "('==> Solving for variable=', 3, 1.334, 8.0, 0.005, 0.066666666666666666)\n",
      "0:  |F(x)| = 8.03415; step 1; tol 0.00156842\n",
      "1:  |F(x)| = 0.33518; step 1; tol 0.00156646\n",
      "2:  |F(x)| = 0.00150695; step 1; tol 1.8192e-05\n",
      "3:  |F(x)| = 6.351e-08; step 1; tol 1.59857e-09\n",
      "4:  |F(x)| = 7.32988e-14; step 1; tol 1.19882e-12\n",
      "('==> Solving for variable=', 3, 1.334, 8.0, 0.005, 0.083333333333333329)\n",
      "0:  |F(x)| = 1.24126e-08; step 1; tol 6.40645e-12\n",
      "1:  |F(x)| = 4.23366e-14; step 1; tol 1.04701e-11\n",
      "('==> Solving for variable=', 3, 1.334, 8.0, 0.005, 0.1111111111111111)\n",
      "0:  |F(x)| = 2.27302e-08; step 1; tol 7.734e-12\n",
      "1:  |F(x)| = 4.57228e-14; step 1; tol 3.64167e-12\n",
      "('==> Solving for variable=', 3, 1.334, 8.0, 0.005, 0.16666666666666666)\n",
      "0:  |F(x)| = 1.60551e-07; step 1; tol 9.64643e-11\n",
      "1:  |F(x)| = 6.67398e-13; step 1; tol 1.5552e-11\n",
      "('==> Solving for variable=', 3, 1.334, 8.0, 0.005, 0.20000000000000001)\n",
      "0:  |F(x)| = 2.90458e-08; step 1; tol 8.77006e-12\n",
      "1:  |F(x)| = 4.21392e-14; step 1; tol 1.8943e-12\n",
      "('==> Solving for variable=', 3, 1.334, 8.0, 0.005, 0.25)\n",
      "0:  |F(x)| = 1.44789e-07; step 1; tol 9.68561e-11\n",
      "1:  |F(x)| = 6.07827e-13; step 1; tol 1.58611e-11\n",
      "('==> Solving for variable=', 3, 1.334, 8.0, 0.005, 0.33333333333333331)\n",
      "0:  |F(x)| = 2.48581e-07; step 1; tol 1.02779e-10\n",
      "1:  |F(x)| = 1.27801e-12; step 1; tol 2.37888e-11\n",
      "('==> Solving for variable=', 3, 1.334, 8.0, 0.005, 0.5)\n",
      "0:  |F(x)| = 5.67827e-07; step 1; tol 1.34076e-10\n",
      "1:  |F(x)| = 2.57764e-12; step 1; tol 1.85462e-11\n",
      "('==> Solving for variable=', 3, 1.334, 8.0, 0.005, 1.0)\n",
      "0:  |F(x)| = 1.76432e-05; step 1; tol 1.43841e-08\n",
      "1:  |F(x)| = 6.6657e-10; step 1; tol 1.28464e-09\n",
      "2:  |F(x)| = 4.1658e-14; step 1; tol 3.51518e-09\n",
      "('==> Solving for variable=', 3, 1.334, 8.0, 0.005, 2.0)\n",
      "0:  |F(x)| = 6.40529e-05; step 1; tol 4.74058e-08\n",
      "1:  |F(x)| = 2.22644e-09; step 1; tol 1.08739e-09\n",
      "2:  |F(x)| = 4.92252e-14; step 1; tol 4.39944e-10\n",
      "('==> Solving for variable=', 3, 1.334, 8.0, 0.005, 3.0)\n",
      "0:  |F(x)| = 6.40599e-05; step 1; tol 4.74186e-08\n",
      "1:  |F(x)| = 2.61093e-09; step 1; tol 1.49507e-09\n",
      "2:  |F(x)| = 4.97568e-14; step 1; tol 3.26855e-10\n",
      "('==> Solving for variable=', 3, 1.334, 8.0, 0.005, 4.0)\n",
      "0:  |F(x)| = 6.40983e-05; step 1; tol 4.74777e-08\n",
      "1:  |F(x)| = 2.3704e-09; step 1; tol 1.23082e-09\n",
      "2:  |F(x)| = 5.47072e-14; step 1; tol 4.79387e-10\n",
      "('==> Solving for variable=', 3, 1.334, 8.0, 0.005, 5.0)\n",
      "0:  |F(x)| = 6.4086e-05; step 1; tol 4.74618e-08\n",
      "1:  |F(x)| = 2.25911e-09; step 1; tol 1.11838e-09\n",
      "2:  |F(x)| = 4.63249e-14; step 1; tol 3.78442e-10\n",
      "('==> Solving for variable=', 3, 1.334, 8.0, 0.005, 6.0)\n",
      "0:  |F(x)| = 6.41179e-05; step 1; tol 4.75115e-08\n",
      "1:  |F(x)| = 2.31329e-09; step 1; tol 1.1715e-09\n",
      "2:  |F(x)| = 5.28377e-14; step 1; tol 4.69538e-10\n",
      "('==> Solving for variable=', 3, 1.334, 8.0, 0.005, 7.5)\n",
      "0:  |F(x)| = 0.000124489; step 1; tol 7.96181e-08\n",
      "1:  |F(x)| = 5.45986e-09; step 1; tol 1.7312e-09\n",
      "2:  |F(x)| = 5.98088e-14; step 1; tol 1.07996e-10\n",
      "('==> Solving for variable=', 3, 1.334, 8.0, 0.005, 9.0)\n",
      "0:  |F(x)| = 0.000124549; step 1; tol 7.97007e-08\n",
      "1:  |F(x)| = 4.90168e-09; step 1; tol 1.39398e-09\n",
      "2:  |F(x)| = 4.68015e-14; step 1; tol 8.20485e-11\n",
      "('==> Solving for variable=', 3, 1.334, 8.0, 0.005, 12.0)\n",
      "0:  |F(x)| = 0.000447452; step 1; tol 2.57318e-07\n",
      "1:  |F(x)| = 1.19252e-08; step 1; tol 6.3926e-10\n",
      "2:  |F(x)| = 5.46843e-14; step 1; tol 1.89252e-11\n",
      "('==> Solving for variable=', 3, 1.334, 8.0, 0.005, 15.0)\n",
      "0:  |F(x)| = 0.000447574; step 1; tol 2.57497e-07\n",
      "1:  |F(x)| = 1.36354e-08; step 1; tol 8.35311e-10\n",
      "2:  |F(x)| = 4.74618e-14; step 1; tol 1.09042e-11\n",
      "('==> Solving for variable=', 3, 1.334, 8.0, 0.01, 0.066666666666666666)\n",
      "0:  |F(x)| = 0.0047093; step 1; tol 1.82466e-06\n",
      "1:  |F(x)| = 1.9427e-07; step 1; tol 1.53158e-09\n",
      "2:  |F(x)| = 4.93668e-13; step 1; tol 5.81169e-12\n",
      "('==> Solving for variable=', 3, 1.334, 8.0, 0.01, 0.083333333333333329)\n",
      "0:  |F(x)| = 4.10598e-08; step 1; tol 1.80935e-11\n",
      "1:  |F(x)| = 4.73475e-14; step 1; tol 1.19675e-12\n",
      "('==> Solving for variable=', 3, 1.334, 8.0, 0.01, 0.1111111111111111)\n",
      "0:  |F(x)| = 2.09507e-07; step 1; tol 1.69587e-10\n",
      "1:  |F(x)| = 1.20327e-12; step 1; tol 2.96873e-11\n",
      "('==> Solving for variable=', 3, 1.334, 8.0, 0.01, 0.16666666666666666)\n",
      "0:  |F(x)| = 4.72103e-07; step 1; tol 2.15286e-10\n",
      "1:  |F(x)| = 2.18879e-12; step 1; tol 1.93454e-11\n",
      "('==> Solving for variable=', 3, 1.334, 8.0, 0.01, 0.20000000000000001)\n",
      "0:  |F(x)| = 2.56262e-07; step 1; tol 1.762e-10\n",
      "1:  |F(x)| = 1.31601e-12; step 1; tol 2.37351e-11\n",
      "('==> Solving for variable=', 3, 1.334, 8.0, 0.01, 0.25)\n",
      "0:  |F(x)| = 4.19364e-07; step 1; tol 2.09721e-10\n",
      "1:  |F(x)| = 1.82467e-12; step 1; tol 1.70384e-11\n",
      "('==> Solving for variable=', 3, 1.334, 8.0, 0.01, 0.33333333333333331)\n",
      "0:  |F(x)| = 8.37587e-07; step 1; tol 3.01184e-10\n",
      "1:  |F(x)| = 3.01756e-12; step 1; tol 1.16814e-11\n",
      "('==> Solving for variable=', 3, 1.334, 8.0, 0.01, 0.5)\n",
      "0:  |F(x)| = 8.56443e-06; step 1; tol 7.87288e-09\n",
      "1:  |F(x)| = 2.72177e-10; step 1; tol 9.08966e-10\n",
      "2:  |F(x)| = 4.67882e-14; step 1; tol 2.65958e-08\n",
      "('==> Solving for variable=', 3, 1.334, 8.0, 0.01, 1.0)\n",
      "0:  |F(x)| = 7.05646e-05; step 1; tol 5.93956e-08\n",
      "1:  |F(x)| = 3.08093e-09; step 1; tol 1.71567e-09\n",
      "2:  |F(x)| = 5.21681e-14; step 1; tol 2.58041e-10\n",
      "('==> Solving for variable=', 3, 1.334, 8.0, 0.01, 2.0)\n",
      "0:  |F(x)| = 0.00026023; step 1; tol 2.02011e-07\n",
      "1:  |F(x)| = 8.03362e-09; step 1; tol 8.57726e-10\n",
      "2:  |F(x)| = 4.74443e-14; step 1; tol 3.13898e-11\n",
      "('==> Solving for variable=', 3, 1.334, 8.0, 0.01, 3.0)\n",
      "0:  |F(x)| = 0.00026021; step 1; tol 2.02e-07\n",
      "1:  |F(x)| = 6.9481e-09; step 1; tol 6.41694e-10\n",
      "2:  |F(x)| = 3.44623e-14; step 1; tol 2.21411e-11\n",
      "('==> Solving for variable=', 3, 1.334, 8.0, 0.01, 4.0)\n",
      "0:  |F(x)| = 0.000260385; step 1; tol 2.02292e-07\n",
      "1:  |F(x)| = 8.93612e-09; step 1; tol 1.06001e-09\n",
      "2:  |F(x)| = 5.44196e-14; step 1; tol 3.33776e-11\n",
      "('==> Solving for variable=', 3, 1.334, 8.0, 0.01, 5.0)\n",
      "0:  |F(x)| = 0.000260419; step 1; tol 2.02367e-07\n",
      "1:  |F(x)| = 7.62799e-09; step 1; tol 7.72175e-10\n",
      "2:  |F(x)| = 5.42359e-14; step 1; tol 4.54984e-11\n",
      "('==> Solving for variable=', 3, 1.334, 8.0, 0.01, 6.0)\n",
      "0:  |F(x)| = 0.00026053; step 1; tol 2.02559e-07\n",
      "1:  |F(x)| = 7.75478e-09; step 1; tol 7.97382e-10\n",
      "2:  |F(x)| = 3.83806e-14; step 1; tol 2.20459e-11\n",
      "('==> Solving for variable=', 3, 1.334, 8.0, 0.01, 7.5)\n",
      "0:  |F(x)| = 0.000516742; step 1; tol 3.54294e-07\n",
      "1:  |F(x)| = 1.65448e-08; step 1; tol 9.22609e-10\n",
      "2:  |F(x)| = 4.49982e-14; step 1; tol 6.65749e-12\n",
      "('==> Solving for variable=', 3, 1.334, 8.0, 0.01, 9.0)\n",
      "0:  |F(x)| = 0.000516945; step 1; tol 3.54628e-07\n",
      "1:  |F(x)| = 1.34132e-08; step 1; tol 6.05921e-10\n",
      "2:  |F(x)| = 3.51059e-14; step 1; tol 6.16511e-12\n",
      "('==> Solving for variable=', 3, 1.334, 8.0, 0.01, 12.0)\n",
      "0:  |F(x)| = 0.00123796; step 1; tol 5.0893e-07\n",
      "1:  |F(x)| = 3.1468e-08; step 1; tol 5.81523e-10\n",
      "2:  |F(x)| = 1.02329e-13; step 1; tol 9.51711e-12\n",
      "('==> Solving for variable=', 3, 1.334, 8.0, 0.01, 15.0)\n",
      "0:  |F(x)| = 0.00123882; step 1; tol 5.0979e-07\n",
      "1:  |F(x)| = 4.07045e-08; step 1; tol 9.71658e-10\n",
      "2:  |F(x)| = 7.21512e-14; step 1; tol 2.82778e-12\n",
      "('==> Solving for variable=', 3, 1.334, 8.0, 0.03, 0.066666666666666666)\n",
      "0:  |F(x)| = 0.0996179; step 1; tol 6.17665e-05\n",
      "1:  |F(x)| = 1.13864e-05; step 1; tol 1.17582e-08\n",
      "2:  |F(x)| = 6.56136e-12; step 1; tol 2.98852e-13\n",
      "('==> Solving for variable=', 3, 1.334, 8.0, 0.03, 0.083333333333333329)\n",
      "0:  |F(x)| = 6.37905e-07; step 1; tol 5.44897e-10\n",
      "1:  |F(x)| = 1.4438e-12; step 1; tol 4.61046e-12\n",
      "('==> Solving for variable=', 3, 1.334, 8.0, 0.03, 0.1111111111111111)\n",
      "0:  |F(x)| = 2.29127e-06; step 1; tol 2.53082e-09\n",
      "1:  |F(x)| = 2.27325e-11; step 1; tol 8.859e-11\n",
      "2:  |F(x)| = 5.24955e-14; step 1; tol 4.79944e-06\n",
      "('==> Solving for variable=', 3, 1.334, 8.0, 0.03, 0.16666666666666666)\n",
      "0:  |F(x)| = 7.12402e-06; step 1; tol 6.11653e-09\n",
      "1:  |F(x)| = 4.89138e-11; step 1; tol 4.24284e-11\n",
      "2:  |F(x)| = 6.27117e-14; step 1; tol 1.47937e-06\n",
      "('==> Solving for variable=', 3, 1.334, 8.0, 0.03, 0.20000000000000001)\n",
      "0:  |F(x)| = 3.03297e-06; step 1; tol 3.07961e-09\n",
      "1:  |F(x)| = 3.49319e-11; step 1; tol 1.19385e-10\n",
      "2:  |F(x)| = 5.21213e-14; step 1; tol 2.00368e-06\n",
      "('==> Solving for variable=', 3, 1.334, 8.0, 0.03, 0.25)\n",
      "0:  |F(x)| = 5.92467e-06; step 1; tol 5.22289e-09\n",
      "1:  |F(x)| = 4.87552e-11; step 1; tol 6.09476e-11\n",
      "2:  |F(x)| = 5.32461e-14; step 1; tol 1.07344e-06\n",
      "('==> Solving for variable=', 3, 1.334, 8.0, 0.03, 0.33333333333333331)\n",
      "0:  |F(x)| = 2.12009e-05; step 1; tol 2.40771e-08\n",
      "1:  |F(x)| = 6.76124e-10; step 1; tol 9.15348e-10\n",
      "2:  |F(x)| = 5.36927e-14; step 1; tol 5.67571e-09\n",
      "('==> Solving for variable=', 3, 1.334, 8.0, 0.03, 0.5)\n",
      "0:  |F(x)| = 8.71901e-05; step 1; tol 1.0181e-07\n",
      "1:  |F(x)| = 3.8765e-09; step 1; tol 1.77905e-09\n",
      "2:  |F(x)| = 5.59118e-14; step 1; tol 1.87228e-10\n",
      "('==> Solving for variable=', 3, 1.334, 8.0, 0.03, 1.0)\n",
      "0:  |F(x)| = 0.000652906; step 1; tol 6.34409e-07\n",
      "1:  |F(x)| = 1.83781e-08; step 1; tol 7.1309e-10\n",
      "2:  |F(x)| = 4.5599e-14; step 1; tol 5.54052e-12\n",
      "('==> Solving for variable=', 3, 1.334, 8.0, 0.03, 2.0)\n",
      "0:  |F(x)| = 0.00239885; step 1; tol 2.14158e-06\n",
      "1:  |F(x)| = 4.77235e-08; step 1; tol 3.56205e-10\n",
      "2:  |F(x)| = 5.37003e-14; step 1; tol 1.13955e-12\n",
      "('==> Solving for variable=', 3, 1.334, 8.0, 0.03, 3.0)\n",
      "0:  |F(x)| = 0.00242505; step 1; tol 2.18935e-06\n",
      "1:  |F(x)| = 4.23475e-08; step 1; tol 2.74447e-10\n",
      "2:  |F(x)| = 6.75521e-14; step 1; tol 2.29016e-12\n",
      "('==> Solving for variable=', 3, 1.334, 8.0, 0.03, 4.0)\n",
      "0:  |F(x)| = 0.00244919; step 1; tol 2.23392e-06\n",
      "1:  |F(x)| = 4.16723e-08; step 1; tol 2.60551e-10\n",
      "2:  |F(x)| = 8.27884e-14; step 1; tol 3.55211e-12\n",
      "('==> Solving for variable=', 3, 1.334, 8.0, 0.03, 5.0)\n",
      "0:  |F(x)| = 0.00247244; step 1; tol 2.27731e-06\n",
      "1:  |F(x)| = 4.57994e-08; step 1; tol 3.08824e-10\n",
      "2:  |F(x)| = 1.21754e-13; step 1; tol 6.36049e-12\n",
      "('==> Solving for variable=', 3, 1.334, 8.0, 0.03, 6.0)\n",
      "0:  |F(x)| = 0.00249368; step 1; tol 2.31739e-06\n",
      "1:  |F(x)| = 3.75033e-08; step 1; tol 2.03565e-10\n",
      "2:  |F(x)| = 1.01409e-13; step 1; tol 6.58041e-12\n",
      "('==> Solving for variable=', 3, 1.334, 8.0, 0.03, 7.5)\n",
      "0:  |F(x)| = 0.00474438; step 1; tol 3.72984e-06\n",
      "1:  |F(x)| = 1.39107e-07; step 1; tol 7.7372e-10\n",
      "2:  |F(x)| = 1.80304e-13; step 1; tol 1.51201e-12\n",
      "('==> Solving for variable=', 3, 1.334, 8.0, 0.03, 9.0)\n",
      "0:  |F(x)| = 0.00475012; step 1; tol 3.7408e-06\n",
      "1:  |F(x)| = 1.01502e-07; step 1; tol 4.10943e-10\n",
      "2:  |F(x)| = 1.44538e-13; step 1; tol 1.82499e-12\n",
      "('==> Solving for variable=', 3, 1.334, 8.0, 0.03, 12.0)\n",
      "0:  |F(x)| = 0.018518; step 1; tol 1.42246e-05\n",
      "1:  |F(x)| = 3.89657e-07; step 1; tol 3.98493e-10\n",
      "2:  |F(x)| = 7.05186e-13; step 1; tol 2.94771e-12\n",
      "('==> Solving for variable=', 3, 1.334, 8.0, 0.03, 15.0)\n",
      "0:  |F(x)| = 0.0185418; step 1; tol 1.4276e-05\n",
      "1:  |F(x)| = 5.79888e-07; step 1; tol 8.80289e-10\n",
      "2:  |F(x)| = 2.05699e-12; step 1; tol 1.13244e-11\n",
      "('==> Solving for variable=', 3, 1.334, 7.0, 0.005, 0.066666666666666666)\n",
      "0:  |F(x)| = 7.81291; step 1; tol 0.00217234\n",
      "1:  |F(x)| = 0.331388; step 1; tol 0.00161916\n",
      "2:  |F(x)| = 0.00148271; step 1; tol 1.8017e-05\n",
      "3:  |F(x)| = 3.34927e-08; step 1; tol 4.59228e-10\n",
      "4:  |F(x)| = 8.36373e-14; step 1; tol 5.61233e-12\n",
      "('==> Solving for variable=', 3, 1.334, 7.0, 0.005, 0.083333333333333329)\n",
      "0:  |F(x)| = 1.0119e-08; step 1; tol 5.17155e-12\n",
      "1:  |F(x)| = 3.10665e-14; step 1; tol 8.48298e-12\n",
      "('==> Solving for variable=', 3, 1.334, 7.0, 0.005, 0.1111111111111111)\n",
      "0:  |F(x)| = 3.79853e-08; step 1; tol 2.62348e-11\n",
      "1:  |F(x)| = 9.28199e-14; step 1; tol 5.37396e-12\n",
      "('==> Solving for variable=', 3, 1.334, 7.0, 0.005, 0.16666666666666666)\n",
      "0:  |F(x)| = 7.97169e-08; step 1; tol 2.88866e-11\n",
      "1:  |F(x)| = 2.20022e-13; step 1; tol 6.85604e-12\n",
      "('==> Solving for variable=', 3, 1.334, 7.0, 0.005, 0.20000000000000001)\n",
      "0:  |F(x)| = 4.5225e-08; step 1; tol 2.58254e-11\n",
      "1:  |F(x)| = 1.26983e-13; step 1; tol 7.0954e-12\n",
      "('==> Solving for variable=', 3, 1.334, 7.0, 0.005, 0.25)\n",
      "0:  |F(x)| = 7.1099e-08; step 1; tol 2.83687e-11\n",
      "1:  |F(x)| = 1.89127e-13; step 1; tol 6.3683e-12\n",
      "('==> Solving for variable=', 3, 1.334, 7.0, 0.005, 0.33333333333333331)\n",
      "0:  |F(x)| = 3.76669e-07; step 1; tol 2.86645e-10\n",
      "1:  |F(x)| = 1.38389e-12; step 1; tol 1.21486e-11\n",
      "('==> Solving for variable=', 3, 1.334, 7.0, 0.005, 0.5)\n",
      "0:  |F(x)| = 7.97237e-07; step 1; tol 3.21042e-10\n",
      "1:  |F(x)| = 3.7385e-12; step 1; tol 1.97908e-11\n",
      "('==> Solving for variable=', 3, 1.334, 7.0, 0.005, 1.0)\n",
      "0:  |F(x)| = 1.21543e-05; step 1; tol 8.29245e-09\n",
      "1:  |F(x)| = 1.82946e-10; step 1; tol 2.03907e-10\n",
      "2:  |F(x)| = 4.22437e-14; step 1; tol 4.79866e-08\n",
      "('==> Solving for variable=', 3, 1.334, 7.0, 0.005, 2.0)\n",
      "0:  |F(x)| = 5.02497e-05; step 1; tol 3.54459e-08\n",
      "1:  |F(x)| = 1.55653e-09; step 1; tol 8.63559e-10\n",
      "2:  |F(x)| = 4.20874e-14; step 1; tol 6.58004e-10\n",
      "('==> Solving for variable=', 3, 1.334, 7.0, 0.005, 3.0)\n",
      "0:  |F(x)| = 5.02895e-05; step 1; tol 3.55049e-08\n",
      "1:  |F(x)| = 1.24292e-09; step 1; tol 5.49758e-10\n",
      "2:  |F(x)| = 4.33699e-14; step 1; tol 1.09581e-09\n",
      "('==> Solving for variable=', 3, 1.334, 7.0, 0.005, 4.0)\n",
      "0:  |F(x)| = 5.02659e-05; step 1; tol 3.54746e-08\n",
      "1:  |F(x)| = 1.63583e-09; step 1; tol 9.53173e-10\n",
      "2:  |F(x)| = 3.75805e-14; step 1; tol 4.74997e-10\n",
      "('==> Solving for variable=', 3, 1.334, 7.0, 0.005, 5.0)\n",
      "0:  |F(x)| = 5.02758e-05; step 1; tol 3.54914e-08\n",
      "1:  |F(x)| = 1.28217e-09; step 1; tol 5.85356e-10\n",
      "2:  |F(x)| = 3.77914e-14; step 1; tol 7.81867e-10\n",
      "('==> Solving for variable=', 3, 1.334, 7.0, 0.005, 6.0)\n",
      "0:  |F(x)| = 5.0281e-05; step 1; tol 3.55018e-08\n",
      "1:  |F(x)| = 1.70379e-09; step 1; tol 1.0334e-09\n",
      "2:  |F(x)| = 4.67747e-14; step 1; tol 6.78313e-10\n",
      "('==> Solving for variable=', 3, 1.334, 7.0, 0.005, 7.5)\n",
      "0:  |F(x)| = 0.000127291; step 1; tol 1.0116e-07\n",
      "1:  |F(x)| = 4.22957e-09; step 1; tol 9.93658e-10\n",
      "2:  |F(x)| = 3.88889e-14; step 1; tol 7.60855e-11\n",
      "('==> Solving for variable=', 3, 1.334, 7.0, 0.005, 9.0)\n",
      "0:  |F(x)| = 0.00012735; step 1; tol 1.01266e-07\n",
      "1:  |F(x)| = 3.68683e-09; step 1; tol 7.54308e-10\n",
      "2:  |F(x)| = 4.18323e-14; step 1; tol 1.15867e-10\n",
      "('==> Solving for variable=', 3, 1.334, 7.0, 0.005, 12.0)\n",
      "0:  |F(x)| = 0.000573167; step 1; tol 5.13291e-07\n",
      "1:  |F(x)| = 1.44477e-08; step 1; tol 5.71842e-10\n",
      "2:  |F(x)| = 6.02676e-14; step 1; tol 1.56608e-11\n",
      "('==> Solving for variable=', 3, 1.334, 7.0, 0.005, 15.0)\n",
      "0:  |F(x)| = 0.000573536; step 1; tol 5.1408e-07\n",
      "1:  |F(x)| = 1.52877e-08; step 1; tol 6.39449e-10\n",
      "2:  |F(x)| = 3.72233e-14; step 1; tol 5.33565e-12\n",
      "('==> Solving for variable=', 3, 1.334, 7.0, 0.01, 0.066666666666666666)\n",
      "0:  |F(x)| = 0.00394454; step 1; tol 1.84585e-06\n",
      "1:  |F(x)| = 1.2788e-07; step 1; tol 9.45923e-10\n",
      "2:  |F(x)| = 1.76328e-13; step 1; tol 1.71112e-12\n",
      "('==> Solving for variable=', 3, 1.334, 7.0, 0.01, 0.083333333333333329)\n",
      "0:  |F(x)| = 5.68997e-08; step 1; tol 4.22237e-11\n",
      "1:  |F(x)| = 1.24232e-13; step 1; tol 4.29031e-12\n",
      "('==> Solving for variable=', 3, 1.334, 7.0, 0.01, 0.1111111111111111)\n",
      "0:  |F(x)| = 1.05648e-07; step 1; tol 5.24048e-11\n",
      "1:  |F(x)| = 2.45036e-13; step 1; tol 4.84146e-12\n",
      "('==> Solving for variable=', 3, 1.334, 7.0, 0.01, 0.16666666666666666)\n",
      "0:  |F(x)| = 6.87818e-07; step 1; tol 5.55323e-10\n",
      "1:  |F(x)| = 3.76503e-12; step 1; tol 2.6967e-11\n",
      "('==> Solving for variable=', 3, 1.334, 7.0, 0.01, 0.20000000000000001)\n",
      "0:  |F(x)| = 1.41748e-07; step 1; tol 6.55129e-11\n",
      "1:  |F(x)| = 2.85873e-13; step 1; tol 3.66059e-12\n",
      "('==> Solving for variable=', 3, 1.334, 7.0, 0.01, 0.25)\n",
      "0:  |F(x)| = 6.11413e-07; step 1; tol 5.41735e-10\n",
      "1:  |F(x)| = 2.88867e-12; step 1; tol 2.00894e-11\n",
      "('==> Solving for variable=', 3, 1.334, 7.0, 0.01, 0.33333333333333331)\n",
      "0:  |F(x)| = 1.12561e-06; step 1; tol 6.61019e-10\n",
      "1:  |F(x)| = 4.77888e-12; step 1; tol 1.62225e-11\n",
      "('==> Solving for variable=', 3, 1.334, 7.0, 0.01, 0.5)\n",
      "0:  |F(x)| = 3.08777e-06; step 1; tol 1.24367e-09\n"
     ]
    }
   ],
   "source": [
    "params.polymer_site_diameter = 1.0\n",
    "gr_results = []\n",
    "F_P = []\n",
    "# The system holds all information needed to set up a PRISM problem. We\n",
    "# instantiate the system by specifying the site types and thermal energy\n",
    "# level (kT, coarse-grained temperature) of the system.\n",
    "sys = pyPRISM.System(['particle','polymer_middle','polymer_end'], kT=1.0)\n",
    "\n",
    "# We must discretize Real and Fourier space\n",
    "sys.domain = pyPRISM.Domain(dr=0.01,length=4096)\n",
    "\n",
    "# The molecular structure is described via intra-molecular correlation\n",
    "# functions (i.e. omegas)\n",
    "sys.omega['particle','particle'] = pyPRISM.omega.SingleSite()\n",
    "sys.omega['particle','polymer_end'] = pyPRISM.omega.InterMolecular()\n",
    "sys.omega['particle','polymer_middle'] = pyPRISM.omega.InterMolecular()\n",
    "\n",
    "# Closure approximations are also specified via classes\n",
    "sys.closure['particle','particle'] = KovalenkoHirata()\n",
    "sys.closure['particle','polymer_end'] = KovalenkoHirata()\n",
    "sys.closure['particle','polymer_middle'] = KovalenkoHirata()\n",
    "sys.closure['polymer_end','polymer_end'] = KovalenkoHirata()\n",
    "sys.closure['polymer_middle','polymer_middle'] = KovalenkoHirata()\n",
    "sys.closure['polymer_end','polymer_middle'] = KovalenkoHirata()\n",
    "\n",
    "gamma_list = []\n",
    "for i in np.arange(15.0, 8.9, -3.0):\n",
    "    gamma_list.append(1.0/i)\n",
    "for i in np.arange(6.0, 1.9, -1.0):\n",
    "    gamma_list.append(1.0/i)\n",
    "for i in np.arange(1.0, 6.1, 1.0):\n",
    "    gamma_list.append(i)\n",
    "gamma_list.append(7.5)\n",
    "for i in np.arange(9.0, 15.1, 3.0):\n",
    "    gamma_list.append(i)\n",
    "\n",
    "volfrac_list = []\n",
    "volfrac_list.append(0.005)\n",
    "volfrac_list.append(0.01)\n",
    "volfrac_list.append(0.03)\n",
    "#for i in np.arange(0.05, 0.51, 0.05):\n",
    "#    volfrac_list.append(i)\n",
    "    \n",
    "guess=np.zeros(len(sys.types)*len(sys.types)*4096)\n",
    "guess_save=guess\n",
    "\n",
    "for params.length in range(3,5,1):\n",
    "    guess=np.zeros(len(sys.types)*len(sys.types)*4096)\n",
    "    for params.persistence_length_scale in [1.334, 1.43, 2, 2.5, 3, 4, 5, 10]:\n",
    "        guess=np.zeros(len(sys.types)*len(sys.types)*4096)\n",
    "        for params.particle_diameter in np.arange(8.0, 2.5, -1.0):\n",
    "            guess=np.zeros(len(sys.types)*len(sys.types)*4096)\n",
    "            filename=\"gr_\"+str(params.length)+\"_\"+str(params.persistence_length_scale)+\"_\"+str(params.particle_diameter)+\".dat\"\n",
    "            for params.particle_eta in volfrac_list: #np.arange(0.01, 0.11, 0.02): \n",
    "                if (params.particle_eta - volfrac_list[0]) > 0.001:\n",
    "                    guess=guess_save\n",
    "                for params.N_polymer__N_particle in gamma_list:\n",
    "                    #[1./15., 1./12., 1./9., 1./6., 1./5., 0.25, 1./3., 0.5, 1., 2.]: \n",
    "#            if abs(params.particle_eta - 0.09) < 0.001 or params.N_polymer__N_particle == 0.1: \n",
    "                    eta_total = params.particle_eta*(1.+(params.polymer_site_diameter/params.particle_diameter)**3.*params.N_polymer__N_particle*params.length)\n",
    "                    if eta_total < 0.5:\n",
    "                        filename=\"PRISM_\"+str(params.length)+\"_\"+str(params.persistence_length_scale)+\"_\"+str(params.particle_diameter)+\"_\"+str(params.particle_eta)+\"_\"+str(params.N_polymer__N_particle)+\".dat\"\n",
    "                        print('==> Solving for variable=', params.length, params.persistence_length_scale, params.particle_diameter, params.particle_eta, params.N_polymer__N_particle)\n",
    "                        params.calcDependentParams()\n",
    "                        sys=setSystem(sys)\n",
    "# Calling the .solve() method of the system object attempts to numerically\n",
    "# solv the PRISM equation and, if successful, it returns a PRISM object\n",
    "# containing all of the solved correlation functions.\n",
    "                        PRISM = sys.solve(guess=guess, method='krylov', tol=1e-7, options={'disp':True, 'maxiter':50})\n",
    "                        guess = np.copy(PRISM.x)\n",
    "\n",
    "                        x = sys.domain.r[4:700:5]\n",
    "                        y = pyPRISM.calculate.pair_correlation(PRISM)['particle','polymer_end'][4:700:5]\n",
    "                        np.savetxt(\"/home/beth/Desktop/Programs/patchy_polymer_with_nanocrystal/prism/work/PRISMdata/\"+filename, zip(x,y))\n",
    "                        currentFP=ThermodynamicsClosedForm(PRISM, default_method='KH')\n",
    "                        F_P.append(currentFP)\n",
    "                        with open(\"/home/beth/Desktop/Programs/patchy_polymer_with_nanocrystal/prism/work/PRISMdata/\"+filename, \"a\") as fh:\n",
    "                            fh.write(str(currentFP)+\"\\n\")\n",
    "#                        gr_results.append([params.particle_eta,params.length,params.persistence_length_scale,params.N_polymer__N_particle,params.particle_diameter,x,y,currentFP])\n",
    "                        if (params.N_polymer__N_particle - gamma_list[0]) < 0.001:\n",
    "                            guess_save = np.copy(PRISM.x)\n",
    "    print('')\n",
    "    \n",
    "print('Done!')\n",
    "F_P = np.array(F_P)\n"
   ]
  },
  {
   "cell_type": "code",
   "execution_count": null,
   "metadata": {
    "collapsed": true
   },
   "outputs": [],
   "source": [
    "guess = np.copy(PRISM.x)"
   ]
  },
  {
   "cell_type": "code",
   "execution_count": null,
   "metadata": {
    "collapsed": false
   },
   "outputs": [],
   "source": [
    "rdf = pyPRISM.calculate.pair_correlation(PRISM)\n",
    "# Plot the results using matplotlib\n",
    "plt.plot(sys.domain.r,rdf['particle','particle'],color='gold',lw=1.25,ls='-')\n",
    "plt.plot(sys.domain.r,rdf['particle','polymer_end'],color='red',lw=3,ls='-')\n",
    "plt.plot(sys.domain.r,rdf['particle','polymer_middle'],color='blue',lw=3,ls='-')\n",
    "plt.plot(sys.domain.r,rdf['polymer_end','polymer_end'],color='green',lw=1.25,ls='-')\n",
    "plt.plot(sys.domain.r,rdf['polymer_middle','polymer_middle'],color='purple',lw=1.25,ls='-')\n",
    "plt.plot(sys.domain.r,rdf['polymer_end','polymer_middle'],color='orange',lw=1.25,ls='-')\n",
    "plt.ylabel('pair correlation')\n",
    "plt.xlabel('separation distance')\n",
    "plt.xlim(0,15)\n",
    "plt.ylim(0,3)\n",
    "plt.show()"
   ]
  },
  {
   "cell_type": "code",
   "execution_count": null,
   "metadata": {
    "collapsed": false
   },
   "outputs": [],
   "source": [
    "color_idx = np.linspace(0, 1, len(gr_results))\n",
    "color_idx = np.linspace(0, 1, len(gr_results))\n",
    "#for _,r,gr in gr_results:\n",
    "for i, gr_obj in zip(color_idx, gr_results):\n",
    "    eta_c,l,l_p,gamma,d_c,r,gr,_=gr_obj\n",
    "    if abs(eta_c - 0.09) < 0.001 and abs(d_c - 5.0) < 0.001 and abs(gamma - 4.0) < 100.0:\n",
    "        plt.plot(r,gr,lw=1.25, color=plt.cm.cool(i),ls='-')\n",
    "plt.ylabel('pair correlation')\n",
    "plt.xlabel('separation distance')\n",
    "plt.xlim(2.5,8)\n",
    "#plt.ylim(0,2)\n",
    "plt.show()"
   ]
  },
  {
   "cell_type": "code",
   "execution_count": null,
   "metadata": {
    "collapsed": false
   },
   "outputs": [],
   "source": [
    "print F_P"
   ]
  },
  {
   "cell_type": "code",
   "execution_count": null,
   "metadata": {
    "collapsed": false,
    "scrolled": true
   },
   "outputs": [],
   "source": [
    "print gr_results"
   ]
  },
  {
   "cell_type": "markdown",
   "metadata": {},
   "source": [
    "## k-space contribution to free energy"
   ]
  },
  {
   "cell_type": "code",
   "execution_count": null,
   "metadata": {
    "collapsed": true
   },
   "outputs": [],
   "source": [
    "Ck = np.ones((len(sys.domain.k), 1+length,1+length), dtype=None, order='C')\n",
    "Wk = np.ones((len(sys.domain.k), 1+length,1+length), dtype=None, order='C')\n",
    "p = np.zeros((1+length,1+length), dtype=None, order='C')\n",
    "k = sys.domain.k\n",
    "\n",
    "types = ['particle', 'polymer_end', 'polymer_middle']\n",
    "type_indices = {'particle': [1], 'polymer_end': [1,length], 'polymer_middle': range(2, length)}\n",
    "single_site_density = {'particle': particle_density, \n",
    "                       'polymer_end': polymer_density, \n",
    "                       'polymer_middle': polymer_density}\n",
    "\n",
    "#loops over the rows\n",
    "row = 0\n",
    "for type_1 in types:\n",
    "    for index_1 in type_indices[type_1]:\n",
    "        \n",
    "        #loops over the columns\n",
    "        column = 0\n",
    "        for type_2 in types:\n",
    "            for index_2 in type_indices[type_2]:\n",
    "                \n",
    "                #build a 3d entry into our tensor\n",
    "                c = PRISM.directCorr[type_1,type_2]\n",
    "                Ck[:,row:row+1,column:column+1] = np.expand_dims(np.expand_dims(c, axis=1), axis=1)\n",
    "                \n",
    "                #polymer-polymer w(k)\n",
    "                if type_1 in ['polymer_end', 'polymer_middle'] and type_2 in ['polymer_end', 'polymer_middle']:\n",
    "                    n = abs(index_1-index_2)\n",
    "                    if n:\n",
    "                        w = sys.omega[type_1,type_2].koyama_kernel_fourier(k,n)\n",
    "                    else:\n",
    "                        w = np.ones((len(sys.domain.k)), dtype=None, order='C')\n",
    "                else:\n",
    "                    w = sys.omega[type_1,type_2].calculate(k)\n",
    "                    \n",
    "                Wk[:,row:row+1,column:column+1] = np.expand_dims(np.expand_dims(w, axis=1), axis=1)\n",
    "                \n",
    "                p[row:row+1,column:column+1] = (row == column)*single_site_density[type_1]\n",
    "            \n",
    "                column += 1\n",
    "            \n",
    "        row+=1"
   ]
  },
  {
   "cell_type": "code",
   "execution_count": null,
   "metadata": {
    "collapsed": true
   },
   "outputs": [],
   "source": [
    "trace_1 = np.trace(np.matmul(np.matmul(Wk, Ck), p), axis1=1, axis2=2)\n",
    "trace_2 = np.trace(np.matmul(np.matmul(p, Wk), Ck), axis1=1, axis2=2)"
   ]
  },
  {
   "cell_type": "code",
   "execution_count": null,
   "metadata": {
    "collapsed": true
   },
   "outputs": [],
   "source": [
    "I=np.repeat(np.expand_dims(np.identity(1+length), axis=0), repeats=len(sys.domain.k), axis=0)\n",
    "lndet_1 = np.log(np.linalg.det(I-np.matmul(np.matmul(Wk, Ck), p)))\n",
    "lndet_2 = np.log(np.linalg.det(I-np.matmul(np.matmul(p, Wk), Ck)))"
   ]
  },
  {
   "cell_type": "code",
   "execution_count": null,
   "metadata": {
    "collapsed": false
   },
   "outputs": [],
   "source": [
    "F = 4.0*np.pi/(2.0*(2.0*np.pi)**3)*np.trapz(k*k*(trace_1+lndet_1), k)\n",
    "print F"
   ]
  },
  {
   "cell_type": "code",
   "execution_count": null,
   "metadata": {
    "collapsed": true
   },
   "outputs": [],
   "source": []
  },
  {
   "cell_type": "markdown",
   "metadata": {},
   "source": [
    "#### Testing the PRISM version"
   ]
  },
  {
   "cell_type": "code",
   "execution_count": null,
   "metadata": {
    "collapsed": false
   },
   "outputs": [],
   "source": [
    "sys.density.types"
   ]
  },
  {
   "cell_type": "code",
   "execution_count": null,
   "metadata": {
    "collapsed": true
   },
   "outputs": [],
   "source": [
    "num_types = len(sys.density.types)\n",
    "\n",
    "Ck = np.ones((len(sys.domain.k), num_types, num_types), dtype=None, order='C')\n",
    "Wk = np.ones((len(sys.domain.k), num_types, num_types), dtype=None, order='C')\n",
    "p = np.zeros((num_types,num_types), dtype=None, order='C')\n",
    "k = sys.domain.k\n",
    "\n",
    "#loops over the rows\n",
    "row = 0\n",
    "for type_1 in sys.density.types:\n",
    "        \n",
    "    #loops over the columns\n",
    "    column = 0\n",
    "    for type_2 in sys.density.types:\n",
    "                \n",
    "        #build a 3d entry into our tensor\n",
    "        c = PRISM.directCorr[type_1,type_2]\n",
    "        Ck[:,row:row+1,column:column+1] = np.expand_dims(np.expand_dims(c, axis=1), axis=1)\n",
    "        \n",
    "        w = PRISM.omega[type_1,type_2]\n",
    "        Wk[:,row:row+1,column:column+1] = np.expand_dims(np.expand_dims(w, axis=1), axis=1)\n",
    "                \n",
    "        p[row:row+1,column:column+1] = ((row == column)*sys.density[type_1] + \n",
    "                                        (row != column)*(sys.density[type_1] + sys.density[type_2]))\n",
    "            \n",
    "        column += 1\n",
    "            \n",
    "    row+=1"
   ]
  },
  {
   "cell_type": "code",
   "execution_count": null,
   "metadata": {
    "collapsed": true
   },
   "outputs": [],
   "source": [
    "trace = np.trace(np.matmul(Wk, Ck), axis1=1, axis2=2)"
   ]
  },
  {
   "cell_type": "code",
   "execution_count": null,
   "metadata": {
    "collapsed": true
   },
   "outputs": [],
   "source": [
    "I=np.repeat(np.expand_dims(np.identity(num_types), axis=0), repeats=len(sys.domain.k), axis=0)\n",
    "lndet = np.log(np.linalg.det(I-np.matmul(Wk, Ck)))"
   ]
  },
  {
   "cell_type": "markdown",
   "metadata": {},
   "source": [
    "## k-space free energy"
   ]
  },
  {
   "cell_type": "code",
   "execution_count": null,
   "metadata": {
    "collapsed": true
   },
   "outputs": [],
   "source": [
    "import pyPRISM\n",
    "import numpy as np\n",
    "from itertools import combinations_with_replacement\n",
    "from copy import deepcopy\n",
    "import warnings\n",
    "\n",
    "def ExcessFreeEnergy(PRISM, default_method='HNC'): \n",
    "    \n",
    "    #check on the closures and raise a warning of incompatible\n",
    "    closures = set()\n",
    "    for type_1, type_2 in combinations_with_replacement(PRISM.sys.types, 2):\n",
    "        closures.add(type(PRISM.sys.closure[type_1, type_2]))\n",
    "    \n",
    "    if not (closures - set([type(KovalenkoHirata())])):\n",
    "        method = 'KH'\n",
    "    elif not (closures - set([type(pyPRISM.closure.HyperNettedChain())])):\n",
    "        method = 'HNC'\n",
    "    else:\n",
    "        warnings.warn('This calculation is only theoretically valid if either \\\\\n",
    "                      the KovalenkoHirata (KH) or HyperNettedChain (HNC) \\\\\n",
    "                      closures are used for all pairs. Defaulting to {} \\\\\n",
    "                      functional form for use with mixed closures.'.format(default_method), UserWarning)\n",
    "        method = default_method\n",
    "    \n",
    "    #extra quantities for k-space calculation\n",
    "    k = PRISM.sys.domain.k\n",
    "    I = pyPRISM.IdentityMatrixArray(length=len(PRISM.sys.domain.k), rank=3, \n",
    "                                    types=PRISM.sys.types, space=pyPRISM.Space.Fourier)\n",
    "    \n",
    "    #extra quantities for r-space calculation\n",
    "    r = PRISM.sys.domain.r\n",
    "    p = np.diag(np.diag(PRISM.sys.density.site.data[0]))  #this is a diagonal density matrix\n",
    "    \n",
    "    #direct correlation function in r- and k-space\n",
    "    if PRISM.directCorr.space == pyPRISM.Space.Real:\n",
    "        Cr = deepcopy(PRISM.directCorr)\n",
    "        Ck = deepcopy(Cr)\n",
    "        PRISM.sys.domain.MatrixArray_to_fourier(Ck)\n",
    "    elif PRISM.directCorr.space == pyPRISM.Space.Fourier:\n",
    "        Ck = deepcopy(PRISM.directCorr)\n",
    "        Cr = deepcopy(Ck)\n",
    "        PRISM.sys.domain.MatrixArray_to_real(Cr)\n",
    "    \n",
    "    #intramolecular structure in k-space\n",
    "    Wk = deepcopy(PRISM.omega)\n",
    "    if Wk.space == pyPRISM.Space.Real:\n",
    "        PRISM.sys.domain.MatrixArray_to_fourier(Wk)\n",
    "    \n",
    "    #total correlation function in r-space\n",
    "    Hr = deepcopy(PRISM.totalCorr)\n",
    "    if Hr.space == pyPRISM.Space.Fourier:\n",
    "        PRISM.sys.domain.MatrixArray_to_real(Hr)\n",
    "    \n",
    "    #calculate the k-space contribution\n",
    "    tr_WkCk = np.trace(Wk.dot(Ck).data, axis1=1, axis2=2)\n",
    "    lndet_WkCk = np.log( np.linalg.det( (I-Wk.dot(Ck)).data ) )\n",
    "    F_ex_k = 4.0*np.pi/(2.0*(2.0*np.pi)**3)*np.trapz(k*k*(tr_WkCk + lndet_WkCk), k)\n",
    "    \n",
    "    #calculate the r-space contribution\n",
    "    if method == 'KH':\n",
    "        structure = ((1.0/2.0)*(Hr*Hr).data*np.heaviside(-Hr.data, 0) - Cr.data)\n",
    "    elif method == 'HNC':\n",
    "        structure = ((1.0/2.0)*(Hr*Hr).data - Cr.data)\n",
    "    kernel_r = np.sum(np.matmul(np.matmul(p, structure), p), axis=(1,2))\n",
    "    F_ex_r = (4.0*np.pi/2.0)*np.trapz(r*r*kernel_r, r)\n",
    "    \n",
    "    #total free energy per unit volume and kBT\n",
    "    F_ex = F_ex_r + F_ex_k\n",
    "    \n",
    "    return F_ex"
   ]
  },
  {
   "cell_type": "code",
   "execution_count": null,
   "metadata": {
    "collapsed": false
   },
   "outputs": [],
   "source": [
    "ExcessFreeEnergy(PRISM)/PRISM.sys.density.total"
   ]
  },
  {
   "cell_type": "code",
   "execution_count": null,
   "metadata": {
    "collapsed": false
   },
   "outputs": [],
   "source": [
    "ExcessFreeEnergy(PRISM)/PRISM.sys.density.total"
   ]
  },
  {
   "cell_type": "code",
   "execution_count": null,
   "metadata": {
    "collapsed": false
   },
   "outputs": [],
   "source": [
    "type(PRISM.sys.closure['particle','polymer_middle']) == type(KovalenkoHirata())"
   ]
  },
  {
   "cell_type": "code",
   "execution_count": null,
   "metadata": {
    "collapsed": false
   },
   "outputs": [],
   "source": [
    "PRISM.sys.types"
   ]
  },
  {
   "cell_type": "code",
   "execution_count": null,
   "metadata": {
    "collapsed": true
   },
   "outputs": [],
   "source": [
    "a = set()"
   ]
  },
  {
   "cell_type": "code",
   "execution_count": null,
   "metadata": {
    "collapsed": true
   },
   "outputs": [],
   "source": [
    "a.add(3)"
   ]
  },
  {
   "cell_type": "code",
   "execution_count": null,
   "metadata": {
    "collapsed": false
   },
   "outputs": [],
   "source": [
    "not (a - set([3,4]))"
   ]
  },
  {
   "cell_type": "code",
   "execution_count": null,
   "metadata": {
    "collapsed": true
   },
   "outputs": [],
   "source": [
    "k = sys.domain.k\n",
    "I = pyPRISM.IdentityMatrixArray(length=len(sys.domain.k), rank=3, types=sys.types, space=pyPRISM.Space.Fourier)\n",
    "Ck = PRISM.directCorr\n",
    "Wk = PRISM.omega\n",
    "tr_WkCk = np.trace(Wk.dot(Ck).data, axis1=1, axis2=2)\n",
    "lndet_WkCk = np.log( np.linalg.det( (I-Wk.dot(Ck)).data ) )\n",
    "F_ex_k = -4.0*np.pi/(2.0*(2.0*np.pi)**3)*np.trapz(k*k*(tr_WkCk + lndet_WkCk), k)"
   ]
  },
  {
   "cell_type": "code",
   "execution_count": null,
   "metadata": {
    "collapsed": true
   },
   "outputs": [],
   "source": [
    "from copy import deepcopy"
   ]
  },
  {
   "cell_type": "code",
   "execution_count": null,
   "metadata": {
    "collapsed": true
   },
   "outputs": [],
   "source": [
    "r = sys.domain.r\n",
    "Cr = deepcopy(Ck)\n",
    "sys.domain.MatrixArray_to_real(Cr)\n",
    "p = np.diag(np.diag(sys.density.site.data[0]))\n",
    "Hr = PRISM.totalCorr\n",
    "structure = ((1.0/2.0)*(Hr*Hr).data*np.heaviside(-Hr.data, 0) - Cr.data)\n",
    "kernel_r = np.sum(np.matmul(np.matmul(p, structure), p), axis=(1,2))\n",
    "F_ex_r = (4.0*np.pi/2.0)*np.trapz(r*r*kernel_r, r)"
   ]
  },
  {
   "cell_type": "code",
   "execution_count": null,
   "metadata": {
    "collapsed": false
   },
   "outputs": [],
   "source": [
    "print F_ex_r \n",
    "print F_ex_k\n",
    "print F_ex_r - F_ex_k"
   ]
  },
  {
   "cell_type": "code",
   "execution_count": null,
   "metadata": {
    "collapsed": true
   },
   "outputs": [],
   "source": []
  },
  {
   "cell_type": "code",
   "execution_count": null,
   "metadata": {
    "collapsed": true
   },
   "outputs": [],
   "source": []
  },
  {
   "cell_type": "code",
   "execution_count": null,
   "metadata": {
    "collapsed": true
   },
   "outputs": [],
   "source": []
  },
  {
   "cell_type": "code",
   "execution_count": null,
   "metadata": {
    "collapsed": true
   },
   "outputs": [],
   "source": []
  },
  {
   "cell_type": "code",
   "execution_count": null,
   "metadata": {
    "collapsed": true
   },
   "outputs": [],
   "source": [
    "def CS(n):\n",
    "    return ((4.0*n-3.0*n*n)/(1.0-n)**2)"
   ]
  },
  {
   "cell_type": "code",
   "execution_count": null,
   "metadata": {
    "collapsed": false
   },
   "outputs": [],
   "source": [
    "CS(0.4)"
   ]
  },
  {
   "cell_type": "code",
   "execution_count": null,
   "metadata": {
    "collapsed": true
   },
   "outputs": [],
   "source": []
  },
  {
   "cell_type": "code",
   "execution_count": null,
   "metadata": {
    "collapsed": true
   },
   "outputs": [],
   "source": [
    "#trace_1 = np.trace(np.matmul(np.matmul(Wk, Ck), p), axis1=1, axis2=2)\n",
    "trace = np.trace(np.matmul(Wk, Ck), axis1=1, axis2=2)"
   ]
  },
  {
   "cell_type": "code",
   "execution_count": null,
   "metadata": {
    "collapsed": true
   },
   "outputs": [],
   "source": [
    "I=np.repeat(np.expand_dims(np.identity(num_types), axis=0), repeats=len(sys.domain.k), axis=0)\n",
    "lndet = np.log(np.linalg.det(I-np.matmul(Wk, Ck)))"
   ]
  },
  {
   "cell_type": "code",
   "execution_count": null,
   "metadata": {
    "collapsed": false
   },
   "outputs": [],
   "source": [
    "plt.plot(trace)\n",
    "plt.plot(lndet)\n",
    "plt.ylim(-10,10)"
   ]
  },
  {
   "cell_type": "code",
   "execution_count": null,
   "metadata": {
    "collapsed": false
   },
   "outputs": [],
   "source": [
    "F = 4.0*np.pi/(2.0*(2.0*np.pi)**3)*np.trapz(k*k*(trace+lndet), k)\n",
    "print F"
   ]
  },
  {
   "cell_type": "code",
   "execution_count": null,
   "metadata": {
    "collapsed": false
   },
   "outputs": [],
   "source": [
    "plt.plot(abs(trace_1))\n",
    "plt.plot(abs(trace))\n",
    "plt.yscale('log')"
   ]
  },
  {
   "cell_type": "code",
   "execution_count": null,
   "metadata": {
    "collapsed": false
   },
   "outputs": [],
   "source": [
    "plt.plot(PRISM.omega['polymer_end','polymer_end'])"
   ]
  },
  {
   "cell_type": "code",
   "execution_count": null,
   "metadata": {
    "collapsed": false
   },
   "outputs": [],
   "source": [
    "PRISM.omega['particle','particle']"
   ]
  },
  {
   "cell_type": "markdown",
   "metadata": {},
   "source": [
    "## r-space contribution to free energy"
   ]
  },
  {
   "cell_type": "code",
   "execution_count": null,
   "metadata": {
    "collapsed": true
   },
   "outputs": [],
   "source": [
    "from copy import deepcopy"
   ]
  },
  {
   "cell_type": "code",
   "execution_count": null,
   "metadata": {
    "collapsed": true
   },
   "outputs": [],
   "source": [
    "directCorr = deepcopy(PRISM.directCorr)\n",
    "totalCorr = deepcopy(PRISM.totalCorr)\n",
    "sys.domain.MatrixArray_to_real(directCorr)"
   ]
  },
  {
   "cell_type": "code",
   "execution_count": null,
   "metadata": {
    "collapsed": true
   },
   "outputs": [],
   "source": [
    "types = ['particle', 'polymer_end', 'polymer_middle']\n",
    "num_types = len(types)\n",
    "\n",
    "Cr = np.ones((len(sys.domain.k), num_types, num_types), dtype=None, order='C')\n",
    "Hr = np.ones((len(sys.domain.k), num_types, num_types), dtype=None, order='C')\n",
    "r = sys.domain.r\n",
    "\n",
    "for type_1 in types:\n",
    "    for type_2 in types:\n",
    "        "
   ]
  },
  {
   "cell_type": "code",
   "execution_count": null,
   "metadata": {
    "collapsed": true
   },
   "outputs": [],
   "source": []
  },
  {
   "cell_type": "code",
   "execution_count": null,
   "metadata": {
    "collapsed": true
   },
   "outputs": [],
   "source": []
  },
  {
   "cell_type": "code",
   "execution_count": null,
   "metadata": {
    "collapsed": true
   },
   "outputs": [],
   "source": []
  },
  {
   "cell_type": "code",
   "execution_count": null,
   "metadata": {
    "collapsed": true
   },
   "outputs": [],
   "source": []
  },
  {
   "cell_type": "code",
   "execution_count": null,
   "metadata": {
    "collapsed": true
   },
   "outputs": [],
   "source": []
  },
  {
   "cell_type": "code",
   "execution_count": null,
   "metadata": {
    "collapsed": false
   },
   "outputs": [],
   "source": [
    "plt.plot(PRISM.totalCorr['particle','polymer_end'])"
   ]
  },
  {
   "cell_type": "code",
   "execution_count": null,
   "metadata": {
    "collapsed": false
   },
   "outputs": [],
   "source": [
    "plt.scatter(sys.domain.r, C['particle','particle'])\n",
    "plt.xlim(0,4)"
   ]
  },
  {
   "cell_type": "code",
   "execution_count": null,
   "metadata": {
    "collapsed": true
   },
   "outputs": [],
   "source": []
  },
  {
   "cell_type": "code",
   "execution_count": null,
   "metadata": {
    "collapsed": true
   },
   "outputs": [],
   "source": []
  },
  {
   "cell_type": "code",
   "execution_count": null,
   "metadata": {
    "collapsed": true
   },
   "outputs": [],
   "source": []
  },
  {
   "cell_type": "code",
   "execution_count": null,
   "metadata": {
    "collapsed": true
   },
   "outputs": [],
   "source": []
  },
  {
   "cell_type": "code",
   "execution_count": null,
   "metadata": {
    "collapsed": false
   },
   "outputs": [],
   "source": [
    "lndet_1"
   ]
  },
  {
   "cell_type": "code",
   "execution_count": null,
   "metadata": {
    "collapsed": false
   },
   "outputs": [],
   "source": [
    "plt.plot(lndet_1)\n",
    "plt.plot(trace_1)\n",
    "plt.plot(lndet_1+trace_1)\n",
    "#plt.yscale('log')\n",
    "#plt.ylim(-1,1)"
   ]
  },
  {
   "cell_type": "code",
   "execution_count": null,
   "metadata": {
    "collapsed": false
   },
   "outputs": [],
   "source": [
    "print p"
   ]
  },
  {
   "cell_type": "code",
   "execution_count": null,
   "metadata": {
    "collapsed": true
   },
   "outputs": [],
   "source": []
  },
  {
   "cell_type": "code",
   "execution_count": null,
   "metadata": {
    "collapsed": true
   },
   "outputs": [],
   "source": []
  },
  {
   "cell_type": "code",
   "execution_count": null,
   "metadata": {
    "collapsed": true
   },
   "outputs": [],
   "source": []
  },
  {
   "cell_type": "code",
   "execution_count": null,
   "metadata": {
    "collapsed": false
   },
   "outputs": [],
   "source": [
    "plt.plot(trace)\n",
    "#plt.plot(lndet)"
   ]
  },
  {
   "cell_type": "code",
   "execution_count": null,
   "metadata": {
    "collapsed": true
   },
   "outputs": [],
   "source": []
  },
  {
   "cell_type": "code",
   "execution_count": null,
   "metadata": {
    "collapsed": false
   },
   "outputs": [],
   "source": [
    "I.shape"
   ]
  },
  {
   "cell_type": "code",
   "execution_count": null,
   "metadata": {
    "collapsed": true
   },
   "outputs": [],
   "source": [
    "I=np.repeat(np.expand_dims(np.identity(1+length), axis=0), repeats=len(sys.domain.k), axis=0)"
   ]
  },
  {
   "cell_type": "code",
   "execution_count": null,
   "metadata": {
    "collapsed": true
   },
   "outputs": [],
   "source": []
  },
  {
   "cell_type": "code",
   "execution_count": null,
   "metadata": {
    "collapsed": true
   },
   "outputs": [],
   "source": []
  },
  {
   "cell_type": "code",
   "execution_count": null,
   "metadata": {
    "collapsed": true
   },
   "outputs": [],
   "source": []
  },
  {
   "cell_type": "code",
   "execution_count": null,
   "metadata": {
    "collapsed": true
   },
   "outputs": [],
   "source": [
    "dkp = DiscreteKoyamaPartitioned(sigma=0.01, \n",
    "                                l=polymer_site_diameter, \n",
    "                                length=length, \n",
    "                                lp=0.20013,\n",
    "                                types=('end','middle'))"
   ]
  },
  {
   "cell_type": "code",
   "execution_count": null,
   "metadata": {
    "collapsed": false
   },
   "outputs": [],
   "source": [
    "print dkp.epsilon\n",
    "print dkp.cos1\n",
    "print dkp.cos2"
   ]
  },
  {
   "cell_type": "code",
   "execution_count": null,
   "metadata": {
    "collapsed": false
   },
   "outputs": [],
   "source": [
    "print dkp.epsilon\n",
    "print dkp.cos1\n",
    "print dkp.cos2"
   ]
  },
  {
   "cell_type": "code",
   "execution_count": null,
   "metadata": {
    "collapsed": false
   },
   "outputs": [],
   "source": [
    "4*(0.2)**3/(4*0.2**2-0.01**2)"
   ]
  },
  {
   "cell_type": "code",
   "execution_count": null,
   "metadata": {
    "collapsed": false
   },
   "outputs": [],
   "source": [
    "polymer_site_diameter*3.0005/3.0"
   ]
  },
  {
   "cell_type": "code",
   "execution_count": null,
   "metadata": {
    "collapsed": false
   },
   "outputs": [],
   "source": [
    "sigma = 0.2\n",
    "l=0.2\n",
    "\n",
    "1 - sigma*sigma/(2.0 * l * l)"
   ]
  },
  {
   "cell_type": "code",
   "execution_count": null,
   "metadata": {
    "collapsed": false
   },
   "outputs": [],
   "source": [
    "1/6."
   ]
  },
  {
   "cell_type": "code",
   "execution_count": null,
   "metadata": {
    "collapsed": true
   },
   "outputs": [],
   "source": []
  },
  {
   "cell_type": "code",
   "execution_count": null,
   "metadata": {
    "collapsed": true
   },
   "outputs": [],
   "source": [
    "def Cos1(epsilon, cos0):\n",
    "    e = epsilon\n",
    "    return (1/e  - ( np.exp(e) + cos0*np.exp(-e*cos0) )/( np.exp(e) - np.exp(-e*cos0) ))"
   ]
  },
  {
   "cell_type": "code",
   "execution_count": null,
   "metadata": {
    "collapsed": true
   },
   "outputs": [],
   "source": [
    "l = 0.5\n",
    "lp = (2.9/3.0)*l\n",
    "sigma = 0.001\n",
    "cos0 = 1.0 - sigma*sigma/(2.0*l*l)\n",
    "cos1 = l/lp - 1.0"
   ]
  },
  {
   "cell_type": "code",
   "execution_count": null,
   "metadata": {
    "collapsed": true
   },
   "outputs": [],
   "source": [
    "from scipy.optimize import root"
   ]
  },
  {
   "cell_type": "code",
   "execution_count": null,
   "metadata": {
    "collapsed": true
   },
   "outputs": [],
   "source": [
    "func = lambda e: Cos1(e, cos0) - cos1"
   ]
  },
  {
   "cell_type": "code",
   "execution_count": null,
   "metadata": {
    "collapsed": false
   },
   "outputs": [],
   "source": [
    "sol = root(func, [0.1], jac=False, method='hybr')\n",
    "sol.x"
   ]
  },
  {
   "cell_type": "code",
   "execution_count": null,
   "metadata": {
    "collapsed": false
   },
   "outputs": [],
   "source": [
    "w_bad = pyPRISM.omega.DiscreteKoyama(sigma=1.0, \n",
    "                                        l=1.0, \n",
    "                                        length=50, \n",
    "                                        lp=4./3.0 )\n",
    "w_good = DiscreteKoyama(sigma=1.0, \n",
    "                        l=0.5001, \n",
    "                        length=50, \n",
    "                        lp=50)\n",
    "\n",
    "print (w_good.cos1,w_good.cos2,w_good.epsilon)"
   ]
  },
  {
   "cell_type": "code",
   "execution_count": null,
   "metadata": {
    "collapsed": false
   },
   "outputs": [],
   "source": [
    "w_good = DiscreteKoyama(sigma=1.0, \n",
    "                        l=0.61, \n",
    "                        length=50, \n",
    "                        lp=1.86083)\n",
    "\n",
    "print (w_good.cos1,w_good.cos2,w_good.epsilon)"
   ]
  },
  {
   "cell_type": "code",
   "execution_count": null,
   "metadata": {
    "collapsed": false
   },
   "outputs": [],
   "source": [
    "w_good = DiscreteKoyama(sigma=1.0, \n",
    "                        l=0.61, \n",
    "                        length=50, \n",
    "                        lp=1.8608353)\n",
    "\n",
    "print (w_good.cos1,w_good.cos2,w_good.epsilon)"
   ]
  },
  {
   "cell_type": "code",
   "execution_count": null,
   "metadata": {
    "collapsed": false
   },
   "outputs": [],
   "source": [
    "k = PRISM.sys.domain.k\n",
    "plt.plot(k, k*k*w_bad.calculate(k))\n",
    "plt.plot(k, k*k*w_good.calculate(k), color='red')\n",
    "plt.xlim(0,4)\n",
    "plt.ylim(0,10)"
   ]
  },
  {
   "cell_type": "code",
   "execution_count": null,
   "metadata": {
    "collapsed": true
   },
   "outputs": [],
   "source": []
  }
 ],
 "metadata": {
  "kernelspec": {
   "display_name": "Python 2",
   "language": "python",
   "name": "python2"
  },
  "language_info": {
   "codemirror_mode": {
    "name": "ipython",
    "version": 2
   },
   "file_extension": ".py",
   "mimetype": "text/x-python",
   "name": "python",
   "nbconvert_exporter": "python",
   "pygments_lexer": "ipython2",
   "version": "2.7.13"
  }
 },
 "nbformat": 4,
 "nbformat_minor": 2
}
