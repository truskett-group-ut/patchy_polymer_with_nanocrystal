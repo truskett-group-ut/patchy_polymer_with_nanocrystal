{
 "cells": [
  {
   "cell_type": "code",
   "execution_count": 1,
   "metadata": {},
   "outputs": [
    {
     "name": "stderr",
     "output_type": "stream",
     "text": [
      "Using Theano backend.\n",
      "WARNING (theano.tensor.blas): Using NumPy C-API based implementation for BLAS functions.\n"
     ]
    }
   ],
   "source": [
    "import numpy as np\n",
    "import numdifftools as nd\n",
    "import matplotlib.pyplot as plt\n",
    "from __future__ import division\n",
    "from code.colloid_polymer_free_energy import Acp\n",
    "import sys\n",
    "sys.path.append('../')\n",
    "from regression.code.bond_volume import BondVolume\n",
    "import warnings\n",
    "%matplotlib inline "
   ]
  },
  {
   "cell_type": "markdown",
   "metadata": {},
   "source": [
    "### Ideal free energy contribution\n",
    "\n",
    "---"
   ]
  },
  {
   "cell_type": "code",
   "execution_count": 2,
   "metadata": {
    "collapsed": true
   },
   "outputs": [],
   "source": [
    "def Aid(p_c, p_p, \n",
    "        d_c, d_p  \n",
    "       ):\n",
    "    \n",
    "    #just creating an arbitrary length scale to non-dimensionalize the log term\n",
    "    vol = (d_c/2.0 + d_p/2.0)**3.0\n",
    "    p = p_c + p_p\n",
    "    \n",
    "    #ideal contribution containing both mixing and translational entropy\n",
    "    a_id = p_c*np.log(p_c*vol) + p_p*np.log(p_p*vol) - p\n",
    "    \n",
    "    return a_id"
   ]
  },
  {
   "cell_type": "markdown",
   "metadata": {
    "collapsed": true
   },
   "source": [
    "### Reference free energy contribution\n",
    "\n",
    "This is a hard mixture of colloids with polymer chains\n",
    "\n",
    "---"
   ]
  },
  {
   "cell_type": "markdown",
   "metadata": {},
   "source": [
    "Contact values between a reference hard sphere mixture"
   ]
  },
  {
   "cell_type": "code",
   "execution_count": 3,
   "metadata": {
    "collapsed": true
   },
   "outputs": [],
   "source": [
    "def G(p_cs, p_ps,     \n",
    "      d_c, d_p,       \n",
    "      type_1, type_2  \n",
    "      ):\n",
    "    \n",
    "    #auxillary hard sphere parameters\n",
    "    e2 = (np.pi/6.0)*(p_cs*d_c**2 + p_ps*d_p**2)\n",
    "    e3 = (np.pi/6.0)*(p_cs*d_c**3 + p_ps*d_p**3)\n",
    "    \n",
    "    #type specific details\n",
    "    r_1 = (type_1 == 'c')*d_c/2.0 + (type_1 == 'p')*d_p/2.0\n",
    "    r_2 = (type_2 == 'c')*d_c/2.0 + (type_2 == 'p')*d_p/2.0\n",
    "    \n",
    "    #cross contact value\n",
    "    g = ( 1.0/(1.0 - e3) \n",
    "        + 6.0*e2*r_1*r_2/((r_1 + r_2)*(1.0 - e3)**2) \n",
    "        + 8.0*(e2**2)*(r_1**2)*(r_2**2)/(((1.0 - e3)**3)*((r_1+r_2)**2))  \n",
    "        )\n",
    "    \n",
    "    return g"
   ]
  },
  {
   "cell_type": "markdown",
   "metadata": {},
   "source": [
    "Total reference free energy of a colloid-polymer mixture"
   ]
  },
  {
   "cell_type": "code",
   "execution_count": 4,
   "metadata": {
    "collapsed": true
   },
   "outputs": [],
   "source": [
    "def Aref(p_c, p_p, \n",
    "         d_c, d_p, m\n",
    "        ):\n",
    "    \n",
    "    #total molecular density and molecular mole fractions\n",
    "    p = p_c + p_p\n",
    "    x_c = p_c/p\n",
    "    x_p = p_p/p\n",
    "    \n",
    "    #site level densities\n",
    "    p_cs = p_c\n",
    "    p_ps = m*p_p\n",
    "    p_s = p_cs + p_ps\n",
    "    \n",
    "    #auxillary hard sphere parameters\n",
    "    e0 = (np.pi/6.0)*(p_cs + p_ps)\n",
    "    e1 = (np.pi/6.0)*(p_cs*d_c + p_ps*d_p)\n",
    "    e2 = (np.pi/6.0)*(p_cs*d_c**2 + p_ps*d_p**2)\n",
    "    e3 = (np.pi/6.0)*(p_cs*d_c**3 + p_ps*d_p**3)\n",
    "    \n",
    "    #monomer free energy per molecule\n",
    "    a_mon = (p_s/p)*((6.0/(np.pi*p_s))*(((e2**3/e3**2) - e0)*np.log(1.0 - e3) \n",
    "                                        + (3.0*e1*e2/(1.0-e3)) + (e2**3/(e3*(1.0-e3)**2))))\n",
    "    \n",
    "    #chain free energy change per molecule\n",
    "    g = G(p_cs, p_ps, d_c, d_p, type_1='p', type_2='p')\n",
    "    a_chn = -x_p*(m - 1.0)*np.log(g)\n",
    "    \n",
    "    #free energy per total number of \"molecules\"\n",
    "    a_ref = a_mon + a_chn\n",
    "    \n",
    "    #convert to free energy per volume\n",
    "    return a_ref*p"
   ]
  },
  {
   "cell_type": "markdown",
   "metadata": {},
   "source": [
    "### Bonding free energy contribution\n",
    "\n",
    "This uses a ML based prediction for the bond volume and hard sphere mixture structure\n",
    "\n",
    "---"
   ]
  },
  {
   "cell_type": "markdown",
   "metadata": {},
   "source": [
    "ONLY valid for dc=5 and dp=1 right now!!!!!!"
   ]
  },
  {
   "cell_type": "code",
   "execution_count": 5,
   "metadata": {
    "collapsed": true
   },
   "outputs": [],
   "source": [
    "r = np.arange(0.0, 7.0, 0.005)"
   ]
  },
  {
   "cell_type": "code",
   "execution_count": 6,
   "metadata": {
    "collapsed": true
   },
   "outputs": [],
   "source": [
    "#ML prediction for the average mayer-f function\n",
    "bond_volume = BondVolume(model_index=0, num_rbfs=5)\n",
    "bond_volume.InitializePredictionGrid(rs=r)\n",
    "BV = lambda x: bond_volume.Predict(x)"
   ]
  },
  {
   "cell_type": "markdown",
   "metadata": {},
   "source": [
    "Function that calculates the bond integral"
   ]
  },
  {
   "cell_type": "code",
   "execution_count": 7,
   "metadata": {
    "collapsed": true
   },
   "outputs": [],
   "source": [
    "def BIcp(p_c, p_p, e_pc,  \n",
    "         d_c, d_p, m   \n",
    "        ):\n",
    "    \n",
    "    #get the average mayer-f function\n",
    "    f_cp_avg = BV(e_pc)\n",
    "    \n",
    "    #get the structure for the dis-assembled hard sphere reference\n",
    "    p_cs = p_c\n",
    "    p_ps = p_p*m\n",
    "    g_cp = G(p_cs, p_ps, d_c, d_p, type_1='c', type_2='p')\n",
    "    r_cut = (d_c + d_p)/2.0\n",
    "    \n",
    "    #define integrand above the hard core\n",
    "    integrand = 4.0*np.pi*r*r*f_cp_avg*g_cp*(r > r_cut)\n",
    "    bi_cp = np.trapz(integrand, r)\n",
    "    \n",
    "    return bi_cp"
   ]
  },
  {
   "cell_type": "markdown",
   "metadata": {},
   "source": [
    "Calculate the fraction of sites not bonded"
   ]
  },
  {
   "cell_type": "code",
   "execution_count": 8,
   "metadata": {
    "collapsed": true
   },
   "outputs": [],
   "source": [
    "def X(p_c, p_p, e_pc,    \n",
    "      d_c, d_p, m_c, m_p, m  \n",
    "      ):\n",
    "    \n",
    "    #get the bond integral\n",
    "    bi_cp = BIcp(p_c, p_p, e_pc, d_c, d_p, m)\n",
    "    \n",
    "    #total density\n",
    "    p = p_c + p_p\n",
    "    \n",
    "    #species fractions\n",
    "    f_c = p_c/p\n",
    "    f_p = p_p/p\n",
    "    \n",
    "    #analytical formula for X_c and X_p\n",
    "    X_c = 2.0 / (1.0 + m_p*p*bi_cp - f_c*(m_c + m_p)*p*bi_cp \n",
    "                 + np.sqrt(4.0*f_c*m_c*p*bi_cp + np.power(-1.0 + (-m_p + f_c*(m_c + m_p))*p*bi_cp, 2.0)))\n",
    "    X_p = 2.0 / (1.0 - m_p*p*bi_cp + f_c*(m_c + m_p)*p*bi_cp \n",
    "                 + np.sqrt(4.0*f_c*m_c*p*bi_cp + np.power(-1.0 + (-m_p + f_c*(m_c + m_p))*p*bi_cp, 2.0)))\n",
    "    \n",
    "    return (X_c, X_p)"
   ]
  },
  {
   "cell_type": "code",
   "execution_count": 9,
   "metadata": {
    "collapsed": true
   },
   "outputs": [],
   "source": [
    "def Perc(p_c, p_p, e_pc,    \n",
    "         d_c, d_p, m_c, m_p, m  \n",
    "         ):\n",
    "    \n",
    "    #bonded fraction of each species\n",
    "    X_c, X_p = X(p_c, p_p, e_pc, d_c, d_p, m_c, m_p, m)\n",
    "    \n",
    "    return 1.0 - (m_p - 1.0)*(1.0 - X_p)*(m_c - 1.0)*(1.0 - X_c)"
   ]
  },
  {
   "cell_type": "code",
   "execution_count": 10,
   "metadata": {
    "collapsed": true
   },
   "outputs": [],
   "source": [
    "def Abd(p_c, p_p, e_pc,              \n",
    "        d_c, d_p, m_c, m_p, m  \n",
    "        ):\n",
    "    \n",
    "    #bonded fraction of each species\n",
    "    X_c, X_p = X(p_c, p_p, e_pc, d_c, d_p, m_c, m_p, m)\n",
    "    \n",
    "    #excess bonding free energy\n",
    "    a_bd = p_c*(m_c*np.log(X_c) - m_c*X_c/2.0 + m_c/2.0) + p_p*(m_p*np.log(X_p) - m_p*X_p/2.0 + m_p/2.0)\n",
    "    \n",
    "    return a_bd"
   ]
  },
  {
   "cell_type": "markdown",
   "metadata": {},
   "source": [
    "###   Total free energy per volume and pressure\n",
    "\n",
    "---"
   ]
  },
  {
   "cell_type": "code",
   "execution_count": 11,
   "metadata": {
    "collapsed": true
   },
   "outputs": [],
   "source": [
    "def A(p_c, p_p, e_pc,        \n",
    "      d_c, d_p, m_c, m_p, m  \n",
    "      ):\n",
    "    \n",
    "    #get the free energies\n",
    "    a_id = Aid(p_c, p_p, d_c, d_p)\n",
    "    a_ref = Aref(p_c, p_p, d_c, d_p, m)\n",
    "    a_bd = Abd(p_c, p_p, e_pc, d_c, d_p, m_c, m_p, m)\n",
    "    \n",
    "    return a_id + a_ref + a_bd"
   ]
  },
  {
   "cell_type": "code",
   "execution_count": 12,
   "metadata": {
    "collapsed": true
   },
   "outputs": [],
   "source": [
    "def Z(p, x_c, e_pc,        \n",
    "      d_c, d_p, m_c, m_p, m \n",
    "      ):\n",
    "    \n",
    "    #molecular densities\n",
    "    p_c = x_c*p\n",
    "    p_p = (1.0 - x_c)*p\n",
    "    \n",
    "    A_ = lambda o: A(x_c*o, (1.0 - x_c)*o, e_pc, d_c, d_p, m_c, m_p, m)/o\n",
    "    dAdp = nd.Derivative(A_, n=1, step=1e-5)\n",
    "    \n",
    "    return p*dAdp(p)"
   ]
  },
  {
   "cell_type": "markdown",
   "metadata": {},
   "source": [
    "Test for pure polymer case and comparison to fig 2 in Mol. Phys., 65:5, 1057-1079"
   ]
  },
  {
   "cell_type": "code",
   "execution_count": 13,
   "metadata": {},
   "outputs": [
    {
     "name": "stderr",
     "output_type": "stream",
     "text": [
      "/home/ryanj/miniconda2/lib/python2.7/site-packages/numpy/lib/function_base.py:3250: RuntimeWarning: All-NaN slice encountered\n",
      "  r = func(a, **kwargs)\n",
      "/home/ryanj/miniconda2/lib/python2.7/site-packages/numpy/lib/nanfunctions.py:1283: RuntimeWarning: All-NaN slice encountered\n",
      "  overwrite_input, interpolation)\n",
      "/home/ryanj/miniconda2/lib/python2.7/site-packages/numdifftools/limits.py:126: UserWarning: All-NaN slice encountered\n",
      "  warnings.warn(str(msg))\n"
     ]
    },
    {
     "data": {
      "text/plain": [
       "<matplotlib.collections.PathCollection at 0x7efd2cdb1ad0>"
      ]
     },
     "execution_count": 13,
     "metadata": {},
     "output_type": "execute_result"
    },
    {
     "data": {
      "image/png": "[encoded data removed]",
      "text/plain": [
       "<matplotlib.figure.Figure at 0x7efd32a08bd0>"
      ]
     },
     "metadata": {},
     "output_type": "display_data"
    }
   ],
   "source": [
    "#for pure polymer\n",
    "x_c = 0.0001\n",
    "e_pc = 0.0\n",
    "d_c = 1.0\n",
    "d_p = 1.0\n",
    "m_c = 1\n",
    "m_p = 1\n",
    "m = 16\n",
    "ns = np.arange(0.0,0.50,0.001)\n",
    "ps = (6*ns/(np.pi*d_p**3))/m\n",
    "\n",
    "Zs = []\n",
    "for p in ps:\n",
    "    Zs.append(Z(p, x_c, e_pc, d_c, d_p, m_c, m_p, m))\n",
    "\n",
    "#Zs = m*((1+ns+ns**2-ns**3)/(1-ns)**3 - ((m-1)/m)*(1+ns-(ns**2)/2)/((1-ns)*(1-ns/2)))\n",
    "\n",
    "plt.xlim(0,0.45)\n",
    "plt.ylim(0,25)\n",
    "\n",
    "#plt.scatter(ns, Zcps)\n",
    "plt.scatter(ns, Zs, alpha=0.09)"
   ]
  },
  {
   "cell_type": "code",
   "execution_count": null,
   "metadata": {
    "collapsed": true
   },
   "outputs": [],
   "source": []
  },
  {
   "cell_type": "code",
   "execution_count": null,
   "metadata": {
    "collapsed": true
   },
   "outputs": [],
   "source": []
  },
  {
   "cell_type": "markdown",
   "metadata": {},
   "source": [
    "###   Stabilility and percolation calculation\n",
    "Here we calculate the stability limits of the system via a standard spinodal calculation. For the helmholts free energy we only need to look at any determnant that contains n-1 degrees of freedom where n counts all the extensive variables.\n",
    "\n",
    "---"
   ]
  },
  {
   "cell_type": "code",
   "execution_count": 14,
   "metadata": {
    "collapsed": true
   },
   "outputs": [],
   "source": [
    "def DA(p_c, p_p, e_pc,              #state variables\n",
    "       d_c, d_p, m_c, m_p, m, #system parameters\n",
    "       min_step                  #minimum step to use for hessian calculation\n",
    "      ):\n",
    "    \n",
    "    #generate steps for calculating hessian\n",
    "    hess_steps = nd.MinStepGenerator(base_step=min_step, step_ratio=2.0, num_steps=4)\n",
    "    \n",
    "    #calculate the hessian (stability matrix)\n",
    "    calculate_hessian = lambda x: A(x[0], x[1], e_pc, d_c, d_p, m_c, m_p, m)\n",
    "    stability_matrix = nd.Hessian(calculate_hessian, step=hess_steps)([p_c, p_p])\n",
    "    \n",
    "    #build the 3x3 (or 2x2) stability matrix as a numpy array and calculate the determinant \n",
    "    #logdet is used to avoid issues with a small determinant (such as when an instability is reached)\n",
    "    (sign, logdet) = np.linalg.slogdet(stability_matrix)\n",
    "    stability_determinant = sign*np.exp(logdet)    \n",
    "        \n",
    "    #return the stability determinant\n",
    "    return stability_determinant"
   ]
  },
  {
   "cell_type": "code",
   "execution_count": 25,
   "metadata": {},
   "outputs": [],
   "source": [
    "import scipy as sp\n",
    "\n",
    "#performs grid search and labels each point as stable or unstable\n",
    "def CalculateBoundary(p_c_vals, gamma, e_pc_vals,\n",
    "                      d_c, d_p, m_c, m_p, m,\n",
    "                      min_step, boundary_type,\n",
    "                     ):\n",
    "\n",
    "\n",
    "    #lists for storing the results\n",
    "    boundary = [[],[],[],[]]\n",
    "\n",
    "    #quantities to iterate over\n",
    "    #p_c_vals_rev = list(reversed(p_c_vals))\n",
    "    quants = {'p_c': p_c_vals,\n",
    "              'e_pc': e_pc_vals}\n",
    "\n",
    "    #iteration permutations\n",
    "    iters = [('p_c', 'e_pc'), \n",
    "             ('e_pc', 'p_c')]\n",
    "    #iters = [('e_pc', 'p_c')]\n",
    "\n",
    "    #perform the loops in both directions\n",
    "    for iter_1, iter_2 in iters:\n",
    "        \n",
    "        print \"Performing ({}, {}) iteration...\".format(iter_1, iter_2)\n",
    "\n",
    "        for quant_1 in quants[iter_1]:\n",
    "\n",
    "            #stacks to find crossover points iterating over quant_2\n",
    "            value_queue = []\n",
    "            quant_2_queue = []\n",
    "            ####num_neg = 0\n",
    "\n",
    "            for quant_2 in quants[iter_2]:\n",
    "\n",
    "                #extract the values\n",
    "                p_c = (iter_1 == 'p_c')*quant_1 + (iter_2 == 'p_c')*quant_2\n",
    "                p_p = p_c*gamma\n",
    "                e_pc = (iter_1 == 'e_pc')*quant_1 + (iter_2 == 'e_pc')*quant_2\n",
    "\n",
    "                #perform the appropriate calculation\n",
    "                if boundary_type == 'spinodal':\n",
    "                    value = DA(p_c, p_p, e_pc, d_c, d_p, m_c, m_p, m, min_step)\n",
    "                elif boundary_type == 'percolation':\n",
    "                    value = Perc(p_c, p_p, e_pc, d_c, d_p, m_c, m_p, m)\n",
    "\n",
    "                #manage the queue\n",
    "                if len(value_queue) == 4:\n",
    "                    value_queue.pop(0); quant_2_queue.pop(0)\n",
    "                value_queue.append(value); quant_2_queue.append(quant_2)\n",
    "\n",
    "                #count the number of unstable points encountered\n",
    "                ####num_neg = num_neg + (value < 0.0)\n",
    "\n",
    "                #if we have two positive and negative points interpolate to find the crossover and break\n",
    "                ####if num_neg == 2:\n",
    "                if len(value_queue) == 4:\n",
    "                    value_queue_sgn = np.sign(value_queue)\n",
    "                    if np.all(value_queue_sgn[0:2] + value_queue_sgn[2:] == 0):\n",
    "\n",
    "                        #fit an akima spline\n",
    "                        fit = sp.interpolate.Akima1DInterpolator(quant_2_queue, value_queue)\n",
    "                        roots = fit.roots()\n",
    "\n",
    "                        #select which one to use and append\n",
    "                        num_roots = len(roots)\n",
    "                        p_c_ = (iter_1 == 'p_c')*p_c + (iter_2 == 'p_c')*( (num_roots == 1)*roots[0] - (num_roots != 1) )\n",
    "                        e_pc_ = (iter_1 == 'e_pc')*e_pc + (iter_2 == 'e_pc')*( (num_roots == 1)*roots[0] - (num_roots != 1) )\n",
    "                        boundary[0].append( p_c_ )\n",
    "                        boundary[1].append( p_p )\n",
    "                        boundary[2].append( e_pc_ )\n",
    "                        boundary[3].append( ((np.pi/6.0)*d_c**3)*p_c_ )\n",
    "                        #break\n",
    "\n",
    "    return boundary"
   ]
  },
  {
   "cell_type": "markdown",
   "metadata": {},
   "source": [
    "Find the spinodal boundary"
   ]
  },
  {
   "cell_type": "code",
   "execution_count": 16,
   "metadata": {},
   "outputs": [],
   "source": [
    "def FindSpinodal(gamma, d_c, d_p, m_c, m_p, m,\n",
    "                 n_c_min, n_c_max, e_pc_min, e_pc_max,\n",
    "                 num_pts_p_c, num_pts_e_pc, num_pts_p_c_final, num_pts_e_pc_final,\n",
    "                 min_step, expansion\n",
    "                ):\n",
    "    \n",
    "    #auxillary\n",
    "    p_c_min = 6.0*n_c_min/(np.pi*d_c**3)\n",
    "    p_c_max = 6.0*n_c_max/(np.pi*d_c**3)\n",
    "\n",
    "    #####################################################################################\n",
    "\n",
    "    #set the ranges\n",
    "    p_c_vals = np.linspace(p_c_min, p_c_max, num=num_pts_p_c)\n",
    "    e_pc_vals = np.linspace(e_pc_min, e_pc_max, num=num_pts_e_pc)\n",
    "\n",
    "    #spinodal\n",
    "    print \"Performing initial spinodal pass with {}x{} grid...\".format(num_pts_p_c, num_pts_e_pc)\n",
    "    spinodal_init = CalculateBoundary(p_c_vals, gamma, e_pc_vals, \n",
    "                                      d_c, d_p, m_c, m_p, m, \n",
    "                                      min_step, 'spinodal')\n",
    "\n",
    "    #####################################################################################\n",
    "\n",
    "    #get the new sampling details\n",
    "    pc_range_final = max(spinodal_init[0]) - p_c_min\n",
    "    e_pc_range_final = e_pc_max - min(spinodal_init[2])\n",
    "    p_c_max_final = p_c_min + pc_range_final*(1.0 + expansion)\n",
    "    e_pc_min_final = e_pc_max - e_pc_range_final*(1.0 + expansion)\n",
    "\n",
    "    #set the ranges\n",
    "    p_c_vals_final = np.linspace(p_c_min, p_c_max_final, num=num_pts_p_c_final)\n",
    "    e_pc_vals_final = np.linspace(e_pc_min_final, e_pc_max, num=num_pts_e_pc_final)\n",
    "\n",
    "    #spinodal\n",
    "    print \"Performing final spinodal pass with localized {}x{} grid...\".format(num_pts_p_c_final, num_pts_e_pc_final)\n",
    "    spinodal = CalculateBoundary(p_c_vals_final, gamma, e_pc_vals_final, \n",
    "                                 d_c, d_p, m_c, m_p, m, \n",
    "                                 min_step, 'spinodal')\n",
    "    \n",
    "    return spinodal"
   ]
  },
  {
   "cell_type": "code",
   "execution_count": 17,
   "metadata": {},
   "outputs": [],
   "source": [
    "def FindPercolation(gamma, d_c, d_p, m_c, m_p, m,\n",
    "                    n_c_min, n_c_max, e_pc_min, e_pc_max,\n",
    "                    num_pts_p_c, num_pts_e_pc\n",
    "                    ):\n",
    "    \n",
    "    #auxillary\n",
    "    p_c_min = 6.0*n_c_min/(np.pi*d_c**3)\n",
    "    p_c_max = 6.0*n_c_max/(np.pi*d_c**3)\n",
    "\n",
    "    #####################################################################################\n",
    "\n",
    "    #set the ranges\n",
    "    p_c_vals = np.linspace(p_c_min, p_c_max, num=num_pts_p_c)\n",
    "    e_pc_vals = np.linspace(e_pc_min, e_pc_max, num=num_pts_e_pc)\n",
    "\n",
    "    #percolation\n",
    "    print \"Performing percolation pass with {}x{} grid...\".format(num_pts_p_c, num_pts_e_pc)\n",
    "    percolation = CalculateBoundary(p_c_vals, gamma, e_pc_vals, \n",
    "                                    d_c, d_p, m_c, m_p, m, \n",
    "                                    min_step, 'percolation')\n",
    "    \n",
    "    return percolation"
   ]
  },
  {
   "cell_type": "code",
   "execution_count": 18,
   "metadata": {
    "collapsed": true
   },
   "outputs": [],
   "source": [
    "phase_data = {}"
   ]
  },
  {
   "cell_type": "code",
   "execution_count": 19,
   "metadata": {
    "collapsed": true
   },
   "outputs": [],
   "source": [
    "#system variables\n",
    "#gamma = 3.0\n",
    "d_c = 5.0\n",
    "d_p = 1.0\n",
    "m_c = 6.0\n",
    "m_p = 2.0 \n",
    "#m = 8"
   ]
  },
  {
   "cell_type": "code",
   "execution_count": 22,
   "metadata": {
    "collapsed": true
   },
   "outputs": [],
   "source": [
    "#search range and search parameters\n",
    "n_c_min = 0.0001\n",
    "n_c_max = 0.25\n",
    "e_pc_min = 10.0\n",
    "e_pc_max = 20.0\n",
    "num_pts_p_c = 120\n",
    "num_pts_e_pc = 120\n",
    "num_pts_p_c_final = 50\n",
    "num_pts_e_pc_final = 50\n",
    "min_step= 0.0000001 #0.00001\n",
    "expansion = 0.50"
   ]
  },
  {
   "cell_type": "code",
   "execution_count": 23,
   "metadata": {
    "collapsed": true
   },
   "outputs": [],
   "source": [
    "#ms = [1, 2, 4, 8, 16]\n",
    "#gammas = [1, 3, 9]\n",
    "\n",
    "ms = [16]\n",
    "gammas = [9]"
   ]
  },
  {
   "cell_type": "code",
   "execution_count": 26,
   "metadata": {
    "scrolled": true
   },
   "outputs": [
    {
     "name": "stdout",
     "output_type": "stream",
     "text": [
      "Working on m = 16, gamma = 9\n",
      "Performing initial spinodal pass with 120x120 grid...\n",
      "Performing (p_c, e_pc) iteration...\n",
      "Performing (e_pc, p_c) iteration...\n",
      "Performing final spinodal pass with localized 50x50 grid...\n",
      "Performing (p_c, e_pc) iteration...\n",
      "Performing (e_pc, p_c) iteration...\n"
     ]
    }
   ],
   "source": [
    "for m in ms:\n",
    "    for gamma in gammas:\n",
    "        print \"Working on m = {}, gamma = {}\".format(m, gamma)\n",
    "        \n",
    "        spinodal = FindSpinodal(gamma, d_c, d_p, m_c, m_p, m,\n",
    "                                n_c_min, n_c_max, e_pc_min, e_pc_max,\n",
    "                                num_pts_p_c, num_pts_e_pc, num_pts_p_c_final, num_pts_e_pc_final,\n",
    "                                min_step, expansion\n",
    "                                )\n",
    "\n",
    "        phase_data[(m, gamma)] = {'spinodal': [spinodal[3], spinodal[2]]}"
   ]
  },
  {
   "cell_type": "code",
   "execution_count": 51,
   "metadata": {},
   "outputs": [],
   "source": [
    "#import dill as pickle\n",
    "#with open('./data/spinodal_examples.pkl', 'wb') as file:\n",
    "#    pickle.dump(phase_data, file)"
   ]
  },
  {
   "cell_type": "code",
   "execution_count": 31,
   "metadata": {
    "collapsed": true
   },
   "outputs": [],
   "source": [
    "#import dill as pickle\n",
    "#with open('./data/spinodal_examples.pkl', 'rb') as file:\n",
    "#    phase_data = pickle.load(file)"
   ]
  },
  {
   "cell_type": "code",
   "execution_count": 46,
   "metadata": {
    "collapsed": true
   },
   "outputs": [],
   "source": [
    "#search range and search parameters\n",
    "n_c_min = 0.0001\n",
    "n_c_max = 0.3\n",
    "e_pc_min = 0.0\n",
    "e_pc_max = 20.0\n",
    "num_pts_p_c = 400\n",
    "num_pts_e_pc = 100"
   ]
  },
  {
   "cell_type": "code",
   "execution_count": 47,
   "metadata": {
    "scrolled": true
   },
   "outputs": [
    {
     "name": "stdout",
     "output_type": "stream",
     "text": [
      "Working on m = 1, gamma = 1\n",
      "Performing percolation pass with 400x100 grid...\n",
      "Performing (p_c, e_pc) iteration...\n",
      "Performing (e_pc, p_c) iteration...\n",
      "Working on m = 1, gamma = 3\n",
      "Performing percolation pass with 400x100 grid...\n",
      "Performing (p_c, e_pc) iteration...\n",
      "Performing (e_pc, p_c) iteration...\n",
      "Working on m = 1, gamma = 9\n",
      "Performing percolation pass with 400x100 grid...\n",
      "Performing (p_c, e_pc) iteration...\n",
      "Performing (e_pc, p_c) iteration...\n",
      "Working on m = 2, gamma = 1\n",
      "Performing percolation pass with 400x100 grid...\n",
      "Performing (p_c, e_pc) iteration...\n",
      "Performing (e_pc, p_c) iteration...\n",
      "Working on m = 2, gamma = 3\n",
      "Performing percolation pass with 400x100 grid...\n",
      "Performing (p_c, e_pc) iteration...\n",
      "Performing (e_pc, p_c) iteration...\n",
      "Working on m = 2, gamma = 9\n",
      "Performing percolation pass with 400x100 grid...\n",
      "Performing (p_c, e_pc) iteration...\n",
      "Performing (e_pc, p_c) iteration...\n",
      "Working on m = 4, gamma = 1\n",
      "Performing percolation pass with 400x100 grid...\n",
      "Performing (p_c, e_pc) iteration...\n",
      "Performing (e_pc, p_c) iteration...\n",
      "Working on m = 4, gamma = 3\n",
      "Performing percolation pass with 400x100 grid...\n",
      "Performing (p_c, e_pc) iteration...\n",
      "Performing (e_pc, p_c) iteration...\n",
      "Working on m = 4, gamma = 9\n",
      "Performing percolation pass with 400x100 grid...\n",
      "Performing (p_c, e_pc) iteration...\n",
      "Performing (e_pc, p_c) iteration...\n",
      "Working on m = 8, gamma = 1\n",
      "Performing percolation pass with 400x100 grid...\n",
      "Performing (p_c, e_pc) iteration...\n",
      "Performing (e_pc, p_c) iteration...\n",
      "Working on m = 8, gamma = 3\n",
      "Performing percolation pass with 400x100 grid...\n",
      "Performing (p_c, e_pc) iteration...\n",
      "Performing (e_pc, p_c) iteration...\n",
      "Working on m = 8, gamma = 9\n",
      "Performing percolation pass with 400x100 grid...\n",
      "Performing (p_c, e_pc) iteration...\n",
      "Performing (e_pc, p_c) iteration...\n",
      "Working on m = 16, gamma = 1\n",
      "Performing percolation pass with 400x100 grid...\n",
      "Performing (p_c, e_pc) iteration...\n",
      "Performing (e_pc, p_c) iteration...\n",
      "Working on m = 16, gamma = 3\n",
      "Performing percolation pass with 400x100 grid...\n",
      "Performing (p_c, e_pc) iteration...\n",
      "Performing (e_pc, p_c) iteration...\n",
      "Working on m = 16, gamma = 9\n",
      "Performing percolation pass with 400x100 grid...\n",
      "Performing (p_c, e_pc) iteration...\n",
      "Performing (e_pc, p_c) iteration...\n"
     ]
    }
   ],
   "source": [
    "for m in [1, 2, 4, 8, 16]:\n",
    "    for gamma in [1, 3, 9]:\n",
    "        print \"Working on m = {}, gamma = {}\".format(m, gamma)\n",
    "        \n",
    "        percolation = FindPercolation(gamma, d_c, d_p, m_c, m_p, m,\n",
    "                              n_c_min, n_c_max, e_pc_min, e_pc_max,\n",
    "                              num_pts_p_c, num_pts_e_pc\n",
    "                              )\n",
    "\n",
    "        phase_data[(m, gamma)]['percolation'] =  [percolation[3], percolation[2]]"
   ]
  },
  {
   "cell_type": "code",
   "execution_count": 50,
   "metadata": {},
   "outputs": [
    {
     "data": {
      "image/png": "[encoded data removed]",
      "text/plain": [
       "<matplotlib.figure.Figure at 0x7efd2877bed0>"
      ]
     },
     "metadata": {},
     "output_type": "display_data"
    }
   ],
   "source": [
    "fig=plt.figure()\n",
    "\n",
    "#font scpecifications\n",
    "title_font = {'family' : 'arial', 'color'  : 'black', 'weight' : 'heavy','size': 20}\n",
    "axis_label_font = {'family' : 'arial', 'color'  : 'black', 'weight' : 'normal','size': 20}\n",
    "\n",
    "#plot the data\n",
    "gamma = 9\n",
    "colors = list(reversed(['#FFC300', '#FF5733', '#C70039', '#900C3F', '#581845']))\n",
    "#colors = list(reversed(['red', 'orange', 'green', 'blue', 'purple']))\n",
    "counter = 0\n",
    "for m in [1,2,4,8,16]:\n",
    "    eta_spinodal, e_pc_spinodal = phase_data[(m, gamma)]['spinodal']\n",
    "    eta_percolation, e_pc_percolation = phase_data[(m, gamma)]['percolation']\n",
    "    plt.scatter(eta_spinodal, 1/np.array(e_pc_spinodal), \n",
    "                c=colors[counter], marker=\"o\", s=40, alpha=1.0, linewidths=0.0, label=\"m={}\".format(m))\n",
    "    plt.scatter(eta_percolation, 1/np.array(e_pc_percolation), \n",
    "                c=colors[counter], marker=\"o\", s=40, alpha=1.0, linewidths=0.0)\n",
    "    counter += 1\n",
    "\n",
    "#add a legend\n",
    "plt.legend(loc='lower right', fontsize=16, frameon=False)\n",
    "\n",
    "#set the ranges\n",
    "n_c_range = np.array([0.000, 0.30])\n",
    "e_inv_range = np.array([0.05, 0.10])\n",
    "e_range = 1.0 / e_inv_range\n",
    "plt.xlim(tuple(n_c_range))\n",
    "plt.ylim(tuple(e_inv_range))\n",
    "#plt.xscale('log')\n",
    "\n",
    "###primary axis settings\n",
    "plt.rcParams[\"figure.figsize\"] = [6,6]\n",
    "plt.rc('axes',edgecolor='black',linewidth=1)\n",
    "plt.tick_params(which='both', axis='both', color='black', length=6, width=1.0)\n",
    "plt.rcParams['xtick.direction'] = 'in'\n",
    "plt.rcParams['ytick.direction'] = 'in'\n",
    "\n",
    "plt.xlabel('$\\eta$', fontsize=20, fontdict = axis_label_font)\n",
    "plt.ylabel('$k_{B}T/\\epsilon$', fontsize=20, fontdict = axis_label_font)\n",
    "plt.tick_params(axis='both', labelsize=18, pad=12)\n",
    "plt.title(\"$\\Gamma = {}$\".format(gamma), y=1.05, fontdict = title_font)\n",
    "\n",
    "#make another axis\n",
    "plt.twinx()\n",
    "plt.ylim(e_range)\n",
    "\n",
    "###secondary axis settings\n",
    "plt.rcParams[\"figure.figsize\"] = [6,6]\n",
    "plt.rc('axes',edgecolor='black',linewidth=1)\n",
    "plt.tick_params(which='both', axis='both', color='black', length=6, width=1.0)\n",
    "plt.rcParams['xtick.direction'] = 'in'\n",
    "plt.rcParams['ytick.direction'] = 'in'\n",
    "\n",
    "plt.ylabel('$\\epsilon / k_{B}T$', fontsize=20, fontdict = axis_label_font)\n",
    "plt.tick_params(axis='both', labelsize=18, pad=12)\n",
    "\n",
    "plt.savefig('./data/colloid_polymer_gamma={}.png'.format(gamma), bbox_inches='tight', dpi=100)"
   ]
  },
  {
   "cell_type": "code",
   "execution_count": 30,
   "metadata": {},
   "outputs": [
    {
     "data": {
      "image/png": "[encoded data removed]",
      "text/plain": [
       "<matplotlib.figure.Figure at 0x7efd29244ad0>"
      ]
     },
     "metadata": {},
     "output_type": "display_data"
    }
   ],
   "source": [
    "fig=plt.figure()\n",
    "\n",
    "#font scpecifications\n",
    "title_font = {'family' : 'arial', 'color'  : 'black', 'weight' : 'heavy','size': 20}\n",
    "axis_label_font = {'family' : 'arial', 'color'  : 'black', 'weight' : 'normal','size': 20}\n",
    "\n",
    "#plot the data\n",
    "gamma = 9\n",
    "colors = list(reversed(['#FFC300', '#FF5733', '#C70039', '#900C3F', '#581845']))\n",
    "#colors = list(reversed(['red', 'orange', 'green', 'blue', 'purple']))\n",
    "counter = 0\n",
    "for m in [16]:\n",
    "    eta_spinodal, e_pc_spinodal = phase_data[(m, gamma)]['spinodal']\n",
    "    #eta_percolation, e_pc_percolation = phase_data[(m, gamma)]['percolation']\n",
    "    plt.scatter(eta_spinodal, 1/np.array(e_pc_spinodal), \n",
    "                c=colors[counter], marker=\"o\", s=40, alpha=1.0, linewidths=0.0, label=\"m={}\".format(m))\n",
    "    #plt.scatter(eta_percolation, 1/np.array(e_pc_percolation), \n",
    "    #            c=colors[counter], marker=\"o\", s=40, alpha=1.0, linewidths=0.0)\n",
    "    counter += 1\n",
    "\n",
    "#add a legend\n",
    "plt.legend(loc='lower right', fontsize=16, frameon=False)\n",
    "\n",
    "#set the ranges\n",
    "n_c_range = np.array([0.0001, 0.30])\n",
    "e_inv_range = np.array([0.05, 0.10])\n",
    "e_range = 1.0 / e_inv_range\n",
    "plt.xlim(tuple(n_c_range))\n",
    "plt.ylim(tuple(e_inv_range))\n",
    "plt.xscale('log')\n",
    "\n",
    "###primary axis settings\n",
    "plt.rcParams[\"figure.figsize\"] = [6,6]\n",
    "plt.rc('axes',edgecolor='black',linewidth=1)\n",
    "plt.tick_params(which='both', axis='both', color='black', length=6, width=1.0)\n",
    "plt.rcParams['xtick.direction'] = 'in'\n",
    "plt.rcParams['ytick.direction'] = 'in'\n",
    "\n",
    "plt.xlabel('$\\eta$', fontsize=20, fontdict = axis_label_font)\n",
    "plt.ylabel('$k_{B}T/\\epsilon$', fontsize=20, fontdict = axis_label_font)\n",
    "plt.tick_params(axis='both', labelsize=18, pad=12)\n",
    "plt.title(\"$\\Gamma = {}$\".format(gamma), y=1.05, fontdict = title_font)\n",
    "\n",
    "#make another axis\n",
    "plt.twinx()\n",
    "plt.ylim(e_range)\n",
    "\n",
    "###secondary axis settings\n",
    "plt.rcParams[\"figure.figsize\"] = [6,6]\n",
    "plt.rc('axes',edgecolor='black',linewidth=1)\n",
    "plt.tick_params(which='both', axis='both', color='black', length=6, width=1.0)\n",
    "plt.rcParams['xtick.direction'] = 'in'\n",
    "plt.rcParams['ytick.direction'] = 'in'\n",
    "\n",
    "plt.ylabel('$\\epsilon / k_{B}T$', fontsize=20, fontdict = axis_label_font)\n",
    "plt.tick_params(axis='both', labelsize=18, pad=12)\n",
    "\n",
    "plt.savefig('./data/colloid_polymer_gamma={}.png'.format(gamma), bbox_inches='tight', dpi=100)"
   ]
  },
  {
   "cell_type": "code",
   "execution_count": null,
   "metadata": {
    "collapsed": true
   },
   "outputs": [],
   "source": []
  },
  {
   "cell_type": "markdown",
   "metadata": {},
   "source": [
    "## Phase coexistence"
   ]
  },
  {
   "cell_type": "code",
   "execution_count": 60,
   "metadata": {
    "collapsed": true
   },
   "outputs": [],
   "source": [
    "def A2PUnconstrained(p, x_c, e_pc, d_c, d_p, m_c, m_p, m,\n",
    "                     O_1, p_1, x_c_1, \n",
    "                     O_2, p_2, x_c_2):\n",
    "    \n",
    "    #bulk molecular densities\n",
    "    p_c = p*x_c\n",
    "    p_p = p*(1.0 - x_c)\n",
    "    \n",
    "    #phase 1 molecular densities\n",
    "    p_c_1 = p_1*x_c_1\n",
    "    p_p_1 = p_1*(1.0 - x_c_1)\n",
    "    \n",
    "    #phase 2 molecular densities\n",
    "    p_c_2 = p_2*x_c_2\n",
    "    p_p_2 = p_2*(1.0 - x_c_2)\n",
    "    \n",
    "    #free energies of the two phases (each per N and not V)\n",
    "    a_1 = A(p_c_1, p_p_1, e_pc, d_c, d_p, m_c, m_p, m) / p_1\n",
    "    a_2 = A(p_c_2, p_p_2, e_pc, d_c, d_p, m_c, m_p, m) / p_2\n",
    "    \n",
    "    return O_1*(p_1/p)*a_1 + O_2*(p_2/p)*a_2"
   ]
  },
  {
   "cell_type": "code",
   "execution_count": 94,
   "metadata": {
    "collapsed": true
   },
   "outputs": [],
   "source": [
    "def A2PConstrained(p, x_c, e_pc, d_c, d_p, m_c, m_p, m,\n",
    "                   p_1, x_c_1, p_2):\n",
    "    \n",
    "    #implement constraints\n",
    "    O_1 = (-p + p_2)/(p_2 - p_1)\n",
    "    O_2 = (-p + p_1)/(p_1 - p_2)\n",
    "    x_c_2 = (-(p*p_1*x_c) + p*p_2*x_c + p*p_1*x_c_1 - p_1*p_2*x_c_1)/((p - p_1)*p_2)\n",
    "    \n",
    "    #calculate the free energy with the constraints using the unconstrained form\n",
    "    a = A2PUnconstrained(p, x_c, e_pc, d_c, d_p, m_c, m_p, m,\n",
    "                         O_1, p_1, x_c_1, \n",
    "                         O_2, p_2, x_c_2)\n",
    "    \n",
    "    #puts a penalty on unphysical solutions\n",
    "    a_pen = 1e10*(O_1 < 0.0 or O_1 > 1.0 or \n",
    "                  O_2 < 0.0 or O_2 > 1.0 or \n",
    "                  x_c_1 < 0.0 or x_c_1 > 1.0 or \n",
    "                  x_c_2 < 0.0 or x_c_2 > 1.0\n",
    "                 )\n",
    "    \n",
    "    return a + a_pen"
   ]
  },
  {
   "cell_type": "code",
   "execution_count": null,
   "metadata": {
    "collapsed": true
   },
   "outputs": [],
   "source": []
  },
  {
   "cell_type": "code",
   "execution_count": 111,
   "metadata": {
    "collapsed": true
   },
   "outputs": [],
   "source": [
    "def A2P(p, x_c, e_pc, d_c, d_p, m_c, m_p, m):\n",
    "    \n",
    "    #optimizable function\n",
    "    q0 = np.array([p-0.00001, x_c, p+0.000001])\n",
    "    func = lambda q: A2PConstrained(p, x_c, e_pc, d_c, d_p, m_c, m_p, m,\n",
    "                                    q[0], q[1], q[2])\n",
    "    \n",
    "    #minimize using the simplex method\n",
    "    res = sp.optimize.minimize(func, q0, method='nelder-mead',\n",
    "                               options={'xtol': 1e-7, 'disp': True, 'maxiter':200})\n",
    "    \n",
    "    #solver found variables\n",
    "    p_1 = res.x[0]\n",
    "    x_c_1 = res.x[1]\n",
    "    p_2 = res.x[2]\n",
    "    \n",
    "    #related variables\n",
    "    O_1 = (-p + p_2)/(p_2 - p_1)\n",
    "    O_2 = (-p + p_1)/(p_1 - p_2)\n",
    "    x_c_2 = (-(p*p_1*x_c) + p*p_2*x_c + p*p_1*x_c_1 - p_1*p_2*x_c_1)/((p - p_1)*p_2)\n",
    "    \n",
    "    return ((p_1, x_c_1, O_1), (p_2, x_c_2, O_2))"
   ]
  },
  {
   "cell_type": "code",
   "execution_count": 124,
   "metadata": {},
   "outputs": [
    {
     "name": "stdout",
     "output_type": "stream",
     "text": [
      "0.00305577490736\n",
      "Optimization terminated successfully.\n",
      "         Current function value: -12.657847\n",
      "         Iterations: 168\n",
      "         Function evaluations: 329\n"
     ]
    }
   ],
   "source": [
    "d_c = 5.0\n",
    "d_p = 1.0\n",
    "m_c = 6.0\n",
    "m_p = 2.0 \n",
    "m = 1\n",
    "\n",
    "############\n",
    "n_c = 0.20\n",
    "gamma = 3.0\n",
    "e_pc = 19.0\n",
    "\n",
    "############\n",
    "p_c = 6.0*n_c/(np.pi*d_c**3)\n",
    "p_p = p_c*gamma\n",
    "p = p_c + p_p\n",
    "x_c = p_c / p\n",
    "\n",
    "print p_c\n",
    "\n",
    "((p_1, x_c_1, O_1), (p_2, x_c_2, O_2)) = A2P(p, x_c, e_pc, d_c, d_p, m_c, m_p, m)"
   ]
  },
  {
   "cell_type": "code",
   "execution_count": null,
   "metadata": {
    "collapsed": true
   },
   "outputs": [],
   "source": []
  },
  {
   "cell_type": "code",
   "execution_count": null,
   "metadata": {
    "collapsed": true
   },
   "outputs": [],
   "source": []
  },
  {
   "cell_type": "code",
   "execution_count": null,
   "metadata": {
    "collapsed": true
   },
   "outputs": [],
   "source": []
  },
  {
   "cell_type": "code",
   "execution_count": null,
   "metadata": {
    "collapsed": true
   },
   "outputs": [],
   "source": []
  },
  {
   "cell_type": "markdown",
   "metadata": {},
   "source": [
    "# END"
   ]
  },
  {
   "cell_type": "code",
   "execution_count": null,
   "metadata": {
    "collapsed": true
   },
   "outputs": [],
   "source": []
  },
  {
   "cell_type": "code",
   "execution_count": null,
   "metadata": {
    "collapsed": true
   },
   "outputs": [],
   "source": []
  }
 ],
 "metadata": {
  "kernelspec": {
   "display_name": "Python 2",
   "language": "python",
   "name": "python2"
  },
  "language_info": {
   "codemirror_mode": {
    "name": "ipython",
    "version": 2
   },
   "file_extension": ".py",
   "mimetype": "text/x-python",
   "name": "python",
   "nbconvert_exporter": "python",
   "pygments_lexer": "ipython2",
   "version": "2.7.13"
  }
 },
 "nbformat": 4,
 "nbformat_minor": 2
}
