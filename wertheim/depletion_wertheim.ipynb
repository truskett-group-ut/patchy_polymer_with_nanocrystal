{
 "cells": [
  {
   "cell_type": "code",
   "execution_count": 1,
   "metadata": {},
   "outputs": [
    {
     "name": "stderr",
     "output_type": "stream",
     "text": [
      "Using Theano backend.\n",
      "WARNING (theano.tensor.blas): Using NumPy C-API based implementation for BLAS functions.\n"
     ]
    }
   ],
   "source": [
    "import numpy as np\n",
    "import numdifftools as nd\n",
    "import matplotlib.pyplot as plt\n",
    "from __future__ import division\n",
    "from code.colloid_polymer_free_energy import Acp\n",
    "import sys\n",
    "sys.path.append('../')\n",
    "from regression.code.bond_volume import BondVolume\n",
    "import warnings\n",
    "%matplotlib inline "
   ]
  },
  {
   "cell_type": "markdown",
   "metadata": {},
   "source": [
    "### Ideal free energy contribution\n",
    "\n",
    "---"
   ]
  },
  {
   "cell_type": "code",
   "execution_count": 2,
   "metadata": {
    "collapsed": true
   },
   "outputs": [],
   "source": [
    "def Aid(p_c, p_p, \n",
    "        d_c, d_p  \n",
    "       ):\n",
    "    \n",
    "    #just creating an arbitrary length scale to non-dimensionalize the log term\n",
    "    vol = (d_c/2.0 + d_p/2.0)**3.0\n",
    "    p = p_c + p_p\n",
    "    \n",
    "    #ideal contribution containing both mixing and translational entropy\n",
    "    a_id = p_c*np.log(p_c*vol) + p_p*np.log(p_p*vol) - p\n",
    "    \n",
    "    return a_id"
   ]
  },
  {
   "cell_type": "markdown",
   "metadata": {
    "collapsed": true
   },
   "source": [
    "### Reference free energy contribution\n",
    "\n",
    "This is a hard mixture of colloids with polymer chains\n",
    "\n",
    "---"
   ]
  },
  {
   "cell_type": "markdown",
   "metadata": {},
   "source": [
    "Contact values between a reference hard sphere mixture"
   ]
  },
  {
   "cell_type": "code",
   "execution_count": 3,
   "metadata": {
    "collapsed": true
   },
   "outputs": [],
   "source": [
    "def G(p_cs, p_ps,     \n",
    "      d_c, d_p,       \n",
    "      type_1, type_2  \n",
    "      ):\n",
    "    \n",
    "    #auxillary hard sphere parameters\n",
    "    e2 = (np.pi/6.0)*(p_cs*d_c**2 + p_ps*d_p**2)\n",
    "    e3 = (np.pi/6.0)*(p_cs*d_c**3 + p_ps*d_p**3)\n",
    "    \n",
    "    #type specific details\n",
    "    r_1 = (type_1 == 'c')*d_c/2.0 + (type_1 == 'p')*d_p/2.0\n",
    "    r_2 = (type_2 == 'c')*d_c/2.0 + (type_2 == 'p')*d_p/2.0\n",
    "    \n",
    "    #cross contact value\n",
    "    g = ( 1.0/(1.0 - e3) \n",
    "        + 6.0*e2*r_1*r_2/((r_1 + r_2)*(1.0 - e3)**2) \n",
    "        + 8.0*(e2**2)*(r_1**2)*(r_2**2)/(((1.0 - e3)**3)*((r_1+r_2)**2))  \n",
    "        )\n",
    "    \n",
    "    return g"
   ]
  },
  {
   "cell_type": "markdown",
   "metadata": {},
   "source": [
    "Total reference free energy of a colloid-polymer mixture"
   ]
  },
  {
   "cell_type": "code",
   "execution_count": 4,
   "metadata": {
    "collapsed": true
   },
   "outputs": [],
   "source": [
    "def Aref(p_c, p_p, \n",
    "         d_c, d_p, m\n",
    "        ):\n",
    "    \n",
    "    #total molecular density and molecular mole fractions\n",
    "    p = p_c + p_p\n",
    "    x_c = p_c/p\n",
    "    x_p = p_p/p\n",
    "    \n",
    "    #site level densities\n",
    "    p_cs = p_c\n",
    "    p_ps = m*p_p\n",
    "    p_s = p_cs + p_ps\n",
    "    \n",
    "    #auxillary hard sphere parameters\n",
    "    e0 = (np.pi/6.0)*(p_cs + p_ps)\n",
    "    e1 = (np.pi/6.0)*(p_cs*d_c + p_ps*d_p)\n",
    "    e2 = (np.pi/6.0)*(p_cs*d_c**2 + p_ps*d_p**2)\n",
    "    e3 = (np.pi/6.0)*(p_cs*d_c**3 + p_ps*d_p**3)\n",
    "    \n",
    "    #monomer free energy per molecule\n",
    "    a_mon = (p_s/p)*((6.0/(np.pi*p_s))*(((e2**3/e3**2) - e0)*np.log(1.0 - e3) \n",
    "                                        + (3.0*e1*e2/(1.0-e3)) + (e2**3/(e3*(1.0-e3)**2))))\n",
    "    \n",
    "    #chain free energy change per molecule\n",
    "    g = G(p_cs, p_ps, d_c, d_p, type_1='p', type_2='p')\n",
    "    a_chn = -x_p*(m - 1.0)*np.log(g)\n",
    "    \n",
    "    #free energy per total number of \"molecules\"\n",
    "    a_ref = a_mon + a_chn\n",
    "    \n",
    "    #convert to free energy per volume\n",
    "    return a_ref*p"
   ]
  },
  {
   "cell_type": "markdown",
   "metadata": {},
   "source": [
    "### Bonding free energy contribution\n",
    "\n",
    "This uses a ML based prediction for the bond volume and hard sphere mixture structure\n",
    "\n",
    "---"
   ]
  },
  {
   "cell_type": "markdown",
   "metadata": {},
   "source": [
    "ONLY valid for dc=5 and dp=1 right now!!!!!!"
   ]
  },
  {
   "cell_type": "code",
   "execution_count": 5,
   "metadata": {
    "collapsed": true
   },
   "outputs": [],
   "source": [
    "r = np.arange(0.0, 7.0, 0.005)"
   ]
  },
  {
   "cell_type": "code",
   "execution_count": 6,
   "metadata": {
    "collapsed": true
   },
   "outputs": [],
   "source": [
    "#ML prediction for the average mayer-f function\n",
    "bond_volume = BondVolume(model_index=0, num_rbfs=5)\n",
    "bond_volume.InitializePredictionGrid(rs=r)\n",
    "BV = lambda x: bond_volume.Predict(x)"
   ]
  },
  {
   "cell_type": "markdown",
   "metadata": {},
   "source": [
    "Function that calculates the bond integral"
   ]
  },
  {
   "cell_type": "code",
   "execution_count": 7,
   "metadata": {
    "collapsed": true
   },
   "outputs": [],
   "source": [
    "def BIcp(p_c, p_p, e_pc,  \n",
    "         d_c, d_p, m   \n",
    "        ):\n",
    "    \n",
    "    #get the average mayer-f function\n",
    "    f_cp_avg = BV(e_pc)\n",
    "    \n",
    "    #get the structure for the dis-assembled hard sphere reference\n",
    "    p_cs = p_c\n",
    "    p_ps = p_p*m\n",
    "    g_cp = G(p_cs, p_ps, d_c, d_p, type_1='c', type_2='p')\n",
    "    r_cut = (d_c + d_p)/2.0\n",
    "    \n",
    "    #define integrand above the hard core\n",
    "    integrand = 4.0*np.pi*r*r*f_cp_avg*g_cp*(r > r_cut)\n",
    "    bi_cp = np.trapz(integrand, r)\n",
    "    \n",
    "    return bi_cp"
   ]
  },
  {
   "cell_type": "markdown",
   "metadata": {},
   "source": [
    "Calculate the fraction of sites not bonded"
   ]
  },
  {
   "cell_type": "code",
   "execution_count": 8,
   "metadata": {
    "collapsed": true
   },
   "outputs": [],
   "source": [
    "def X(p_c, p_p, e_pc,    \n",
    "      d_c, d_p, m_c, m_p, m  \n",
    "      ):\n",
    "    \n",
    "    #get the bond integral\n",
    "    bi_cp = BIcp(p_c, p_p, e_pc, d_c, d_p, m)\n",
    "    \n",
    "    #total density\n",
    "    p = p_c + p_p\n",
    "    \n",
    "    #species fractions\n",
    "    f_c = p_c/p\n",
    "    f_p = p_p/p\n",
    "    \n",
    "    #analytical formula for X_c and X_p\n",
    "    X_c = 2.0 / (1.0 + m_p*p*bi_cp - f_c*(m_c + m_p)*p*bi_cp \n",
    "                 + np.sqrt(4.0*f_c*m_c*p*bi_cp + np.power(-1.0 + (-m_p + f_c*(m_c + m_p))*p*bi_cp, 2.0)))\n",
    "    X_p = 2.0 / (1.0 - m_p*p*bi_cp + f_c*(m_c + m_p)*p*bi_cp \n",
    "                 + np.sqrt(4.0*f_c*m_c*p*bi_cp + np.power(-1.0 + (-m_p + f_c*(m_c + m_p))*p*bi_cp, 2.0)))\n",
    "    \n",
    "    return (X_c, X_p)"
   ]
  },
  {
   "cell_type": "code",
   "execution_count": 9,
   "metadata": {
    "collapsed": true
   },
   "outputs": [],
   "source": [
    "def Perc(p_c, p_p, e_pc,    \n",
    "         d_c, d_p, m_c, m_p, m  \n",
    "         ):\n",
    "    \n",
    "    #bonded fraction of each species\n",
    "    X_c, X_p = X(p_c, p_p, e_pc, d_c, d_p, m_c, m_p, m)\n",
    "    \n",
    "    return 1.0 - (m_p - 1.0)*(1.0 - X_p)*(m_c - 1.0)*(1.0 - X_c)"
   ]
  },
  {
   "cell_type": "code",
   "execution_count": 10,
   "metadata": {
    "collapsed": true
   },
   "outputs": [],
   "source": [
    "def Abd(p_c, p_p, e_pc,              \n",
    "        d_c, d_p, m_c, m_p, m  \n",
    "        ):\n",
    "    \n",
    "    #bonded fraction of each species\n",
    "    X_c, X_p = X(p_c, p_p, e_pc, d_c, d_p, m_c, m_p, m)\n",
    "    \n",
    "    #excess bonding free energy\n",
    "    a_bd = p_c*(m_c*np.log(X_c) - m_c*X_c/2.0 + m_c/2.0) + p_p*(m_p*np.log(X_p) - m_p*X_p/2.0 + m_p/2.0)\n",
    "    \n",
    "    return a_bd"
   ]
  },
  {
   "cell_type": "markdown",
   "metadata": {},
   "source": [
    "###   Total free energy per volume and pressure\n",
    "\n",
    "---"
   ]
  },
  {
   "cell_type": "code",
   "execution_count": 11,
   "metadata": {
    "collapsed": true
   },
   "outputs": [],
   "source": [
    "def A(p_c, p_p, e_pc,        \n",
    "      d_c, d_p, m_c, m_p, m  \n",
    "      ):\n",
    "    \n",
    "    #get the free energies\n",
    "    a_id = Aid(p_c, p_p, d_c, d_p)\n",
    "    a_ref = Aref(p_c, p_p, d_c, d_p, m)\n",
    "    a_bd = Abd(p_c, p_p, e_pc, d_c, d_p, m_c, m_p, m)\n",
    "    \n",
    "    return a_id + a_ref + a_bd"
   ]
  },
  {
   "cell_type": "code",
   "execution_count": 12,
   "metadata": {
    "collapsed": true
   },
   "outputs": [],
   "source": [
    "def Z(p, x_c, e_pc,        \n",
    "      d_c, d_p, m_c, m_p, m \n",
    "      ):\n",
    "    \n",
    "    #molecular densities\n",
    "    p_c = x_c*p\n",
    "    p_p = (1.0 - x_c)*p\n",
    "    \n",
    "    A_ = lambda o: A(x_c*o, (1.0 - x_c)*o, e_pc, d_c, d_p, m_c, m_p, m)/o\n",
    "    dAdp = nd.Derivative(A_, n=1, step=1e-5)\n",
    "    \n",
    "    return p*dAdp(p)"
   ]
  },
  {
   "cell_type": "markdown",
   "metadata": {},
   "source": [
    "Test for pure polymer case and comparison to fig 2 in Mol. Phys., 65:5, 1057-1079"
   ]
  },
  {
   "cell_type": "code",
   "execution_count": 13,
   "metadata": {},
   "outputs": [
    {
     "name": "stderr",
     "output_type": "stream",
     "text": [
      "/home/ryanj/miniconda2/lib/python2.7/site-packages/numpy/lib/function_base.py:3250: RuntimeWarning: All-NaN slice encountered\n",
      "  r = func(a, **kwargs)\n",
      "/home/ryanj/miniconda2/lib/python2.7/site-packages/numpy/lib/nanfunctions.py:1283: RuntimeWarning: All-NaN slice encountered\n",
      "  overwrite_input, interpolation)\n",
      "/home/ryanj/miniconda2/lib/python2.7/site-packages/numdifftools/limits.py:126: UserWarning: All-NaN slice encountered\n",
      "  warnings.warn(str(msg))\n"
     ]
    },
    {
     "data": {
      "text/plain": [
       "<matplotlib.collections.PathCollection at 0x7fa6bc42dad0>"
      ]
     },
     "execution_count": 13,
     "metadata": {},
     "output_type": "execute_result"
    },
    {
     "data": {
      "image/png": "[encoded data removed]",
      "text/plain": [
       "<matplotlib.figure.Figure at 0x7fa6c20e86d0>"
      ]
     },
     "metadata": {},
     "output_type": "display_data"
    }
   ],
   "source": [
    "#for pure polymer\n",
    "x_c = 0.0001\n",
    "e_pc = 0.0\n",
    "d_c = 1.0\n",
    "d_p = 1.0\n",
    "m_c = 1\n",
    "m_p = 1\n",
    "m = 16\n",
    "ns = np.arange(0.0,0.50,0.001)\n",
    "ps = (6*ns/(np.pi*d_p**3))/m\n",
    "\n",
    "Zs = []\n",
    "for p in ps:\n",
    "    Zs.append(Z(p, x_c, e_pc, d_c, d_p, m_c, m_p, m))\n",
    "\n",
    "#Zs = m*((1+ns+ns**2-ns**3)/(1-ns)**3 - ((m-1)/m)*(1+ns-(ns**2)/2)/((1-ns)*(1-ns/2)))\n",
    "\n",
    "plt.xlim(0,0.45)\n",
    "plt.ylim(0,25)\n",
    "\n",
    "#plt.scatter(ns, Zcps)\n",
    "plt.scatter(ns, Zs, alpha=0.09)"
   ]
  },
  {
   "cell_type": "code",
   "execution_count": null,
   "metadata": {
    "collapsed": true
   },
   "outputs": [],
   "source": []
  },
  {
   "cell_type": "code",
   "execution_count": null,
   "metadata": {
    "collapsed": true
   },
   "outputs": [],
   "source": []
  },
  {
   "cell_type": "markdown",
   "metadata": {},
   "source": [
    "###   Stabilility and percolation calculation\n",
    "Here we calculate the stability limits of the system via a standard spinodal calculation. For the helmholts free energy we only need to look at any determnant that contains n-1 degrees of freedom where n counts all the extensive variables.\n",
    "\n",
    "---"
   ]
  },
  {
   "cell_type": "code",
   "execution_count": 14,
   "metadata": {
    "collapsed": true
   },
   "outputs": [],
   "source": [
    "def DA(p_c, p_p, e_pc,              #state variables\n",
    "       d_c, d_p, m_c, m_p, m, #system parameters\n",
    "       min_step                  #minimum step to use for hessian calculation\n",
    "      ):\n",
    "    \n",
    "    #generate steps for calculating hessian\n",
    "    hess_steps = nd.MinStepGenerator(base_step=min_step, step_ratio=2.0, num_steps=4)\n",
    "    \n",
    "    #calculate the hessian (stability matrix)\n",
    "    calculate_hessian = lambda x: A(x[0], x[1], e_pc, d_c, d_p, m_c, m_p, m)\n",
    "    stability_matrix = nd.Hessian(calculate_hessian, step=hess_steps)([p_c, p_p])\n",
    "    \n",
    "    #build the 3x3 (or 2x2) stability matrix as a numpy array and calculate the determinant \n",
    "    #logdet is used to avoid issues with a small determinant (such as when an instability is reached)\n",
    "    (sign, logdet) = np.linalg.slogdet(stability_matrix)\n",
    "    stability_determinant = sign*np.exp(logdet)    \n",
    "        \n",
    "    #return the stability determinant\n",
    "    return stability_determinant"
   ]
  },
  {
   "cell_type": "code",
   "execution_count": 15,
   "metadata": {
    "collapsed": true
   },
   "outputs": [],
   "source": [
    "import scipy as sp\n",
    "\n",
    "#performs grid search and labels each point as stable or unstable\n",
    "def CalculateBoundary(p_c_vals, gamma, e_pc_vals,\n",
    "                      d_c, d_p, m_c, m_p, m,\n",
    "                      min_step, boundary_type,\n",
    "                     ):\n",
    "\n",
    "\n",
    "    #lists for storing the results\n",
    "    boundary = [[],[],[],[]]\n",
    "\n",
    "    #quantities to iterate over\n",
    "    #p_c_vals_rev = list(reversed(p_c_vals))\n",
    "    quants = {'p_c': p_c_vals,\n",
    "              'e_pc': e_pc_vals}\n",
    "\n",
    "    #iteration permutations\n",
    "    iters = [('p_c', 'e_pc'), \n",
    "             ('e_pc', 'p_c')]\n",
    "    #iters = [('e_pc', 'p_c')]\n",
    "\n",
    "    #perform the loops in both directions\n",
    "    for iter_1, iter_2 in iters:\n",
    "        \n",
    "        print \"Performing ({}, {}) iteration...\".format(iter_1, iter_2)\n",
    "\n",
    "        for quant_1 in quants[iter_1]:\n",
    "\n",
    "            #stacks to find crossover points iterating over quant_2\n",
    "            value_queue = []\n",
    "            quant_2_queue = []\n",
    "            q0 = None\n",
    "\n",
    "            for quant_2 in quants[iter_2]:\n",
    "\n",
    "                #extract the values\n",
    "                p_c = (iter_1 == 'p_c')*quant_1 + (iter_2 == 'p_c')*quant_2\n",
    "                p_p = p_c*gamma\n",
    "                e_pc = (iter_1 == 'e_pc')*quant_1 + (iter_2 == 'e_pc')*quant_2\n",
    "\n",
    "                #perform the appropriate calculation\n",
    "                if boundary_type == 'spinodal':\n",
    "                    value = DA(p_c, p_p, e_pc, d_c, d_p, m_c, m_p, m, min_step)\n",
    "                elif boundary_type == 'percolation':\n",
    "                    value = Perc(p_c, p_p, e_pc, d_c, d_p, m_c, m_p, m)\n",
    "                elif boundary_type == 'binodal':\n",
    "                    value, q0 = PS(p_c+p_p, p_c/p_p, e_pc, d_c, d_p, m_c, m_p, m, q0, threshold=1.0e-6)\n",
    "\n",
    "                #manage the queue\n",
    "                if len(value_queue) == 4:\n",
    "                    value_queue.pop(0); quant_2_queue.pop(0)\n",
    "                value_queue.append(value); quant_2_queue.append(quant_2)\n",
    "\n",
    "                #count the number of unstable points encountered\n",
    "                ####num_neg = num_neg + (value < 0.0)\n",
    "\n",
    "                #if we have two positive and negative points interpolate to find the crossover and break\n",
    "                ####if num_neg == 2:\n",
    "                if len(value_queue) == 4:\n",
    "                    value_queue_sgn = np.sign(value_queue)\n",
    "                    if np.all(value_queue_sgn[0:2] + value_queue_sgn[2:] == 0):\n",
    "\n",
    "                        #fit an akima spline\n",
    "                        fit = sp.interpolate.Akima1DInterpolator(quant_2_queue, value_queue)\n",
    "                        roots = fit.roots()\n",
    "\n",
    "                        #select which one to use and append\n",
    "                        num_roots = len(roots)\n",
    "                        p_c_ = (iter_1 == 'p_c')*p_c + (iter_2 == 'p_c')*( (num_roots == 1)*roots[0] - (num_roots != 1) )\n",
    "                        e_pc_ = (iter_1 == 'e_pc')*e_pc + (iter_2 == 'e_pc')*( (num_roots == 1)*roots[0] - (num_roots != 1) )\n",
    "                        boundary[0].append( p_c_ )\n",
    "                        boundary[1].append( p_p )\n",
    "                        boundary[2].append( e_pc_ )\n",
    "                        boundary[3].append( ((np.pi/6.0)*d_c**3)*p_c_ )\n",
    "                        #break\n",
    "\n",
    "    return boundary"
   ]
  },
  {
   "cell_type": "markdown",
   "metadata": {},
   "source": [
    "Find the spinodal boundary"
   ]
  },
  {
   "cell_type": "code",
   "execution_count": 16,
   "metadata": {
    "collapsed": true
   },
   "outputs": [],
   "source": [
    "def FindSpinodal(gamma, d_c, d_p, m_c, m_p, m,\n",
    "                 n_c_min, n_c_max, e_pc_min, e_pc_max,\n",
    "                 num_pts_p_c, num_pts_e_pc, num_pts_p_c_final, num_pts_e_pc_final,\n",
    "                 min_step, expansion\n",
    "                ):\n",
    "    \n",
    "    #auxillary\n",
    "    p_c_min = 6.0*n_c_min/(np.pi*d_c**3)\n",
    "    p_c_max = 6.0*n_c_max/(np.pi*d_c**3)\n",
    "\n",
    "    #####################################################################################\n",
    "\n",
    "    #set the ranges\n",
    "    p_c_vals = np.linspace(p_c_min, p_c_max, num=num_pts_p_c)\n",
    "    e_pc_vals = np.linspace(e_pc_min, e_pc_max, num=num_pts_e_pc)\n",
    "\n",
    "    #spinodal\n",
    "    print \"Performing initial spinodal pass with {}x{} grid...\".format(num_pts_p_c, num_pts_e_pc)\n",
    "    spinodal_init = CalculateBoundary(p_c_vals, gamma, e_pc_vals, \n",
    "                                      d_c, d_p, m_c, m_p, m, \n",
    "                                      min_step, 'spinodal')\n",
    "\n",
    "    #####################################################################################\n",
    "\n",
    "    #get the new sampling details\n",
    "    pc_range_final = max(spinodal_init[0]) - p_c_min\n",
    "    e_pc_range_final = e_pc_max - min(spinodal_init[2])\n",
    "    p_c_max_final = p_c_min + pc_range_final*(1.0 + expansion)\n",
    "    e_pc_min_final = e_pc_max - e_pc_range_final*(1.0 + expansion)\n",
    "\n",
    "    #set the ranges\n",
    "    p_c_vals_final = np.linspace(p_c_min, p_c_max_final, num=num_pts_p_c_final)\n",
    "    e_pc_vals_final = np.linspace(e_pc_min_final, e_pc_max, num=num_pts_e_pc_final)\n",
    "\n",
    "    #spinodal\n",
    "    print \"Performing final spinodal pass with localized {}x{} grid...\".format(num_pts_p_c_final, num_pts_e_pc_final)\n",
    "    spinodal = CalculateBoundary(p_c_vals_final, gamma, e_pc_vals_final, \n",
    "                                 d_c, d_p, m_c, m_p, m, \n",
    "                                 min_step, 'spinodal')\n",
    "    \n",
    "    return spinodal"
   ]
  },
  {
   "cell_type": "code",
   "execution_count": 17,
   "metadata": {
    "collapsed": true
   },
   "outputs": [],
   "source": [
    "def FindPercolation(gamma, d_c, d_p, m_c, m_p, m,\n",
    "                    n_c_min, n_c_max, e_pc_min, e_pc_max,\n",
    "                    num_pts_p_c, num_pts_e_pc\n",
    "                    ):\n",
    "    \n",
    "    #auxillary\n",
    "    p_c_min = 6.0*n_c_min/(np.pi*d_c**3)\n",
    "    p_c_max = 6.0*n_c_max/(np.pi*d_c**3)\n",
    "\n",
    "    #####################################################################################\n",
    "\n",
    "    #set the ranges\n",
    "    p_c_vals = np.linspace(p_c_min, p_c_max, num=num_pts_p_c)\n",
    "    e_pc_vals = np.linspace(e_pc_min, e_pc_max, num=num_pts_e_pc)\n",
    "\n",
    "    #percolation\n",
    "    print \"Performing percolation pass with {}x{} grid...\".format(num_pts_p_c, num_pts_e_pc)\n",
    "    percolation = CalculateBoundary(p_c_vals, gamma, e_pc_vals, \n",
    "                                    d_c, d_p, m_c, m_p, m, \n",
    "                                    min_step, 'percolation')\n",
    "    \n",
    "    return percolation"
   ]
  },
  {
   "cell_type": "code",
   "execution_count": 19,
   "metadata": {
    "collapsed": true
   },
   "outputs": [],
   "source": [
    "phase_data = {}"
   ]
  },
  {
   "cell_type": "code",
   "execution_count": 19,
   "metadata": {
    "collapsed": true
   },
   "outputs": [],
   "source": [
    "#system variables\n",
    "#gamma = 3.0\n",
    "d_c = 5.0\n",
    "d_p = 1.0\n",
    "m_c = 6.0\n",
    "m_p = 2.0 \n",
    "#m = 8"
   ]
  },
  {
   "cell_type": "code",
   "execution_count": 22,
   "metadata": {
    "collapsed": true
   },
   "outputs": [],
   "source": [
    "#search range and search parameters\n",
    "n_c_min = 0.0001\n",
    "n_c_max = 0.25\n",
    "e_pc_min = 10.0\n",
    "e_pc_max = 20.0\n",
    "num_pts_p_c = 120\n",
    "num_pts_e_pc = 120\n",
    "num_pts_p_c_final = 50\n",
    "num_pts_e_pc_final = 50\n",
    "min_step= 0.0000001 #0.00001\n",
    "expansion = 0.50"
   ]
  },
  {
   "cell_type": "code",
   "execution_count": 23,
   "metadata": {
    "collapsed": true
   },
   "outputs": [],
   "source": [
    "#ms = [1, 2, 4, 8, 16]\n",
    "#gammas = [1, 3, 9]\n",
    "\n",
    "ms = [16]\n",
    "gammas = [9]"
   ]
  },
  {
   "cell_type": "code",
   "execution_count": 26,
   "metadata": {
    "scrolled": true
   },
   "outputs": [
    {
     "name": "stdout",
     "output_type": "stream",
     "text": [
      "Working on m = 16, gamma = 9\n",
      "Performing initial spinodal pass with 120x120 grid...\n",
      "Performing (p_c, e_pc) iteration...\n",
      "Performing (e_pc, p_c) iteration...\n",
      "Performing final spinodal pass with localized 50x50 grid...\n",
      "Performing (p_c, e_pc) iteration...\n",
      "Performing (e_pc, p_c) iteration...\n"
     ]
    }
   ],
   "source": [
    "for m in ms:\n",
    "    for gamma in gammas:\n",
    "        print \"Working on m = {}, gamma = {}\".format(m, gamma)\n",
    "        \n",
    "        spinodal = FindSpinodal(gamma, d_c, d_p, m_c, m_p, m,\n",
    "                                n_c_min, n_c_max, e_pc_min, e_pc_max,\n",
    "                                num_pts_p_c, num_pts_e_pc, num_pts_p_c_final, num_pts_e_pc_final,\n",
    "                                min_step, expansion\n",
    "                                )\n",
    "\n",
    "        phase_data[(m, gamma)] = {'spinodal': [spinodal[3], spinodal[2]]}"
   ]
  },
  {
   "cell_type": "code",
   "execution_count": 51,
   "metadata": {
    "collapsed": true
   },
   "outputs": [],
   "source": [
    "#import dill as pickle\n",
    "#with open('./data/spinodal_examples.pkl', 'wb') as file:\n",
    "#    pickle.dump(phase_data, file)"
   ]
  },
  {
   "cell_type": "code",
   "execution_count": 186,
   "metadata": {
    "collapsed": true
   },
   "outputs": [],
   "source": [
    "#import dill as pickle\n",
    "#with open('./data/spinodal_examples.pkl', 'rb') as file:\n",
    "#    phase_data = pickle.load(file)"
   ]
  },
  {
   "cell_type": "code",
   "execution_count": 46,
   "metadata": {
    "collapsed": true
   },
   "outputs": [],
   "source": [
    "#search range and search parameters\n",
    "n_c_min = 0.0001\n",
    "n_c_max = 0.3\n",
    "e_pc_min = 0.0\n",
    "e_pc_max = 20.0\n",
    "num_pts_p_c = 400\n",
    "num_pts_e_pc = 100"
   ]
  },
  {
   "cell_type": "code",
   "execution_count": 47,
   "metadata": {
    "scrolled": true
   },
   "outputs": [
    {
     "name": "stdout",
     "output_type": "stream",
     "text": [
      "Working on m = 1, gamma = 1\n",
      "Performing percolation pass with 400x100 grid...\n",
      "Performing (p_c, e_pc) iteration...\n",
      "Performing (e_pc, p_c) iteration...\n",
      "Working on m = 1, gamma = 3\n",
      "Performing percolation pass with 400x100 grid...\n",
      "Performing (p_c, e_pc) iteration...\n",
      "Performing (e_pc, p_c) iteration...\n",
      "Working on m = 1, gamma = 9\n",
      "Performing percolation pass with 400x100 grid...\n",
      "Performing (p_c, e_pc) iteration...\n",
      "Performing (e_pc, p_c) iteration...\n",
      "Working on m = 2, gamma = 1\n",
      "Performing percolation pass with 400x100 grid...\n",
      "Performing (p_c, e_pc) iteration...\n",
      "Performing (e_pc, p_c) iteration...\n",
      "Working on m = 2, gamma = 3\n",
      "Performing percolation pass with 400x100 grid...\n",
      "Performing (p_c, e_pc) iteration...\n",
      "Performing (e_pc, p_c) iteration...\n",
      "Working on m = 2, gamma = 9\n",
      "Performing percolation pass with 400x100 grid...\n",
      "Performing (p_c, e_pc) iteration...\n",
      "Performing (e_pc, p_c) iteration...\n",
      "Working on m = 4, gamma = 1\n",
      "Performing percolation pass with 400x100 grid...\n",
      "Performing (p_c, e_pc) iteration...\n",
      "Performing (e_pc, p_c) iteration...\n",
      "Working on m = 4, gamma = 3\n",
      "Performing percolation pass with 400x100 grid...\n",
      "Performing (p_c, e_pc) iteration...\n",
      "Performing (e_pc, p_c) iteration...\n",
      "Working on m = 4, gamma = 9\n",
      "Performing percolation pass with 400x100 grid...\n",
      "Performing (p_c, e_pc) iteration...\n",
      "Performing (e_pc, p_c) iteration...\n",
      "Working on m = 8, gamma = 1\n",
      "Performing percolation pass with 400x100 grid...\n",
      "Performing (p_c, e_pc) iteration...\n",
      "Performing (e_pc, p_c) iteration...\n",
      "Working on m = 8, gamma = 3\n",
      "Performing percolation pass with 400x100 grid...\n",
      "Performing (p_c, e_pc) iteration...\n",
      "Performing (e_pc, p_c) iteration...\n",
      "Working on m = 8, gamma = 9\n",
      "Performing percolation pass with 400x100 grid...\n",
      "Performing (p_c, e_pc) iteration...\n",
      "Performing (e_pc, p_c) iteration...\n",
      "Working on m = 16, gamma = 1\n",
      "Performing percolation pass with 400x100 grid...\n",
      "Performing (p_c, e_pc) iteration...\n",
      "Performing (e_pc, p_c) iteration...\n",
      "Working on m = 16, gamma = 3\n",
      "Performing percolation pass with 400x100 grid...\n",
      "Performing (p_c, e_pc) iteration...\n",
      "Performing (e_pc, p_c) iteration...\n",
      "Working on m = 16, gamma = 9\n",
      "Performing percolation pass with 400x100 grid...\n",
      "Performing (p_c, e_pc) iteration...\n",
      "Performing (e_pc, p_c) iteration...\n"
     ]
    }
   ],
   "source": [
    "for m in [1, 2, 4, 8, 16]:\n",
    "    for gamma in [1, 3, 9]:\n",
    "        print \"Working on m = {}, gamma = {}\".format(m, gamma)\n",
    "        \n",
    "        percolation = FindPercolation(gamma, d_c, d_p, m_c, m_p, m,\n",
    "                              n_c_min, n_c_max, e_pc_min, e_pc_max,\n",
    "                              num_pts_p_c, num_pts_e_pc\n",
    "                              )\n",
    "\n",
    "        phase_data[(m, gamma)]['percolation'] =  [percolation[3], percolation[2]]"
   ]
  },
  {
   "cell_type": "code",
   "execution_count": 129,
   "metadata": {},
   "outputs": [
    {
     "data": {
      "image/png": "[encoded data removed]",
      "text/plain": [
       "<matplotlib.figure.Figure at 0x7efd2836df90>"
      ]
     },
     "metadata": {},
     "output_type": "display_data"
    }
   ],
   "source": [
    "fig=plt.figure()\n",
    "\n",
    "#font scpecifications\n",
    "title_font = {'family' : 'arial', 'color'  : 'black', 'weight' : 'heavy','size': 20}\n",
    "axis_label_font = {'family' : 'arial', 'color'  : 'black', 'weight' : 'normal','size': 20}\n",
    "\n",
    "#plot the data\n",
    "gamma = 3\n",
    "colors = list(reversed(['#FFC300', '#FF5733', '#C70039', '#900C3F', '#581845']))\n",
    "#colors = list(reversed(['red', 'orange', 'green', 'blue', 'purple']))\n",
    "counter = 0\n",
    "for m in [1,2,4,8,16]:\n",
    "    \n",
    "    #spinodal pts\n",
    "    eta_spinodal, e_pc_spinodal = phase_data[(m, gamma)]['spinodal']\n",
    "    eta_spinodal, e_pc_spinodal = np.array(eta_spinodal), np.array(e_pc_spinodal)\n",
    "    eta_spinodal_total = eta_spinodal + m*(d_p**3/d_c**3)*eta_spinodal*gamma\n",
    "    \n",
    "    #percolation pts\n",
    "    eta_percolation, e_pc_percolation = phase_data[(m, gamma)]['percolation']\n",
    "    eta_percolation, e_pc_percolation = np.array(eta_percolation), np.array(e_pc_percolation)\n",
    "    eta_percolation_total = eta_percolation + m*(d_p**3/d_c**3)*eta_percolation*gamma\n",
    "    \n",
    "    #plot the pts\n",
    "    plt.scatter(eta_spinodal_total, 1/e_pc_spinodal, \n",
    "                c=colors[counter], marker=\"o\", s=40, alpha=1.0, linewidths=0.0, label=\"m={}\".format(m))\n",
    "    plt.scatter(eta_percolation_total, 1/e_pc_percolation, \n",
    "                c=colors[counter], marker=\"o\", s=40, alpha=1.0, linewidths=0.0)\n",
    "    counter += 1\n",
    "\n",
    "#add a legend\n",
    "plt.legend(loc='lower right', fontsize=16, frameon=False)\n",
    "\n",
    "#set the ranges\n",
    "n_c_range = np.array([0.000, 0.30])\n",
    "e_inv_range = np.array([0.05, 0.10])\n",
    "e_range = 1.0 / e_inv_range\n",
    "plt.xlim(tuple(n_c_range))\n",
    "plt.ylim(tuple(e_inv_range))\n",
    "#plt.xscale('log')\n",
    "\n",
    "###primary axis settings\n",
    "plt.rcParams[\"figure.figsize\"] = [6,6]\n",
    "plt.rc('axes',edgecolor='black',linewidth=1)\n",
    "plt.tick_params(which='both', axis='both', color='black', length=6, width=1.0)\n",
    "plt.rcParams['xtick.direction'] = 'in'\n",
    "plt.rcParams['ytick.direction'] = 'in'\n",
    "\n",
    "plt.xlabel('$\\eta$', fontsize=20, fontdict = axis_label_font)\n",
    "plt.ylabel('$k_{B}T/\\epsilon$', fontsize=20, fontdict = axis_label_font)\n",
    "plt.tick_params(axis='both', labelsize=18, pad=12)\n",
    "plt.title(\"$\\Gamma = {}$\".format(gamma), y=1.05, fontdict = title_font)\n",
    "\n",
    "#make another axis\n",
    "plt.twinx()\n",
    "plt.ylim(e_range)\n",
    "\n",
    "###secondary axis settings\n",
    "plt.rcParams[\"figure.figsize\"] = [6,6]\n",
    "plt.rc('axes',edgecolor='black',linewidth=1)\n",
    "plt.tick_params(which='both', axis='both', color='black', length=6, width=1.0)\n",
    "plt.rcParams['xtick.direction'] = 'in'\n",
    "plt.rcParams['ytick.direction'] = 'in'\n",
    "\n",
    "plt.ylabel('$\\epsilon / k_{B}T$', fontsize=20, fontdict = axis_label_font)\n",
    "plt.tick_params(axis='both', labelsize=18, pad=12)\n",
    "\n",
    "plt.savefig('./data/colloid_polymer_gamma={}.png'.format(gamma), bbox_inches='tight', dpi=100)"
   ]
  },
  {
   "cell_type": "code",
   "execution_count": null,
   "metadata": {
    "collapsed": true
   },
   "outputs": [],
   "source": []
  },
  {
   "cell_type": "markdown",
   "metadata": {},
   "source": [
    "## Phase coexistence"
   ]
  },
  {
   "cell_type": "code",
   "execution_count": 18,
   "metadata": {
    "collapsed": true
   },
   "outputs": [],
   "source": [
    "def A2PUnconstrainedPN(p, x_c, e_pc, d_c, d_p, m_c, m_p, m,\n",
    "                       O_1, p_1, x_c_1, \n",
    "                       O_2, p_2, x_c_2):\n",
    "    \n",
    "    #bulk molecular densities\n",
    "    p_c = p*x_c\n",
    "    p_p = p*(1.0 - x_c)\n",
    "    \n",
    "    #phase 1 molecular densities\n",
    "    p_c_1 = p_1*x_c_1\n",
    "    p_p_1 = p_1*(1.0 - x_c_1)\n",
    "    \n",
    "    #phase 2 molecular densities\n",
    "    p_c_2 = p_2*x_c_2\n",
    "    p_p_2 = p_2*(1.0 - x_c_2)\n",
    "    \n",
    "    #free energies of the two phases (each per N and not V)\n",
    "    a_1_pN = A(p_c_1, p_p_1, e_pc, d_c, d_p, m_c, m_p, m) / p_1\n",
    "    a_2_pN = A(p_c_2, p_p_2, e_pc, d_c, d_p, m_c, m_p, m) / p_2\n",
    "    \n",
    "    return O_1*(p_1/p)*a_1_pN + O_2*(p_2/p)*a_2_pN"
   ]
  },
  {
   "cell_type": "code",
   "execution_count": 19,
   "metadata": {
    "collapsed": true
   },
   "outputs": [],
   "source": [
    "def A2PConstrainedPN(p, x_c, e_pc, d_c, d_p, m_c, m_p, m,\n",
    "                     p_1, x_c_1, p_2):\n",
    "    \n",
    "    #implement constraints\n",
    "    O_1 = (-p + p_2)/(p_2 - p_1)\n",
    "    O_2 = (-p + p_1)/(p_1 - p_2)\n",
    "    x_c_2 = (-(p*p_1*x_c) + p*p_2*x_c + p*p_1*x_c_1 - p_1*p_2*x_c_1)/((p - p_1)*p_2)\n",
    "    \n",
    "    #calculate the free energy with the constraints using the unconstrained form\n",
    "    a2p_pN = A2PUnconstrainedPN(p, x_c, e_pc, d_c, d_p, m_c, m_p, m,\n",
    "                                O_1, p_1, x_c_1, \n",
    "                                O_2, p_2, x_c_2)\n",
    "    \n",
    "    #puts a penalty on unphysical solutions\n",
    "    a_pen = 1e10*(O_1 < 0.0 or O_1 > 1.0 or \n",
    "                  O_2 < 0.0 or O_2 > 1.0 or \n",
    "                  x_c_1 < 0.0 or x_c_1 > 1.0 or \n",
    "                  x_c_2 < 0.0 or x_c_2 > 1.0\n",
    "                 )\n",
    "    \n",
    "    return a2p_pN + a_pen"
   ]
  },
  {
   "cell_type": "code",
   "execution_count": 174,
   "metadata": {
    "collapsed": true
   },
   "outputs": [],
   "source": [
    "def FindPhases(p, x_c, e_pc, d_c, d_p, m_c, m_p, m, q0=None):\n",
    "    \n",
    "    #optimizable function\n",
    "    if q0 is None:\n",
    "        q0 = np.array([p-0.00001, x_c, p+0.000001])\n",
    "    func = lambda q: A2PConstrainedPN(p, x_c, e_pc, d_c, d_p, m_c, m_p, m,\n",
    "                                      q[0], q[1], q[2])\n",
    "    \n",
    "    #minimize using the simplex method\n",
    "    res = sp.optimize.minimize(func, q0, method='Nelder-Mead',\n",
    "                               options={'xtol': 1e-8, 'disp': False, 'maxiter':400})\n",
    "                               #options={'xtol': 1e-12, 'disp': False, 'maxiter':1000})\n",
    "    \n",
    "    #solver found variables\n",
    "    p_1 = res.x[0]\n",
    "    x_c_1 = res.x[1]\n",
    "    p_2 = res.x[2]\n",
    "    \n",
    "    #related variables\n",
    "    O_1 = (-p + p_2)/(p_2 - p_1)\n",
    "    O_2 = (-p + p_1)/(p_1 - p_2)\n",
    "    x_c_2 = (-(p*p_1*x_c) + p*p_2*x_c + p*p_1*x_c_1 - p_1*p_2*x_c_1)/((p - p_1)*p_2)\n",
    "    \n",
    "    return ((p_1, x_c_1, O_1), (p_2, x_c_2, O_2))"
   ]
  },
  {
   "cell_type": "code",
   "execution_count": 47,
   "metadata": {
    "collapsed": true
   },
   "outputs": [],
   "source": [
    "def PS(p, x_c, e_pc, d_c, d_p, m_c, m_p, m, q0, threshold=1e-5):\n",
    "    \n",
    "    #two phase results\n",
    "    ((p_1, x_c_1, O_1), (p_2, x_c_2, O_2)) = FindPhases(p, x_c, e_pc, d_c, d_p, m_c, m_p, m, q0)\n",
    "    \n",
    "    #needed parameters for computing free energy of each phase per V\n",
    "    p_c_1 = p_1*x_c_1\n",
    "    p_p_1 = p_1*(1.0 - x_c_1)\n",
    "    p_c_2 = p_2*x_c_2\n",
    "    p_p_2 = p_2*(1.0 - x_c_2)\n",
    "    \n",
    "    sensitivity = O_1*O_2*np.sqrt(np.power((p_1 - p_2)/np.mean([p_1, p_2]), 2) \n",
    "                  + np.power((x_c_1 - x_c_2)/np.mean([x_c_1, x_c_2]), 2)) - threshold\n",
    "    \n",
    "    return sensitivity, (p_1, x_c_1, p_2)"
   ]
  },
  {
   "cell_type": "code",
   "execution_count": null,
   "metadata": {
    "collapsed": true
   },
   "outputs": [],
   "source": []
  },
  {
   "cell_type": "code",
   "execution_count": null,
   "metadata": {
    "collapsed": true
   },
   "outputs": [],
   "source": []
  },
  {
   "cell_type": "code",
   "execution_count": 22,
   "metadata": {},
   "outputs": [
    {
     "name": "stdout",
     "output_type": "stream",
     "text": [
      "(0.00042079363491657595, 0.0774325833591833, 0.5766341170670868)\n",
      "(0.013862491252090811, 0.2571346250016762, 0.42336588293291333)\n",
      "-0.0014653917980729668\n",
      "-0.037065622908031615\n"
     ]
    },
    {
     "data": {
      "text/plain": [
       "(0.03802148734208654,\n",
       " (0.00042079363491657595, 0.0774325833591833, 0.013862491252090811))"
      ]
     },
     "execution_count": 22,
     "metadata": {},
     "output_type": "execute_result"
    }
   ],
   "source": [
    "d_c = 5.0\n",
    "d_p = 1.0\n",
    "m_c = 6.0\n",
    "m_p = 2.0 \n",
    "m = 1\n",
    "\n",
    "############\n",
    "n_c = 0.10\n",
    "gamma = 3.0\n",
    "e_pc = 14.0\n",
    "\n",
    "############\n",
    "p_c = 6.0*n_c/(np.pi*d_c**3)\n",
    "p_p = p_c*gamma\n",
    "p = p_c + p_p\n",
    "x_c = p_c / p\n",
    "\n",
    "\n",
    "((p_1, x_c_1, O_1), (p_2, x_c_2, O_2)) = FindPhases(p, x_c, e_pc, d_c, d_p, m_c, m_p, m)\n",
    "print (p_1, x_c_1, O_1)\n",
    "print (p_2, x_c_2, O_2)\n",
    "\n",
    "#free energies of the two phases (each per N and not V)\n",
    "p_c_1 = p_1*x_c_1\n",
    "p_p_1 = p_1*(1.0 - x_c_1)\n",
    "p_c_2 = p_2*x_c_2\n",
    "p_p_2 = p_2*(1.0 - x_c_2)\n",
    "print O_1*A(p_c_1, p_p_1, e_pc, d_c, d_p, m_c, m_p, m)\n",
    "print O_2*A(p_c_2, p_p_2, e_pc, d_c, d_p, m_c, m_p, m)\n",
    "\n",
    "PS(p, x_c, e_pc, d_c, d_p, m_c, m_p, m, q0=None, threshold=0.00001)"
   ]
  },
  {
   "cell_type": "code",
   "execution_count": null,
   "metadata": {
    "collapsed": true
   },
   "outputs": [],
   "source": []
  },
  {
   "cell_type": "code",
   "execution_count": null,
   "metadata": {
    "collapsed": true
   },
   "outputs": [],
   "source": []
  },
  {
   "cell_type": "code",
   "execution_count": null,
   "metadata": {
    "collapsed": true
   },
   "outputs": [],
   "source": []
  },
  {
   "cell_type": "code",
   "execution_count": null,
   "metadata": {
    "collapsed": true
   },
   "outputs": [],
   "source": []
  },
  {
   "cell_type": "code",
   "execution_count": 24,
   "metadata": {
    "collapsed": true
   },
   "outputs": [],
   "source": [
    "#system variables\n",
    "gamma = 3.0\n",
    "d_c = 5.0\n",
    "d_p = 1.0\n",
    "m_c = 6.0\n",
    "m_p = 2.0 \n",
    "m = 1\n",
    "\n",
    "min_step= 0.0000001 #0.00001"
   ]
  },
  {
   "cell_type": "code",
   "execution_count": 25,
   "metadata": {
    "collapsed": true
   },
   "outputs": [],
   "source": [
    "#search range and search parameters\n",
    "n_c_min = 0.001\n",
    "n_c_max = 0.15\n",
    "e_pc_min = 10.0\n",
    "e_pc_max = 19.5\n",
    "num_pts_p_c = 20\n",
    "num_pts_e_pc = 100\n",
    "\n",
    "#auxillary\n",
    "p_c_min = 6.0*n_c_min/(np.pi*d_c**3)\n",
    "p_c_max = 6.0*n_c_max/(np.pi*d_c**3)\n",
    "\n",
    "#set the ranges\n",
    "p_c_vals = np.linspace(p_c_min, p_c_max, num=num_pts_p_c)\n",
    "e_pc_vals = np.linspace(e_pc_min, e_pc_max, num=num_pts_e_pc)"
   ]
  },
  {
   "cell_type": "code",
   "execution_count": 39,
   "metadata": {
    "scrolled": true
   },
   "outputs": [
    {
     "name": "stdout",
     "output_type": "stream",
     "text": [
      "0\n",
      "1\n",
      "2\n",
      "3\n",
      "4\n",
      "5\n",
      "6\n",
      "7\n",
      "8\n",
      "9\n",
      "10\n",
      "11\n",
      "12\n",
      "13\n",
      "14\n",
      "15\n",
      "16\n",
      "17\n",
      "18\n",
      "19\n",
      "20\n",
      "21\n",
      "22\n",
      "23\n",
      "24\n",
      "25\n",
      "26\n",
      "27\n",
      "28\n",
      "29\n",
      "30\n",
      "31\n",
      "32\n",
      "33\n",
      "34\n",
      "35\n",
      "36\n",
      "37\n",
      "38\n",
      "39\n",
      "40\n",
      "41\n",
      "42\n",
      "43\n",
      "44\n",
      "45\n",
      "46\n",
      "47\n",
      "48\n",
      "49\n",
      "50\n",
      "51\n",
      "52\n",
      "53\n",
      "54\n",
      "55\n",
      "56\n",
      "57\n",
      "58\n",
      "59\n",
      "60\n",
      "61\n",
      "62\n",
      "63\n",
      "64\n",
      "65\n",
      "66\n",
      "67\n",
      "68\n",
      "69\n",
      "70\n",
      "71\n",
      "72\n",
      "73\n",
      "74\n",
      "75\n",
      "76\n",
      "77\n",
      "78\n",
      "79\n",
      "80\n",
      "81\n",
      "82\n",
      "83\n",
      "84\n",
      "85\n",
      "86\n",
      "87\n",
      "88\n",
      "89\n",
      "90\n",
      "91\n",
      "92\n",
      "93\n",
      "94\n",
      "95\n",
      "96\n",
      "97\n",
      "98\n",
      "99\n",
      "100\n",
      "101\n",
      "102\n",
      "103\n",
      "104\n",
      "105\n",
      "106\n",
      "107\n",
      "108\n",
      "109\n",
      "110\n",
      "111\n",
      "112\n",
      "113\n",
      "114\n",
      "115\n",
      "116\n",
      "117\n",
      "118\n",
      "119\n",
      "120\n",
      "121\n",
      "122\n",
      "123\n",
      "124\n",
      "125\n",
      "126\n",
      "127\n",
      "128\n",
      "129\n",
      "130\n",
      "131\n",
      "132\n",
      "133\n",
      "134\n",
      "135\n",
      "136\n",
      "137\n",
      "138\n",
      "139\n",
      "140\n",
      "141\n",
      "142\n",
      "143\n",
      "144\n",
      "145\n",
      "146\n",
      "147\n",
      "148\n",
      "149\n",
      "150\n",
      "151\n",
      "152\n",
      "153\n",
      "154\n",
      "155\n",
      "156\n",
      "157\n",
      "158\n",
      "159\n",
      "160\n",
      "161\n",
      "162\n",
      "163\n",
      "164\n",
      "165\n",
      "166\n",
      "167\n",
      "168\n",
      "169\n",
      "170\n",
      "171\n",
      "172\n",
      "173\n",
      "174\n",
      "175\n",
      "176\n",
      "177\n",
      "178\n",
      "179\n",
      "180\n",
      "181\n",
      "182\n",
      "183\n",
      "184\n",
      "185\n",
      "186\n",
      "187\n",
      "188\n",
      "189\n",
      "190\n",
      "191\n",
      "192\n",
      "193\n",
      "194\n",
      "195\n",
      "196\n",
      "197\n",
      "198\n",
      "199\n",
      "200\n",
      "201\n",
      "202\n",
      "203\n",
      "204\n",
      "205\n",
      "206\n",
      "207\n",
      "208\n",
      "209\n",
      "210\n",
      "211\n",
      "212\n",
      "213\n",
      "214\n",
      "215\n",
      "216\n",
      "217\n",
      "218\n",
      "219\n",
      "220\n",
      "221\n",
      "222\n",
      "223\n",
      "224\n",
      "225\n",
      "226\n",
      "227\n",
      "228\n",
      "229\n",
      "230\n",
      "231\n",
      "232\n",
      "233\n",
      "234\n",
      "235\n",
      "236\n",
      "237\n",
      "238\n",
      "239\n",
      "240\n",
      "241\n",
      "242\n",
      "243\n",
      "244\n",
      "245\n",
      "246\n",
      "247\n",
      "248\n",
      "249\n",
      "250\n",
      "251\n",
      "252\n",
      "253\n",
      "254\n",
      "255\n",
      "256\n",
      "257\n",
      "258\n",
      "259\n",
      "260\n",
      "261\n",
      "262\n",
      "263\n",
      "264\n",
      "265\n",
      "266\n",
      "267\n",
      "268\n",
      "269\n",
      "270\n",
      "271\n",
      "272\n",
      "273\n",
      "274\n",
      "275\n",
      "276\n",
      "277\n",
      "278\n",
      "279\n",
      "280\n",
      "281\n",
      "282\n",
      "283\n",
      "284\n",
      "285\n",
      "286\n",
      "287\n",
      "288\n",
      "289\n",
      "290\n",
      "291\n",
      "292\n",
      "293\n",
      "294\n",
      "295\n",
      "296\n",
      "297\n",
      "298\n",
      "299\n"
     ]
    }
   ],
   "source": [
    "n_c = 0.19\n",
    "gamma = 3.0\n",
    "\n",
    "e_pc_min = 10.0\n",
    "e_pc_max = 20.0\n",
    "num_pts_e_pc = 300\n",
    "\n",
    "p_c = 6.0*n_c/(np.pi*d_c**3)\n",
    "p_p = p_c*gamma\n",
    "p = p_c + p_p\n",
    "x_c = p_c / p\n",
    "e_pc_vals = np.linspace(e_pc_min, e_pc_max, num=num_pts_e_pc)\n",
    "\n",
    "q0 = None\n",
    "senss = []\n",
    "counter = 0\n",
    "for e_pc in reversed(e_pc_vals):\n",
    "    print counter\n",
    "    sens, q0 = PS(p, x_c, e_pc, d_c, d_p, m_c, m_p, m, q0, threshold=1.0e-6)\n",
    "    senss.append(sens)\n",
    "    counter += 1"
   ]
  },
  {
   "cell_type": "code",
   "execution_count": null,
   "metadata": {
    "collapsed": true
   },
   "outputs": [],
   "source": []
  },
  {
   "cell_type": "code",
   "execution_count": null,
   "metadata": {
    "collapsed": true
   },
   "outputs": [],
   "source": []
  },
  {
   "cell_type": "code",
   "execution_count": null,
   "metadata": {
    "collapsed": true
   },
   "outputs": [],
   "source": []
  },
  {
   "cell_type": "code",
   "execution_count": null,
   "metadata": {
    "collapsed": true
   },
   "outputs": [],
   "source": []
  },
  {
   "cell_type": "markdown",
   "metadata": {},
   "source": [
    "# Bisection for PC"
   ]
  },
  {
   "cell_type": "code",
   "execution_count": 75,
   "metadata": {},
   "outputs": [],
   "source": [
    "import scipy as sp\n",
    "\n",
    "def CalculatePCBoundary(p_c_vals, e_pc_min, e_pc_max, num_pts_epc,\n",
    "                        gamma,\n",
    "                        d_c, d_p, m_c, m_p, m,\n",
    "                        threshold=1e-5, threshold_op=1e-5\n",
    "                        ):\n",
    "\n",
    "\n",
    "    #lists for storing the results\n",
    "    boundary = [[],[],[],[]]\n",
    "    \n",
    "    #store for loops\n",
    "    e_pc_min_init = e_pc_min\n",
    "    e_pc_max_init = e_pc_max\n",
    "    q0_1_init = None\n",
    "\n",
    "    #use bisection to find the phase coexistence boundary\n",
    "    for p_c in p_c_vals:\n",
    "        \n",
    "        print 'Current n_c = {}'.format((np.pi/6.0)*p_c*d_c**3)\n",
    "        \n",
    "        #initialize search range\n",
    "        e_pc_min = e_pc_min_init\n",
    "        e_pc_max = e_pc_max_init\n",
    "        \n",
    "        #get relevant variables\n",
    "        p_p = p_c*gamma\n",
    "        p = p_c + p_p\n",
    "        x_c = p_c/p\n",
    "\n",
    "        #initial point\n",
    "        e_pc_1 = e_pc_max\n",
    "        op_1, q0_1 = PS(p, x_c, e_pc_1, d_c, d_p, m_c, m_p, m, q0_1_init, threshold_op)\n",
    "        q0_1_init = q0_1\n",
    "        \n",
    "        #bisection of the attraction strength\n",
    "        while (e_pc_max - e_pc_min) > threshold*np.mean([e_pc_max, e_pc_min]):\n",
    "            \n",
    "            #manually start with the first two points\n",
    "            del_e_pc = (e_pc_max - e_pc_min)/num_pts_epc\n",
    "            e_pc_2 = e_pc_1 - del_e_pc\n",
    "            op_2, q0_2 = PS(p, x_c, e_pc_2, d_c, d_p, m_c, m_p, m, q0_1, threshold_op)            \n",
    "            print \"e_pc_min = {}, e_pc_max = {}\".format(e_pc_min, e_pc_max)\n",
    "            \n",
    "            #finding the new min and max attraction \n",
    "            while op_2 > 0.0:\n",
    "                \n",
    "                #move newer to older\n",
    "                e_pc_1 = e_pc_2\n",
    "                op_1 = op_2\n",
    "                q0_1 = q0_2\n",
    "                \n",
    "                #generate new lookahead\n",
    "                e_pc_2 = e_pc_1 - del_e_pc\n",
    "                op_2, q0_2 = PS(p, x_c, e_pc_2, d_c, d_p, m_c, m_p, m, q0_1, threshold_op)\n",
    "            \n",
    "            #adjust the min, max and spacing values\n",
    "            e_pc_min = e_pc_2\n",
    "            e_pc_max = e_pc_1\n",
    "        \n",
    "        #store the boundary\n",
    "        boundary[0].append( p_c )\n",
    "        boundary[1].append( p_p )\n",
    "        boundary[2].append( np.mean([e_pc_min, e_pc_max]) )\n",
    "        boundary[3].append( ((np.pi/6.0)*d_c**3)*p_c )\n",
    "\n",
    "    return boundary"
   ]
  },
  {
   "cell_type": "code",
   "execution_count": null,
   "metadata": {
    "collapsed": true
   },
   "outputs": [],
   "source": []
  },
  {
   "cell_type": "code",
   "execution_count": 125,
   "metadata": {
    "collapsed": true
   },
   "outputs": [],
   "source": [
    "m = 4\n",
    "gamma = 3.0\n",
    "\n",
    "n_c_min = 0.001\n",
    "n_c_max = 0.35\n",
    "e_pc_min = 10.0\n",
    "e_pc_max = 19.99\n",
    "num_pts_epc = 20\n",
    "num_pts_p_c = 200\n",
    "\n",
    "#auxillary\n",
    "p_c_min = 6.0*n_c_min/(np.pi*d_c**3)\n",
    "p_c_max = 6.0*n_c_max/(np.pi*d_c**3)\n",
    "\n",
    "#set the ranges\n",
    "p_c_vals = np.linspace(p_c_min, p_c_max, num=num_pts_p_c)\n",
    "e_pc_vals = np.linspace(e_pc_min, e_pc_max, num=num_pts_e_pc)"
   ]
  },
  {
   "cell_type": "code",
   "execution_count": null,
   "metadata": {
    "collapsed": true
   },
   "outputs": [],
   "source": [
    "binodal = CalculatePCBoundary(p_c_vals, e_pc_min, e_pc_max, num_pts_epc,\n",
    "                              gamma,\n",
    "                              d_c, d_p, m_c, m_p, m,\n",
    "                              threshold=1e-6, threshold_op=1e-6\n",
    "                              )"
   ]
  },
  {
   "cell_type": "code",
   "execution_count": 184,
   "metadata": {},
   "outputs": [
    {
     "data": {
      "image/png": "[encoded data removed]",
      "text/plain": [
       "<matplotlib.figure.Figure at 0x7fa6b590b3d0>"
      ]
     },
     "metadata": {},
     "output_type": "display_data"
    }
   ],
   "source": [
    "fig=plt.figure()\n",
    "\n",
    "#font scpecifications\n",
    "title_font = {'family' : 'arial', 'color'  : 'black', 'weight' : 'heavy','size': 20}\n",
    "axis_label_font = {'family' : 'arial', 'color'  : 'black', 'weight' : 'normal','size': 20}\n",
    "\n",
    "#plot the data\n",
    "plt.scatter(phase_data[(m,gamma)]['spinodal'][0], 1/np.array(phase_data[(m,gamma)]['spinodal'][1]), \n",
    "            c='blue', marker=\"o\", s=40, alpha=0.2, linewidths=0.0, label=\"m={}\".format(m))\n",
    "\n",
    "plt.scatter(phase_data[(m,gamma)]['percolation'][0], 1/np.array(phase_data[(m,gamma)]['percolation'][1]), \n",
    "            c='blue', marker=\"o\", s=40, alpha=0.05, linewidths=0.0, label=\"m={}\".format(m))\n",
    "\n",
    "plt.scatter(binodal[3], 1/np.array(binodal[2]), \n",
    "            c='blue', marker=\"o\", s=40, alpha=1.0, linewidths=0.0, label=\"m={}\".format(m))\n",
    "\n",
    "#add a legend\n",
    "#plt.legend(loc='lower right', fontsize=16, frameon=False)\n",
    "\n",
    "#set the ranges\n",
    "n_c_range = np.array([0.0001, 0.35])\n",
    "e_inv_range = np.array([0.05, 0.10])\n",
    "e_range = 1.0 / e_inv_range\n",
    "plt.xlim(tuple(n_c_range))\n",
    "plt.ylim(tuple(e_inv_range))\n",
    "#plt.xscale('log')\n",
    "\n",
    "###primary axis settings\n",
    "plt.rcParams[\"figure.figsize\"] = [6,6]\n",
    "plt.rc('axes',edgecolor='black',linewidth=1)\n",
    "plt.tick_params(which='both', axis='both', color='black', length=6, width=1.0)\n",
    "plt.rcParams['xtick.direction'] = 'in'\n",
    "plt.rcParams['ytick.direction'] = 'in'\n",
    "\n",
    "plt.xlabel('$\\eta$', fontsize=20, fontdict = axis_label_font)\n",
    "plt.ylabel('$k_{B}T/\\epsilon$', fontsize=20, fontdict = axis_label_font)\n",
    "plt.tick_params(axis='both', labelsize=18, pad=12)\n",
    "plt.title(\"$\\Gamma = {}$  $m = {}$\".format(gamma, m), y=1.05, fontdict = title_font)\n",
    "\n",
    "#make another axis\n",
    "#plt.twinx()\n",
    "#plt.ylim(e_range)\n",
    "\n",
    "###secondary axis settings\n",
    "#plt.rcParams[\"figure.figsize\"] = [6,6]\n",
    "#plt.rc('axes',edgecolor='black',linewidth=1)\n",
    "#plt.tick_params(which='both', axis='both', color='black', length=6, width=1.0)\n",
    "#plt.rcParams['xtick.direction'] = 'in'\n",
    "#plt.rcParams['ytick.direction'] = 'in'\n",
    "\n",
    "#plt.ylabel('$\\epsilon / k_{B}T$', fontsize=20, fontdict = axis_label_font)\n",
    "#plt.tick_params(axis='both', labelsize=18, pad=12)\n",
    "\n",
    "plt.savefig('./data/colloid_polymer_with_ps.png'.format(gamma), bbox_inches='tight', dpi=100)"
   ]
  },
  {
   "cell_type": "code",
   "execution_count": null,
   "metadata": {
    "collapsed": true
   },
   "outputs": [],
   "source": []
  },
  {
   "cell_type": "code",
   "execution_count": null,
   "metadata": {
    "collapsed": true
   },
   "outputs": [],
   "source": []
  },
  {
   "cell_type": "code",
   "execution_count": null,
   "metadata": {
    "collapsed": true
   },
   "outputs": [],
   "source": []
  },
  {
   "cell_type": "code",
   "execution_count": null,
   "metadata": {
    "collapsed": true
   },
   "outputs": [],
   "source": []
  },
  {
   "cell_type": "code",
   "execution_count": null,
   "metadata": {
    "collapsed": true
   },
   "outputs": [],
   "source": []
  },
  {
   "cell_type": "code",
   "execution_count": null,
   "metadata": {
    "collapsed": true
   },
   "outputs": [],
   "source": []
  },
  {
   "cell_type": "code",
   "execution_count": null,
   "metadata": {
    "collapsed": true
   },
   "outputs": [],
   "source": []
  },
  {
   "cell_type": "code",
   "execution_count": null,
   "metadata": {
    "collapsed": true
   },
   "outputs": [],
   "source": []
  },
  {
   "cell_type": "code",
   "execution_count": null,
   "metadata": {
    "collapsed": true
   },
   "outputs": [],
   "source": []
  },
  {
   "cell_type": "code",
   "execution_count": 193,
   "metadata": {
    "collapsed": true
   },
   "outputs": [],
   "source": [
    "import scipy as sp\n",
    "\n",
    "def CalculatePCBoundary(p_c_vals, e_pc_min, e_pc_max, num_pts_epc,\n",
    "                        num_e_pc_vals, num_pts_p_c,\n",
    "                        gamma,\n",
    "                        d_c, d_p, m_c, m_p, m,\n",
    "                        threshold=1e-5, threshold_op=1e-5\n",
    "                        ):\n",
    "\n",
    "\n",
    "    #lists for storing the results\n",
    "    boundary = [[],[],[],[]]\n",
    "    \n",
    "    print \"PERFORMING DOWNWARD SEARCH...\"\n",
    "    \n",
    "    #store for loops\n",
    "    e_pc_min_init = e_pc_min\n",
    "    e_pc_max_init = e_pc_max\n",
    "    q0_1_init = None\n",
    "\n",
    "    #use bisection to find the phase coexistence boundary\n",
    "    for p_c in p_c_vals:\n",
    "        \n",
    "        print 'Current n_c = {}'.format((np.pi/6.0)*p_c*d_c**3)\n",
    "        \n",
    "        #initialize search range\n",
    "        e_pc_min = e_pc_min_init\n",
    "        e_pc_max = e_pc_max_init\n",
    "        \n",
    "        #get relevant variables\n",
    "        p_p = p_c*gamma\n",
    "        p = p_c + p_p\n",
    "        x_c = p_c/p\n",
    "\n",
    "        #initial point\n",
    "        e_pc_1 = e_pc_max\n",
    "        op_1, q0_1 = PS(p, x_c, e_pc_1, d_c, d_p, m_c, m_p, m, q0_1_init, threshold_op)\n",
    "        q0_1_init = q0_1\n",
    "        \n",
    "        #bisection of the attraction strength\n",
    "        while (e_pc_max - e_pc_min) > threshold*np.mean([e_pc_max, e_pc_min]):\n",
    "            \n",
    "            #manually start with the first two points\n",
    "            del_e_pc = (e_pc_max - e_pc_min)/num_pts_epc\n",
    "            e_pc_2 = e_pc_1 - del_e_pc\n",
    "            op_2, q0_2 = PS(p, x_c, e_pc_2, d_c, d_p, m_c, m_p, m, q0_1, threshold_op)            \n",
    "            print \"e_pc_min = {}, e_pc_max = {}\".format(e_pc_min, e_pc_max)\n",
    "            \n",
    "            #finding the new min and max attraction \n",
    "            while op_2 > 0.0:\n",
    "                \n",
    "                #move newer to older\n",
    "                e_pc_1 = e_pc_2\n",
    "                op_1 = op_2\n",
    "                q0_1 = q0_2\n",
    "                \n",
    "                #generate new lookahead\n",
    "                e_pc_2 = e_pc_1 - del_e_pc\n",
    "                op_2, q0_2 = PS(p, x_c, e_pc_2, d_c, d_p, m_c, m_p, m, q0_1, threshold_op)\n",
    "            \n",
    "            #adjust the min, max and spacing values\n",
    "            e_pc_min = e_pc_2\n",
    "            e_pc_max = e_pc_1\n",
    "        \n",
    "        #store the boundary\n",
    "        boundary[0].append( p_c )\n",
    "        boundary[1].append( p_p )\n",
    "        boundary[2].append( np.mean([e_pc_min, e_pc_max]) )\n",
    "        boundary[3].append( ((np.pi/6.0)*d_c**3)*p_c )\n",
    "        \n",
    "        #do not waste time if we are calculating the same thing\n",
    "        \n",
    "        if len(boundary[2]) > 10:\n",
    "            if np.all(np.abs(np.array(boundary[2][-5:-1]) - boundary[2][-1]) < 1e-6):\n",
    "                print \"Terminating early in density.\"\n",
    "                break\n",
    "        \n",
    "    ################################################################################\n",
    "    \n",
    "    print \"PERFORMING LEFTWARD / RIGHTWARD SEARCH...\"\n",
    "    \n",
    "    #find the maximum e_pc and the corresponding density\n",
    "    index_min_boundary = np.argmin(boundary[2])\n",
    "    e_pc_min_boundary = boundary[2][index_min_boundary]\n",
    "    p_c_cen = boundary[0][index_min_boundary]\n",
    "    p_c_max = p_c_vals[-1]\n",
    "    \n",
    "    #generate a selection of points in the range of e_pc discovered\n",
    "    e_pc_vals = np.linspace(e_pc_min_boundary, e_pc_max, num=num_e_pc_vals)\n",
    "    \n",
    "    #store for loops\n",
    "    p_c_cen_init = p_c_cen\n",
    "    p_c_max_init = p_c_max\n",
    "    p_c_min_init = 0.0\n",
    "    q0_1_init = None\n",
    "    \n",
    "    #loop over the desired attraction strengths\n",
    "    for e_pc in list(reversed(e_pc_vals)):\n",
    "        \n",
    "        print 'Current e_pc = {}'.format(e_pc)\n",
    "        \n",
    "        #search in both directions\n",
    "        for direction in ['left', 'right']:\n",
    "            \n",
    "            print 'Moving {}'.format(direction)\n",
    "        \n",
    "            #initialize search range\n",
    "            p_c_min = (direction == 'left')*p_c_min_init + (direction == 'right')*p_c_cen_init\n",
    "            p_c_max = (direction == 'left')*p_c_cen_init + (direction == 'right')*p_c_max_init\n",
    "\n",
    "            #get relevant variables\n",
    "            p_c_1 = (direction == 'left')*p_c_max + (direction == 'right')*p_c_min\n",
    "            p_p_1 = p_c_1*gamma\n",
    "            p_1 = p_c_1 + p_p_1\n",
    "            x_c_1 = p_c_1/p_1\n",
    "\n",
    "            #initial point\n",
    "            op_1, q0_1 = PS(p_1, x_c_1, e_pc, d_c, d_p, m_c, m_p, m, q0_1_init, threshold_op)\n",
    "            q0_1_init = q0_1\n",
    "\n",
    "            #bisection of the attraction strength\n",
    "            while (p_c_max - p_c_min) > threshold*np.mean([p_c_min, p_c_max]):\n",
    "\n",
    "                #manually start with the first two points\n",
    "                del_p_c = (p_c_max - p_c_min)/num_pts_p_c\n",
    "                p_c_2 = p_c_1 - (direction == 'left')*del_p_c + (direction == 'right')*del_p_c\n",
    "                p_p_2 = p_c_2*gamma\n",
    "                p_2 = p_c_2 + p_p_2\n",
    "                x_c_2 = p_c_2/p_2\n",
    "                op_2, q0_2 = PS(p_2, x_c_2, e_pc, d_c, d_p, m_c, m_p, m, q0_1, threshold_op)            \n",
    "                print \"n_c_min = {}, n_c_max = {}\".format((np.pi/6.0)*p_c_min*d_c**3, \n",
    "                                                          (np.pi/6.0)*p_c_max*d_c**3)\n",
    "\n",
    "                #finding the new min and max attraction \n",
    "                while op_2 > 0.0:\n",
    "\n",
    "                    #move newer to older\n",
    "                    p_c_1 = p_c_2\n",
    "                    op_1 = op_2\n",
    "                    q0_1 = q0_2\n",
    "\n",
    "                    #generate new lookahead\n",
    "                    p_c_2 = p_c_1 - (direction == 'left')*del_p_c + (direction == 'right')*del_p_c\n",
    "                    p_p_2 = p_c_2*gamma\n",
    "                    p_2 = p_c_2 + p_p_2\n",
    "                    x_c_2 = p_c_2/p_2\n",
    "                    op_2, q0_2 = PS(p_2, x_c_2, e_pc, d_c, d_p, m_c, m_p, m, q0_1, threshold_op)\n",
    "\n",
    "                #adjust the min, max and spacing values\n",
    "                p_c_min = (direction == 'left')*p_c_2 + (direction == 'right')*p_c_1\n",
    "                p_c_max = (direction == 'left')*p_c_1 + (direction == 'right')*p_c_2\n",
    "\n",
    "            #store the boundary\n",
    "            p_c_ = np.mean([p_c_min, p_c_max])\n",
    "            p_p_ = p_c_*gamma\n",
    "            boundary[0].append( p_c_ )\n",
    "            boundary[1].append( p_p_ )\n",
    "            boundary[2].append( e_pc )\n",
    "            boundary[3].append( ((np.pi/6.0)*d_c**3)*p_c_ )\n",
    "\n",
    "    return boundary"
   ]
  },
  {
   "cell_type": "code",
   "execution_count": 197,
   "metadata": {
    "collapsed": true
   },
   "outputs": [],
   "source": [
    "gamma = 3.0\n",
    "d_c = 5.0\n",
    "d_p = 1.0\n",
    "m_c = 6.0\n",
    "m_p = 2.0 \n",
    "m = 4\n",
    "\n",
    "#generate the eta points to iterate upwards from in attraction strength\n",
    "n_c_min = 0.001    #TUNE\n",
    "n_c_max = 0.35     #TUNE\n",
    "p_c_min = 6.0*n_c_min/(np.pi*d_c**3)\n",
    "p_c_max = 6.0*n_c_max/(np.pi*d_c**3)\n",
    "\n",
    "#upwards search\n",
    "num_p_c_vals = 200 #40 #TUNE\n",
    "p_c_vals = np.linspace(p_c_min, p_c_max, num=num_p_c_vals)\n",
    "e_pc_min = 10.0    #TUNE\n",
    "e_pc_max = 19.99   #TUNE\n",
    "num_pts_epc = 10   #TUNE\n",
    "\n",
    "#leftwards and rightwards search\n",
    "num_e_pc_vals = 30 #40 #TUNE\n",
    "num_pts_p_c = 10   #TUNE"
   ]
  },
  {
   "cell_type": "code",
   "execution_count": null,
   "metadata": {
    "collapsed": true
   },
   "outputs": [],
   "source": [
    "binodal = CalculatePCBoundary(p_c_vals, e_pc_min, e_pc_max, num_pts_epc,\n",
    "                              num_e_pc_vals, num_pts_p_c,\n",
    "                              gamma,\n",
    "                              d_c, d_p, m_c, m_p, m,\n",
    "                              threshold=1e-5, threshold_op=1e-5\n",
    "                              )"
   ]
  },
  {
   "cell_type": "code",
   "execution_count": 198,
   "metadata": {
    "collapsed": true
   },
   "outputs": [],
   "source": [
    "ms = [2, 4, 8, 16]\n",
    "gammas = [1, 3, 9]"
   ]
  },
  {
   "cell_type": "code",
   "execution_count": 199,
   "metadata": {
    "scrolled": true
   },
   "outputs": [
    {
     "name": "stdout",
     "output_type": "stream",
     "text": [
      "Working on m = 2, gamma = 1\n",
      "PERFORMING DOWNWARD SEARCH...\n",
      "Current n_c = 0.001\n",
      "e_pc_min = 10.0, e_pc_max = 19.99\n",
      "e_pc_min = 14.995, e_pc_max = 15.994\n",
      "e_pc_min = 15.7942, e_pc_max = 15.8941\n",
      "e_pc_min = 15.86413, e_pc_max = 15.87412\n",
      "e_pc_min = 15.873121, e_pc_max = 15.87412\n",
      "Current n_c = 0.00275376884422\n",
      "e_pc_min = 10.0, e_pc_max = 19.99\n",
      "e_pc_min = 14.995, e_pc_max = 15.994\n",
      "e_pc_min = 15.2947, e_pc_max = 15.3946\n",
      "e_pc_min = 15.2947, e_pc_max = 15.30469\n",
      "e_pc_min = 15.299695, e_pc_max = 15.300694\n",
      "Current n_c = 0.00450753768844\n",
      "e_pc_min = 10.0, e_pc_max = 19.99\n",
      "e_pc_min = 14.995, e_pc_max = 15.994\n",
      "e_pc_min = 14.995, e_pc_max = 15.0949\n",
      "e_pc_min = 15.05494, e_pc_max = 15.06493\n",
      "e_pc_min = 15.056938, e_pc_max = 15.057937\n",
      "Current n_c = 0.00626130653266\n",
      "e_pc_min = 10.0, e_pc_max = 19.99\n",
      "e_pc_min = 13.996, e_pc_max = 14.995\n",
      "e_pc_min = 14.8951, e_pc_max = 14.995\n",
      "e_pc_min = 14.91508, e_pc_max = 14.92507\n",
      "e_pc_min = 14.91508, e_pc_max = 14.916079\n",
      "Current n_c = 0.00801507537688\n",
      "e_pc_min = 10.0, e_pc_max = 19.99\n",
      "e_pc_min = 13.996, e_pc_max = 14.995\n",
      "e_pc_min = 14.7952, e_pc_max = 14.8951\n",
      "e_pc_min = 14.81518, e_pc_max = 14.82517\n",
      "e_pc_min = 14.822173, e_pc_max = 14.823172\n",
      "Current n_c = 0.00976884422111\n",
      "e_pc_min = 10.0, e_pc_max = 19.99\n",
      "e_pc_min = 13.996, e_pc_max = 14.995\n",
      "e_pc_min = 14.6953, e_pc_max = 14.7952\n",
      "e_pc_min = 14.75524, e_pc_max = 14.76523\n",
      "e_pc_min = 14.756239, e_pc_max = 14.757238\n",
      "Current n_c = 0.0115226130653\n",
      "e_pc_min = 10.0, e_pc_max = 19.99\n",
      "e_pc_min = 13.996, e_pc_max = 14.995\n",
      "e_pc_min = 14.6953, e_pc_max = 14.7952\n",
      "e_pc_min = 14.70529, e_pc_max = 14.71528\n",
      "e_pc_min = 14.711284, e_pc_max = 14.712283\n",
      "Current n_c = 0.0132763819095\n",
      "e_pc_min = 10.0, e_pc_max = 19.99\n",
      "e_pc_min = 13.996, e_pc_max = 14.995\n",
      "e_pc_min = 14.5954, e_pc_max = 14.6953\n",
      "e_pc_min = 14.67532, e_pc_max = 14.68531\n",
      "e_pc_min = 14.679316, e_pc_max = 14.680315\n",
      "Current n_c = 0.0150301507538\n",
      "e_pc_min = 10.0, e_pc_max = 19.99\n",
      "e_pc_min = 13.996, e_pc_max = 14.995\n",
      "e_pc_min = 14.5954, e_pc_max = 14.6953\n",
      "e_pc_min = 14.65534, e_pc_max = 14.66533\n",
      "e_pc_min = 14.659336, e_pc_max = 14.660335\n",
      "Current n_c = 0.016783919598\n",
      "e_pc_min = 10.0, e_pc_max = 19.99\n",
      "e_pc_min = 13.996, e_pc_max = 14.995\n",
      "e_pc_min = 14.5954, e_pc_max = 14.6953\n",
      "e_pc_min = 14.64535, e_pc_max = 14.65534\n",
      "e_pc_min = 14.647348, e_pc_max = 14.648347\n",
      "Current n_c = 0.0185376884422\n",
      "e_pc_min = 10.0, e_pc_max = 19.99\n",
      "e_pc_min = 13.996, e_pc_max = 14.995\n",
      "e_pc_min = 14.5954, e_pc_max = 14.6953\n",
      "e_pc_min = 14.63536, e_pc_max = 14.64535\n",
      "e_pc_min = 14.643352, e_pc_max = 14.644351\n",
      "Current n_c = 0.0202914572864\n",
      "e_pc_min = 10.0, e_pc_max = 19.99\n",
      "e_pc_min = 13.996, e_pc_max = 14.995\n",
      "e_pc_min = 14.5954, e_pc_max = 14.6953\n",
      "e_pc_min = 14.64535, e_pc_max = 14.65534\n",
      "e_pc_min = 14.646349, e_pc_max = 14.647348\n",
      "Current n_c = 0.0220452261307\n",
      "e_pc_min = 10.0, e_pc_max = 19.99\n",
      "e_pc_min = 13.996, e_pc_max = 14.995\n",
      "e_pc_min = 14.5954, e_pc_max = 14.6953\n",
      "e_pc_min = 14.64535, e_pc_max = 14.65534\n",
      "e_pc_min = 14.653342, e_pc_max = 14.654341\n",
      "Current n_c = 0.0237989949749\n",
      "e_pc_min = 10.0, e_pc_max = 19.99\n",
      "e_pc_min = 13.996, e_pc_max = 14.995\n",
      "e_pc_min = 14.5954, e_pc_max = 14.6953\n",
      "e_pc_min = 14.66533, e_pc_max = 14.67532\n",
      "e_pc_min = 14.666329, e_pc_max = 14.667328\n",
      "Current n_c = 0.0255527638191\n",
      "e_pc_min = 10.0, e_pc_max = 19.99\n",
      "e_pc_min = 13.996, e_pc_max = 14.995\n",
      "e_pc_min = 14.5954, e_pc_max = 14.6953\n",
      "e_pc_min = 14.67532, e_pc_max = 14.68531\n",
      "e_pc_min = 14.684311, e_pc_max = 14.68531\n",
      "Current n_c = 0.0273065326633\n",
      "e_pc_min = 10.0, e_pc_max = 19.99\n",
      "e_pc_min = 13.996, e_pc_max = 14.995\n",
      "e_pc_min = 14.6953, e_pc_max = 14.7952\n",
      "e_pc_min = 14.70529, e_pc_max = 14.71528\n",
      "e_pc_min = 14.707288, e_pc_max = 14.708287\n",
      "Current n_c = 0.0290603015075\n",
      "e_pc_min = 10.0, e_pc_max = 19.99\n",
      "e_pc_min = 13.996, e_pc_max = 14.995\n",
      "e_pc_min = 14.6953, e_pc_max = 14.7952\n",
      "e_pc_min = 14.73526, e_pc_max = 14.74525\n",
      "e_pc_min = 14.73526, e_pc_max = 14.736259\n"
     ]
    },
    {
     "ename": "KeyboardInterrupt",
     "evalue": "",
     "output_type": "error",
     "traceback": [
      "\u001b[0;31m---------------------------------------------------------------------------\u001b[0m",
      "\u001b[0;31mKeyboardInterrupt\u001b[0m                         Traceback (most recent call last)",
      "\u001b[0;32m<ipython-input-199-2c186c61a627>\u001b[0m in \u001b[0;36m<module>\u001b[0;34m()\u001b[0m\n\u001b[1;32m      8\u001b[0m                                       \u001b[0mgamma\u001b[0m\u001b[0;34m,\u001b[0m\u001b[0;34m\u001b[0m\u001b[0m\n\u001b[1;32m      9\u001b[0m                                       \u001b[0md_c\u001b[0m\u001b[0;34m,\u001b[0m \u001b[0md_p\u001b[0m\u001b[0;34m,\u001b[0m \u001b[0mm_c\u001b[0m\u001b[0;34m,\u001b[0m \u001b[0mm_p\u001b[0m\u001b[0;34m,\u001b[0m \u001b[0mm\u001b[0m\u001b[0;34m,\u001b[0m\u001b[0;34m\u001b[0m\u001b[0m\n\u001b[0;32m---> 10\u001b[0;31m                                       \u001b[0mthreshold\u001b[0m\u001b[0;34m=\u001b[0m\u001b[0;36m1e-5\u001b[0m\u001b[0;34m,\u001b[0m \u001b[0mthreshold_op\u001b[0m\u001b[0;34m=\u001b[0m\u001b[0;36m1e-5\u001b[0m\u001b[0;34m\u001b[0m\u001b[0m\n\u001b[0m\u001b[1;32m     11\u001b[0m                                       )\n\u001b[1;32m     12\u001b[0m \u001b[0;34m\u001b[0m\u001b[0m\n",
      "\u001b[0;32m<ipython-input-193-6ca44561747b>\u001b[0m in \u001b[0;36mCalculatePCBoundary\u001b[0;34m(p_c_vals, e_pc_min, e_pc_max, num_pts_epc, num_e_pc_vals, num_pts_p_c, gamma, d_c, d_p, m_c, m_p, m, threshold, threshold_op)\u001b[0m\n\u001b[1;32m     57\u001b[0m                 \u001b[0;31m#generate new lookahead\u001b[0m\u001b[0;34m\u001b[0m\u001b[0;34m\u001b[0m\u001b[0m\n\u001b[1;32m     58\u001b[0m                 \u001b[0me_pc_2\u001b[0m \u001b[0;34m=\u001b[0m \u001b[0me_pc_1\u001b[0m \u001b[0;34m-\u001b[0m \u001b[0mdel_e_pc\u001b[0m\u001b[0;34m\u001b[0m\u001b[0m\n\u001b[0;32m---> 59\u001b[0;31m                 \u001b[0mop_2\u001b[0m\u001b[0;34m,\u001b[0m \u001b[0mq0_2\u001b[0m \u001b[0;34m=\u001b[0m \u001b[0mPS\u001b[0m\u001b[0;34m(\u001b[0m\u001b[0mp\u001b[0m\u001b[0;34m,\u001b[0m \u001b[0mx_c\u001b[0m\u001b[0;34m,\u001b[0m \u001b[0me_pc_2\u001b[0m\u001b[0;34m,\u001b[0m \u001b[0md_c\u001b[0m\u001b[0;34m,\u001b[0m \u001b[0md_p\u001b[0m\u001b[0;34m,\u001b[0m \u001b[0mm_c\u001b[0m\u001b[0;34m,\u001b[0m \u001b[0mm_p\u001b[0m\u001b[0;34m,\u001b[0m \u001b[0mm\u001b[0m\u001b[0;34m,\u001b[0m \u001b[0mq0_1\u001b[0m\u001b[0;34m,\u001b[0m \u001b[0mthreshold_op\u001b[0m\u001b[0;34m)\u001b[0m\u001b[0;34m\u001b[0m\u001b[0m\n\u001b[0m\u001b[1;32m     60\u001b[0m \u001b[0;34m\u001b[0m\u001b[0m\n\u001b[1;32m     61\u001b[0m             \u001b[0;31m#adjust the min, max and spacing values\u001b[0m\u001b[0;34m\u001b[0m\u001b[0;34m\u001b[0m\u001b[0m\n",
      "\u001b[0;32m<ipython-input-47-148512688ff2>\u001b[0m in \u001b[0;36mPS\u001b[0;34m(p, x_c, e_pc, d_c, d_p, m_c, m_p, m, q0, threshold)\u001b[0m\n\u001b[1;32m      2\u001b[0m \u001b[0;34m\u001b[0m\u001b[0m\n\u001b[1;32m      3\u001b[0m     \u001b[0;31m#two phase results\u001b[0m\u001b[0;34m\u001b[0m\u001b[0;34m\u001b[0m\u001b[0m\n\u001b[0;32m----> 4\u001b[0;31m     \u001b[0;34m(\u001b[0m\u001b[0;34m(\u001b[0m\u001b[0mp_1\u001b[0m\u001b[0;34m,\u001b[0m \u001b[0mx_c_1\u001b[0m\u001b[0;34m,\u001b[0m \u001b[0mO_1\u001b[0m\u001b[0;34m)\u001b[0m\u001b[0;34m,\u001b[0m \u001b[0;34m(\u001b[0m\u001b[0mp_2\u001b[0m\u001b[0;34m,\u001b[0m \u001b[0mx_c_2\u001b[0m\u001b[0;34m,\u001b[0m \u001b[0mO_2\u001b[0m\u001b[0;34m)\u001b[0m\u001b[0;34m)\u001b[0m \u001b[0;34m=\u001b[0m \u001b[0mFindPhases\u001b[0m\u001b[0;34m(\u001b[0m\u001b[0mp\u001b[0m\u001b[0;34m,\u001b[0m \u001b[0mx_c\u001b[0m\u001b[0;34m,\u001b[0m \u001b[0me_pc\u001b[0m\u001b[0;34m,\u001b[0m \u001b[0md_c\u001b[0m\u001b[0;34m,\u001b[0m \u001b[0md_p\u001b[0m\u001b[0;34m,\u001b[0m \u001b[0mm_c\u001b[0m\u001b[0;34m,\u001b[0m \u001b[0mm_p\u001b[0m\u001b[0;34m,\u001b[0m \u001b[0mm\u001b[0m\u001b[0;34m,\u001b[0m \u001b[0mq0\u001b[0m\u001b[0;34m)\u001b[0m\u001b[0;34m\u001b[0m\u001b[0m\n\u001b[0m\u001b[1;32m      5\u001b[0m \u001b[0;34m\u001b[0m\u001b[0m\n\u001b[1;32m      6\u001b[0m     \u001b[0;31m#needed parameters for computing free energy of each phase per V\u001b[0m\u001b[0;34m\u001b[0m\u001b[0;34m\u001b[0m\u001b[0m\n",
      "\u001b[0;32m<ipython-input-174-11650a7c518d>\u001b[0m in \u001b[0;36mFindPhases\u001b[0;34m(p, x_c, e_pc, d_c, d_p, m_c, m_p, m, q0)\u001b[0m\n\u001b[1;32m      9\u001b[0m     \u001b[0;31m#minimize using the simplex method\u001b[0m\u001b[0;34m\u001b[0m\u001b[0;34m\u001b[0m\u001b[0m\n\u001b[1;32m     10\u001b[0m     res = sp.optimize.minimize(func, q0, method='Nelder-Mead',\n\u001b[0;32m---> 11\u001b[0;31m                                options={'xtol': 1e-8, 'disp': False, 'maxiter':400})\n\u001b[0m\u001b[1;32m     12\u001b[0m                                \u001b[0;31m#options={'xtol': 1e-12, 'disp': False, 'maxiter':1000})\u001b[0m\u001b[0;34m\u001b[0m\u001b[0;34m\u001b[0m\u001b[0m\n\u001b[1;32m     13\u001b[0m \u001b[0;34m\u001b[0m\u001b[0m\n",
      "\u001b[0;32m/home/ryanj/miniconda2/lib/python2.7/site-packages/scipy/optimize/_minimize.pyc\u001b[0m in \u001b[0;36mminimize\u001b[0;34m(fun, x0, args, method, jac, hess, hessp, bounds, constraints, tol, callback, options)\u001b[0m\n\u001b[1;32m    589\u001b[0m                       callback=callback, **options)\n\u001b[1;32m    590\u001b[0m     \u001b[0;32melif\u001b[0m \u001b[0mmeth\u001b[0m \u001b[0;34m==\u001b[0m \u001b[0;34m'nelder-mead'\u001b[0m\u001b[0;34m:\u001b[0m\u001b[0;34m\u001b[0m\u001b[0m\n\u001b[0;32m--> 591\u001b[0;31m         \u001b[0;32mreturn\u001b[0m \u001b[0m_minimize_neldermead\u001b[0m\u001b[0;34m(\u001b[0m\u001b[0mfun\u001b[0m\u001b[0;34m,\u001b[0m \u001b[0mx0\u001b[0m\u001b[0;34m,\u001b[0m \u001b[0margs\u001b[0m\u001b[0;34m,\u001b[0m \u001b[0mcallback\u001b[0m\u001b[0;34m,\u001b[0m \u001b[0;34m**\u001b[0m\u001b[0moptions\u001b[0m\u001b[0;34m)\u001b[0m\u001b[0;34m\u001b[0m\u001b[0m\n\u001b[0m\u001b[1;32m    592\u001b[0m     \u001b[0;32melif\u001b[0m \u001b[0mmeth\u001b[0m \u001b[0;34m==\u001b[0m \u001b[0;34m'powell'\u001b[0m\u001b[0;34m:\u001b[0m\u001b[0;34m\u001b[0m\u001b[0m\n\u001b[1;32m    593\u001b[0m         \u001b[0;32mreturn\u001b[0m \u001b[0m_minimize_powell\u001b[0m\u001b[0;34m(\u001b[0m\u001b[0mfun\u001b[0m\u001b[0;34m,\u001b[0m \u001b[0mx0\u001b[0m\u001b[0;34m,\u001b[0m \u001b[0margs\u001b[0m\u001b[0;34m,\u001b[0m \u001b[0mcallback\u001b[0m\u001b[0;34m,\u001b[0m \u001b[0;34m**\u001b[0m\u001b[0moptions\u001b[0m\u001b[0;34m)\u001b[0m\u001b[0;34m\u001b[0m\u001b[0m\n",
      "\u001b[0;32m/home/ryanj/miniconda2/lib/python2.7/site-packages/scipy/optimize/optimize.pyc\u001b[0m in \u001b[0;36m_minimize_neldermead\u001b[0;34m(func, x0, args, callback, maxiter, maxfev, disp, return_all, initial_simplex, xatol, fatol, adaptive, **unknown_options)\u001b[0m\n\u001b[1;32m    597\u001b[0m                     \u001b[0;31m# Perform an inside contraction\u001b[0m\u001b[0;34m\u001b[0m\u001b[0;34m\u001b[0m\u001b[0m\n\u001b[1;32m    598\u001b[0m                     \u001b[0mxcc\u001b[0m \u001b[0;34m=\u001b[0m \u001b[0;34m(\u001b[0m\u001b[0;36m1\u001b[0m \u001b[0;34m-\u001b[0m \u001b[0mpsi\u001b[0m\u001b[0;34m)\u001b[0m \u001b[0;34m*\u001b[0m \u001b[0mxbar\u001b[0m \u001b[0;34m+\u001b[0m \u001b[0mpsi\u001b[0m \u001b[0;34m*\u001b[0m \u001b[0msim\u001b[0m\u001b[0;34m[\u001b[0m\u001b[0;34m-\u001b[0m\u001b[0;36m1\u001b[0m\u001b[0;34m]\u001b[0m\u001b[0;34m\u001b[0m\u001b[0m\n\u001b[0;32m--> 599\u001b[0;31m                     \u001b[0mfxcc\u001b[0m \u001b[0;34m=\u001b[0m \u001b[0mfunc\u001b[0m\u001b[0;34m(\u001b[0m\u001b[0mxcc\u001b[0m\u001b[0;34m)\u001b[0m\u001b[0;34m\u001b[0m\u001b[0m\n\u001b[0m\u001b[1;32m    600\u001b[0m \u001b[0;34m\u001b[0m\u001b[0m\n\u001b[1;32m    601\u001b[0m                     \u001b[0;32mif\u001b[0m \u001b[0mfxcc\u001b[0m \u001b[0;34m<\u001b[0m \u001b[0mfsim\u001b[0m\u001b[0;34m[\u001b[0m\u001b[0;34m-\u001b[0m\u001b[0;36m1\u001b[0m\u001b[0;34m]\u001b[0m\u001b[0;34m:\u001b[0m\u001b[0;34m\u001b[0m\u001b[0m\n",
      "\u001b[0;32m/home/ryanj/miniconda2/lib/python2.7/site-packages/scipy/optimize/optimize.pyc\u001b[0m in \u001b[0;36mfunction_wrapper\u001b[0;34m(*wrapper_args)\u001b[0m\n\u001b[1;32m    291\u001b[0m     \u001b[0;32mdef\u001b[0m \u001b[0mfunction_wrapper\u001b[0m\u001b[0;34m(\u001b[0m\u001b[0;34m*\u001b[0m\u001b[0mwrapper_args\u001b[0m\u001b[0;34m)\u001b[0m\u001b[0;34m:\u001b[0m\u001b[0;34m\u001b[0m\u001b[0m\n\u001b[1;32m    292\u001b[0m         \u001b[0mncalls\u001b[0m\u001b[0;34m[\u001b[0m\u001b[0;36m0\u001b[0m\u001b[0;34m]\u001b[0m \u001b[0;34m+=\u001b[0m \u001b[0;36m1\u001b[0m\u001b[0;34m\u001b[0m\u001b[0m\n\u001b[0;32m--> 293\u001b[0;31m         \u001b[0;32mreturn\u001b[0m \u001b[0mfunction\u001b[0m\u001b[0;34m(\u001b[0m\u001b[0;34m*\u001b[0m\u001b[0;34m(\u001b[0m\u001b[0mwrapper_args\u001b[0m \u001b[0;34m+\u001b[0m \u001b[0margs\u001b[0m\u001b[0;34m)\u001b[0m\u001b[0;34m)\u001b[0m\u001b[0;34m\u001b[0m\u001b[0m\n\u001b[0m\u001b[1;32m    294\u001b[0m \u001b[0;34m\u001b[0m\u001b[0m\n\u001b[1;32m    295\u001b[0m     \u001b[0;32mreturn\u001b[0m \u001b[0mncalls\u001b[0m\u001b[0;34m,\u001b[0m \u001b[0mfunction_wrapper\u001b[0m\u001b[0;34m\u001b[0m\u001b[0m\n",
      "\u001b[0;32m<ipython-input-174-11650a7c518d>\u001b[0m in \u001b[0;36m<lambda>\u001b[0;34m(q)\u001b[0m\n\u001b[1;32m      5\u001b[0m         \u001b[0mq0\u001b[0m \u001b[0;34m=\u001b[0m \u001b[0mnp\u001b[0m\u001b[0;34m.\u001b[0m\u001b[0marray\u001b[0m\u001b[0;34m(\u001b[0m\u001b[0;34m[\u001b[0m\u001b[0mp\u001b[0m\u001b[0;34m-\u001b[0m\u001b[0;36m0.00001\u001b[0m\u001b[0;34m,\u001b[0m \u001b[0mx_c\u001b[0m\u001b[0;34m,\u001b[0m \u001b[0mp\u001b[0m\u001b[0;34m+\u001b[0m\u001b[0;36m0.000001\u001b[0m\u001b[0;34m]\u001b[0m\u001b[0;34m)\u001b[0m\u001b[0;34m\u001b[0m\u001b[0m\n\u001b[1;32m      6\u001b[0m     func = lambda q: A2PConstrainedPN(p, x_c, e_pc, d_c, d_p, m_c, m_p, m,\n\u001b[0;32m----> 7\u001b[0;31m                                       q[0], q[1], q[2])\n\u001b[0m\u001b[1;32m      8\u001b[0m \u001b[0;34m\u001b[0m\u001b[0m\n\u001b[1;32m      9\u001b[0m     \u001b[0;31m#minimize using the simplex method\u001b[0m\u001b[0;34m\u001b[0m\u001b[0;34m\u001b[0m\u001b[0m\n",
      "\u001b[0;32m<ipython-input-19-e4063b14f32d>\u001b[0m in \u001b[0;36mA2PConstrainedPN\u001b[0;34m(p, x_c, e_pc, d_c, d_p, m_c, m_p, m, p_1, x_c_1, p_2)\u001b[0m\n\u001b[1;32m     10\u001b[0m     a2p_pN = A2PUnconstrainedPN(p, x_c, e_pc, d_c, d_p, m_c, m_p, m,\n\u001b[1;32m     11\u001b[0m                                 \u001b[0mO_1\u001b[0m\u001b[0;34m,\u001b[0m \u001b[0mp_1\u001b[0m\u001b[0;34m,\u001b[0m \u001b[0mx_c_1\u001b[0m\u001b[0;34m,\u001b[0m\u001b[0;34m\u001b[0m\u001b[0m\n\u001b[0;32m---> 12\u001b[0;31m                                 O_2, p_2, x_c_2)\n\u001b[0m\u001b[1;32m     13\u001b[0m \u001b[0;34m\u001b[0m\u001b[0m\n\u001b[1;32m     14\u001b[0m     \u001b[0;31m#puts a penalty on unphysical solutions\u001b[0m\u001b[0;34m\u001b[0m\u001b[0;34m\u001b[0m\u001b[0m\n",
      "\u001b[0;32m<ipython-input-18-35f7eafadc42>\u001b[0m in \u001b[0;36mA2PUnconstrainedPN\u001b[0;34m(p, x_c, e_pc, d_c, d_p, m_c, m_p, m, O_1, p_1, x_c_1, O_2, p_2, x_c_2)\u001b[0m\n\u001b[1;32m     16\u001b[0m \u001b[0;34m\u001b[0m\u001b[0m\n\u001b[1;32m     17\u001b[0m     \u001b[0;31m#free energies of the two phases (each per N and not V)\u001b[0m\u001b[0;34m\u001b[0m\u001b[0;34m\u001b[0m\u001b[0m\n\u001b[0;32m---> 18\u001b[0;31m     \u001b[0ma_1_pN\u001b[0m \u001b[0;34m=\u001b[0m \u001b[0mA\u001b[0m\u001b[0;34m(\u001b[0m\u001b[0mp_c_1\u001b[0m\u001b[0;34m,\u001b[0m \u001b[0mp_p_1\u001b[0m\u001b[0;34m,\u001b[0m \u001b[0me_pc\u001b[0m\u001b[0;34m,\u001b[0m \u001b[0md_c\u001b[0m\u001b[0;34m,\u001b[0m \u001b[0md_p\u001b[0m\u001b[0;34m,\u001b[0m \u001b[0mm_c\u001b[0m\u001b[0;34m,\u001b[0m \u001b[0mm_p\u001b[0m\u001b[0;34m,\u001b[0m \u001b[0mm\u001b[0m\u001b[0;34m)\u001b[0m \u001b[0;34m/\u001b[0m \u001b[0mp_1\u001b[0m\u001b[0;34m\u001b[0m\u001b[0m\n\u001b[0m\u001b[1;32m     19\u001b[0m     \u001b[0ma_2_pN\u001b[0m \u001b[0;34m=\u001b[0m \u001b[0mA\u001b[0m\u001b[0;34m(\u001b[0m\u001b[0mp_c_2\u001b[0m\u001b[0;34m,\u001b[0m \u001b[0mp_p_2\u001b[0m\u001b[0;34m,\u001b[0m \u001b[0me_pc\u001b[0m\u001b[0;34m,\u001b[0m \u001b[0md_c\u001b[0m\u001b[0;34m,\u001b[0m \u001b[0md_p\u001b[0m\u001b[0;34m,\u001b[0m \u001b[0mm_c\u001b[0m\u001b[0;34m,\u001b[0m \u001b[0mm_p\u001b[0m\u001b[0;34m,\u001b[0m \u001b[0mm\u001b[0m\u001b[0;34m)\u001b[0m \u001b[0;34m/\u001b[0m \u001b[0mp_2\u001b[0m\u001b[0;34m\u001b[0m\u001b[0m\n\u001b[1;32m     20\u001b[0m \u001b[0;34m\u001b[0m\u001b[0m\n",
      "\u001b[0;32m<ipython-input-11-c8aad276e891>\u001b[0m in \u001b[0;36mA\u001b[0;34m(p_c, p_p, e_pc, d_c, d_p, m_c, m_p, m)\u001b[0m\n\u001b[1;32m      6\u001b[0m     \u001b[0ma_id\u001b[0m \u001b[0;34m=\u001b[0m \u001b[0mAid\u001b[0m\u001b[0;34m(\u001b[0m\u001b[0mp_c\u001b[0m\u001b[0;34m,\u001b[0m \u001b[0mp_p\u001b[0m\u001b[0;34m,\u001b[0m \u001b[0md_c\u001b[0m\u001b[0;34m,\u001b[0m \u001b[0md_p\u001b[0m\u001b[0;34m)\u001b[0m\u001b[0;34m\u001b[0m\u001b[0m\n\u001b[1;32m      7\u001b[0m     \u001b[0ma_ref\u001b[0m \u001b[0;34m=\u001b[0m \u001b[0mAref\u001b[0m\u001b[0;34m(\u001b[0m\u001b[0mp_c\u001b[0m\u001b[0;34m,\u001b[0m \u001b[0mp_p\u001b[0m\u001b[0;34m,\u001b[0m \u001b[0md_c\u001b[0m\u001b[0;34m,\u001b[0m \u001b[0md_p\u001b[0m\u001b[0;34m,\u001b[0m \u001b[0mm\u001b[0m\u001b[0;34m)\u001b[0m\u001b[0;34m\u001b[0m\u001b[0m\n\u001b[0;32m----> 8\u001b[0;31m     \u001b[0ma_bd\u001b[0m \u001b[0;34m=\u001b[0m \u001b[0mAbd\u001b[0m\u001b[0;34m(\u001b[0m\u001b[0mp_c\u001b[0m\u001b[0;34m,\u001b[0m \u001b[0mp_p\u001b[0m\u001b[0;34m,\u001b[0m \u001b[0me_pc\u001b[0m\u001b[0;34m,\u001b[0m \u001b[0md_c\u001b[0m\u001b[0;34m,\u001b[0m \u001b[0md_p\u001b[0m\u001b[0;34m,\u001b[0m \u001b[0mm_c\u001b[0m\u001b[0;34m,\u001b[0m \u001b[0mm_p\u001b[0m\u001b[0;34m,\u001b[0m \u001b[0mm\u001b[0m\u001b[0;34m)\u001b[0m\u001b[0;34m\u001b[0m\u001b[0m\n\u001b[0m\u001b[1;32m      9\u001b[0m \u001b[0;34m\u001b[0m\u001b[0m\n\u001b[1;32m     10\u001b[0m     \u001b[0;32mreturn\u001b[0m \u001b[0ma_id\u001b[0m \u001b[0;34m+\u001b[0m \u001b[0ma_ref\u001b[0m \u001b[0;34m+\u001b[0m \u001b[0ma_bd\u001b[0m\u001b[0;34m\u001b[0m\u001b[0m\n",
      "\u001b[0;32m<ipython-input-10-8575d3e1e84d>\u001b[0m in \u001b[0;36mAbd\u001b[0;34m(p_c, p_p, e_pc, d_c, d_p, m_c, m_p, m)\u001b[0m\n\u001b[1;32m      4\u001b[0m \u001b[0;34m\u001b[0m\u001b[0m\n\u001b[1;32m      5\u001b[0m     \u001b[0;31m#bonded fraction of each species\u001b[0m\u001b[0;34m\u001b[0m\u001b[0;34m\u001b[0m\u001b[0m\n\u001b[0;32m----> 6\u001b[0;31m     \u001b[0mX_c\u001b[0m\u001b[0;34m,\u001b[0m \u001b[0mX_p\u001b[0m \u001b[0;34m=\u001b[0m \u001b[0mX\u001b[0m\u001b[0;34m(\u001b[0m\u001b[0mp_c\u001b[0m\u001b[0;34m,\u001b[0m \u001b[0mp_p\u001b[0m\u001b[0;34m,\u001b[0m \u001b[0me_pc\u001b[0m\u001b[0;34m,\u001b[0m \u001b[0md_c\u001b[0m\u001b[0;34m,\u001b[0m \u001b[0md_p\u001b[0m\u001b[0;34m,\u001b[0m \u001b[0mm_c\u001b[0m\u001b[0;34m,\u001b[0m \u001b[0mm_p\u001b[0m\u001b[0;34m,\u001b[0m \u001b[0mm\u001b[0m\u001b[0;34m)\u001b[0m\u001b[0;34m\u001b[0m\u001b[0m\n\u001b[0m\u001b[1;32m      7\u001b[0m \u001b[0;34m\u001b[0m\u001b[0m\n\u001b[1;32m      8\u001b[0m     \u001b[0;31m#excess bonding free energy\u001b[0m\u001b[0;34m\u001b[0m\u001b[0;34m\u001b[0m\u001b[0m\n",
      "\u001b[0;32m<ipython-input-8-dc404026d4fc>\u001b[0m in \u001b[0;36mX\u001b[0;34m(p_c, p_p, e_pc, d_c, d_p, m_c, m_p, m)\u001b[0m\n\u001b[1;32m      4\u001b[0m \u001b[0;34m\u001b[0m\u001b[0m\n\u001b[1;32m      5\u001b[0m     \u001b[0;31m#get the bond integral\u001b[0m\u001b[0;34m\u001b[0m\u001b[0;34m\u001b[0m\u001b[0m\n\u001b[0;32m----> 6\u001b[0;31m     \u001b[0mbi_cp\u001b[0m \u001b[0;34m=\u001b[0m \u001b[0mBIcp\u001b[0m\u001b[0;34m(\u001b[0m\u001b[0mp_c\u001b[0m\u001b[0;34m,\u001b[0m \u001b[0mp_p\u001b[0m\u001b[0;34m,\u001b[0m \u001b[0me_pc\u001b[0m\u001b[0;34m,\u001b[0m \u001b[0md_c\u001b[0m\u001b[0;34m,\u001b[0m \u001b[0md_p\u001b[0m\u001b[0;34m,\u001b[0m \u001b[0mm\u001b[0m\u001b[0;34m)\u001b[0m\u001b[0;34m\u001b[0m\u001b[0m\n\u001b[0m\u001b[1;32m      7\u001b[0m \u001b[0;34m\u001b[0m\u001b[0m\n\u001b[1;32m      8\u001b[0m     \u001b[0;31m#total density\u001b[0m\u001b[0;34m\u001b[0m\u001b[0;34m\u001b[0m\u001b[0m\n",
      "\u001b[0;32m<ipython-input-7-6ab07ddf8a90>\u001b[0m in \u001b[0;36mBIcp\u001b[0;34m(p_c, p_p, e_pc, d_c, d_p, m)\u001b[0m\n\u001b[1;32m      4\u001b[0m \u001b[0;34m\u001b[0m\u001b[0m\n\u001b[1;32m      5\u001b[0m     \u001b[0;31m#get the average mayer-f function\u001b[0m\u001b[0;34m\u001b[0m\u001b[0;34m\u001b[0m\u001b[0m\n\u001b[0;32m----> 6\u001b[0;31m     \u001b[0mf_cp_avg\u001b[0m \u001b[0;34m=\u001b[0m \u001b[0mBV\u001b[0m\u001b[0;34m(\u001b[0m\u001b[0me_pc\u001b[0m\u001b[0;34m)\u001b[0m\u001b[0;34m\u001b[0m\u001b[0m\n\u001b[0m\u001b[1;32m      7\u001b[0m \u001b[0;34m\u001b[0m\u001b[0m\n\u001b[1;32m      8\u001b[0m     \u001b[0;31m#get the structure for the dis-assembled hard sphere reference\u001b[0m\u001b[0;34m\u001b[0m\u001b[0;34m\u001b[0m\u001b[0m\n",
      "\u001b[0;32m<ipython-input-6-2c0b162484ba>\u001b[0m in \u001b[0;36m<lambda>\u001b[0;34m(x)\u001b[0m\n\u001b[1;32m      2\u001b[0m \u001b[0mbond_volume\u001b[0m \u001b[0;34m=\u001b[0m \u001b[0mBondVolume\u001b[0m\u001b[0;34m(\u001b[0m\u001b[0mmodel_index\u001b[0m\u001b[0;34m=\u001b[0m\u001b[0;36m0\u001b[0m\u001b[0;34m,\u001b[0m \u001b[0mnum_rbfs\u001b[0m\u001b[0;34m=\u001b[0m\u001b[0;36m5\u001b[0m\u001b[0;34m)\u001b[0m\u001b[0;34m\u001b[0m\u001b[0m\n\u001b[1;32m      3\u001b[0m \u001b[0mbond_volume\u001b[0m\u001b[0;34m.\u001b[0m\u001b[0mInitializePredictionGrid\u001b[0m\u001b[0;34m(\u001b[0m\u001b[0mrs\u001b[0m\u001b[0;34m=\u001b[0m\u001b[0mr\u001b[0m\u001b[0;34m)\u001b[0m\u001b[0;34m\u001b[0m\u001b[0m\n\u001b[0;32m----> 4\u001b[0;31m \u001b[0mBV\u001b[0m \u001b[0;34m=\u001b[0m \u001b[0;32mlambda\u001b[0m \u001b[0mx\u001b[0m\u001b[0;34m:\u001b[0m \u001b[0mbond_volume\u001b[0m\u001b[0;34m.\u001b[0m\u001b[0mPredict\u001b[0m\u001b[0;34m(\u001b[0m\u001b[0mx\u001b[0m\u001b[0;34m)\u001b[0m\u001b[0;34m\u001b[0m\u001b[0m\n\u001b[0m",
      "\u001b[0;32m/home/ryanj/Documents/research_projects/patchy_polymer_with_nanocrystal/regression/code/bond_volume.pyc\u001b[0m in \u001b[0;36mPredict\u001b[0;34m(self, A)\u001b[0m\n\u001b[1;32m     87\u001b[0m         \u001b[0;31m#central portion\u001b[0m\u001b[0;34m\u001b[0m\u001b[0;34m\u001b[0m\u001b[0m\n\u001b[1;32m     88\u001b[0m         \u001b[0mx\u001b[0m \u001b[0;34m=\u001b[0m \u001b[0mself\u001b[0m\u001b[0;34m.\u001b[0m\u001b[0mx_scaler\u001b[0m\u001b[0;34m.\u001b[0m\u001b[0mtransform\u001b[0m\u001b[0;34m(\u001b[0m\u001b[0mnp\u001b[0m\u001b[0;34m.\u001b[0m\u001b[0marray\u001b[0m\u001b[0;34m(\u001b[0m\u001b[0;34m[\u001b[0m\u001b[0;34m[\u001b[0m\u001b[0mA\u001b[0m\u001b[0;34m]\u001b[0m\u001b[0;34m]\u001b[0m\u001b[0;34m)\u001b[0m\u001b[0;34m)\u001b[0m\u001b[0;34m\u001b[0m\u001b[0m\n\u001b[0;32m---> 89\u001b[0;31m         \u001b[0my\u001b[0m \u001b[0;34m=\u001b[0m \u001b[0mself\u001b[0m\u001b[0;34m.\u001b[0m\u001b[0mmodel\u001b[0m\u001b[0;34m.\u001b[0m\u001b[0mpredict\u001b[0m\u001b[0;34m(\u001b[0m\u001b[0mx\u001b[0m\u001b[0;34m)\u001b[0m\u001b[0;34m[\u001b[0m\u001b[0;36m0\u001b[0m\u001b[0;34m]\u001b[0m\u001b[0;34m\u001b[0m\u001b[0m\n\u001b[0m\u001b[1;32m     90\u001b[0m         \u001b[0mf_c\u001b[0m \u001b[0;34m=\u001b[0m \u001b[0mnp\u001b[0m\u001b[0;34m.\u001b[0m\u001b[0mexp\u001b[0m\u001b[0;34m(\u001b[0m\u001b[0my\u001b[0m\u001b[0;34m)\u001b[0m\u001b[0;34m-\u001b[0m\u001b[0;36m1.0\u001b[0m\u001b[0;34m\u001b[0m\u001b[0m\n\u001b[1;32m     91\u001b[0m \u001b[0;34m\u001b[0m\u001b[0m\n",
      "\u001b[0;32m/home/ryanj/miniconda2/lib/python2.7/site-packages/keras/engine/training.pyc\u001b[0m in \u001b[0;36mpredict\u001b[0;34m(self, x, batch_size, verbose, steps)\u001b[0m\n\u001b[1;32m   1165\u001b[0m                                             \u001b[0mbatch_size\u001b[0m\u001b[0;34m=\u001b[0m\u001b[0mbatch_size\u001b[0m\u001b[0;34m,\u001b[0m\u001b[0;34m\u001b[0m\u001b[0m\n\u001b[1;32m   1166\u001b[0m                                             \u001b[0mverbose\u001b[0m\u001b[0;34m=\u001b[0m\u001b[0mverbose\u001b[0m\u001b[0;34m,\u001b[0m\u001b[0;34m\u001b[0m\u001b[0m\n\u001b[0;32m-> 1167\u001b[0;31m                                             steps=steps)\n\u001b[0m\u001b[1;32m   1168\u001b[0m \u001b[0;34m\u001b[0m\u001b[0m\n\u001b[1;32m   1169\u001b[0m     def train_on_batch(self, x, y,\n",
      "\u001b[0;32m/home/ryanj/miniconda2/lib/python2.7/site-packages/keras/engine/training_arrays.pyc\u001b[0m in \u001b[0;36mpredict_loop\u001b[0;34m(model, f, ins, batch_size, verbose, steps)\u001b[0m\n\u001b[1;32m    292\u001b[0m                 \u001b[0mins_batch\u001b[0m\u001b[0;34m[\u001b[0m\u001b[0mi\u001b[0m\u001b[0;34m]\u001b[0m \u001b[0;34m=\u001b[0m \u001b[0mins_batch\u001b[0m\u001b[0;34m[\u001b[0m\u001b[0mi\u001b[0m\u001b[0;34m]\u001b[0m\u001b[0;34m.\u001b[0m\u001b[0mtoarray\u001b[0m\u001b[0;34m(\u001b[0m\u001b[0;34m)\u001b[0m\u001b[0;34m\u001b[0m\u001b[0m\n\u001b[1;32m    293\u001b[0m \u001b[0;34m\u001b[0m\u001b[0m\n\u001b[0;32m--> 294\u001b[0;31m             \u001b[0mbatch_outs\u001b[0m \u001b[0;34m=\u001b[0m \u001b[0mf\u001b[0m\u001b[0;34m(\u001b[0m\u001b[0mins_batch\u001b[0m\u001b[0;34m)\u001b[0m\u001b[0;34m\u001b[0m\u001b[0m\n\u001b[0m\u001b[1;32m    295\u001b[0m             \u001b[0mbatch_outs\u001b[0m \u001b[0;34m=\u001b[0m \u001b[0mto_list\u001b[0m\u001b[0;34m(\u001b[0m\u001b[0mbatch_outs\u001b[0m\u001b[0;34m)\u001b[0m\u001b[0;34m\u001b[0m\u001b[0m\n\u001b[1;32m    296\u001b[0m             \u001b[0;32mif\u001b[0m \u001b[0mbatch_index\u001b[0m \u001b[0;34m==\u001b[0m \u001b[0;36m0\u001b[0m\u001b[0;34m:\u001b[0m\u001b[0;34m\u001b[0m\u001b[0m\n",
      "\u001b[0;32m/home/ryanj/miniconda2/lib/python2.7/site-packages/keras/backend/theano_backend.pyc\u001b[0m in \u001b[0;36m__call__\u001b[0;34m(self, inputs)\u001b[0m\n\u001b[1;32m   1271\u001b[0m     \u001b[0;32mdef\u001b[0m \u001b[0m__call__\u001b[0m\u001b[0;34m(\u001b[0m\u001b[0mself\u001b[0m\u001b[0;34m,\u001b[0m \u001b[0minputs\u001b[0m\u001b[0;34m)\u001b[0m\u001b[0;34m:\u001b[0m\u001b[0;34m\u001b[0m\u001b[0m\n\u001b[1;32m   1272\u001b[0m         \u001b[0;32massert\u001b[0m \u001b[0misinstance\u001b[0m\u001b[0;34m(\u001b[0m\u001b[0minputs\u001b[0m\u001b[0;34m,\u001b[0m \u001b[0;34m(\u001b[0m\u001b[0mlist\u001b[0m\u001b[0;34m,\u001b[0m \u001b[0mtuple\u001b[0m\u001b[0;34m)\u001b[0m\u001b[0;34m)\u001b[0m\u001b[0;34m\u001b[0m\u001b[0m\n\u001b[0;32m-> 1273\u001b[0;31m         \u001b[0;32mreturn\u001b[0m \u001b[0mself\u001b[0m\u001b[0;34m.\u001b[0m\u001b[0mfunction\u001b[0m\u001b[0;34m(\u001b[0m\u001b[0;34m*\u001b[0m\u001b[0minputs\u001b[0m\u001b[0;34m)\u001b[0m\u001b[0;34m\u001b[0m\u001b[0m\n\u001b[0m\u001b[1;32m   1274\u001b[0m \u001b[0;34m\u001b[0m\u001b[0m\n\u001b[1;32m   1275\u001b[0m \u001b[0;34m\u001b[0m\u001b[0m\n",
      "\u001b[0;32m/home/ryanj/miniconda2/lib/python2.7/site-packages/theano/compile/function_module.pyc\u001b[0m in \u001b[0;36m__call__\u001b[0;34m(self, *args, **kwargs)\u001b[0m\n\u001b[1;32m    901\u001b[0m         \u001b[0;32mtry\u001b[0m\u001b[0;34m:\u001b[0m\u001b[0;34m\u001b[0m\u001b[0m\n\u001b[1;32m    902\u001b[0m             \u001b[0moutputs\u001b[0m \u001b[0;34m=\u001b[0m\u001b[0;31m\\\u001b[0m\u001b[0;34m\u001b[0m\u001b[0m\n\u001b[0;32m--> 903\u001b[0;31m                 \u001b[0mself\u001b[0m\u001b[0;34m.\u001b[0m\u001b[0mfn\u001b[0m\u001b[0;34m(\u001b[0m\u001b[0;34m)\u001b[0m \u001b[0;32mif\u001b[0m \u001b[0moutput_subset\u001b[0m \u001b[0;32mis\u001b[0m \u001b[0mNone\u001b[0m \u001b[0;32melse\u001b[0m\u001b[0;31m\\\u001b[0m\u001b[0;34m\u001b[0m\u001b[0m\n\u001b[0m\u001b[1;32m    904\u001b[0m                 \u001b[0mself\u001b[0m\u001b[0;34m.\u001b[0m\u001b[0mfn\u001b[0m\u001b[0;34m(\u001b[0m\u001b[0moutput_subset\u001b[0m\u001b[0;34m=\u001b[0m\u001b[0moutput_subset\u001b[0m\u001b[0;34m)\u001b[0m\u001b[0;34m\u001b[0m\u001b[0m\n\u001b[1;32m    905\u001b[0m         \u001b[0;32mexcept\u001b[0m \u001b[0mException\u001b[0m\u001b[0;34m:\u001b[0m\u001b[0;34m\u001b[0m\u001b[0m\n",
      "\u001b[0;31mKeyboardInterrupt\u001b[0m: "
     ]
    }
   ],
   "source": [
    "for m in ms:\n",
    "    for gamma in gammas:\n",
    "\n",
    "        print \"Working on m = {}, gamma = {}\".format(m, gamma)\n",
    "        \n",
    "        binodal = CalculatePCBoundary(p_c_vals, e_pc_min, e_pc_max, num_pts_epc,\n",
    "                                      num_e_pc_vals, num_pts_p_c,\n",
    "                                      gamma,\n",
    "                                      d_c, d_p, m_c, m_p, m,\n",
    "                                      threshold=1e-5, threshold_op=1e-5\n",
    "                                      )\n",
    "\n",
    "        phase_data[(m, gamma)]['binodal'] =  [binodal[3], binodal[2]]"
   ]
  },
  {
   "cell_type": "code",
   "execution_count": null,
   "metadata": {
    "collapsed": true
   },
   "outputs": [],
   "source": []
  },
  {
   "cell_type": "code",
   "execution_count": null,
   "metadata": {
    "collapsed": true
   },
   "outputs": [],
   "source": []
  },
  {
   "cell_type": "code",
   "execution_count": null,
   "metadata": {
    "collapsed": true
   },
   "outputs": [],
   "source": []
  },
  {
   "cell_type": "code",
   "execution_count": null,
   "metadata": {
    "collapsed": true
   },
   "outputs": [],
   "source": []
  },
  {
   "cell_type": "code",
   "execution_count": null,
   "metadata": {
    "collapsed": true
   },
   "outputs": [],
   "source": []
  }
 ],
 "metadata": {
  "kernelspec": {
   "display_name": "Python 2",
   "language": "python",
   "name": "python2"
  },
  "language_info": {
   "codemirror_mode": {
    "name": "ipython",
    "version": 2
   },
   "file_extension": ".py",
   "mimetype": "text/x-python",
   "name": "python",
   "nbconvert_exporter": "python",
   "pygments_lexer": "ipython2",
   "version": "2.7.13"
  }
 },
 "nbformat": 4,
 "nbformat_minor": 2
}
